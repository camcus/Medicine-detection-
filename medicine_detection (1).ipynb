{
  "nbformat": 4,
  "nbformat_minor": 0,
  "metadata": {
    "colab": {
      "provenance": [],
      "gpuType": "T4"
    },
    "kernelspec": {
      "name": "python3",
      "display_name": "Python 3"
    },
    "language_info": {
      "name": "python"
    },
    "accelerator": "GPU"
  },
  "cells": [
    {
      "cell_type": "code",
      "execution_count": 1,
      "metadata": {
        "colab": {
          "base_uri": "https://localhost:8080/"
        },
        "id": "-x0fZKfJ2qDv",
        "outputId": "6a649512-935b-4df9-8a3c-ea9ed84679f0"
      },
      "outputs": [
        {
          "output_type": "stream",
          "name": "stdout",
          "text": [
            "Collecting ultralytics\n",
            "  Downloading ultralytics-8.3.83-py3-none-any.whl.metadata (35 kB)\n",
            "Requirement already satisfied: numpy<=2.1.1,>=1.23.0 in /usr/local/lib/python3.11/dist-packages (from ultralytics) (1.26.4)\n",
            "Requirement already satisfied: matplotlib>=3.3.0 in /usr/local/lib/python3.11/dist-packages (from ultralytics) (3.10.0)\n",
            "Requirement already satisfied: opencv-python>=4.6.0 in /usr/local/lib/python3.11/dist-packages (from ultralytics) (4.11.0.86)\n",
            "Requirement already satisfied: pillow>=7.1.2 in /usr/local/lib/python3.11/dist-packages (from ultralytics) (11.1.0)\n",
            "Requirement already satisfied: pyyaml>=5.3.1 in /usr/local/lib/python3.11/dist-packages (from ultralytics) (6.0.2)\n",
            "Requirement already satisfied: requests>=2.23.0 in /usr/local/lib/python3.11/dist-packages (from ultralytics) (2.32.3)\n",
            "Requirement already satisfied: scipy>=1.4.1 in /usr/local/lib/python3.11/dist-packages (from ultralytics) (1.13.1)\n",
            "Requirement already satisfied: torch>=1.8.0 in /usr/local/lib/python3.11/dist-packages (from ultralytics) (2.5.1+cu124)\n",
            "Requirement already satisfied: torchvision>=0.9.0 in /usr/local/lib/python3.11/dist-packages (from ultralytics) (0.20.1+cu124)\n",
            "Requirement already satisfied: tqdm>=4.64.0 in /usr/local/lib/python3.11/dist-packages (from ultralytics) (4.67.1)\n",
            "Requirement already satisfied: psutil in /usr/local/lib/python3.11/dist-packages (from ultralytics) (5.9.5)\n",
            "Requirement already satisfied: py-cpuinfo in /usr/local/lib/python3.11/dist-packages (from ultralytics) (9.0.0)\n",
            "Requirement already satisfied: pandas>=1.1.4 in /usr/local/lib/python3.11/dist-packages (from ultralytics) (2.2.2)\n",
            "Requirement already satisfied: seaborn>=0.11.0 in /usr/local/lib/python3.11/dist-packages (from ultralytics) (0.13.2)\n",
            "Collecting ultralytics-thop>=2.0.0 (from ultralytics)\n",
            "  Downloading ultralytics_thop-2.0.14-py3-none-any.whl.metadata (9.4 kB)\n",
            "Requirement already satisfied: contourpy>=1.0.1 in /usr/local/lib/python3.11/dist-packages (from matplotlib>=3.3.0->ultralytics) (1.3.1)\n",
            "Requirement already satisfied: cycler>=0.10 in /usr/local/lib/python3.11/dist-packages (from matplotlib>=3.3.0->ultralytics) (0.12.1)\n",
            "Requirement already satisfied: fonttools>=4.22.0 in /usr/local/lib/python3.11/dist-packages (from matplotlib>=3.3.0->ultralytics) (4.56.0)\n",
            "Requirement already satisfied: kiwisolver>=1.3.1 in /usr/local/lib/python3.11/dist-packages (from matplotlib>=3.3.0->ultralytics) (1.4.8)\n",
            "Requirement already satisfied: packaging>=20.0 in /usr/local/lib/python3.11/dist-packages (from matplotlib>=3.3.0->ultralytics) (24.2)\n",
            "Requirement already satisfied: pyparsing>=2.3.1 in /usr/local/lib/python3.11/dist-packages (from matplotlib>=3.3.0->ultralytics) (3.2.1)\n",
            "Requirement already satisfied: python-dateutil>=2.7 in /usr/local/lib/python3.11/dist-packages (from matplotlib>=3.3.0->ultralytics) (2.8.2)\n",
            "Requirement already satisfied: pytz>=2020.1 in /usr/local/lib/python3.11/dist-packages (from pandas>=1.1.4->ultralytics) (2025.1)\n",
            "Requirement already satisfied: tzdata>=2022.7 in /usr/local/lib/python3.11/dist-packages (from pandas>=1.1.4->ultralytics) (2025.1)\n",
            "Requirement already satisfied: charset-normalizer<4,>=2 in /usr/local/lib/python3.11/dist-packages (from requests>=2.23.0->ultralytics) (3.4.1)\n",
            "Requirement already satisfied: idna<4,>=2.5 in /usr/local/lib/python3.11/dist-packages (from requests>=2.23.0->ultralytics) (3.10)\n",
            "Requirement already satisfied: urllib3<3,>=1.21.1 in /usr/local/lib/python3.11/dist-packages (from requests>=2.23.0->ultralytics) (2.3.0)\n",
            "Requirement already satisfied: certifi>=2017.4.17 in /usr/local/lib/python3.11/dist-packages (from requests>=2.23.0->ultralytics) (2025.1.31)\n",
            "Requirement already satisfied: filelock in /usr/local/lib/python3.11/dist-packages (from torch>=1.8.0->ultralytics) (3.17.0)\n",
            "Requirement already satisfied: typing-extensions>=4.8.0 in /usr/local/lib/python3.11/dist-packages (from torch>=1.8.0->ultralytics) (4.12.2)\n",
            "Requirement already satisfied: networkx in /usr/local/lib/python3.11/dist-packages (from torch>=1.8.0->ultralytics) (3.4.2)\n",
            "Requirement already satisfied: jinja2 in /usr/local/lib/python3.11/dist-packages (from torch>=1.8.0->ultralytics) (3.1.5)\n",
            "Requirement already satisfied: fsspec in /usr/local/lib/python3.11/dist-packages (from torch>=1.8.0->ultralytics) (2024.10.0)\n",
            "Collecting nvidia-cuda-nvrtc-cu12==12.4.127 (from torch>=1.8.0->ultralytics)\n",
            "  Downloading nvidia_cuda_nvrtc_cu12-12.4.127-py3-none-manylinux2014_x86_64.whl.metadata (1.5 kB)\n",
            "Collecting nvidia-cuda-runtime-cu12==12.4.127 (from torch>=1.8.0->ultralytics)\n",
            "  Downloading nvidia_cuda_runtime_cu12-12.4.127-py3-none-manylinux2014_x86_64.whl.metadata (1.5 kB)\n",
            "Collecting nvidia-cuda-cupti-cu12==12.4.127 (from torch>=1.8.0->ultralytics)\n",
            "  Downloading nvidia_cuda_cupti_cu12-12.4.127-py3-none-manylinux2014_x86_64.whl.metadata (1.6 kB)\n",
            "Collecting nvidia-cudnn-cu12==9.1.0.70 (from torch>=1.8.0->ultralytics)\n",
            "  Downloading nvidia_cudnn_cu12-9.1.0.70-py3-none-manylinux2014_x86_64.whl.metadata (1.6 kB)\n",
            "Collecting nvidia-cublas-cu12==12.4.5.8 (from torch>=1.8.0->ultralytics)\n",
            "  Downloading nvidia_cublas_cu12-12.4.5.8-py3-none-manylinux2014_x86_64.whl.metadata (1.5 kB)\n",
            "Collecting nvidia-cufft-cu12==11.2.1.3 (from torch>=1.8.0->ultralytics)\n",
            "  Downloading nvidia_cufft_cu12-11.2.1.3-py3-none-manylinux2014_x86_64.whl.metadata (1.5 kB)\n",
            "Collecting nvidia-curand-cu12==10.3.5.147 (from torch>=1.8.0->ultralytics)\n",
            "  Downloading nvidia_curand_cu12-10.3.5.147-py3-none-manylinux2014_x86_64.whl.metadata (1.5 kB)\n",
            "Collecting nvidia-cusolver-cu12==11.6.1.9 (from torch>=1.8.0->ultralytics)\n",
            "  Downloading nvidia_cusolver_cu12-11.6.1.9-py3-none-manylinux2014_x86_64.whl.metadata (1.6 kB)\n",
            "Collecting nvidia-cusparse-cu12==12.3.1.170 (from torch>=1.8.0->ultralytics)\n",
            "  Downloading nvidia_cusparse_cu12-12.3.1.170-py3-none-manylinux2014_x86_64.whl.metadata (1.6 kB)\n",
            "Requirement already satisfied: nvidia-nccl-cu12==2.21.5 in /usr/local/lib/python3.11/dist-packages (from torch>=1.8.0->ultralytics) (2.21.5)\n",
            "Requirement already satisfied: nvidia-nvtx-cu12==12.4.127 in /usr/local/lib/python3.11/dist-packages (from torch>=1.8.0->ultralytics) (12.4.127)\n",
            "Collecting nvidia-nvjitlink-cu12==12.4.127 (from torch>=1.8.0->ultralytics)\n",
            "  Downloading nvidia_nvjitlink_cu12-12.4.127-py3-none-manylinux2014_x86_64.whl.metadata (1.5 kB)\n",
            "Requirement already satisfied: triton==3.1.0 in /usr/local/lib/python3.11/dist-packages (from torch>=1.8.0->ultralytics) (3.1.0)\n",
            "Requirement already satisfied: sympy==1.13.1 in /usr/local/lib/python3.11/dist-packages (from torch>=1.8.0->ultralytics) (1.13.1)\n",
            "Requirement already satisfied: mpmath<1.4,>=1.1.0 in /usr/local/lib/python3.11/dist-packages (from sympy==1.13.1->torch>=1.8.0->ultralytics) (1.3.0)\n",
            "Requirement already satisfied: six>=1.5 in /usr/local/lib/python3.11/dist-packages (from python-dateutil>=2.7->matplotlib>=3.3.0->ultralytics) (1.17.0)\n",
            "Requirement already satisfied: MarkupSafe>=2.0 in /usr/local/lib/python3.11/dist-packages (from jinja2->torch>=1.8.0->ultralytics) (3.0.2)\n",
            "Downloading ultralytics-8.3.83-py3-none-any.whl (922 kB)\n",
            "\u001b[2K   \u001b[90m━━━━━━━━━━━━━━━━━━━━━━━━━━━━━━━━━━━━━━━━\u001b[0m \u001b[32m922.2/922.2 kB\u001b[0m \u001b[31m37.2 MB/s\u001b[0m eta \u001b[36m0:00:00\u001b[0m\n",
            "\u001b[?25hDownloading nvidia_cublas_cu12-12.4.5.8-py3-none-manylinux2014_x86_64.whl (363.4 MB)\n",
            "\u001b[2K   \u001b[90m━━━━━━━━━━━━━━━━━━━━━━━━━━━━━━━━━━━━━━━━\u001b[0m \u001b[32m363.4/363.4 MB\u001b[0m \u001b[31m3.7 MB/s\u001b[0m eta \u001b[36m0:00:00\u001b[0m\n",
            "\u001b[?25hDownloading nvidia_cuda_cupti_cu12-12.4.127-py3-none-manylinux2014_x86_64.whl (13.8 MB)\n",
            "\u001b[2K   \u001b[90m━━━━━━━━━━━━━━━━━━━━━━━━━━━━━━━━━━━━━━━━\u001b[0m \u001b[32m13.8/13.8 MB\u001b[0m \u001b[31m85.1 MB/s\u001b[0m eta \u001b[36m0:00:00\u001b[0m\n",
            "\u001b[?25hDownloading nvidia_cuda_nvrtc_cu12-12.4.127-py3-none-manylinux2014_x86_64.whl (24.6 MB)\n",
            "\u001b[2K   \u001b[90m━━━━━━━━━━━━━━━━━━━━━━━━━━━━━━━━━━━━━━━━\u001b[0m \u001b[32m24.6/24.6 MB\u001b[0m \u001b[31m67.7 MB/s\u001b[0m eta \u001b[36m0:00:00\u001b[0m\n",
            "\u001b[?25hDownloading nvidia_cuda_runtime_cu12-12.4.127-py3-none-manylinux2014_x86_64.whl (883 kB)\n",
            "\u001b[2K   \u001b[90m━━━━━━━━━━━━━━━━━━━━━━━━━━━━━━━━━━━━━━━━\u001b[0m \u001b[32m883.7/883.7 kB\u001b[0m \u001b[31m43.7 MB/s\u001b[0m eta \u001b[36m0:00:00\u001b[0m\n",
            "\u001b[?25hDownloading nvidia_cudnn_cu12-9.1.0.70-py3-none-manylinux2014_x86_64.whl (664.8 MB)\n",
            "\u001b[2K   \u001b[90m━━━━━━━━━━━━━━━━━━━━━━━━━━━━━━━━━━━━━━━━\u001b[0m \u001b[32m664.8/664.8 MB\u001b[0m \u001b[31m2.4 MB/s\u001b[0m eta \u001b[36m0:00:00\u001b[0m\n",
            "\u001b[?25hDownloading nvidia_cufft_cu12-11.2.1.3-py3-none-manylinux2014_x86_64.whl (211.5 MB)\n",
            "\u001b[2K   \u001b[90m━━━━━━━━━━━━━━━━━━━━━━━━━━━━━━━━━━━━━━━━\u001b[0m \u001b[32m211.5/211.5 MB\u001b[0m \u001b[31m5.7 MB/s\u001b[0m eta \u001b[36m0:00:00\u001b[0m\n",
            "\u001b[?25hDownloading nvidia_curand_cu12-10.3.5.147-py3-none-manylinux2014_x86_64.whl (56.3 MB)\n",
            "\u001b[2K   \u001b[90m━━━━━━━━━━━━━━━━━━━━━━━━━━━━━━━━━━━━━━━━\u001b[0m \u001b[32m56.3/56.3 MB\u001b[0m \u001b[31m12.2 MB/s\u001b[0m eta \u001b[36m0:00:00\u001b[0m\n",
            "\u001b[?25hDownloading nvidia_cusolver_cu12-11.6.1.9-py3-none-manylinux2014_x86_64.whl (127.9 MB)\n",
            "\u001b[2K   \u001b[90m━━━━━━━━━━━━━━━━━━━━━━━━━━━━━━━━━━━━━━━━\u001b[0m \u001b[32m127.9/127.9 MB\u001b[0m \u001b[31m7.2 MB/s\u001b[0m eta \u001b[36m0:00:00\u001b[0m\n",
            "\u001b[?25hDownloading nvidia_cusparse_cu12-12.3.1.170-py3-none-manylinux2014_x86_64.whl (207.5 MB)\n",
            "\u001b[2K   \u001b[90m━━━━━━━━━━━━━━━━━━━━━━━━━━━━━━━━━━━━━━━━\u001b[0m \u001b[32m207.5/207.5 MB\u001b[0m \u001b[31m6.1 MB/s\u001b[0m eta \u001b[36m0:00:00\u001b[0m\n",
            "\u001b[?25hDownloading nvidia_nvjitlink_cu12-12.4.127-py3-none-manylinux2014_x86_64.whl (21.1 MB)\n",
            "\u001b[2K   \u001b[90m━━━━━━━━━━━━━━━━━━━━━━━━━━━━━━━━━━━━━━━━\u001b[0m \u001b[32m21.1/21.1 MB\u001b[0m \u001b[31m78.2 MB/s\u001b[0m eta \u001b[36m0:00:00\u001b[0m\n",
            "\u001b[?25hDownloading ultralytics_thop-2.0.14-py3-none-any.whl (26 kB)\n",
            "Installing collected packages: nvidia-nvjitlink-cu12, nvidia-curand-cu12, nvidia-cufft-cu12, nvidia-cuda-runtime-cu12, nvidia-cuda-nvrtc-cu12, nvidia-cuda-cupti-cu12, nvidia-cublas-cu12, nvidia-cusparse-cu12, nvidia-cudnn-cu12, nvidia-cusolver-cu12, ultralytics-thop, ultralytics\n",
            "  Attempting uninstall: nvidia-nvjitlink-cu12\n",
            "    Found existing installation: nvidia-nvjitlink-cu12 12.5.82\n",
            "    Uninstalling nvidia-nvjitlink-cu12-12.5.82:\n",
            "      Successfully uninstalled nvidia-nvjitlink-cu12-12.5.82\n",
            "  Attempting uninstall: nvidia-curand-cu12\n",
            "    Found existing installation: nvidia-curand-cu12 10.3.6.82\n",
            "    Uninstalling nvidia-curand-cu12-10.3.6.82:\n",
            "      Successfully uninstalled nvidia-curand-cu12-10.3.6.82\n",
            "  Attempting uninstall: nvidia-cufft-cu12\n",
            "    Found existing installation: nvidia-cufft-cu12 11.2.3.61\n",
            "    Uninstalling nvidia-cufft-cu12-11.2.3.61:\n",
            "      Successfully uninstalled nvidia-cufft-cu12-11.2.3.61\n",
            "  Attempting uninstall: nvidia-cuda-runtime-cu12\n",
            "    Found existing installation: nvidia-cuda-runtime-cu12 12.5.82\n",
            "    Uninstalling nvidia-cuda-runtime-cu12-12.5.82:\n",
            "      Successfully uninstalled nvidia-cuda-runtime-cu12-12.5.82\n",
            "  Attempting uninstall: nvidia-cuda-nvrtc-cu12\n",
            "    Found existing installation: nvidia-cuda-nvrtc-cu12 12.5.82\n",
            "    Uninstalling nvidia-cuda-nvrtc-cu12-12.5.82:\n",
            "      Successfully uninstalled nvidia-cuda-nvrtc-cu12-12.5.82\n",
            "  Attempting uninstall: nvidia-cuda-cupti-cu12\n",
            "    Found existing installation: nvidia-cuda-cupti-cu12 12.5.82\n",
            "    Uninstalling nvidia-cuda-cupti-cu12-12.5.82:\n",
            "      Successfully uninstalled nvidia-cuda-cupti-cu12-12.5.82\n",
            "  Attempting uninstall: nvidia-cublas-cu12\n",
            "    Found existing installation: nvidia-cublas-cu12 12.5.3.2\n",
            "    Uninstalling nvidia-cublas-cu12-12.5.3.2:\n",
            "      Successfully uninstalled nvidia-cublas-cu12-12.5.3.2\n",
            "  Attempting uninstall: nvidia-cusparse-cu12\n",
            "    Found existing installation: nvidia-cusparse-cu12 12.5.1.3\n",
            "    Uninstalling nvidia-cusparse-cu12-12.5.1.3:\n",
            "      Successfully uninstalled nvidia-cusparse-cu12-12.5.1.3\n",
            "  Attempting uninstall: nvidia-cudnn-cu12\n",
            "    Found existing installation: nvidia-cudnn-cu12 9.3.0.75\n",
            "    Uninstalling nvidia-cudnn-cu12-9.3.0.75:\n",
            "      Successfully uninstalled nvidia-cudnn-cu12-9.3.0.75\n",
            "  Attempting uninstall: nvidia-cusolver-cu12\n",
            "    Found existing installation: nvidia-cusolver-cu12 11.6.3.83\n",
            "    Uninstalling nvidia-cusolver-cu12-11.6.3.83:\n",
            "      Successfully uninstalled nvidia-cusolver-cu12-11.6.3.83\n",
            "Successfully installed nvidia-cublas-cu12-12.4.5.8 nvidia-cuda-cupti-cu12-12.4.127 nvidia-cuda-nvrtc-cu12-12.4.127 nvidia-cuda-runtime-cu12-12.4.127 nvidia-cudnn-cu12-9.1.0.70 nvidia-cufft-cu12-11.2.1.3 nvidia-curand-cu12-10.3.5.147 nvidia-cusolver-cu12-11.6.1.9 nvidia-cusparse-cu12-12.3.1.170 nvidia-nvjitlink-cu12-12.4.127 ultralytics-8.3.83 ultralytics-thop-2.0.14\n"
          ]
        }
      ],
      "source": [
        "!pip install ultralytics"
      ]
    },
    {
      "cell_type": "code",
      "source": [
        "!pip install ultralytics roboflow\n",
        "\n"
      ],
      "metadata": {
        "colab": {
          "base_uri": "https://localhost:8080/"
        },
        "id": "BwvaY7pF3Uhq",
        "outputId": "b55233d9-7f1a-4790-b9cf-0773722f9322"
      },
      "execution_count": 2,
      "outputs": [
        {
          "output_type": "stream",
          "name": "stdout",
          "text": [
            "Requirement already satisfied: ultralytics in /usr/local/lib/python3.11/dist-packages (8.3.83)\n",
            "Collecting roboflow\n",
            "  Downloading roboflow-1.1.54-py3-none-any.whl.metadata (9.7 kB)\n",
            "Requirement already satisfied: numpy<=2.1.1,>=1.23.0 in /usr/local/lib/python3.11/dist-packages (from ultralytics) (1.26.4)\n",
            "Requirement already satisfied: matplotlib>=3.3.0 in /usr/local/lib/python3.11/dist-packages (from ultralytics) (3.10.0)\n",
            "Requirement already satisfied: opencv-python>=4.6.0 in /usr/local/lib/python3.11/dist-packages (from ultralytics) (4.11.0.86)\n",
            "Requirement already satisfied: pillow>=7.1.2 in /usr/local/lib/python3.11/dist-packages (from ultralytics) (11.1.0)\n",
            "Requirement already satisfied: pyyaml>=5.3.1 in /usr/local/lib/python3.11/dist-packages (from ultralytics) (6.0.2)\n",
            "Requirement already satisfied: requests>=2.23.0 in /usr/local/lib/python3.11/dist-packages (from ultralytics) (2.32.3)\n",
            "Requirement already satisfied: scipy>=1.4.1 in /usr/local/lib/python3.11/dist-packages (from ultralytics) (1.13.1)\n",
            "Requirement already satisfied: torch>=1.8.0 in /usr/local/lib/python3.11/dist-packages (from ultralytics) (2.5.1+cu124)\n",
            "Requirement already satisfied: torchvision>=0.9.0 in /usr/local/lib/python3.11/dist-packages (from ultralytics) (0.20.1+cu124)\n",
            "Requirement already satisfied: tqdm>=4.64.0 in /usr/local/lib/python3.11/dist-packages (from ultralytics) (4.67.1)\n",
            "Requirement already satisfied: psutil in /usr/local/lib/python3.11/dist-packages (from ultralytics) (5.9.5)\n",
            "Requirement already satisfied: py-cpuinfo in /usr/local/lib/python3.11/dist-packages (from ultralytics) (9.0.0)\n",
            "Requirement already satisfied: pandas>=1.1.4 in /usr/local/lib/python3.11/dist-packages (from ultralytics) (2.2.2)\n",
            "Requirement already satisfied: seaborn>=0.11.0 in /usr/local/lib/python3.11/dist-packages (from ultralytics) (0.13.2)\n",
            "Requirement already satisfied: ultralytics-thop>=2.0.0 in /usr/local/lib/python3.11/dist-packages (from ultralytics) (2.0.14)\n",
            "Requirement already satisfied: certifi in /usr/local/lib/python3.11/dist-packages (from roboflow) (2025.1.31)\n",
            "Collecting idna==3.7 (from roboflow)\n",
            "  Downloading idna-3.7-py3-none-any.whl.metadata (9.9 kB)\n",
            "Requirement already satisfied: cycler in /usr/local/lib/python3.11/dist-packages (from roboflow) (0.12.1)\n",
            "Requirement already satisfied: kiwisolver>=1.3.1 in /usr/local/lib/python3.11/dist-packages (from roboflow) (1.4.8)\n",
            "Collecting opencv-python-headless==4.10.0.84 (from roboflow)\n",
            "  Downloading opencv_python_headless-4.10.0.84-cp37-abi3-manylinux_2_17_x86_64.manylinux2014_x86_64.whl.metadata (20 kB)\n",
            "Requirement already satisfied: python-dateutil in /usr/local/lib/python3.11/dist-packages (from roboflow) (2.8.2)\n",
            "Collecting python-dotenv (from roboflow)\n",
            "  Downloading python_dotenv-1.0.1-py3-none-any.whl.metadata (23 kB)\n",
            "Requirement already satisfied: six in /usr/local/lib/python3.11/dist-packages (from roboflow) (1.17.0)\n",
            "Requirement already satisfied: urllib3>=1.26.6 in /usr/local/lib/python3.11/dist-packages (from roboflow) (2.3.0)\n",
            "Requirement already satisfied: requests-toolbelt in /usr/local/lib/python3.11/dist-packages (from roboflow) (1.0.0)\n",
            "Collecting filetype (from roboflow)\n",
            "  Downloading filetype-1.2.0-py2.py3-none-any.whl.metadata (6.5 kB)\n",
            "Requirement already satisfied: contourpy>=1.0.1 in /usr/local/lib/python3.11/dist-packages (from matplotlib>=3.3.0->ultralytics) (1.3.1)\n",
            "Requirement already satisfied: fonttools>=4.22.0 in /usr/local/lib/python3.11/dist-packages (from matplotlib>=3.3.0->ultralytics) (4.56.0)\n",
            "Requirement already satisfied: packaging>=20.0 in /usr/local/lib/python3.11/dist-packages (from matplotlib>=3.3.0->ultralytics) (24.2)\n",
            "Requirement already satisfied: pyparsing>=2.3.1 in /usr/local/lib/python3.11/dist-packages (from matplotlib>=3.3.0->ultralytics) (3.2.1)\n",
            "Requirement already satisfied: pytz>=2020.1 in /usr/local/lib/python3.11/dist-packages (from pandas>=1.1.4->ultralytics) (2025.1)\n",
            "Requirement already satisfied: tzdata>=2022.7 in /usr/local/lib/python3.11/dist-packages (from pandas>=1.1.4->ultralytics) (2025.1)\n",
            "Requirement already satisfied: charset-normalizer<4,>=2 in /usr/local/lib/python3.11/dist-packages (from requests>=2.23.0->ultralytics) (3.4.1)\n",
            "Requirement already satisfied: filelock in /usr/local/lib/python3.11/dist-packages (from torch>=1.8.0->ultralytics) (3.17.0)\n",
            "Requirement already satisfied: typing-extensions>=4.8.0 in /usr/local/lib/python3.11/dist-packages (from torch>=1.8.0->ultralytics) (4.12.2)\n",
            "Requirement already satisfied: networkx in /usr/local/lib/python3.11/dist-packages (from torch>=1.8.0->ultralytics) (3.4.2)\n",
            "Requirement already satisfied: jinja2 in /usr/local/lib/python3.11/dist-packages (from torch>=1.8.0->ultralytics) (3.1.5)\n",
            "Requirement already satisfied: fsspec in /usr/local/lib/python3.11/dist-packages (from torch>=1.8.0->ultralytics) (2024.10.0)\n",
            "Requirement already satisfied: nvidia-cuda-nvrtc-cu12==12.4.127 in /usr/local/lib/python3.11/dist-packages (from torch>=1.8.0->ultralytics) (12.4.127)\n",
            "Requirement already satisfied: nvidia-cuda-runtime-cu12==12.4.127 in /usr/local/lib/python3.11/dist-packages (from torch>=1.8.0->ultralytics) (12.4.127)\n",
            "Requirement already satisfied: nvidia-cuda-cupti-cu12==12.4.127 in /usr/local/lib/python3.11/dist-packages (from torch>=1.8.0->ultralytics) (12.4.127)\n",
            "Requirement already satisfied: nvidia-cudnn-cu12==9.1.0.70 in /usr/local/lib/python3.11/dist-packages (from torch>=1.8.0->ultralytics) (9.1.0.70)\n",
            "Requirement already satisfied: nvidia-cublas-cu12==12.4.5.8 in /usr/local/lib/python3.11/dist-packages (from torch>=1.8.0->ultralytics) (12.4.5.8)\n",
            "Requirement already satisfied: nvidia-cufft-cu12==11.2.1.3 in /usr/local/lib/python3.11/dist-packages (from torch>=1.8.0->ultralytics) (11.2.1.3)\n",
            "Requirement already satisfied: nvidia-curand-cu12==10.3.5.147 in /usr/local/lib/python3.11/dist-packages (from torch>=1.8.0->ultralytics) (10.3.5.147)\n",
            "Requirement already satisfied: nvidia-cusolver-cu12==11.6.1.9 in /usr/local/lib/python3.11/dist-packages (from torch>=1.8.0->ultralytics) (11.6.1.9)\n",
            "Requirement already satisfied: nvidia-cusparse-cu12==12.3.1.170 in /usr/local/lib/python3.11/dist-packages (from torch>=1.8.0->ultralytics) (12.3.1.170)\n",
            "Requirement already satisfied: nvidia-nccl-cu12==2.21.5 in /usr/local/lib/python3.11/dist-packages (from torch>=1.8.0->ultralytics) (2.21.5)\n",
            "Requirement already satisfied: nvidia-nvtx-cu12==12.4.127 in /usr/local/lib/python3.11/dist-packages (from torch>=1.8.0->ultralytics) (12.4.127)\n",
            "Requirement already satisfied: nvidia-nvjitlink-cu12==12.4.127 in /usr/local/lib/python3.11/dist-packages (from torch>=1.8.0->ultralytics) (12.4.127)\n",
            "Requirement already satisfied: triton==3.1.0 in /usr/local/lib/python3.11/dist-packages (from torch>=1.8.0->ultralytics) (3.1.0)\n",
            "Requirement already satisfied: sympy==1.13.1 in /usr/local/lib/python3.11/dist-packages (from torch>=1.8.0->ultralytics) (1.13.1)\n",
            "Requirement already satisfied: mpmath<1.4,>=1.1.0 in /usr/local/lib/python3.11/dist-packages (from sympy==1.13.1->torch>=1.8.0->ultralytics) (1.3.0)\n",
            "Requirement already satisfied: MarkupSafe>=2.0 in /usr/local/lib/python3.11/dist-packages (from jinja2->torch>=1.8.0->ultralytics) (3.0.2)\n",
            "Downloading roboflow-1.1.54-py3-none-any.whl (83 kB)\n",
            "\u001b[2K   \u001b[90m━━━━━━━━━━━━━━━━━━━━━━━━━━━━━━━━━━━━━━━━\u001b[0m \u001b[32m83.1/83.1 kB\u001b[0m \u001b[31m7.4 MB/s\u001b[0m eta \u001b[36m0:00:00\u001b[0m\n",
            "\u001b[?25hDownloading idna-3.7-py3-none-any.whl (66 kB)\n",
            "\u001b[2K   \u001b[90m━━━━━━━━━━━━━━━━━━━━━━━━━━━━━━━━━━━━━━━━\u001b[0m \u001b[32m66.8/66.8 kB\u001b[0m \u001b[31m5.2 MB/s\u001b[0m eta \u001b[36m0:00:00\u001b[0m\n",
            "\u001b[?25hDownloading opencv_python_headless-4.10.0.84-cp37-abi3-manylinux_2_17_x86_64.manylinux2014_x86_64.whl (49.9 MB)\n",
            "\u001b[2K   \u001b[90m━━━━━━━━━━━━━━━━━━━━━━━━━━━━━━━━━━━━━━━━\u001b[0m \u001b[32m49.9/49.9 MB\u001b[0m \u001b[31m13.3 MB/s\u001b[0m eta \u001b[36m0:00:00\u001b[0m\n",
            "\u001b[?25hDownloading filetype-1.2.0-py2.py3-none-any.whl (19 kB)\n",
            "Downloading python_dotenv-1.0.1-py3-none-any.whl (19 kB)\n",
            "Installing collected packages: filetype, python-dotenv, opencv-python-headless, idna, roboflow\n",
            "  Attempting uninstall: opencv-python-headless\n",
            "    Found existing installation: opencv-python-headless 4.11.0.86\n",
            "    Uninstalling opencv-python-headless-4.11.0.86:\n",
            "      Successfully uninstalled opencv-python-headless-4.11.0.86\n",
            "  Attempting uninstall: idna\n",
            "    Found existing installation: idna 3.10\n",
            "    Uninstalling idna-3.10:\n",
            "      Successfully uninstalled idna-3.10\n",
            "Successfully installed filetype-1.2.0 idna-3.7 opencv-python-headless-4.10.0.84 python-dotenv-1.0.1 roboflow-1.1.54\n"
          ]
        }
      ]
    },
    {
      "cell_type": "code",
      "source": [
        "!pip install roboflow\n",
        "\n",
        "from roboflow import Roboflow\n",
        "rf = Roboflow(api_key=\"Z2BHjxVouXdxGD5V1LZp\")\n",
        "project = rf.workspace(\"fernando-vela-rdnuo\").project(\"medicineboxes\")\n",
        "version = project.version(1)\n",
        "dataset = version.download(\"yolov8\")\n",
        ""
      ],
      "metadata": {
        "colab": {
          "base_uri": "https://localhost:8080/"
        },
        "id": "BCEs7YBl3ava",
        "outputId": "d7dbecec-fee4-41b7-c70b-85c964fd0d0c"
      },
      "execution_count": 3,
      "outputs": [
        {
          "output_type": "stream",
          "name": "stdout",
          "text": [
            "Requirement already satisfied: roboflow in /usr/local/lib/python3.11/dist-packages (1.1.54)\n",
            "Requirement already satisfied: certifi in /usr/local/lib/python3.11/dist-packages (from roboflow) (2025.1.31)\n",
            "Requirement already satisfied: idna==3.7 in /usr/local/lib/python3.11/dist-packages (from roboflow) (3.7)\n",
            "Requirement already satisfied: cycler in /usr/local/lib/python3.11/dist-packages (from roboflow) (0.12.1)\n",
            "Requirement already satisfied: kiwisolver>=1.3.1 in /usr/local/lib/python3.11/dist-packages (from roboflow) (1.4.8)\n",
            "Requirement already satisfied: matplotlib in /usr/local/lib/python3.11/dist-packages (from roboflow) (3.10.0)\n",
            "Requirement already satisfied: numpy>=1.18.5 in /usr/local/lib/python3.11/dist-packages (from roboflow) (1.26.4)\n",
            "Requirement already satisfied: opencv-python-headless==4.10.0.84 in /usr/local/lib/python3.11/dist-packages (from roboflow) (4.10.0.84)\n",
            "Requirement already satisfied: Pillow>=7.1.2 in /usr/local/lib/python3.11/dist-packages (from roboflow) (11.1.0)\n",
            "Requirement already satisfied: python-dateutil in /usr/local/lib/python3.11/dist-packages (from roboflow) (2.8.2)\n",
            "Requirement already satisfied: python-dotenv in /usr/local/lib/python3.11/dist-packages (from roboflow) (1.0.1)\n",
            "Requirement already satisfied: requests in /usr/local/lib/python3.11/dist-packages (from roboflow) (2.32.3)\n",
            "Requirement already satisfied: six in /usr/local/lib/python3.11/dist-packages (from roboflow) (1.17.0)\n",
            "Requirement already satisfied: urllib3>=1.26.6 in /usr/local/lib/python3.11/dist-packages (from roboflow) (2.3.0)\n",
            "Requirement already satisfied: tqdm>=4.41.0 in /usr/local/lib/python3.11/dist-packages (from roboflow) (4.67.1)\n",
            "Requirement already satisfied: PyYAML>=5.3.1 in /usr/local/lib/python3.11/dist-packages (from roboflow) (6.0.2)\n",
            "Requirement already satisfied: requests-toolbelt in /usr/local/lib/python3.11/dist-packages (from roboflow) (1.0.0)\n",
            "Requirement already satisfied: filetype in /usr/local/lib/python3.11/dist-packages (from roboflow) (1.2.0)\n",
            "Requirement already satisfied: contourpy>=1.0.1 in /usr/local/lib/python3.11/dist-packages (from matplotlib->roboflow) (1.3.1)\n",
            "Requirement already satisfied: fonttools>=4.22.0 in /usr/local/lib/python3.11/dist-packages (from matplotlib->roboflow) (4.56.0)\n",
            "Requirement already satisfied: packaging>=20.0 in /usr/local/lib/python3.11/dist-packages (from matplotlib->roboflow) (24.2)\n",
            "Requirement already satisfied: pyparsing>=2.3.1 in /usr/local/lib/python3.11/dist-packages (from matplotlib->roboflow) (3.2.1)\n",
            "Requirement already satisfied: charset-normalizer<4,>=2 in /usr/local/lib/python3.11/dist-packages (from requests->roboflow) (3.4.1)\n",
            "loading Roboflow workspace...\n",
            "loading Roboflow project...\n"
          ]
        },
        {
          "output_type": "stream",
          "name": "stderr",
          "text": [
            "Downloading Dataset Version Zip in MedicineBoxes-1 to yolov8:: 100%|██████████| 204516/204516 [00:12<00:00, 16210.61it/s]"
          ]
        },
        {
          "output_type": "stream",
          "name": "stdout",
          "text": [
            "\n"
          ]
        },
        {
          "output_type": "stream",
          "name": "stderr",
          "text": [
            "\n",
            "Extracting Dataset Version Zip to MedicineBoxes-1 in yolov8:: 100%|██████████| 5730/5730 [00:01<00:00, 5446.62it/s]\n"
          ]
        },
        {
          "output_type": "stream",
          "name": "stdout",
          "text": [
            "Creating new Ultralytics Settings v0.0.6 file ✅ \n",
            "View Ultralytics Settings with 'yolo settings' or at '/root/.config/Ultralytics/settings.json'\n",
            "Update Settings with 'yolo settings key=value', i.e. 'yolo settings runs_dir=path/to/dir'. For help see https://docs.ultralytics.com/quickstart/#ultralytics-settings.\n"
          ]
        }
      ]
    },
    {
      "cell_type": "code",
      "source": [
        "from ultralytics import YOLO\n",
        "\n",
        "# Load YOLOv8 model\n",
        "model = YOLO(\"yolov8n.pt\")  # Use \"yolov8s.pt\" for better accuracy\n",
        "\n",
        "# Train the model\n",
        "model.train(data=f\"{dataset.location}/data.yaml\", epochs=50, imgsz=640, batch=16)\n"
      ],
      "metadata": {
        "colab": {
          "base_uri": "https://localhost:8080/"
        },
        "id": "hPaRAZ_e4BVa",
        "outputId": "4c462318-e539-414a-ac50-56f95a54b253"
      },
      "execution_count": 4,
      "outputs": [
        {
          "output_type": "stream",
          "name": "stdout",
          "text": [
            "Downloading https://github.com/ultralytics/assets/releases/download/v8.3.0/yolov8n.pt to 'yolov8n.pt'...\n"
          ]
        },
        {
          "output_type": "stream",
          "name": "stderr",
          "text": [
            "100%|██████████| 6.25M/6.25M [00:00<00:00, 246MB/s]\n"
          ]
        },
        {
          "output_type": "stream",
          "name": "stdout",
          "text": [
            "Ultralytics 8.3.83 🚀 Python-3.11.11 torch-2.5.1+cu124 CUDA:0 (Tesla T4, 15095MiB)\n",
            "\u001b[34m\u001b[1mengine/trainer: \u001b[0mtask=detect, mode=train, model=yolov8n.pt, data=/content/MedicineBoxes-1/data.yaml, epochs=50, time=None, patience=100, batch=16, imgsz=640, save=True, save_period=-1, cache=False, device=None, workers=8, project=None, name=train, exist_ok=False, pretrained=True, optimizer=auto, verbose=True, seed=0, deterministic=True, single_cls=False, rect=False, cos_lr=False, close_mosaic=10, resume=False, amp=True, fraction=1.0, profile=False, freeze=None, multi_scale=False, overlap_mask=True, mask_ratio=4, dropout=0.0, val=True, split=val, save_json=False, save_hybrid=False, conf=None, iou=0.7, max_det=300, half=False, dnn=False, plots=True, source=None, vid_stride=1, stream_buffer=False, visualize=False, augment=False, agnostic_nms=False, classes=None, retina_masks=False, embed=None, show=False, save_frames=False, save_txt=False, save_conf=False, save_crop=False, show_labels=True, show_conf=True, show_boxes=True, line_width=None, format=torchscript, keras=False, optimize=False, int8=False, dynamic=False, simplify=True, opset=None, workspace=None, nms=False, lr0=0.01, lrf=0.01, momentum=0.937, weight_decay=0.0005, warmup_epochs=3.0, warmup_momentum=0.8, warmup_bias_lr=0.1, box=7.5, cls=0.5, dfl=1.5, pose=12.0, kobj=1.0, nbs=64, hsv_h=0.015, hsv_s=0.7, hsv_v=0.4, degrees=0.0, translate=0.1, scale=0.5, shear=0.0, perspective=0.0, flipud=0.0, fliplr=0.5, bgr=0.0, mosaic=1.0, mixup=0.0, copy_paste=0.0, copy_paste_mode=flip, auto_augment=randaugment, erasing=0.4, crop_fraction=1.0, cfg=None, tracker=botsort.yaml, save_dir=runs/detect/train\n",
            "Downloading https://ultralytics.com/assets/Arial.ttf to '/root/.config/Ultralytics/Arial.ttf'...\n"
          ]
        },
        {
          "output_type": "stream",
          "name": "stderr",
          "text": [
            "100%|██████████| 755k/755k [00:00<00:00, 137MB/s]\n"
          ]
        },
        {
          "output_type": "stream",
          "name": "stdout",
          "text": [
            "Overriding model.yaml nc=80 with nc=41\n",
            "\n",
            "                   from  n    params  module                                       arguments                     \n",
            "  0                  -1  1       464  ultralytics.nn.modules.conv.Conv             [3, 16, 3, 2]                 \n",
            "  1                  -1  1      4672  ultralytics.nn.modules.conv.Conv             [16, 32, 3, 2]                \n",
            "  2                  -1  1      7360  ultralytics.nn.modules.block.C2f             [32, 32, 1, True]             \n",
            "  3                  -1  1     18560  ultralytics.nn.modules.conv.Conv             [32, 64, 3, 2]                \n",
            "  4                  -1  2     49664  ultralytics.nn.modules.block.C2f             [64, 64, 2, True]             \n",
            "  5                  -1  1     73984  ultralytics.nn.modules.conv.Conv             [64, 128, 3, 2]               \n",
            "  6                  -1  2    197632  ultralytics.nn.modules.block.C2f             [128, 128, 2, True]           \n",
            "  7                  -1  1    295424  ultralytics.nn.modules.conv.Conv             [128, 256, 3, 2]              \n",
            "  8                  -1  1    460288  ultralytics.nn.modules.block.C2f             [256, 256, 1, True]           \n",
            "  9                  -1  1    164608  ultralytics.nn.modules.block.SPPF            [256, 256, 5]                 \n",
            " 10                  -1  1         0  torch.nn.modules.upsampling.Upsample         [None, 2, 'nearest']          \n",
            " 11             [-1, 6]  1         0  ultralytics.nn.modules.conv.Concat           [1]                           \n",
            " 12                  -1  1    148224  ultralytics.nn.modules.block.C2f             [384, 128, 1]                 \n",
            " 13                  -1  1         0  torch.nn.modules.upsampling.Upsample         [None, 2, 'nearest']          \n",
            " 14             [-1, 4]  1         0  ultralytics.nn.modules.conv.Concat           [1]                           \n",
            " 15                  -1  1     37248  ultralytics.nn.modules.block.C2f             [192, 64, 1]                  \n",
            " 16                  -1  1     36992  ultralytics.nn.modules.conv.Conv             [64, 64, 3, 2]                \n",
            " 17            [-1, 12]  1         0  ultralytics.nn.modules.conv.Concat           [1]                           \n",
            " 18                  -1  1    123648  ultralytics.nn.modules.block.C2f             [192, 128, 1]                 \n",
            " 19                  -1  1    147712  ultralytics.nn.modules.conv.Conv             [128, 128, 3, 2]              \n",
            " 20             [-1, 9]  1         0  ultralytics.nn.modules.conv.Concat           [1]                           \n",
            " 21                  -1  1    493056  ultralytics.nn.modules.block.C2f             [384, 256, 1]                 \n",
            " 22        [15, 18, 21]  1    759307  ultralytics.nn.modules.head.Detect           [41, [64, 128, 256]]          \n",
            "Model summary: 129 layers, 3,018,843 parameters, 3,018,827 gradients, 8.2 GFLOPs\n",
            "\n",
            "Transferred 319/355 items from pretrained weights\n",
            "\u001b[34m\u001b[1mTensorBoard: \u001b[0mStart with 'tensorboard --logdir runs/detect/train', view at http://localhost:6006/\n",
            "Freezing layer 'model.22.dfl.conv.weight'\n",
            "\u001b[34m\u001b[1mAMP: \u001b[0mrunning Automatic Mixed Precision (AMP) checks...\n",
            "Downloading https://github.com/ultralytics/assets/releases/download/v8.3.0/yolo11n.pt to 'yolo11n.pt'...\n"
          ]
        },
        {
          "output_type": "stream",
          "name": "stderr",
          "text": [
            "100%|██████████| 5.35M/5.35M [00:00<00:00, 350MB/s]\n"
          ]
        },
        {
          "output_type": "stream",
          "name": "stdout",
          "text": [
            "\u001b[34m\u001b[1mAMP: \u001b[0mchecks passed ✅\n"
          ]
        },
        {
          "output_type": "stream",
          "name": "stderr",
          "text": [
            "\u001b[34m\u001b[1mtrain: \u001b[0mScanning /content/MedicineBoxes-1/train/labels... 2661 images, 0 backgrounds, 0 corrupt: 100%|██████████| 2661/2661 [00:01<00:00, 2201.48it/s]"
          ]
        },
        {
          "output_type": "stream",
          "name": "stdout",
          "text": [
            "\u001b[34m\u001b[1mtrain: \u001b[0mNew cache created: /content/MedicineBoxes-1/train/labels.cache\n",
            "WARNING ⚠️ Box and segment counts should be equal, but got len(segments) = 354, len(boxes) = 4248. To resolve this only boxes will be used and all segments will be removed. To avoid this please supply either a detect or segment dataset, not a detect-segment mixed dataset.\n"
          ]
        },
        {
          "output_type": "stream",
          "name": "stderr",
          "text": [
            "\n"
          ]
        },
        {
          "output_type": "stream",
          "name": "stdout",
          "text": [
            "\u001b[34m\u001b[1malbumentations: \u001b[0mBlur(p=0.01, blur_limit=(3, 7)), MedianBlur(p=0.01, blur_limit=(3, 7)), ToGray(p=0.01, num_output_channels=3, method='weighted_average'), CLAHE(p=0.01, clip_limit=(1.0, 4.0), tile_grid_size=(8, 8))\n"
          ]
        },
        {
          "output_type": "stream",
          "name": "stderr",
          "text": [
            "A new version of Albumentations is available: '2.0.5' (you have '2.0.4'). Upgrade using: pip install -U albumentations. To disable automatic update checks, set the environment variable NO_ALBUMENTATIONS_UPDATE to 1.\n",
            "\u001b[34m\u001b[1mval: \u001b[0mScanning /content/MedicineBoxes-1/valid/labels... 157 images, 0 backgrounds, 0 corrupt: 100%|██████████| 157/157 [00:00<00:00, 1003.39it/s]"
          ]
        },
        {
          "output_type": "stream",
          "name": "stdout",
          "text": [
            "\u001b[34m\u001b[1mval: \u001b[0mNew cache created: /content/MedicineBoxes-1/valid/labels.cache\n",
            "WARNING ⚠️ Box and segment counts should be equal, but got len(segments) = 24, len(boxes) = 268. To resolve this only boxes will be used and all segments will be removed. To avoid this please supply either a detect or segment dataset, not a detect-segment mixed dataset.\n"
          ]
        },
        {
          "output_type": "stream",
          "name": "stderr",
          "text": [
            "\n"
          ]
        },
        {
          "output_type": "stream",
          "name": "stdout",
          "text": [
            "Plotting labels to runs/detect/train/labels.jpg... \n",
            "\u001b[34m\u001b[1moptimizer:\u001b[0m 'optimizer=auto' found, ignoring 'lr0=0.01' and 'momentum=0.937' and determining best 'optimizer', 'lr0' and 'momentum' automatically... \n",
            "\u001b[34m\u001b[1moptimizer:\u001b[0m AdamW(lr=0.000222, momentum=0.9) with parameter groups 57 weight(decay=0.0), 64 weight(decay=0.0005), 63 bias(decay=0.0)\n",
            "\u001b[34m\u001b[1mTensorBoard: \u001b[0mmodel graph visualization added ✅\n",
            "Image sizes 640 train, 640 val\n",
            "Using 2 dataloader workers\n",
            "Logging results to \u001b[1mruns/detect/train\u001b[0m\n",
            "Starting training for 50 epochs...\n",
            "\n",
            "      Epoch    GPU_mem   box_loss   cls_loss   dfl_loss  Instances       Size\n"
          ]
        },
        {
          "output_type": "stream",
          "name": "stderr",
          "text": [
            "       1/50      2.25G      1.291      4.483       1.59          8        640: 100%|██████████| 167/167 [00:55<00:00,  3.01it/s]\n",
            "                 Class     Images  Instances      Box(P          R      mAP50  mAP50-95): 100%|██████████| 5/5 [00:02<00:00,  1.78it/s]"
          ]
        },
        {
          "output_type": "stream",
          "name": "stdout",
          "text": [
            "                   all        157        268      0.532      0.148     0.0752      0.049\n"
          ]
        },
        {
          "output_type": "stream",
          "name": "stderr",
          "text": [
            "\n"
          ]
        },
        {
          "output_type": "stream",
          "name": "stdout",
          "text": [
            "\n",
            "      Epoch    GPU_mem   box_loss   cls_loss   dfl_loss  Instances       Size\n"
          ]
        },
        {
          "output_type": "stream",
          "name": "stderr",
          "text": [
            "       2/50      2.16G      1.202      3.567      1.554          9        640: 100%|██████████| 167/167 [00:51<00:00,  3.21it/s]\n",
            "                 Class     Images  Instances      Box(P          R      mAP50  mAP50-95): 100%|██████████| 5/5 [00:01<00:00,  3.14it/s]"
          ]
        },
        {
          "output_type": "stream",
          "name": "stdout",
          "text": [
            "                   all        157        268      0.687      0.154      0.181      0.136\n"
          ]
        },
        {
          "output_type": "stream",
          "name": "stderr",
          "text": [
            "\n"
          ]
        },
        {
          "output_type": "stream",
          "name": "stdout",
          "text": [
            "\n",
            "      Epoch    GPU_mem   box_loss   cls_loss   dfl_loss  Instances       Size\n"
          ]
        },
        {
          "output_type": "stream",
          "name": "stderr",
          "text": [
            "       3/50      2.14G      1.208      3.003      1.533         16        640: 100%|██████████| 167/167 [00:50<00:00,  3.32it/s]\n",
            "                 Class     Images  Instances      Box(P          R      mAP50  mAP50-95): 100%|██████████| 5/5 [00:01<00:00,  2.92it/s]"
          ]
        },
        {
          "output_type": "stream",
          "name": "stdout",
          "text": [
            "                   all        157        268      0.702      0.287      0.323      0.254\n"
          ]
        },
        {
          "output_type": "stream",
          "name": "stderr",
          "text": [
            "\n"
          ]
        },
        {
          "output_type": "stream",
          "name": "stdout",
          "text": [
            "\n",
            "      Epoch    GPU_mem   box_loss   cls_loss   dfl_loss  Instances       Size\n"
          ]
        },
        {
          "output_type": "stream",
          "name": "stderr",
          "text": [
            "       4/50      2.13G      1.178      2.584      1.475         17        640: 100%|██████████| 167/167 [00:49<00:00,  3.35it/s]\n",
            "                 Class     Images  Instances      Box(P          R      mAP50  mAP50-95): 100%|██████████| 5/5 [00:01<00:00,  3.21it/s]"
          ]
        },
        {
          "output_type": "stream",
          "name": "stdout",
          "text": [
            "                   all        157        268      0.726      0.314      0.405      0.322\n"
          ]
        },
        {
          "output_type": "stream",
          "name": "stderr",
          "text": [
            "\n"
          ]
        },
        {
          "output_type": "stream",
          "name": "stdout",
          "text": [
            "\n",
            "      Epoch    GPU_mem   box_loss   cls_loss   dfl_loss  Instances       Size\n"
          ]
        },
        {
          "output_type": "stream",
          "name": "stderr",
          "text": [
            "       5/50      2.17G      1.159      2.306      1.455         11        640: 100%|██████████| 167/167 [00:49<00:00,  3.35it/s]\n",
            "                 Class     Images  Instances      Box(P          R      mAP50  mAP50-95): 100%|██████████| 5/5 [00:01<00:00,  3.28it/s]"
          ]
        },
        {
          "output_type": "stream",
          "name": "stdout",
          "text": [
            "                   all        157        268      0.751      0.338      0.462      0.366\n"
          ]
        },
        {
          "output_type": "stream",
          "name": "stderr",
          "text": [
            "\n"
          ]
        },
        {
          "output_type": "stream",
          "name": "stdout",
          "text": [
            "\n",
            "      Epoch    GPU_mem   box_loss   cls_loss   dfl_loss  Instances       Size\n"
          ]
        },
        {
          "output_type": "stream",
          "name": "stderr",
          "text": [
            "       6/50      2.15G      1.127      2.088      1.409         18        640: 100%|██████████| 167/167 [00:49<00:00,  3.39it/s]\n",
            "                 Class     Images  Instances      Box(P          R      mAP50  mAP50-95): 100%|██████████| 5/5 [00:01<00:00,  3.06it/s]"
          ]
        },
        {
          "output_type": "stream",
          "name": "stdout",
          "text": [
            "                   all        157        268      0.452       0.47      0.522      0.409\n"
          ]
        },
        {
          "output_type": "stream",
          "name": "stderr",
          "text": [
            "\n"
          ]
        },
        {
          "output_type": "stream",
          "name": "stdout",
          "text": [
            "\n",
            "      Epoch    GPU_mem   box_loss   cls_loss   dfl_loss  Instances       Size\n"
          ]
        },
        {
          "output_type": "stream",
          "name": "stderr",
          "text": [
            "       7/50       2.2G      1.092      1.933      1.383         12        640: 100%|██████████| 167/167 [00:50<00:00,  3.33it/s]\n",
            "                 Class     Images  Instances      Box(P          R      mAP50  mAP50-95): 100%|██████████| 5/5 [00:02<00:00,  1.86it/s]"
          ]
        },
        {
          "output_type": "stream",
          "name": "stdout",
          "text": [
            "                   all        157        268      0.569      0.546      0.576      0.466\n"
          ]
        },
        {
          "output_type": "stream",
          "name": "stderr",
          "text": [
            "\n"
          ]
        },
        {
          "output_type": "stream",
          "name": "stdout",
          "text": [
            "\n",
            "      Epoch    GPU_mem   box_loss   cls_loss   dfl_loss  Instances       Size\n"
          ]
        },
        {
          "output_type": "stream",
          "name": "stderr",
          "text": [
            "       8/50      2.14G      1.101      1.839      1.381         14        640: 100%|██████████| 167/167 [00:49<00:00,  3.38it/s]\n",
            "                 Class     Images  Instances      Box(P          R      mAP50  mAP50-95): 100%|██████████| 5/5 [00:02<00:00,  1.80it/s]"
          ]
        },
        {
          "output_type": "stream",
          "name": "stdout",
          "text": [
            "                   all        157        268      0.702      0.479      0.567      0.455\n"
          ]
        },
        {
          "output_type": "stream",
          "name": "stderr",
          "text": [
            "\n"
          ]
        },
        {
          "output_type": "stream",
          "name": "stdout",
          "text": [
            "\n",
            "      Epoch    GPU_mem   box_loss   cls_loss   dfl_loss  Instances       Size\n"
          ]
        },
        {
          "output_type": "stream",
          "name": "stderr",
          "text": [
            "       9/50      2.13G      1.063      1.738      1.354         26        640: 100%|██████████| 167/167 [00:48<00:00,  3.42it/s]\n",
            "                 Class     Images  Instances      Box(P          R      mAP50  mAP50-95): 100%|██████████| 5/5 [00:02<00:00,  2.11it/s]"
          ]
        },
        {
          "output_type": "stream",
          "name": "stdout",
          "text": [
            "                   all        157        268      0.678      0.571      0.638      0.526\n"
          ]
        },
        {
          "output_type": "stream",
          "name": "stderr",
          "text": [
            "\n"
          ]
        },
        {
          "output_type": "stream",
          "name": "stdout",
          "text": [
            "\n",
            "      Epoch    GPU_mem   box_loss   cls_loss   dfl_loss  Instances       Size\n"
          ]
        },
        {
          "output_type": "stream",
          "name": "stderr",
          "text": [
            "      10/50      2.13G       1.05      1.625       1.34          7        640: 100%|██████████| 167/167 [00:48<00:00,  3.45it/s]\n",
            "                 Class     Images  Instances      Box(P          R      mAP50  mAP50-95): 100%|██████████| 5/5 [00:02<00:00,  2.23it/s]"
          ]
        },
        {
          "output_type": "stream",
          "name": "stdout",
          "text": [
            "                   all        157        268      0.679      0.608       0.67      0.556\n"
          ]
        },
        {
          "output_type": "stream",
          "name": "stderr",
          "text": [
            "\n"
          ]
        },
        {
          "output_type": "stream",
          "name": "stdout",
          "text": [
            "\n",
            "      Epoch    GPU_mem   box_loss   cls_loss   dfl_loss  Instances       Size\n"
          ]
        },
        {
          "output_type": "stream",
          "name": "stderr",
          "text": [
            "      11/50      2.16G      1.031      1.586      1.319         14        640: 100%|██████████| 167/167 [00:49<00:00,  3.36it/s]\n",
            "                 Class     Images  Instances      Box(P          R      mAP50  mAP50-95): 100%|██████████| 5/5 [00:01<00:00,  3.01it/s]"
          ]
        },
        {
          "output_type": "stream",
          "name": "stdout",
          "text": [
            "                   all        157        268      0.703       0.63      0.652      0.551\n"
          ]
        },
        {
          "output_type": "stream",
          "name": "stderr",
          "text": [
            "\n"
          ]
        },
        {
          "output_type": "stream",
          "name": "stdout",
          "text": [
            "\n",
            "      Epoch    GPU_mem   box_loss   cls_loss   dfl_loss  Instances       Size\n"
          ]
        },
        {
          "output_type": "stream",
          "name": "stderr",
          "text": [
            "      12/50      2.16G      1.027      1.487      1.318         10        640: 100%|██████████| 167/167 [00:50<00:00,  3.31it/s]\n",
            "                 Class     Images  Instances      Box(P          R      mAP50  mAP50-95): 100%|██████████| 5/5 [00:01<00:00,  3.12it/s]"
          ]
        },
        {
          "output_type": "stream",
          "name": "stdout",
          "text": [
            "                   all        157        268      0.633      0.591      0.669      0.561\n"
          ]
        },
        {
          "output_type": "stream",
          "name": "stderr",
          "text": [
            "\n"
          ]
        },
        {
          "output_type": "stream",
          "name": "stdout",
          "text": [
            "\n",
            "      Epoch    GPU_mem   box_loss   cls_loss   dfl_loss  Instances       Size\n"
          ]
        },
        {
          "output_type": "stream",
          "name": "stderr",
          "text": [
            "      13/50      2.18G      1.021      1.432       1.31         26        640: 100%|██████████| 167/167 [00:49<00:00,  3.37it/s]\n",
            "                 Class     Images  Instances      Box(P          R      mAP50  mAP50-95): 100%|██████████| 5/5 [00:01<00:00,  3.11it/s]"
          ]
        },
        {
          "output_type": "stream",
          "name": "stdout",
          "text": [
            "                   all        157        268      0.762      0.576      0.683      0.571\n"
          ]
        },
        {
          "output_type": "stream",
          "name": "stderr",
          "text": [
            "\n"
          ]
        },
        {
          "output_type": "stream",
          "name": "stdout",
          "text": [
            "\n",
            "      Epoch    GPU_mem   box_loss   cls_loss   dfl_loss  Instances       Size\n"
          ]
        },
        {
          "output_type": "stream",
          "name": "stderr",
          "text": [
            "      14/50      2.16G      1.007      1.387      1.298         17        640: 100%|██████████| 167/167 [00:49<00:00,  3.37it/s]\n",
            "                 Class     Images  Instances      Box(P          R      mAP50  mAP50-95): 100%|██████████| 5/5 [00:01<00:00,  3.16it/s]"
          ]
        },
        {
          "output_type": "stream",
          "name": "stdout",
          "text": [
            "                   all        157        268      0.732      0.594      0.664      0.549\n"
          ]
        },
        {
          "output_type": "stream",
          "name": "stderr",
          "text": [
            "\n"
          ]
        },
        {
          "output_type": "stream",
          "name": "stdout",
          "text": [
            "\n",
            "      Epoch    GPU_mem   box_loss   cls_loss   dfl_loss  Instances       Size\n"
          ]
        },
        {
          "output_type": "stream",
          "name": "stderr",
          "text": [
            "      15/50      2.13G     0.9773      1.346      1.285         21        640: 100%|██████████| 167/167 [00:49<00:00,  3.40it/s]\n",
            "                 Class     Images  Instances      Box(P          R      mAP50  mAP50-95): 100%|██████████| 5/5 [00:01<00:00,  3.19it/s]"
          ]
        },
        {
          "output_type": "stream",
          "name": "stdout",
          "text": [
            "                   all        157        268      0.667      0.686       0.71      0.585\n"
          ]
        },
        {
          "output_type": "stream",
          "name": "stderr",
          "text": [
            "\n"
          ]
        },
        {
          "output_type": "stream",
          "name": "stdout",
          "text": [
            "\n",
            "      Epoch    GPU_mem   box_loss   cls_loss   dfl_loss  Instances       Size\n"
          ]
        },
        {
          "output_type": "stream",
          "name": "stderr",
          "text": [
            "      16/50      2.13G     0.9872      1.325      1.288         10        640: 100%|██████████| 167/167 [00:48<00:00,  3.42it/s]\n",
            "                 Class     Images  Instances      Box(P          R      mAP50  mAP50-95): 100%|██████████| 5/5 [00:01<00:00,  2.91it/s]"
          ]
        },
        {
          "output_type": "stream",
          "name": "stdout",
          "text": [
            "                   all        157        268      0.725      0.698      0.719      0.604\n"
          ]
        },
        {
          "output_type": "stream",
          "name": "stderr",
          "text": [
            "\n"
          ]
        },
        {
          "output_type": "stream",
          "name": "stdout",
          "text": [
            "\n",
            "      Epoch    GPU_mem   box_loss   cls_loss   dfl_loss  Instances       Size\n"
          ]
        },
        {
          "output_type": "stream",
          "name": "stderr",
          "text": [
            "      17/50      2.19G     0.9857      1.238      1.277         20        640: 100%|██████████| 167/167 [00:49<00:00,  3.35it/s]\n",
            "                 Class     Images  Instances      Box(P          R      mAP50  mAP50-95): 100%|██████████| 5/5 [00:02<00:00,  2.44it/s]"
          ]
        },
        {
          "output_type": "stream",
          "name": "stdout",
          "text": [
            "                   all        157        268      0.704      0.722      0.734      0.621\n"
          ]
        },
        {
          "output_type": "stream",
          "name": "stderr",
          "text": [
            "\n"
          ]
        },
        {
          "output_type": "stream",
          "name": "stdout",
          "text": [
            "\n",
            "      Epoch    GPU_mem   box_loss   cls_loss   dfl_loss  Instances       Size\n"
          ]
        },
        {
          "output_type": "stream",
          "name": "stderr",
          "text": [
            "      18/50      2.13G     0.9583      1.216      1.262         13        640: 100%|██████████| 167/167 [00:49<00:00,  3.38it/s]\n",
            "                 Class     Images  Instances      Box(P          R      mAP50  mAP50-95): 100%|██████████| 5/5 [00:01<00:00,  3.05it/s]"
          ]
        },
        {
          "output_type": "stream",
          "name": "stdout",
          "text": [
            "                   all        157        268      0.723      0.681      0.743      0.635\n"
          ]
        },
        {
          "output_type": "stream",
          "name": "stderr",
          "text": [
            "\n"
          ]
        },
        {
          "output_type": "stream",
          "name": "stdout",
          "text": [
            "\n",
            "      Epoch    GPU_mem   box_loss   cls_loss   dfl_loss  Instances       Size\n"
          ]
        },
        {
          "output_type": "stream",
          "name": "stderr",
          "text": [
            "      19/50      2.16G      0.949      1.191      1.244         13        640: 100%|██████████| 167/167 [00:49<00:00,  3.38it/s]\n",
            "                 Class     Images  Instances      Box(P          R      mAP50  mAP50-95): 100%|██████████| 5/5 [00:01<00:00,  2.90it/s]"
          ]
        },
        {
          "output_type": "stream",
          "name": "stdout",
          "text": [
            "                   all        157        268      0.735      0.693       0.74      0.633\n"
          ]
        },
        {
          "output_type": "stream",
          "name": "stderr",
          "text": [
            "\n"
          ]
        },
        {
          "output_type": "stream",
          "name": "stdout",
          "text": [
            "\n",
            "      Epoch    GPU_mem   box_loss   cls_loss   dfl_loss  Instances       Size\n"
          ]
        },
        {
          "output_type": "stream",
          "name": "stderr",
          "text": [
            "      20/50      2.14G     0.9424      1.154      1.251         28        640: 100%|██████████| 167/167 [00:48<00:00,  3.41it/s]\n",
            "                 Class     Images  Instances      Box(P          R      mAP50  mAP50-95): 100%|██████████| 5/5 [00:01<00:00,  3.01it/s]"
          ]
        },
        {
          "output_type": "stream",
          "name": "stdout",
          "text": [
            "                   all        157        268      0.767      0.704      0.756      0.653\n"
          ]
        },
        {
          "output_type": "stream",
          "name": "stderr",
          "text": [
            "\n"
          ]
        },
        {
          "output_type": "stream",
          "name": "stdout",
          "text": [
            "\n",
            "      Epoch    GPU_mem   box_loss   cls_loss   dfl_loss  Instances       Size\n"
          ]
        },
        {
          "output_type": "stream",
          "name": "stderr",
          "text": [
            "      21/50      2.12G     0.9372      1.107       1.24          9        640: 100%|██████████| 167/167 [00:48<00:00,  3.41it/s]\n",
            "                 Class     Images  Instances      Box(P          R      mAP50  mAP50-95): 100%|██████████| 5/5 [00:01<00:00,  3.21it/s]"
          ]
        },
        {
          "output_type": "stream",
          "name": "stdout",
          "text": [
            "                   all        157        268      0.789      0.677      0.734      0.636\n"
          ]
        },
        {
          "output_type": "stream",
          "name": "stderr",
          "text": [
            "\n"
          ]
        },
        {
          "output_type": "stream",
          "name": "stdout",
          "text": [
            "\n",
            "      Epoch    GPU_mem   box_loss   cls_loss   dfl_loss  Instances       Size\n"
          ]
        },
        {
          "output_type": "stream",
          "name": "stderr",
          "text": [
            "      22/50      2.13G     0.9393       1.11      1.242         19        640: 100%|██████████| 167/167 [00:48<00:00,  3.41it/s]\n",
            "                 Class     Images  Instances      Box(P          R      mAP50  mAP50-95): 100%|██████████| 5/5 [00:01<00:00,  2.82it/s]"
          ]
        },
        {
          "output_type": "stream",
          "name": "stdout",
          "text": [
            "                   all        157        268      0.718      0.697      0.744       0.64\n"
          ]
        },
        {
          "output_type": "stream",
          "name": "stderr",
          "text": [
            "\n"
          ]
        },
        {
          "output_type": "stream",
          "name": "stdout",
          "text": [
            "\n",
            "      Epoch    GPU_mem   box_loss   cls_loss   dfl_loss  Instances       Size\n"
          ]
        },
        {
          "output_type": "stream",
          "name": "stderr",
          "text": [
            "      23/50      2.13G     0.9046      1.077      1.221         12        640: 100%|██████████| 167/167 [00:50<00:00,  3.33it/s]\n",
            "                 Class     Images  Instances      Box(P          R      mAP50  mAP50-95): 100%|██████████| 5/5 [00:01<00:00,  2.93it/s]"
          ]
        },
        {
          "output_type": "stream",
          "name": "stdout",
          "text": [
            "                   all        157        268      0.638      0.745      0.752      0.645\n"
          ]
        },
        {
          "output_type": "stream",
          "name": "stderr",
          "text": [
            "\n"
          ]
        },
        {
          "output_type": "stream",
          "name": "stdout",
          "text": [
            "\n",
            "      Epoch    GPU_mem   box_loss   cls_loss   dfl_loss  Instances       Size\n"
          ]
        },
        {
          "output_type": "stream",
          "name": "stderr",
          "text": [
            "      24/50      2.14G     0.9148      1.034       1.23         33        640: 100%|██████████| 167/167 [00:49<00:00,  3.36it/s]\n",
            "                 Class     Images  Instances      Box(P          R      mAP50  mAP50-95): 100%|██████████| 5/5 [00:01<00:00,  3.08it/s]"
          ]
        },
        {
          "output_type": "stream",
          "name": "stdout",
          "text": [
            "                   all        157        268       0.78      0.698      0.742      0.635\n"
          ]
        },
        {
          "output_type": "stream",
          "name": "stderr",
          "text": [
            "\n"
          ]
        },
        {
          "output_type": "stream",
          "name": "stdout",
          "text": [
            "\n",
            "      Epoch    GPU_mem   box_loss   cls_loss   dfl_loss  Instances       Size\n"
          ]
        },
        {
          "output_type": "stream",
          "name": "stderr",
          "text": [
            "      25/50      2.13G     0.9206      1.055      1.236         19        640: 100%|██████████| 167/167 [00:49<00:00,  3.38it/s]\n",
            "                 Class     Images  Instances      Box(P          R      mAP50  mAP50-95): 100%|██████████| 5/5 [00:01<00:00,  2.95it/s]"
          ]
        },
        {
          "output_type": "stream",
          "name": "stdout",
          "text": [
            "                   all        157        268      0.732      0.732      0.744       0.64\n"
          ]
        },
        {
          "output_type": "stream",
          "name": "stderr",
          "text": [
            "\n"
          ]
        },
        {
          "output_type": "stream",
          "name": "stdout",
          "text": [
            "\n",
            "      Epoch    GPU_mem   box_loss   cls_loss   dfl_loss  Instances       Size\n"
          ]
        },
        {
          "output_type": "stream",
          "name": "stderr",
          "text": [
            "      26/50      2.15G     0.9174      1.023       1.22         15        640: 100%|██████████| 167/167 [00:49<00:00,  3.37it/s]\n",
            "                 Class     Images  Instances      Box(P          R      mAP50  mAP50-95): 100%|██████████| 5/5 [00:01<00:00,  2.96it/s]"
          ]
        },
        {
          "output_type": "stream",
          "name": "stdout",
          "text": [
            "                   all        157        268      0.858      0.651      0.724      0.614\n"
          ]
        },
        {
          "output_type": "stream",
          "name": "stderr",
          "text": [
            "\n"
          ]
        },
        {
          "output_type": "stream",
          "name": "stdout",
          "text": [
            "\n",
            "      Epoch    GPU_mem   box_loss   cls_loss   dfl_loss  Instances       Size\n"
          ]
        },
        {
          "output_type": "stream",
          "name": "stderr",
          "text": [
            "      27/50      2.17G     0.8962     0.9842      1.209         12        640: 100%|██████████| 167/167 [00:49<00:00,  3.38it/s]\n",
            "                 Class     Images  Instances      Box(P          R      mAP50  mAP50-95): 100%|██████████| 5/5 [00:01<00:00,  2.94it/s]"
          ]
        },
        {
          "output_type": "stream",
          "name": "stdout",
          "text": [
            "                   all        157        268       0.78      0.682      0.733      0.635\n"
          ]
        },
        {
          "output_type": "stream",
          "name": "stderr",
          "text": [
            "\n"
          ]
        },
        {
          "output_type": "stream",
          "name": "stdout",
          "text": [
            "\n",
            "      Epoch    GPU_mem   box_loss   cls_loss   dfl_loss  Instances       Size\n"
          ]
        },
        {
          "output_type": "stream",
          "name": "stderr",
          "text": [
            "      28/50      2.14G      0.886     0.9821      1.208         19        640: 100%|██████████| 167/167 [00:50<00:00,  3.29it/s]\n",
            "                 Class     Images  Instances      Box(P          R      mAP50  mAP50-95): 100%|██████████| 5/5 [00:01<00:00,  2.99it/s]"
          ]
        },
        {
          "output_type": "stream",
          "name": "stdout",
          "text": [
            "                   all        157        268      0.732      0.727      0.738      0.639\n"
          ]
        },
        {
          "output_type": "stream",
          "name": "stderr",
          "text": [
            "\n"
          ]
        },
        {
          "output_type": "stream",
          "name": "stdout",
          "text": [
            "\n",
            "      Epoch    GPU_mem   box_loss   cls_loss   dfl_loss  Instances       Size\n"
          ]
        },
        {
          "output_type": "stream",
          "name": "stderr",
          "text": [
            "      29/50      2.13G     0.8867     0.9663      1.208         17        640: 100%|██████████| 167/167 [00:49<00:00,  3.35it/s]\n",
            "                 Class     Images  Instances      Box(P          R      mAP50  mAP50-95): 100%|██████████| 5/5 [00:01<00:00,  2.98it/s]"
          ]
        },
        {
          "output_type": "stream",
          "name": "stdout",
          "text": [
            "                   all        157        268      0.824      0.685      0.752       0.65\n"
          ]
        },
        {
          "output_type": "stream",
          "name": "stderr",
          "text": [
            "\n"
          ]
        },
        {
          "output_type": "stream",
          "name": "stdout",
          "text": [
            "\n",
            "      Epoch    GPU_mem   box_loss   cls_loss   dfl_loss  Instances       Size\n"
          ]
        },
        {
          "output_type": "stream",
          "name": "stderr",
          "text": [
            "      30/50      2.23G     0.8653     0.9328      1.189         19        640: 100%|██████████| 167/167 [00:49<00:00,  3.38it/s]\n",
            "                 Class     Images  Instances      Box(P          R      mAP50  mAP50-95): 100%|██████████| 5/5 [00:01<00:00,  3.12it/s]"
          ]
        },
        {
          "output_type": "stream",
          "name": "stdout",
          "text": [
            "                   all        157        268      0.866      0.666      0.754       0.65\n"
          ]
        },
        {
          "output_type": "stream",
          "name": "stderr",
          "text": [
            "\n"
          ]
        },
        {
          "output_type": "stream",
          "name": "stdout",
          "text": [
            "\n",
            "      Epoch    GPU_mem   box_loss   cls_loss   dfl_loss  Instances       Size\n"
          ]
        },
        {
          "output_type": "stream",
          "name": "stderr",
          "text": [
            "      31/50      2.14G      0.861      0.926      1.199          9        640: 100%|██████████| 167/167 [00:49<00:00,  3.36it/s]\n",
            "                 Class     Images  Instances      Box(P          R      mAP50  mAP50-95): 100%|██████████| 5/5 [00:01<00:00,  3.01it/s]"
          ]
        },
        {
          "output_type": "stream",
          "name": "stdout",
          "text": [
            "                   all        157        268      0.757      0.663       0.74      0.639\n"
          ]
        },
        {
          "output_type": "stream",
          "name": "stderr",
          "text": [
            "\n"
          ]
        },
        {
          "output_type": "stream",
          "name": "stdout",
          "text": [
            "\n",
            "      Epoch    GPU_mem   box_loss   cls_loss   dfl_loss  Instances       Size\n"
          ]
        },
        {
          "output_type": "stream",
          "name": "stderr",
          "text": [
            "      32/50       2.2G     0.8588     0.9268      1.182         19        640: 100%|██████████| 167/167 [00:49<00:00,  3.35it/s]\n",
            "                 Class     Images  Instances      Box(P          R      mAP50  mAP50-95): 100%|██████████| 5/5 [00:01<00:00,  3.04it/s]"
          ]
        },
        {
          "output_type": "stream",
          "name": "stdout",
          "text": [
            "                   all        157        268      0.799      0.697      0.758      0.663\n"
          ]
        },
        {
          "output_type": "stream",
          "name": "stderr",
          "text": [
            "\n"
          ]
        },
        {
          "output_type": "stream",
          "name": "stdout",
          "text": [
            "\n",
            "      Epoch    GPU_mem   box_loss   cls_loss   dfl_loss  Instances       Size\n"
          ]
        },
        {
          "output_type": "stream",
          "name": "stderr",
          "text": [
            "      33/50      2.11G     0.8437     0.9102      1.182          9        640: 100%|██████████| 167/167 [00:50<00:00,  3.30it/s]\n",
            "                 Class     Images  Instances      Box(P          R      mAP50  mAP50-95): 100%|██████████| 5/5 [00:01<00:00,  3.09it/s]"
          ]
        },
        {
          "output_type": "stream",
          "name": "stdout",
          "text": [
            "                   all        157        268      0.728      0.713      0.758      0.665\n"
          ]
        },
        {
          "output_type": "stream",
          "name": "stderr",
          "text": [
            "\n"
          ]
        },
        {
          "output_type": "stream",
          "name": "stdout",
          "text": [
            "\n",
            "      Epoch    GPU_mem   box_loss   cls_loss   dfl_loss  Instances       Size\n"
          ]
        },
        {
          "output_type": "stream",
          "name": "stderr",
          "text": [
            "      34/50      2.16G     0.8385     0.8783      1.179         12        640: 100%|██████████| 167/167 [00:48<00:00,  3.42it/s]\n",
            "                 Class     Images  Instances      Box(P          R      mAP50  mAP50-95): 100%|██████████| 5/5 [00:01<00:00,  3.19it/s]"
          ]
        },
        {
          "output_type": "stream",
          "name": "stdout",
          "text": [
            "                   all        157        268       0.86       0.68      0.758       0.66\n"
          ]
        },
        {
          "output_type": "stream",
          "name": "stderr",
          "text": [
            "\n"
          ]
        },
        {
          "output_type": "stream",
          "name": "stdout",
          "text": [
            "\n",
            "      Epoch    GPU_mem   box_loss   cls_loss   dfl_loss  Instances       Size\n"
          ]
        },
        {
          "output_type": "stream",
          "name": "stderr",
          "text": [
            "      35/50      2.14G      0.823     0.8815      1.167         32        640: 100%|██████████| 167/167 [00:48<00:00,  3.44it/s]\n",
            "                 Class     Images  Instances      Box(P          R      mAP50  mAP50-95): 100%|██████████| 5/5 [00:01<00:00,  3.05it/s]"
          ]
        },
        {
          "output_type": "stream",
          "name": "stdout",
          "text": [
            "                   all        157        268      0.681       0.75       0.75      0.659\n"
          ]
        },
        {
          "output_type": "stream",
          "name": "stderr",
          "text": [
            "\n"
          ]
        },
        {
          "output_type": "stream",
          "name": "stdout",
          "text": [
            "\n",
            "      Epoch    GPU_mem   box_loss   cls_loss   dfl_loss  Instances       Size\n"
          ]
        },
        {
          "output_type": "stream",
          "name": "stderr",
          "text": [
            "      36/50      2.15G     0.8239     0.8733      1.171          8        640: 100%|██████████| 167/167 [00:48<00:00,  3.43it/s]\n",
            "                 Class     Images  Instances      Box(P          R      mAP50  mAP50-95): 100%|██████████| 5/5 [00:01<00:00,  3.24it/s]"
          ]
        },
        {
          "output_type": "stream",
          "name": "stdout",
          "text": [
            "                   all        157        268      0.776      0.716      0.752      0.654\n"
          ]
        },
        {
          "output_type": "stream",
          "name": "stderr",
          "text": [
            "\n"
          ]
        },
        {
          "output_type": "stream",
          "name": "stdout",
          "text": [
            "\n",
            "      Epoch    GPU_mem   box_loss   cls_loss   dfl_loss  Instances       Size\n"
          ]
        },
        {
          "output_type": "stream",
          "name": "stderr",
          "text": [
            "      37/50      2.13G     0.8292     0.8648      1.174         19        640: 100%|██████████| 167/167 [00:48<00:00,  3.44it/s]\n",
            "                 Class     Images  Instances      Box(P          R      mAP50  mAP50-95): 100%|██████████| 5/5 [00:01<00:00,  3.24it/s]"
          ]
        },
        {
          "output_type": "stream",
          "name": "stdout",
          "text": [
            "                   all        157        268      0.799      0.726      0.759      0.658\n"
          ]
        },
        {
          "output_type": "stream",
          "name": "stderr",
          "text": [
            "\n"
          ]
        },
        {
          "output_type": "stream",
          "name": "stdout",
          "text": [
            "\n",
            "      Epoch    GPU_mem   box_loss   cls_loss   dfl_loss  Instances       Size\n"
          ]
        },
        {
          "output_type": "stream",
          "name": "stderr",
          "text": [
            "      38/50      2.16G     0.8152     0.8479      1.165         17        640: 100%|██████████| 167/167 [00:49<00:00,  3.34it/s]\n",
            "                 Class     Images  Instances      Box(P          R      mAP50  mAP50-95): 100%|██████████| 5/5 [00:01<00:00,  3.01it/s]"
          ]
        },
        {
          "output_type": "stream",
          "name": "stdout",
          "text": [
            "                   all        157        268      0.768      0.714      0.753      0.652\n"
          ]
        },
        {
          "output_type": "stream",
          "name": "stderr",
          "text": [
            "\n"
          ]
        },
        {
          "output_type": "stream",
          "name": "stdout",
          "text": [
            "\n",
            "      Epoch    GPU_mem   box_loss   cls_loss   dfl_loss  Instances       Size\n"
          ]
        },
        {
          "output_type": "stream",
          "name": "stderr",
          "text": [
            "      39/50      2.14G     0.8065     0.8431      1.155         19        640: 100%|██████████| 167/167 [00:49<00:00,  3.39it/s]\n",
            "                 Class     Images  Instances      Box(P          R      mAP50  mAP50-95): 100%|██████████| 5/5 [00:01<00:00,  2.99it/s]"
          ]
        },
        {
          "output_type": "stream",
          "name": "stdout",
          "text": [
            "                   all        157        268      0.795      0.725      0.762      0.663\n"
          ]
        },
        {
          "output_type": "stream",
          "name": "stderr",
          "text": [
            "\n"
          ]
        },
        {
          "output_type": "stream",
          "name": "stdout",
          "text": [
            "\n",
            "      Epoch    GPU_mem   box_loss   cls_loss   dfl_loss  Instances       Size\n"
          ]
        },
        {
          "output_type": "stream",
          "name": "stderr",
          "text": [
            "      40/50      2.18G     0.8141     0.8439      1.163         18        640: 100%|██████████| 167/167 [00:49<00:00,  3.36it/s]\n",
            "                 Class     Images  Instances      Box(P          R      mAP50  mAP50-95): 100%|██████████| 5/5 [00:01<00:00,  3.03it/s]"
          ]
        },
        {
          "output_type": "stream",
          "name": "stdout",
          "text": [
            "                   all        157        268      0.732      0.708      0.749      0.658\n"
          ]
        },
        {
          "output_type": "stream",
          "name": "stderr",
          "text": [
            "\n"
          ]
        },
        {
          "output_type": "stream",
          "name": "stdout",
          "text": [
            "Closing dataloader mosaic\n",
            "\u001b[34m\u001b[1malbumentations: \u001b[0mBlur(p=0.01, blur_limit=(3, 7)), MedianBlur(p=0.01, blur_limit=(3, 7)), ToGray(p=0.01, num_output_channels=3, method='weighted_average'), CLAHE(p=0.01, clip_limit=(1.0, 4.0), tile_grid_size=(8, 8))\n",
            "\n",
            "      Epoch    GPU_mem   box_loss   cls_loss   dfl_loss  Instances       Size\n"
          ]
        },
        {
          "output_type": "stream",
          "name": "stderr",
          "text": [
            "      41/50      2.11G     0.7263     0.7188      1.165          6        640: 100%|██████████| 167/167 [00:49<00:00,  3.38it/s]\n",
            "                 Class     Images  Instances      Box(P          R      mAP50  mAP50-95): 100%|██████████| 5/5 [00:01<00:00,  3.22it/s]"
          ]
        },
        {
          "output_type": "stream",
          "name": "stdout",
          "text": [
            "                   all        157        268      0.825      0.711      0.757      0.656\n"
          ]
        },
        {
          "output_type": "stream",
          "name": "stderr",
          "text": [
            "\n"
          ]
        },
        {
          "output_type": "stream",
          "name": "stdout",
          "text": [
            "\n",
            "      Epoch    GPU_mem   box_loss   cls_loss   dfl_loss  Instances       Size\n"
          ]
        },
        {
          "output_type": "stream",
          "name": "stderr",
          "text": [
            "      42/50      2.17G     0.7156     0.6856      1.165         10        640: 100%|██████████| 167/167 [00:47<00:00,  3.54it/s]\n",
            "                 Class     Images  Instances      Box(P          R      mAP50  mAP50-95): 100%|██████████| 5/5 [00:01<00:00,  2.97it/s]"
          ]
        },
        {
          "output_type": "stream",
          "name": "stdout",
          "text": [
            "                   all        157        268      0.793      0.708      0.754      0.654\n"
          ]
        },
        {
          "output_type": "stream",
          "name": "stderr",
          "text": [
            "\n"
          ]
        },
        {
          "output_type": "stream",
          "name": "stdout",
          "text": [
            "\n",
            "      Epoch    GPU_mem   box_loss   cls_loss   dfl_loss  Instances       Size\n"
          ]
        },
        {
          "output_type": "stream",
          "name": "stderr",
          "text": [
            "      43/50      2.12G     0.6922      0.653      1.137         12        640: 100%|██████████| 167/167 [00:48<00:00,  3.46it/s]\n",
            "                 Class     Images  Instances      Box(P          R      mAP50  mAP50-95): 100%|██████████| 5/5 [00:01<00:00,  3.00it/s]"
          ]
        },
        {
          "output_type": "stream",
          "name": "stdout",
          "text": [
            "                   all        157        268      0.756      0.714      0.751      0.659\n"
          ]
        },
        {
          "output_type": "stream",
          "name": "stderr",
          "text": [
            "\n"
          ]
        },
        {
          "output_type": "stream",
          "name": "stdout",
          "text": [
            "\n",
            "      Epoch    GPU_mem   box_loss   cls_loss   dfl_loss  Instances       Size\n"
          ]
        },
        {
          "output_type": "stream",
          "name": "stderr",
          "text": [
            "      44/50      2.12G     0.6856     0.6448      1.128          6        640: 100%|██████████| 167/167 [00:45<00:00,  3.65it/s]\n",
            "                 Class     Images  Instances      Box(P          R      mAP50  mAP50-95): 100%|██████████| 5/5 [00:02<00:00,  2.03it/s]"
          ]
        },
        {
          "output_type": "stream",
          "name": "stdout",
          "text": [
            "                   all        157        268      0.818      0.709      0.755      0.664\n"
          ]
        },
        {
          "output_type": "stream",
          "name": "stderr",
          "text": [
            "\n"
          ]
        },
        {
          "output_type": "stream",
          "name": "stdout",
          "text": [
            "\n",
            "      Epoch    GPU_mem   box_loss   cls_loss   dfl_loss  Instances       Size\n"
          ]
        },
        {
          "output_type": "stream",
          "name": "stderr",
          "text": [
            "      45/50      2.14G     0.6822      0.634      1.128          5        640: 100%|██████████| 167/167 [00:46<00:00,  3.61it/s]\n",
            "                 Class     Images  Instances      Box(P          R      mAP50  mAP50-95): 100%|██████████| 5/5 [00:01<00:00,  3.05it/s]"
          ]
        },
        {
          "output_type": "stream",
          "name": "stdout",
          "text": [
            "                   all        157        268      0.845      0.708      0.754      0.662\n"
          ]
        },
        {
          "output_type": "stream",
          "name": "stderr",
          "text": [
            "\n"
          ]
        },
        {
          "output_type": "stream",
          "name": "stdout",
          "text": [
            "\n",
            "      Epoch    GPU_mem   box_loss   cls_loss   dfl_loss  Instances       Size\n"
          ]
        },
        {
          "output_type": "stream",
          "name": "stderr",
          "text": [
            "      46/50      2.13G     0.6678     0.6335      1.122          5        640: 100%|██████████| 167/167 [00:47<00:00,  3.52it/s]\n",
            "                 Class     Images  Instances      Box(P          R      mAP50  mAP50-95): 100%|██████████| 5/5 [00:01<00:00,  3.01it/s]"
          ]
        },
        {
          "output_type": "stream",
          "name": "stdout",
          "text": [
            "                   all        157        268      0.795      0.722      0.754      0.663\n"
          ]
        },
        {
          "output_type": "stream",
          "name": "stderr",
          "text": [
            "\n"
          ]
        },
        {
          "output_type": "stream",
          "name": "stdout",
          "text": [
            "\n",
            "      Epoch    GPU_mem   box_loss   cls_loss   dfl_loss  Instances       Size\n"
          ]
        },
        {
          "output_type": "stream",
          "name": "stderr",
          "text": [
            "      47/50      2.12G     0.6705     0.6135      1.127         10        640: 100%|██████████| 167/167 [00:47<00:00,  3.55it/s]\n",
            "                 Class     Images  Instances      Box(P          R      mAP50  mAP50-95): 100%|██████████| 5/5 [00:01<00:00,  2.99it/s]"
          ]
        },
        {
          "output_type": "stream",
          "name": "stdout",
          "text": [
            "                   all        157        268      0.845      0.708      0.755      0.664\n"
          ]
        },
        {
          "output_type": "stream",
          "name": "stderr",
          "text": [
            "\n"
          ]
        },
        {
          "output_type": "stream",
          "name": "stdout",
          "text": [
            "\n",
            "      Epoch    GPU_mem   box_loss   cls_loss   dfl_loss  Instances       Size\n"
          ]
        },
        {
          "output_type": "stream",
          "name": "stderr",
          "text": [
            "      48/50      2.12G     0.6569     0.6061      1.113          8        640: 100%|██████████| 167/167 [00:48<00:00,  3.44it/s]\n",
            "                 Class     Images  Instances      Box(P          R      mAP50  mAP50-95): 100%|██████████| 5/5 [00:01<00:00,  3.28it/s]"
          ]
        },
        {
          "output_type": "stream",
          "name": "stdout",
          "text": [
            "                   all        157        268      0.802      0.721      0.757      0.665\n"
          ]
        },
        {
          "output_type": "stream",
          "name": "stderr",
          "text": [
            "\n"
          ]
        },
        {
          "output_type": "stream",
          "name": "stdout",
          "text": [
            "\n",
            "      Epoch    GPU_mem   box_loss   cls_loss   dfl_loss  Instances       Size\n"
          ]
        },
        {
          "output_type": "stream",
          "name": "stderr",
          "text": [
            "      49/50      2.16G     0.6557      0.597      1.111          5        640: 100%|██████████| 167/167 [00:46<00:00,  3.60it/s]\n",
            "                 Class     Images  Instances      Box(P          R      mAP50  mAP50-95): 100%|██████████| 5/5 [00:02<00:00,  2.29it/s]"
          ]
        },
        {
          "output_type": "stream",
          "name": "stdout",
          "text": [
            "                   all        157        268      0.808      0.723      0.751      0.666\n"
          ]
        },
        {
          "output_type": "stream",
          "name": "stderr",
          "text": [
            "\n"
          ]
        },
        {
          "output_type": "stream",
          "name": "stdout",
          "text": [
            "\n",
            "      Epoch    GPU_mem   box_loss   cls_loss   dfl_loss  Instances       Size\n"
          ]
        },
        {
          "output_type": "stream",
          "name": "stderr",
          "text": [
            "      50/50      2.16G     0.6476     0.5972      1.109          8        640: 100%|██████████| 167/167 [00:45<00:00,  3.67it/s]\n",
            "                 Class     Images  Instances      Box(P          R      mAP50  mAP50-95): 100%|██████████| 5/5 [00:01<00:00,  3.24it/s]"
          ]
        },
        {
          "output_type": "stream",
          "name": "stdout",
          "text": [
            "                   all        157        268      0.802      0.721      0.753      0.669\n"
          ]
        },
        {
          "output_type": "stream",
          "name": "stderr",
          "text": [
            "\n"
          ]
        },
        {
          "output_type": "stream",
          "name": "stdout",
          "text": [
            "\n",
            "50 epochs completed in 0.720 hours.\n",
            "Optimizer stripped from runs/detect/train/weights/last.pt, 6.3MB\n",
            "Optimizer stripped from runs/detect/train/weights/best.pt, 6.3MB\n",
            "\n",
            "Validating runs/detect/train/weights/best.pt...\n",
            "Ultralytics 8.3.83 🚀 Python-3.11.11 torch-2.5.1+cu124 CUDA:0 (Tesla T4, 15095MiB)\n",
            "Model summary (fused): 72 layers, 3,013,643 parameters, 0 gradients, 8.1 GFLOPs\n"
          ]
        },
        {
          "output_type": "stream",
          "name": "stderr",
          "text": [
            "                 Class     Images  Instances      Box(P          R      mAP50  mAP50-95): 100%|██████████| 5/5 [00:03<00:00,  1.28it/s]\n"
          ]
        },
        {
          "output_type": "stream",
          "name": "stdout",
          "text": [
            "                   all        157        268      0.802      0.721      0.753      0.668\n",
            "                aferin          4          4          1      0.822      0.995      0.921\n",
            "                 aljil          1          1          0          0          0          0\n",
            "          apodonorm5mg          1          1      0.854          1      0.995      0.995\n",
            "            apodorm5mg          5          5      0.943        0.6       0.82      0.784\n",
            "               apranax          1          1      0.871          1      0.995      0.697\n",
            "               arveles          6          6          1      0.935      0.995      0.751\n",
            "               aspirin          4          4      0.933       0.75      0.751      0.576\n",
            "                   box         25        109      0.972      0.982      0.992      0.682\n",
            "     buprefarm5ug_hour          3          3      0.937          1      0.995      0.887\n",
            "              dikloron          6          6      0.978          1      0.995      0.834\n",
            "         dolcontin10mg          6          6      0.712          1      0.876      0.846\n",
            "          dolcontin5mg          2          2      0.848        0.5      0.586      0.586\n",
            "               dolorex          5          5      0.956        0.8      0.802      0.763\n",
            "       fentanyl50ug_ml          2          2      0.886          1      0.995      0.995\n",
            "           hametanKrem          4          5      0.964        0.8      0.801      0.617\n",
            "         hametanMerhem          5          6      0.805      0.833      0.699      0.584\n",
            "              ibucoldC          5          5      0.746        0.6      0.685      0.603\n",
            "          imovane7-5mg          6          6          1      0.352       0.54       0.48\n",
            "         levopidon25mg          5          5      0.987          1      0.995      0.976\n",
            "               majezik          6          6      0.808      0.833      0.785      0.614\n",
            "metadon_hydrochlorid40mg          5          5      0.962          1      0.995      0.939\n",
            "              metpamid          6          6      0.825      0.833       0.73      0.587\n",
            "            morfin10mg          3          3          1       0.84      0.995      0.995\n",
            "                nexium          2          2      0.464        0.5      0.256       0.23\n",
            "  nobligan_retard200mg          4          4      0.913          1      0.995      0.905\n",
            "         oxycontin10mg          5          5      0.753        0.2      0.566      0.566\n",
            "         oxycontin15mg          8          8      0.953       0.75       0.92      0.893\n",
            "          oxycontin5mg         15         15      0.822      0.733       0.88      0.835\n",
            "           oxynorm10mg          4          4      0.354        0.5      0.511      0.511\n",
            "                 parol          8          8      0.999          1      0.995      0.767\n",
            "             silverdin          1          1          0          0          0          0\n",
            "            sobril25mg          3          3          1      0.776      0.995      0.914\n",
            "              terbisil          5          5       0.76        0.8      0.719      0.544\n",
            "              travazol          1          1          0          0          0          0\n",
            "             ultiva5mg          1          1      0.665          1      0.995      0.895\n",
            "                unisom          5          5      0.968          1      0.995      0.876\n",
            "             valium5mg          3          3      0.835      0.667      0.672      0.639\n",
            "              xanor2mg          1          1          1          0      0.111     0.0995\n",
            "Speed: 0.4ms preprocess, 3.1ms inference, 0.0ms loss, 5.2ms postprocess per image\n",
            "Results saved to \u001b[1mruns/detect/train\u001b[0m\n"
          ]
        },
        {
          "output_type": "execute_result",
          "data": {
            "text/plain": [
              "ultralytics.utils.metrics.DetMetrics object with attributes:\n",
              "\n",
              "ap_class_index: array([ 0,  1,  2,  3,  4,  5,  6,  8,  9, 10, 11, 12, 13, 14, 15, 16, 17, 18, 19, 20, 22, 23, 25, 26, 27, 28, 29, 30, 31, 32, 33, 34, 35, 36, 37, 38, 39, 40])\n",
              "box: ultralytics.utils.metrics.Metric object\n",
              "confusion_matrix: <ultralytics.utils.metrics.ConfusionMatrix object at 0x784339033910>\n",
              "curves: ['Precision-Recall(B)', 'F1-Confidence(B)', 'Precision-Confidence(B)', 'Recall-Confidence(B)']\n",
              "curves_results: [[array([          0,    0.001001,    0.002002,    0.003003,    0.004004,    0.005005,    0.006006,    0.007007,    0.008008,    0.009009,     0.01001,    0.011011,    0.012012,    0.013013,    0.014014,    0.015015,    0.016016,    0.017017,    0.018018,    0.019019,     0.02002,    0.021021,    0.022022,    0.023023,\n",
              "          0.024024,    0.025025,    0.026026,    0.027027,    0.028028,    0.029029,     0.03003,    0.031031,    0.032032,    0.033033,    0.034034,    0.035035,    0.036036,    0.037037,    0.038038,    0.039039,     0.04004,    0.041041,    0.042042,    0.043043,    0.044044,    0.045045,    0.046046,    0.047047,\n",
              "          0.048048,    0.049049,     0.05005,    0.051051,    0.052052,    0.053053,    0.054054,    0.055055,    0.056056,    0.057057,    0.058058,    0.059059,     0.06006,    0.061061,    0.062062,    0.063063,    0.064064,    0.065065,    0.066066,    0.067067,    0.068068,    0.069069,     0.07007,    0.071071,\n",
              "          0.072072,    0.073073,    0.074074,    0.075075,    0.076076,    0.077077,    0.078078,    0.079079,     0.08008,    0.081081,    0.082082,    0.083083,    0.084084,    0.085085,    0.086086,    0.087087,    0.088088,    0.089089,     0.09009,    0.091091,    0.092092,    0.093093,    0.094094,    0.095095,\n",
              "          0.096096,    0.097097,    0.098098,    0.099099,      0.1001,      0.1011,      0.1021,      0.1031,      0.1041,     0.10511,     0.10611,     0.10711,     0.10811,     0.10911,     0.11011,     0.11111,     0.11211,     0.11311,     0.11411,     0.11512,     0.11612,     0.11712,     0.11812,     0.11912,\n",
              "           0.12012,     0.12112,     0.12212,     0.12312,     0.12412,     0.12513,     0.12613,     0.12713,     0.12813,     0.12913,     0.13013,     0.13113,     0.13213,     0.13313,     0.13413,     0.13514,     0.13614,     0.13714,     0.13814,     0.13914,     0.14014,     0.14114,     0.14214,     0.14314,\n",
              "           0.14414,     0.14515,     0.14615,     0.14715,     0.14815,     0.14915,     0.15015,     0.15115,     0.15215,     0.15315,     0.15415,     0.15516,     0.15616,     0.15716,     0.15816,     0.15916,     0.16016,     0.16116,     0.16216,     0.16316,     0.16416,     0.16517,     0.16617,     0.16717,\n",
              "           0.16817,     0.16917,     0.17017,     0.17117,     0.17217,     0.17317,     0.17417,     0.17518,     0.17618,     0.17718,     0.17818,     0.17918,     0.18018,     0.18118,     0.18218,     0.18318,     0.18418,     0.18519,     0.18619,     0.18719,     0.18819,     0.18919,     0.19019,     0.19119,\n",
              "           0.19219,     0.19319,     0.19419,      0.1952,      0.1962,      0.1972,      0.1982,      0.1992,      0.2002,      0.2012,      0.2022,      0.2032,      0.2042,     0.20521,     0.20621,     0.20721,     0.20821,     0.20921,     0.21021,     0.21121,     0.21221,     0.21321,     0.21421,     0.21522,\n",
              "           0.21622,     0.21722,     0.21822,     0.21922,     0.22022,     0.22122,     0.22222,     0.22322,     0.22422,     0.22523,     0.22623,     0.22723,     0.22823,     0.22923,     0.23023,     0.23123,     0.23223,     0.23323,     0.23423,     0.23524,     0.23624,     0.23724,     0.23824,     0.23924,\n",
              "           0.24024,     0.24124,     0.24224,     0.24324,     0.24424,     0.24525,     0.24625,     0.24725,     0.24825,     0.24925,     0.25025,     0.25125,     0.25225,     0.25325,     0.25425,     0.25526,     0.25626,     0.25726,     0.25826,     0.25926,     0.26026,     0.26126,     0.26226,     0.26326,\n",
              "           0.26426,     0.26527,     0.26627,     0.26727,     0.26827,     0.26927,     0.27027,     0.27127,     0.27227,     0.27327,     0.27427,     0.27528,     0.27628,     0.27728,     0.27828,     0.27928,     0.28028,     0.28128,     0.28228,     0.28328,     0.28428,     0.28529,     0.28629,     0.28729,\n",
              "           0.28829,     0.28929,     0.29029,     0.29129,     0.29229,     0.29329,     0.29429,      0.2953,      0.2963,      0.2973,      0.2983,      0.2993,      0.3003,      0.3013,      0.3023,      0.3033,      0.3043,     0.30531,     0.30631,     0.30731,     0.30831,     0.30931,     0.31031,     0.31131,\n",
              "           0.31231,     0.31331,     0.31431,     0.31532,     0.31632,     0.31732,     0.31832,     0.31932,     0.32032,     0.32132,     0.32232,     0.32332,     0.32432,     0.32533,     0.32633,     0.32733,     0.32833,     0.32933,     0.33033,     0.33133,     0.33233,     0.33333,     0.33433,     0.33534,\n",
              "           0.33634,     0.33734,     0.33834,     0.33934,     0.34034,     0.34134,     0.34234,     0.34334,     0.34434,     0.34535,     0.34635,     0.34735,     0.34835,     0.34935,     0.35035,     0.35135,     0.35235,     0.35335,     0.35435,     0.35536,     0.35636,     0.35736,     0.35836,     0.35936,\n",
              "           0.36036,     0.36136,     0.36236,     0.36336,     0.36436,     0.36537,     0.36637,     0.36737,     0.36837,     0.36937,     0.37037,     0.37137,     0.37237,     0.37337,     0.37437,     0.37538,     0.37638,     0.37738,     0.37838,     0.37938,     0.38038,     0.38138,     0.38238,     0.38338,\n",
              "           0.38438,     0.38539,     0.38639,     0.38739,     0.38839,     0.38939,     0.39039,     0.39139,     0.39239,     0.39339,     0.39439,      0.3954,      0.3964,      0.3974,      0.3984,      0.3994,      0.4004,      0.4014,      0.4024,      0.4034,      0.4044,     0.40541,     0.40641,     0.40741,\n",
              "           0.40841,     0.40941,     0.41041,     0.41141,     0.41241,     0.41341,     0.41441,     0.41542,     0.41642,     0.41742,     0.41842,     0.41942,     0.42042,     0.42142,     0.42242,     0.42342,     0.42442,     0.42543,     0.42643,     0.42743,     0.42843,     0.42943,     0.43043,     0.43143,\n",
              "           0.43243,     0.43343,     0.43443,     0.43544,     0.43644,     0.43744,     0.43844,     0.43944,     0.44044,     0.44144,     0.44244,     0.44344,     0.44444,     0.44545,     0.44645,     0.44745,     0.44845,     0.44945,     0.45045,     0.45145,     0.45245,     0.45345,     0.45445,     0.45546,\n",
              "           0.45646,     0.45746,     0.45846,     0.45946,     0.46046,     0.46146,     0.46246,     0.46346,     0.46446,     0.46547,     0.46647,     0.46747,     0.46847,     0.46947,     0.47047,     0.47147,     0.47247,     0.47347,     0.47447,     0.47548,     0.47648,     0.47748,     0.47848,     0.47948,\n",
              "           0.48048,     0.48148,     0.48248,     0.48348,     0.48448,     0.48549,     0.48649,     0.48749,     0.48849,     0.48949,     0.49049,     0.49149,     0.49249,     0.49349,     0.49449,      0.4955,      0.4965,      0.4975,      0.4985,      0.4995,      0.5005,      0.5015,      0.5025,      0.5035,\n",
              "            0.5045,     0.50551,     0.50651,     0.50751,     0.50851,     0.50951,     0.51051,     0.51151,     0.51251,     0.51351,     0.51451,     0.51552,     0.51652,     0.51752,     0.51852,     0.51952,     0.52052,     0.52152,     0.52252,     0.52352,     0.52452,     0.52553,     0.52653,     0.52753,\n",
              "           0.52853,     0.52953,     0.53053,     0.53153,     0.53253,     0.53353,     0.53453,     0.53554,     0.53654,     0.53754,     0.53854,     0.53954,     0.54054,     0.54154,     0.54254,     0.54354,     0.54454,     0.54555,     0.54655,     0.54755,     0.54855,     0.54955,     0.55055,     0.55155,\n",
              "           0.55255,     0.55355,     0.55455,     0.55556,     0.55656,     0.55756,     0.55856,     0.55956,     0.56056,     0.56156,     0.56256,     0.56356,     0.56456,     0.56557,     0.56657,     0.56757,     0.56857,     0.56957,     0.57057,     0.57157,     0.57257,     0.57357,     0.57457,     0.57558,\n",
              "           0.57658,     0.57758,     0.57858,     0.57958,     0.58058,     0.58158,     0.58258,     0.58358,     0.58458,     0.58559,     0.58659,     0.58759,     0.58859,     0.58959,     0.59059,     0.59159,     0.59259,     0.59359,     0.59459,      0.5956,      0.5966,      0.5976,      0.5986,      0.5996,\n",
              "            0.6006,      0.6016,      0.6026,      0.6036,      0.6046,     0.60561,     0.60661,     0.60761,     0.60861,     0.60961,     0.61061,     0.61161,     0.61261,     0.61361,     0.61461,     0.61562,     0.61662,     0.61762,     0.61862,     0.61962,     0.62062,     0.62162,     0.62262,     0.62362,\n",
              "           0.62462,     0.62563,     0.62663,     0.62763,     0.62863,     0.62963,     0.63063,     0.63163,     0.63263,     0.63363,     0.63463,     0.63564,     0.63664,     0.63764,     0.63864,     0.63964,     0.64064,     0.64164,     0.64264,     0.64364,     0.64464,     0.64565,     0.64665,     0.64765,\n",
              "           0.64865,     0.64965,     0.65065,     0.65165,     0.65265,     0.65365,     0.65465,     0.65566,     0.65666,     0.65766,     0.65866,     0.65966,     0.66066,     0.66166,     0.66266,     0.66366,     0.66466,     0.66567,     0.66667,     0.66767,     0.66867,     0.66967,     0.67067,     0.67167,\n",
              "           0.67267,     0.67367,     0.67467,     0.67568,     0.67668,     0.67768,     0.67868,     0.67968,     0.68068,     0.68168,     0.68268,     0.68368,     0.68468,     0.68569,     0.68669,     0.68769,     0.68869,     0.68969,     0.69069,     0.69169,     0.69269,     0.69369,     0.69469,      0.6957,\n",
              "            0.6967,      0.6977,      0.6987,      0.6997,      0.7007,      0.7017,      0.7027,      0.7037,      0.7047,     0.70571,     0.70671,     0.70771,     0.70871,     0.70971,     0.71071,     0.71171,     0.71271,     0.71371,     0.71471,     0.71572,     0.71672,     0.71772,     0.71872,     0.71972,\n",
              "           0.72072,     0.72172,     0.72272,     0.72372,     0.72472,     0.72573,     0.72673,     0.72773,     0.72873,     0.72973,     0.73073,     0.73173,     0.73273,     0.73373,     0.73473,     0.73574,     0.73674,     0.73774,     0.73874,     0.73974,     0.74074,     0.74174,     0.74274,     0.74374,\n",
              "           0.74474,     0.74575,     0.74675,     0.74775,     0.74875,     0.74975,     0.75075,     0.75175,     0.75275,     0.75375,     0.75475,     0.75576,     0.75676,     0.75776,     0.75876,     0.75976,     0.76076,     0.76176,     0.76276,     0.76376,     0.76476,     0.76577,     0.76677,     0.76777,\n",
              "           0.76877,     0.76977,     0.77077,     0.77177,     0.77277,     0.77377,     0.77477,     0.77578,     0.77678,     0.77778,     0.77878,     0.77978,     0.78078,     0.78178,     0.78278,     0.78378,     0.78478,     0.78579,     0.78679,     0.78779,     0.78879,     0.78979,     0.79079,     0.79179,\n",
              "           0.79279,     0.79379,     0.79479,      0.7958,      0.7968,      0.7978,      0.7988,      0.7998,      0.8008,      0.8018,      0.8028,      0.8038,      0.8048,     0.80581,     0.80681,     0.80781,     0.80881,     0.80981,     0.81081,     0.81181,     0.81281,     0.81381,     0.81481,     0.81582,\n",
              "           0.81682,     0.81782,     0.81882,     0.81982,     0.82082,     0.82182,     0.82282,     0.82382,     0.82482,     0.82583,     0.82683,     0.82783,     0.82883,     0.82983,     0.83083,     0.83183,     0.83283,     0.83383,     0.83483,     0.83584,     0.83684,     0.83784,     0.83884,     0.83984,\n",
              "           0.84084,     0.84184,     0.84284,     0.84384,     0.84484,     0.84585,     0.84685,     0.84785,     0.84885,     0.84985,     0.85085,     0.85185,     0.85285,     0.85385,     0.85485,     0.85586,     0.85686,     0.85786,     0.85886,     0.85986,     0.86086,     0.86186,     0.86286,     0.86386,\n",
              "           0.86486,     0.86587,     0.86687,     0.86787,     0.86887,     0.86987,     0.87087,     0.87187,     0.87287,     0.87387,     0.87487,     0.87588,     0.87688,     0.87788,     0.87888,     0.87988,     0.88088,     0.88188,     0.88288,     0.88388,     0.88488,     0.88589,     0.88689,     0.88789,\n",
              "           0.88889,     0.88989,     0.89089,     0.89189,     0.89289,     0.89389,     0.89489,      0.8959,      0.8969,      0.8979,      0.8989,      0.8999,      0.9009,      0.9019,      0.9029,      0.9039,      0.9049,     0.90591,     0.90691,     0.90791,     0.90891,     0.90991,     0.91091,     0.91191,\n",
              "           0.91291,     0.91391,     0.91491,     0.91592,     0.91692,     0.91792,     0.91892,     0.91992,     0.92092,     0.92192,     0.92292,     0.92392,     0.92492,     0.92593,     0.92693,     0.92793,     0.92893,     0.92993,     0.93093,     0.93193,     0.93293,     0.93393,     0.93493,     0.93594,\n",
              "           0.93694,     0.93794,     0.93894,     0.93994,     0.94094,     0.94194,     0.94294,     0.94394,     0.94494,     0.94595,     0.94695,     0.94795,     0.94895,     0.94995,     0.95095,     0.95195,     0.95295,     0.95395,     0.95495,     0.95596,     0.95696,     0.95796,     0.95896,     0.95996,\n",
              "           0.96096,     0.96196,     0.96296,     0.96396,     0.96496,     0.96597,     0.96697,     0.96797,     0.96897,     0.96997,     0.97097,     0.97197,     0.97297,     0.97397,     0.97497,     0.97598,     0.97698,     0.97798,     0.97898,     0.97998,     0.98098,     0.98198,     0.98298,     0.98398,\n",
              "           0.98498,     0.98599,     0.98699,     0.98799,     0.98899,     0.98999,     0.99099,     0.99199,     0.99299,     0.99399,     0.99499,       0.996,       0.997,       0.998,       0.999,           1]), array([[          1,           1,           1, ...,           1,           1,           0],\n",
              "       [          0,           0,           0, ...,           0,           0,           0],\n",
              "       [          1,           1,           1, ...,           1,           1,           0],\n",
              "       ...,\n",
              "       [          1,           1,           1, ...,           1,           1,           0],\n",
              "       [          1,           1,           1, ...,  0.00024514,  0.00012257,           0],\n",
              "       [    0.11111,     0.11111,     0.11111, ...,     0.11111,     0.11111,           0]]), 'Recall', 'Precision'], [array([          0,    0.001001,    0.002002,    0.003003,    0.004004,    0.005005,    0.006006,    0.007007,    0.008008,    0.009009,     0.01001,    0.011011,    0.012012,    0.013013,    0.014014,    0.015015,    0.016016,    0.017017,    0.018018,    0.019019,     0.02002,    0.021021,    0.022022,    0.023023,\n",
              "          0.024024,    0.025025,    0.026026,    0.027027,    0.028028,    0.029029,     0.03003,    0.031031,    0.032032,    0.033033,    0.034034,    0.035035,    0.036036,    0.037037,    0.038038,    0.039039,     0.04004,    0.041041,    0.042042,    0.043043,    0.044044,    0.045045,    0.046046,    0.047047,\n",
              "          0.048048,    0.049049,     0.05005,    0.051051,    0.052052,    0.053053,    0.054054,    0.055055,    0.056056,    0.057057,    0.058058,    0.059059,     0.06006,    0.061061,    0.062062,    0.063063,    0.064064,    0.065065,    0.066066,    0.067067,    0.068068,    0.069069,     0.07007,    0.071071,\n",
              "          0.072072,    0.073073,    0.074074,    0.075075,    0.076076,    0.077077,    0.078078,    0.079079,     0.08008,    0.081081,    0.082082,    0.083083,    0.084084,    0.085085,    0.086086,    0.087087,    0.088088,    0.089089,     0.09009,    0.091091,    0.092092,    0.093093,    0.094094,    0.095095,\n",
              "          0.096096,    0.097097,    0.098098,    0.099099,      0.1001,      0.1011,      0.1021,      0.1031,      0.1041,     0.10511,     0.10611,     0.10711,     0.10811,     0.10911,     0.11011,     0.11111,     0.11211,     0.11311,     0.11411,     0.11512,     0.11612,     0.11712,     0.11812,     0.11912,\n",
              "           0.12012,     0.12112,     0.12212,     0.12312,     0.12412,     0.12513,     0.12613,     0.12713,     0.12813,     0.12913,     0.13013,     0.13113,     0.13213,     0.13313,     0.13413,     0.13514,     0.13614,     0.13714,     0.13814,     0.13914,     0.14014,     0.14114,     0.14214,     0.14314,\n",
              "           0.14414,     0.14515,     0.14615,     0.14715,     0.14815,     0.14915,     0.15015,     0.15115,     0.15215,     0.15315,     0.15415,     0.15516,     0.15616,     0.15716,     0.15816,     0.15916,     0.16016,     0.16116,     0.16216,     0.16316,     0.16416,     0.16517,     0.16617,     0.16717,\n",
              "           0.16817,     0.16917,     0.17017,     0.17117,     0.17217,     0.17317,     0.17417,     0.17518,     0.17618,     0.17718,     0.17818,     0.17918,     0.18018,     0.18118,     0.18218,     0.18318,     0.18418,     0.18519,     0.18619,     0.18719,     0.18819,     0.18919,     0.19019,     0.19119,\n",
              "           0.19219,     0.19319,     0.19419,      0.1952,      0.1962,      0.1972,      0.1982,      0.1992,      0.2002,      0.2012,      0.2022,      0.2032,      0.2042,     0.20521,     0.20621,     0.20721,     0.20821,     0.20921,     0.21021,     0.21121,     0.21221,     0.21321,     0.21421,     0.21522,\n",
              "           0.21622,     0.21722,     0.21822,     0.21922,     0.22022,     0.22122,     0.22222,     0.22322,     0.22422,     0.22523,     0.22623,     0.22723,     0.22823,     0.22923,     0.23023,     0.23123,     0.23223,     0.23323,     0.23423,     0.23524,     0.23624,     0.23724,     0.23824,     0.23924,\n",
              "           0.24024,     0.24124,     0.24224,     0.24324,     0.24424,     0.24525,     0.24625,     0.24725,     0.24825,     0.24925,     0.25025,     0.25125,     0.25225,     0.25325,     0.25425,     0.25526,     0.25626,     0.25726,     0.25826,     0.25926,     0.26026,     0.26126,     0.26226,     0.26326,\n",
              "           0.26426,     0.26527,     0.26627,     0.26727,     0.26827,     0.26927,     0.27027,     0.27127,     0.27227,     0.27327,     0.27427,     0.27528,     0.27628,     0.27728,     0.27828,     0.27928,     0.28028,     0.28128,     0.28228,     0.28328,     0.28428,     0.28529,     0.28629,     0.28729,\n",
              "           0.28829,     0.28929,     0.29029,     0.29129,     0.29229,     0.29329,     0.29429,      0.2953,      0.2963,      0.2973,      0.2983,      0.2993,      0.3003,      0.3013,      0.3023,      0.3033,      0.3043,     0.30531,     0.30631,     0.30731,     0.30831,     0.30931,     0.31031,     0.31131,\n",
              "           0.31231,     0.31331,     0.31431,     0.31532,     0.31632,     0.31732,     0.31832,     0.31932,     0.32032,     0.32132,     0.32232,     0.32332,     0.32432,     0.32533,     0.32633,     0.32733,     0.32833,     0.32933,     0.33033,     0.33133,     0.33233,     0.33333,     0.33433,     0.33534,\n",
              "           0.33634,     0.33734,     0.33834,     0.33934,     0.34034,     0.34134,     0.34234,     0.34334,     0.34434,     0.34535,     0.34635,     0.34735,     0.34835,     0.34935,     0.35035,     0.35135,     0.35235,     0.35335,     0.35435,     0.35536,     0.35636,     0.35736,     0.35836,     0.35936,\n",
              "           0.36036,     0.36136,     0.36236,     0.36336,     0.36436,     0.36537,     0.36637,     0.36737,     0.36837,     0.36937,     0.37037,     0.37137,     0.37237,     0.37337,     0.37437,     0.37538,     0.37638,     0.37738,     0.37838,     0.37938,     0.38038,     0.38138,     0.38238,     0.38338,\n",
              "           0.38438,     0.38539,     0.38639,     0.38739,     0.38839,     0.38939,     0.39039,     0.39139,     0.39239,     0.39339,     0.39439,      0.3954,      0.3964,      0.3974,      0.3984,      0.3994,      0.4004,      0.4014,      0.4024,      0.4034,      0.4044,     0.40541,     0.40641,     0.40741,\n",
              "           0.40841,     0.40941,     0.41041,     0.41141,     0.41241,     0.41341,     0.41441,     0.41542,     0.41642,     0.41742,     0.41842,     0.41942,     0.42042,     0.42142,     0.42242,     0.42342,     0.42442,     0.42543,     0.42643,     0.42743,     0.42843,     0.42943,     0.43043,     0.43143,\n",
              "           0.43243,     0.43343,     0.43443,     0.43544,     0.43644,     0.43744,     0.43844,     0.43944,     0.44044,     0.44144,     0.44244,     0.44344,     0.44444,     0.44545,     0.44645,     0.44745,     0.44845,     0.44945,     0.45045,     0.45145,     0.45245,     0.45345,     0.45445,     0.45546,\n",
              "           0.45646,     0.45746,     0.45846,     0.45946,     0.46046,     0.46146,     0.46246,     0.46346,     0.46446,     0.46547,     0.46647,     0.46747,     0.46847,     0.46947,     0.47047,     0.47147,     0.47247,     0.47347,     0.47447,     0.47548,     0.47648,     0.47748,     0.47848,     0.47948,\n",
              "           0.48048,     0.48148,     0.48248,     0.48348,     0.48448,     0.48549,     0.48649,     0.48749,     0.48849,     0.48949,     0.49049,     0.49149,     0.49249,     0.49349,     0.49449,      0.4955,      0.4965,      0.4975,      0.4985,      0.4995,      0.5005,      0.5015,      0.5025,      0.5035,\n",
              "            0.5045,     0.50551,     0.50651,     0.50751,     0.50851,     0.50951,     0.51051,     0.51151,     0.51251,     0.51351,     0.51451,     0.51552,     0.51652,     0.51752,     0.51852,     0.51952,     0.52052,     0.52152,     0.52252,     0.52352,     0.52452,     0.52553,     0.52653,     0.52753,\n",
              "           0.52853,     0.52953,     0.53053,     0.53153,     0.53253,     0.53353,     0.53453,     0.53554,     0.53654,     0.53754,     0.53854,     0.53954,     0.54054,     0.54154,     0.54254,     0.54354,     0.54454,     0.54555,     0.54655,     0.54755,     0.54855,     0.54955,     0.55055,     0.55155,\n",
              "           0.55255,     0.55355,     0.55455,     0.55556,     0.55656,     0.55756,     0.55856,     0.55956,     0.56056,     0.56156,     0.56256,     0.56356,     0.56456,     0.56557,     0.56657,     0.56757,     0.56857,     0.56957,     0.57057,     0.57157,     0.57257,     0.57357,     0.57457,     0.57558,\n",
              "           0.57658,     0.57758,     0.57858,     0.57958,     0.58058,     0.58158,     0.58258,     0.58358,     0.58458,     0.58559,     0.58659,     0.58759,     0.58859,     0.58959,     0.59059,     0.59159,     0.59259,     0.59359,     0.59459,      0.5956,      0.5966,      0.5976,      0.5986,      0.5996,\n",
              "            0.6006,      0.6016,      0.6026,      0.6036,      0.6046,     0.60561,     0.60661,     0.60761,     0.60861,     0.60961,     0.61061,     0.61161,     0.61261,     0.61361,     0.61461,     0.61562,     0.61662,     0.61762,     0.61862,     0.61962,     0.62062,     0.62162,     0.62262,     0.62362,\n",
              "           0.62462,     0.62563,     0.62663,     0.62763,     0.62863,     0.62963,     0.63063,     0.63163,     0.63263,     0.63363,     0.63463,     0.63564,     0.63664,     0.63764,     0.63864,     0.63964,     0.64064,     0.64164,     0.64264,     0.64364,     0.64464,     0.64565,     0.64665,     0.64765,\n",
              "           0.64865,     0.64965,     0.65065,     0.65165,     0.65265,     0.65365,     0.65465,     0.65566,     0.65666,     0.65766,     0.65866,     0.65966,     0.66066,     0.66166,     0.66266,     0.66366,     0.66466,     0.66567,     0.66667,     0.66767,     0.66867,     0.66967,     0.67067,     0.67167,\n",
              "           0.67267,     0.67367,     0.67467,     0.67568,     0.67668,     0.67768,     0.67868,     0.67968,     0.68068,     0.68168,     0.68268,     0.68368,     0.68468,     0.68569,     0.68669,     0.68769,     0.68869,     0.68969,     0.69069,     0.69169,     0.69269,     0.69369,     0.69469,      0.6957,\n",
              "            0.6967,      0.6977,      0.6987,      0.6997,      0.7007,      0.7017,      0.7027,      0.7037,      0.7047,     0.70571,     0.70671,     0.70771,     0.70871,     0.70971,     0.71071,     0.71171,     0.71271,     0.71371,     0.71471,     0.71572,     0.71672,     0.71772,     0.71872,     0.71972,\n",
              "           0.72072,     0.72172,     0.72272,     0.72372,     0.72472,     0.72573,     0.72673,     0.72773,     0.72873,     0.72973,     0.73073,     0.73173,     0.73273,     0.73373,     0.73473,     0.73574,     0.73674,     0.73774,     0.73874,     0.73974,     0.74074,     0.74174,     0.74274,     0.74374,\n",
              "           0.74474,     0.74575,     0.74675,     0.74775,     0.74875,     0.74975,     0.75075,     0.75175,     0.75275,     0.75375,     0.75475,     0.75576,     0.75676,     0.75776,     0.75876,     0.75976,     0.76076,     0.76176,     0.76276,     0.76376,     0.76476,     0.76577,     0.76677,     0.76777,\n",
              "           0.76877,     0.76977,     0.77077,     0.77177,     0.77277,     0.77377,     0.77477,     0.77578,     0.77678,     0.77778,     0.77878,     0.77978,     0.78078,     0.78178,     0.78278,     0.78378,     0.78478,     0.78579,     0.78679,     0.78779,     0.78879,     0.78979,     0.79079,     0.79179,\n",
              "           0.79279,     0.79379,     0.79479,      0.7958,      0.7968,      0.7978,      0.7988,      0.7998,      0.8008,      0.8018,      0.8028,      0.8038,      0.8048,     0.80581,     0.80681,     0.80781,     0.80881,     0.80981,     0.81081,     0.81181,     0.81281,     0.81381,     0.81481,     0.81582,\n",
              "           0.81682,     0.81782,     0.81882,     0.81982,     0.82082,     0.82182,     0.82282,     0.82382,     0.82482,     0.82583,     0.82683,     0.82783,     0.82883,     0.82983,     0.83083,     0.83183,     0.83283,     0.83383,     0.83483,     0.83584,     0.83684,     0.83784,     0.83884,     0.83984,\n",
              "           0.84084,     0.84184,     0.84284,     0.84384,     0.84484,     0.84585,     0.84685,     0.84785,     0.84885,     0.84985,     0.85085,     0.85185,     0.85285,     0.85385,     0.85485,     0.85586,     0.85686,     0.85786,     0.85886,     0.85986,     0.86086,     0.86186,     0.86286,     0.86386,\n",
              "           0.86486,     0.86587,     0.86687,     0.86787,     0.86887,     0.86987,     0.87087,     0.87187,     0.87287,     0.87387,     0.87487,     0.87588,     0.87688,     0.87788,     0.87888,     0.87988,     0.88088,     0.88188,     0.88288,     0.88388,     0.88488,     0.88589,     0.88689,     0.88789,\n",
              "           0.88889,     0.88989,     0.89089,     0.89189,     0.89289,     0.89389,     0.89489,      0.8959,      0.8969,      0.8979,      0.8989,      0.8999,      0.9009,      0.9019,      0.9029,      0.9039,      0.9049,     0.90591,     0.90691,     0.90791,     0.90891,     0.90991,     0.91091,     0.91191,\n",
              "           0.91291,     0.91391,     0.91491,     0.91592,     0.91692,     0.91792,     0.91892,     0.91992,     0.92092,     0.92192,     0.92292,     0.92392,     0.92492,     0.92593,     0.92693,     0.92793,     0.92893,     0.92993,     0.93093,     0.93193,     0.93293,     0.93393,     0.93493,     0.93594,\n",
              "           0.93694,     0.93794,     0.93894,     0.93994,     0.94094,     0.94194,     0.94294,     0.94394,     0.94494,     0.94595,     0.94695,     0.94795,     0.94895,     0.94995,     0.95095,     0.95195,     0.95295,     0.95395,     0.95495,     0.95596,     0.95696,     0.95796,     0.95896,     0.95996,\n",
              "           0.96096,     0.96196,     0.96296,     0.96396,     0.96496,     0.96597,     0.96697,     0.96797,     0.96897,     0.96997,     0.97097,     0.97197,     0.97297,     0.97397,     0.97497,     0.97598,     0.97698,     0.97798,     0.97898,     0.97998,     0.98098,     0.98198,     0.98298,     0.98398,\n",
              "           0.98498,     0.98599,     0.98699,     0.98799,     0.98899,     0.98999,     0.99099,     0.99199,     0.99299,     0.99399,     0.99499,       0.996,       0.997,       0.998,       0.999,           1]), array([[    0.21053,     0.21053,     0.37202, ...,           0,           0,           0],\n",
              "       [          0,           0,           0, ...,           0,           0,           0],\n",
              "       [       0.05,        0.05,     0.08413, ...,           0,           0,           0],\n",
              "       ...,\n",
              "       [    0.12658,     0.12658,     0.24379, ...,           0,           0,           0],\n",
              "       [   0.076923,    0.076923,     0.10559, ...,           0,           0,           0],\n",
              "       [    0.18182,     0.18182,           0, ...,           0,           0,           0]]), 'Confidence', 'F1'], [array([          0,    0.001001,    0.002002,    0.003003,    0.004004,    0.005005,    0.006006,    0.007007,    0.008008,    0.009009,     0.01001,    0.011011,    0.012012,    0.013013,    0.014014,    0.015015,    0.016016,    0.017017,    0.018018,    0.019019,     0.02002,    0.021021,    0.022022,    0.023023,\n",
              "          0.024024,    0.025025,    0.026026,    0.027027,    0.028028,    0.029029,     0.03003,    0.031031,    0.032032,    0.033033,    0.034034,    0.035035,    0.036036,    0.037037,    0.038038,    0.039039,     0.04004,    0.041041,    0.042042,    0.043043,    0.044044,    0.045045,    0.046046,    0.047047,\n",
              "          0.048048,    0.049049,     0.05005,    0.051051,    0.052052,    0.053053,    0.054054,    0.055055,    0.056056,    0.057057,    0.058058,    0.059059,     0.06006,    0.061061,    0.062062,    0.063063,    0.064064,    0.065065,    0.066066,    0.067067,    0.068068,    0.069069,     0.07007,    0.071071,\n",
              "          0.072072,    0.073073,    0.074074,    0.075075,    0.076076,    0.077077,    0.078078,    0.079079,     0.08008,    0.081081,    0.082082,    0.083083,    0.084084,    0.085085,    0.086086,    0.087087,    0.088088,    0.089089,     0.09009,    0.091091,    0.092092,    0.093093,    0.094094,    0.095095,\n",
              "          0.096096,    0.097097,    0.098098,    0.099099,      0.1001,      0.1011,      0.1021,      0.1031,      0.1041,     0.10511,     0.10611,     0.10711,     0.10811,     0.10911,     0.11011,     0.11111,     0.11211,     0.11311,     0.11411,     0.11512,     0.11612,     0.11712,     0.11812,     0.11912,\n",
              "           0.12012,     0.12112,     0.12212,     0.12312,     0.12412,     0.12513,     0.12613,     0.12713,     0.12813,     0.12913,     0.13013,     0.13113,     0.13213,     0.13313,     0.13413,     0.13514,     0.13614,     0.13714,     0.13814,     0.13914,     0.14014,     0.14114,     0.14214,     0.14314,\n",
              "           0.14414,     0.14515,     0.14615,     0.14715,     0.14815,     0.14915,     0.15015,     0.15115,     0.15215,     0.15315,     0.15415,     0.15516,     0.15616,     0.15716,     0.15816,     0.15916,     0.16016,     0.16116,     0.16216,     0.16316,     0.16416,     0.16517,     0.16617,     0.16717,\n",
              "           0.16817,     0.16917,     0.17017,     0.17117,     0.17217,     0.17317,     0.17417,     0.17518,     0.17618,     0.17718,     0.17818,     0.17918,     0.18018,     0.18118,     0.18218,     0.18318,     0.18418,     0.18519,     0.18619,     0.18719,     0.18819,     0.18919,     0.19019,     0.19119,\n",
              "           0.19219,     0.19319,     0.19419,      0.1952,      0.1962,      0.1972,      0.1982,      0.1992,      0.2002,      0.2012,      0.2022,      0.2032,      0.2042,     0.20521,     0.20621,     0.20721,     0.20821,     0.20921,     0.21021,     0.21121,     0.21221,     0.21321,     0.21421,     0.21522,\n",
              "           0.21622,     0.21722,     0.21822,     0.21922,     0.22022,     0.22122,     0.22222,     0.22322,     0.22422,     0.22523,     0.22623,     0.22723,     0.22823,     0.22923,     0.23023,     0.23123,     0.23223,     0.23323,     0.23423,     0.23524,     0.23624,     0.23724,     0.23824,     0.23924,\n",
              "           0.24024,     0.24124,     0.24224,     0.24324,     0.24424,     0.24525,     0.24625,     0.24725,     0.24825,     0.24925,     0.25025,     0.25125,     0.25225,     0.25325,     0.25425,     0.25526,     0.25626,     0.25726,     0.25826,     0.25926,     0.26026,     0.26126,     0.26226,     0.26326,\n",
              "           0.26426,     0.26527,     0.26627,     0.26727,     0.26827,     0.26927,     0.27027,     0.27127,     0.27227,     0.27327,     0.27427,     0.27528,     0.27628,     0.27728,     0.27828,     0.27928,     0.28028,     0.28128,     0.28228,     0.28328,     0.28428,     0.28529,     0.28629,     0.28729,\n",
              "           0.28829,     0.28929,     0.29029,     0.29129,     0.29229,     0.29329,     0.29429,      0.2953,      0.2963,      0.2973,      0.2983,      0.2993,      0.3003,      0.3013,      0.3023,      0.3033,      0.3043,     0.30531,     0.30631,     0.30731,     0.30831,     0.30931,     0.31031,     0.31131,\n",
              "           0.31231,     0.31331,     0.31431,     0.31532,     0.31632,     0.31732,     0.31832,     0.31932,     0.32032,     0.32132,     0.32232,     0.32332,     0.32432,     0.32533,     0.32633,     0.32733,     0.32833,     0.32933,     0.33033,     0.33133,     0.33233,     0.33333,     0.33433,     0.33534,\n",
              "           0.33634,     0.33734,     0.33834,     0.33934,     0.34034,     0.34134,     0.34234,     0.34334,     0.34434,     0.34535,     0.34635,     0.34735,     0.34835,     0.34935,     0.35035,     0.35135,     0.35235,     0.35335,     0.35435,     0.35536,     0.35636,     0.35736,     0.35836,     0.35936,\n",
              "           0.36036,     0.36136,     0.36236,     0.36336,     0.36436,     0.36537,     0.36637,     0.36737,     0.36837,     0.36937,     0.37037,     0.37137,     0.37237,     0.37337,     0.37437,     0.37538,     0.37638,     0.37738,     0.37838,     0.37938,     0.38038,     0.38138,     0.38238,     0.38338,\n",
              "           0.38438,     0.38539,     0.38639,     0.38739,     0.38839,     0.38939,     0.39039,     0.39139,     0.39239,     0.39339,     0.39439,      0.3954,      0.3964,      0.3974,      0.3984,      0.3994,      0.4004,      0.4014,      0.4024,      0.4034,      0.4044,     0.40541,     0.40641,     0.40741,\n",
              "           0.40841,     0.40941,     0.41041,     0.41141,     0.41241,     0.41341,     0.41441,     0.41542,     0.41642,     0.41742,     0.41842,     0.41942,     0.42042,     0.42142,     0.42242,     0.42342,     0.42442,     0.42543,     0.42643,     0.42743,     0.42843,     0.42943,     0.43043,     0.43143,\n",
              "           0.43243,     0.43343,     0.43443,     0.43544,     0.43644,     0.43744,     0.43844,     0.43944,     0.44044,     0.44144,     0.44244,     0.44344,     0.44444,     0.44545,     0.44645,     0.44745,     0.44845,     0.44945,     0.45045,     0.45145,     0.45245,     0.45345,     0.45445,     0.45546,\n",
              "           0.45646,     0.45746,     0.45846,     0.45946,     0.46046,     0.46146,     0.46246,     0.46346,     0.46446,     0.46547,     0.46647,     0.46747,     0.46847,     0.46947,     0.47047,     0.47147,     0.47247,     0.47347,     0.47447,     0.47548,     0.47648,     0.47748,     0.47848,     0.47948,\n",
              "           0.48048,     0.48148,     0.48248,     0.48348,     0.48448,     0.48549,     0.48649,     0.48749,     0.48849,     0.48949,     0.49049,     0.49149,     0.49249,     0.49349,     0.49449,      0.4955,      0.4965,      0.4975,      0.4985,      0.4995,      0.5005,      0.5015,      0.5025,      0.5035,\n",
              "            0.5045,     0.50551,     0.50651,     0.50751,     0.50851,     0.50951,     0.51051,     0.51151,     0.51251,     0.51351,     0.51451,     0.51552,     0.51652,     0.51752,     0.51852,     0.51952,     0.52052,     0.52152,     0.52252,     0.52352,     0.52452,     0.52553,     0.52653,     0.52753,\n",
              "           0.52853,     0.52953,     0.53053,     0.53153,     0.53253,     0.53353,     0.53453,     0.53554,     0.53654,     0.53754,     0.53854,     0.53954,     0.54054,     0.54154,     0.54254,     0.54354,     0.54454,     0.54555,     0.54655,     0.54755,     0.54855,     0.54955,     0.55055,     0.55155,\n",
              "           0.55255,     0.55355,     0.55455,     0.55556,     0.55656,     0.55756,     0.55856,     0.55956,     0.56056,     0.56156,     0.56256,     0.56356,     0.56456,     0.56557,     0.56657,     0.56757,     0.56857,     0.56957,     0.57057,     0.57157,     0.57257,     0.57357,     0.57457,     0.57558,\n",
              "           0.57658,     0.57758,     0.57858,     0.57958,     0.58058,     0.58158,     0.58258,     0.58358,     0.58458,     0.58559,     0.58659,     0.58759,     0.58859,     0.58959,     0.59059,     0.59159,     0.59259,     0.59359,     0.59459,      0.5956,      0.5966,      0.5976,      0.5986,      0.5996,\n",
              "            0.6006,      0.6016,      0.6026,      0.6036,      0.6046,     0.60561,     0.60661,     0.60761,     0.60861,     0.60961,     0.61061,     0.61161,     0.61261,     0.61361,     0.61461,     0.61562,     0.61662,     0.61762,     0.61862,     0.61962,     0.62062,     0.62162,     0.62262,     0.62362,\n",
              "           0.62462,     0.62563,     0.62663,     0.62763,     0.62863,     0.62963,     0.63063,     0.63163,     0.63263,     0.63363,     0.63463,     0.63564,     0.63664,     0.63764,     0.63864,     0.63964,     0.64064,     0.64164,     0.64264,     0.64364,     0.64464,     0.64565,     0.64665,     0.64765,\n",
              "           0.64865,     0.64965,     0.65065,     0.65165,     0.65265,     0.65365,     0.65465,     0.65566,     0.65666,     0.65766,     0.65866,     0.65966,     0.66066,     0.66166,     0.66266,     0.66366,     0.66466,     0.66567,     0.66667,     0.66767,     0.66867,     0.66967,     0.67067,     0.67167,\n",
              "           0.67267,     0.67367,     0.67467,     0.67568,     0.67668,     0.67768,     0.67868,     0.67968,     0.68068,     0.68168,     0.68268,     0.68368,     0.68468,     0.68569,     0.68669,     0.68769,     0.68869,     0.68969,     0.69069,     0.69169,     0.69269,     0.69369,     0.69469,      0.6957,\n",
              "            0.6967,      0.6977,      0.6987,      0.6997,      0.7007,      0.7017,      0.7027,      0.7037,      0.7047,     0.70571,     0.70671,     0.70771,     0.70871,     0.70971,     0.71071,     0.71171,     0.71271,     0.71371,     0.71471,     0.71572,     0.71672,     0.71772,     0.71872,     0.71972,\n",
              "           0.72072,     0.72172,     0.72272,     0.72372,     0.72472,     0.72573,     0.72673,     0.72773,     0.72873,     0.72973,     0.73073,     0.73173,     0.73273,     0.73373,     0.73473,     0.73574,     0.73674,     0.73774,     0.73874,     0.73974,     0.74074,     0.74174,     0.74274,     0.74374,\n",
              "           0.74474,     0.74575,     0.74675,     0.74775,     0.74875,     0.74975,     0.75075,     0.75175,     0.75275,     0.75375,     0.75475,     0.75576,     0.75676,     0.75776,     0.75876,     0.75976,     0.76076,     0.76176,     0.76276,     0.76376,     0.76476,     0.76577,     0.76677,     0.76777,\n",
              "           0.76877,     0.76977,     0.77077,     0.77177,     0.77277,     0.77377,     0.77477,     0.77578,     0.77678,     0.77778,     0.77878,     0.77978,     0.78078,     0.78178,     0.78278,     0.78378,     0.78478,     0.78579,     0.78679,     0.78779,     0.78879,     0.78979,     0.79079,     0.79179,\n",
              "           0.79279,     0.79379,     0.79479,      0.7958,      0.7968,      0.7978,      0.7988,      0.7998,      0.8008,      0.8018,      0.8028,      0.8038,      0.8048,     0.80581,     0.80681,     0.80781,     0.80881,     0.80981,     0.81081,     0.81181,     0.81281,     0.81381,     0.81481,     0.81582,\n",
              "           0.81682,     0.81782,     0.81882,     0.81982,     0.82082,     0.82182,     0.82282,     0.82382,     0.82482,     0.82583,     0.82683,     0.82783,     0.82883,     0.82983,     0.83083,     0.83183,     0.83283,     0.83383,     0.83483,     0.83584,     0.83684,     0.83784,     0.83884,     0.83984,\n",
              "           0.84084,     0.84184,     0.84284,     0.84384,     0.84484,     0.84585,     0.84685,     0.84785,     0.84885,     0.84985,     0.85085,     0.85185,     0.85285,     0.85385,     0.85485,     0.85586,     0.85686,     0.85786,     0.85886,     0.85986,     0.86086,     0.86186,     0.86286,     0.86386,\n",
              "           0.86486,     0.86587,     0.86687,     0.86787,     0.86887,     0.86987,     0.87087,     0.87187,     0.87287,     0.87387,     0.87487,     0.87588,     0.87688,     0.87788,     0.87888,     0.87988,     0.88088,     0.88188,     0.88288,     0.88388,     0.88488,     0.88589,     0.88689,     0.88789,\n",
              "           0.88889,     0.88989,     0.89089,     0.89189,     0.89289,     0.89389,     0.89489,      0.8959,      0.8969,      0.8979,      0.8989,      0.8999,      0.9009,      0.9019,      0.9029,      0.9039,      0.9049,     0.90591,     0.90691,     0.90791,     0.90891,     0.90991,     0.91091,     0.91191,\n",
              "           0.91291,     0.91391,     0.91491,     0.91592,     0.91692,     0.91792,     0.91892,     0.91992,     0.92092,     0.92192,     0.92292,     0.92392,     0.92492,     0.92593,     0.92693,     0.92793,     0.92893,     0.92993,     0.93093,     0.93193,     0.93293,     0.93393,     0.93493,     0.93594,\n",
              "           0.93694,     0.93794,     0.93894,     0.93994,     0.94094,     0.94194,     0.94294,     0.94394,     0.94494,     0.94595,     0.94695,     0.94795,     0.94895,     0.94995,     0.95095,     0.95195,     0.95295,     0.95395,     0.95495,     0.95596,     0.95696,     0.95796,     0.95896,     0.95996,\n",
              "           0.96096,     0.96196,     0.96296,     0.96396,     0.96496,     0.96597,     0.96697,     0.96797,     0.96897,     0.96997,     0.97097,     0.97197,     0.97297,     0.97397,     0.97497,     0.97598,     0.97698,     0.97798,     0.97898,     0.97998,     0.98098,     0.98198,     0.98298,     0.98398,\n",
              "           0.98498,     0.98599,     0.98699,     0.98799,     0.98899,     0.98999,     0.99099,     0.99199,     0.99299,     0.99399,     0.99499,       0.996,       0.997,       0.998,       0.999,           1]), array([[    0.11765,     0.11765,     0.22852, ...,           1,           1,           1],\n",
              "       [          0,           0,           0, ...,           1,           1,           1],\n",
              "       [   0.025641,    0.025641,    0.043912, ...,           1,           1,           1],\n",
              "       ...,\n",
              "       [   0.067568,    0.067568,     0.13882, ...,           1,           1,           1],\n",
              "       [   0.040816,    0.040816,    0.057334, ...,           1,           1,           1],\n",
              "       [        0.1,         0.1,           0, ...,           1,           1,           1]]), 'Confidence', 'Precision'], [array([          0,    0.001001,    0.002002,    0.003003,    0.004004,    0.005005,    0.006006,    0.007007,    0.008008,    0.009009,     0.01001,    0.011011,    0.012012,    0.013013,    0.014014,    0.015015,    0.016016,    0.017017,    0.018018,    0.019019,     0.02002,    0.021021,    0.022022,    0.023023,\n",
              "          0.024024,    0.025025,    0.026026,    0.027027,    0.028028,    0.029029,     0.03003,    0.031031,    0.032032,    0.033033,    0.034034,    0.035035,    0.036036,    0.037037,    0.038038,    0.039039,     0.04004,    0.041041,    0.042042,    0.043043,    0.044044,    0.045045,    0.046046,    0.047047,\n",
              "          0.048048,    0.049049,     0.05005,    0.051051,    0.052052,    0.053053,    0.054054,    0.055055,    0.056056,    0.057057,    0.058058,    0.059059,     0.06006,    0.061061,    0.062062,    0.063063,    0.064064,    0.065065,    0.066066,    0.067067,    0.068068,    0.069069,     0.07007,    0.071071,\n",
              "          0.072072,    0.073073,    0.074074,    0.075075,    0.076076,    0.077077,    0.078078,    0.079079,     0.08008,    0.081081,    0.082082,    0.083083,    0.084084,    0.085085,    0.086086,    0.087087,    0.088088,    0.089089,     0.09009,    0.091091,    0.092092,    0.093093,    0.094094,    0.095095,\n",
              "          0.096096,    0.097097,    0.098098,    0.099099,      0.1001,      0.1011,      0.1021,      0.1031,      0.1041,     0.10511,     0.10611,     0.10711,     0.10811,     0.10911,     0.11011,     0.11111,     0.11211,     0.11311,     0.11411,     0.11512,     0.11612,     0.11712,     0.11812,     0.11912,\n",
              "           0.12012,     0.12112,     0.12212,     0.12312,     0.12412,     0.12513,     0.12613,     0.12713,     0.12813,     0.12913,     0.13013,     0.13113,     0.13213,     0.13313,     0.13413,     0.13514,     0.13614,     0.13714,     0.13814,     0.13914,     0.14014,     0.14114,     0.14214,     0.14314,\n",
              "           0.14414,     0.14515,     0.14615,     0.14715,     0.14815,     0.14915,     0.15015,     0.15115,     0.15215,     0.15315,     0.15415,     0.15516,     0.15616,     0.15716,     0.15816,     0.15916,     0.16016,     0.16116,     0.16216,     0.16316,     0.16416,     0.16517,     0.16617,     0.16717,\n",
              "           0.16817,     0.16917,     0.17017,     0.17117,     0.17217,     0.17317,     0.17417,     0.17518,     0.17618,     0.17718,     0.17818,     0.17918,     0.18018,     0.18118,     0.18218,     0.18318,     0.18418,     0.18519,     0.18619,     0.18719,     0.18819,     0.18919,     0.19019,     0.19119,\n",
              "           0.19219,     0.19319,     0.19419,      0.1952,      0.1962,      0.1972,      0.1982,      0.1992,      0.2002,      0.2012,      0.2022,      0.2032,      0.2042,     0.20521,     0.20621,     0.20721,     0.20821,     0.20921,     0.21021,     0.21121,     0.21221,     0.21321,     0.21421,     0.21522,\n",
              "           0.21622,     0.21722,     0.21822,     0.21922,     0.22022,     0.22122,     0.22222,     0.22322,     0.22422,     0.22523,     0.22623,     0.22723,     0.22823,     0.22923,     0.23023,     0.23123,     0.23223,     0.23323,     0.23423,     0.23524,     0.23624,     0.23724,     0.23824,     0.23924,\n",
              "           0.24024,     0.24124,     0.24224,     0.24324,     0.24424,     0.24525,     0.24625,     0.24725,     0.24825,     0.24925,     0.25025,     0.25125,     0.25225,     0.25325,     0.25425,     0.25526,     0.25626,     0.25726,     0.25826,     0.25926,     0.26026,     0.26126,     0.26226,     0.26326,\n",
              "           0.26426,     0.26527,     0.26627,     0.26727,     0.26827,     0.26927,     0.27027,     0.27127,     0.27227,     0.27327,     0.27427,     0.27528,     0.27628,     0.27728,     0.27828,     0.27928,     0.28028,     0.28128,     0.28228,     0.28328,     0.28428,     0.28529,     0.28629,     0.28729,\n",
              "           0.28829,     0.28929,     0.29029,     0.29129,     0.29229,     0.29329,     0.29429,      0.2953,      0.2963,      0.2973,      0.2983,      0.2993,      0.3003,      0.3013,      0.3023,      0.3033,      0.3043,     0.30531,     0.30631,     0.30731,     0.30831,     0.30931,     0.31031,     0.31131,\n",
              "           0.31231,     0.31331,     0.31431,     0.31532,     0.31632,     0.31732,     0.31832,     0.31932,     0.32032,     0.32132,     0.32232,     0.32332,     0.32432,     0.32533,     0.32633,     0.32733,     0.32833,     0.32933,     0.33033,     0.33133,     0.33233,     0.33333,     0.33433,     0.33534,\n",
              "           0.33634,     0.33734,     0.33834,     0.33934,     0.34034,     0.34134,     0.34234,     0.34334,     0.34434,     0.34535,     0.34635,     0.34735,     0.34835,     0.34935,     0.35035,     0.35135,     0.35235,     0.35335,     0.35435,     0.35536,     0.35636,     0.35736,     0.35836,     0.35936,\n",
              "           0.36036,     0.36136,     0.36236,     0.36336,     0.36436,     0.36537,     0.36637,     0.36737,     0.36837,     0.36937,     0.37037,     0.37137,     0.37237,     0.37337,     0.37437,     0.37538,     0.37638,     0.37738,     0.37838,     0.37938,     0.38038,     0.38138,     0.38238,     0.38338,\n",
              "           0.38438,     0.38539,     0.38639,     0.38739,     0.38839,     0.38939,     0.39039,     0.39139,     0.39239,     0.39339,     0.39439,      0.3954,      0.3964,      0.3974,      0.3984,      0.3994,      0.4004,      0.4014,      0.4024,      0.4034,      0.4044,     0.40541,     0.40641,     0.40741,\n",
              "           0.40841,     0.40941,     0.41041,     0.41141,     0.41241,     0.41341,     0.41441,     0.41542,     0.41642,     0.41742,     0.41842,     0.41942,     0.42042,     0.42142,     0.42242,     0.42342,     0.42442,     0.42543,     0.42643,     0.42743,     0.42843,     0.42943,     0.43043,     0.43143,\n",
              "           0.43243,     0.43343,     0.43443,     0.43544,     0.43644,     0.43744,     0.43844,     0.43944,     0.44044,     0.44144,     0.44244,     0.44344,     0.44444,     0.44545,     0.44645,     0.44745,     0.44845,     0.44945,     0.45045,     0.45145,     0.45245,     0.45345,     0.45445,     0.45546,\n",
              "           0.45646,     0.45746,     0.45846,     0.45946,     0.46046,     0.46146,     0.46246,     0.46346,     0.46446,     0.46547,     0.46647,     0.46747,     0.46847,     0.46947,     0.47047,     0.47147,     0.47247,     0.47347,     0.47447,     0.47548,     0.47648,     0.47748,     0.47848,     0.47948,\n",
              "           0.48048,     0.48148,     0.48248,     0.48348,     0.48448,     0.48549,     0.48649,     0.48749,     0.48849,     0.48949,     0.49049,     0.49149,     0.49249,     0.49349,     0.49449,      0.4955,      0.4965,      0.4975,      0.4985,      0.4995,      0.5005,      0.5015,      0.5025,      0.5035,\n",
              "            0.5045,     0.50551,     0.50651,     0.50751,     0.50851,     0.50951,     0.51051,     0.51151,     0.51251,     0.51351,     0.51451,     0.51552,     0.51652,     0.51752,     0.51852,     0.51952,     0.52052,     0.52152,     0.52252,     0.52352,     0.52452,     0.52553,     0.52653,     0.52753,\n",
              "           0.52853,     0.52953,     0.53053,     0.53153,     0.53253,     0.53353,     0.53453,     0.53554,     0.53654,     0.53754,     0.53854,     0.53954,     0.54054,     0.54154,     0.54254,     0.54354,     0.54454,     0.54555,     0.54655,     0.54755,     0.54855,     0.54955,     0.55055,     0.55155,\n",
              "           0.55255,     0.55355,     0.55455,     0.55556,     0.55656,     0.55756,     0.55856,     0.55956,     0.56056,     0.56156,     0.56256,     0.56356,     0.56456,     0.56557,     0.56657,     0.56757,     0.56857,     0.56957,     0.57057,     0.57157,     0.57257,     0.57357,     0.57457,     0.57558,\n",
              "           0.57658,     0.57758,     0.57858,     0.57958,     0.58058,     0.58158,     0.58258,     0.58358,     0.58458,     0.58559,     0.58659,     0.58759,     0.58859,     0.58959,     0.59059,     0.59159,     0.59259,     0.59359,     0.59459,      0.5956,      0.5966,      0.5976,      0.5986,      0.5996,\n",
              "            0.6006,      0.6016,      0.6026,      0.6036,      0.6046,     0.60561,     0.60661,     0.60761,     0.60861,     0.60961,     0.61061,     0.61161,     0.61261,     0.61361,     0.61461,     0.61562,     0.61662,     0.61762,     0.61862,     0.61962,     0.62062,     0.62162,     0.62262,     0.62362,\n",
              "           0.62462,     0.62563,     0.62663,     0.62763,     0.62863,     0.62963,     0.63063,     0.63163,     0.63263,     0.63363,     0.63463,     0.63564,     0.63664,     0.63764,     0.63864,     0.63964,     0.64064,     0.64164,     0.64264,     0.64364,     0.64464,     0.64565,     0.64665,     0.64765,\n",
              "           0.64865,     0.64965,     0.65065,     0.65165,     0.65265,     0.65365,     0.65465,     0.65566,     0.65666,     0.65766,     0.65866,     0.65966,     0.66066,     0.66166,     0.66266,     0.66366,     0.66466,     0.66567,     0.66667,     0.66767,     0.66867,     0.66967,     0.67067,     0.67167,\n",
              "           0.67267,     0.67367,     0.67467,     0.67568,     0.67668,     0.67768,     0.67868,     0.67968,     0.68068,     0.68168,     0.68268,     0.68368,     0.68468,     0.68569,     0.68669,     0.68769,     0.68869,     0.68969,     0.69069,     0.69169,     0.69269,     0.69369,     0.69469,      0.6957,\n",
              "            0.6967,      0.6977,      0.6987,      0.6997,      0.7007,      0.7017,      0.7027,      0.7037,      0.7047,     0.70571,     0.70671,     0.70771,     0.70871,     0.70971,     0.71071,     0.71171,     0.71271,     0.71371,     0.71471,     0.71572,     0.71672,     0.71772,     0.71872,     0.71972,\n",
              "           0.72072,     0.72172,     0.72272,     0.72372,     0.72472,     0.72573,     0.72673,     0.72773,     0.72873,     0.72973,     0.73073,     0.73173,     0.73273,     0.73373,     0.73473,     0.73574,     0.73674,     0.73774,     0.73874,     0.73974,     0.74074,     0.74174,     0.74274,     0.74374,\n",
              "           0.74474,     0.74575,     0.74675,     0.74775,     0.74875,     0.74975,     0.75075,     0.75175,     0.75275,     0.75375,     0.75475,     0.75576,     0.75676,     0.75776,     0.75876,     0.75976,     0.76076,     0.76176,     0.76276,     0.76376,     0.76476,     0.76577,     0.76677,     0.76777,\n",
              "           0.76877,     0.76977,     0.77077,     0.77177,     0.77277,     0.77377,     0.77477,     0.77578,     0.77678,     0.77778,     0.77878,     0.77978,     0.78078,     0.78178,     0.78278,     0.78378,     0.78478,     0.78579,     0.78679,     0.78779,     0.78879,     0.78979,     0.79079,     0.79179,\n",
              "           0.79279,     0.79379,     0.79479,      0.7958,      0.7968,      0.7978,      0.7988,      0.7998,      0.8008,      0.8018,      0.8028,      0.8038,      0.8048,     0.80581,     0.80681,     0.80781,     0.80881,     0.80981,     0.81081,     0.81181,     0.81281,     0.81381,     0.81481,     0.81582,\n",
              "           0.81682,     0.81782,     0.81882,     0.81982,     0.82082,     0.82182,     0.82282,     0.82382,     0.82482,     0.82583,     0.82683,     0.82783,     0.82883,     0.82983,     0.83083,     0.83183,     0.83283,     0.83383,     0.83483,     0.83584,     0.83684,     0.83784,     0.83884,     0.83984,\n",
              "           0.84084,     0.84184,     0.84284,     0.84384,     0.84484,     0.84585,     0.84685,     0.84785,     0.84885,     0.84985,     0.85085,     0.85185,     0.85285,     0.85385,     0.85485,     0.85586,     0.85686,     0.85786,     0.85886,     0.85986,     0.86086,     0.86186,     0.86286,     0.86386,\n",
              "           0.86486,     0.86587,     0.86687,     0.86787,     0.86887,     0.86987,     0.87087,     0.87187,     0.87287,     0.87387,     0.87487,     0.87588,     0.87688,     0.87788,     0.87888,     0.87988,     0.88088,     0.88188,     0.88288,     0.88388,     0.88488,     0.88589,     0.88689,     0.88789,\n",
              "           0.88889,     0.88989,     0.89089,     0.89189,     0.89289,     0.89389,     0.89489,      0.8959,      0.8969,      0.8979,      0.8989,      0.8999,      0.9009,      0.9019,      0.9029,      0.9039,      0.9049,     0.90591,     0.90691,     0.90791,     0.90891,     0.90991,     0.91091,     0.91191,\n",
              "           0.91291,     0.91391,     0.91491,     0.91592,     0.91692,     0.91792,     0.91892,     0.91992,     0.92092,     0.92192,     0.92292,     0.92392,     0.92492,     0.92593,     0.92693,     0.92793,     0.92893,     0.92993,     0.93093,     0.93193,     0.93293,     0.93393,     0.93493,     0.93594,\n",
              "           0.93694,     0.93794,     0.93894,     0.93994,     0.94094,     0.94194,     0.94294,     0.94394,     0.94494,     0.94595,     0.94695,     0.94795,     0.94895,     0.94995,     0.95095,     0.95195,     0.95295,     0.95395,     0.95495,     0.95596,     0.95696,     0.95796,     0.95896,     0.95996,\n",
              "           0.96096,     0.96196,     0.96296,     0.96396,     0.96496,     0.96597,     0.96697,     0.96797,     0.96897,     0.96997,     0.97097,     0.97197,     0.97297,     0.97397,     0.97497,     0.97598,     0.97698,     0.97798,     0.97898,     0.97998,     0.98098,     0.98198,     0.98298,     0.98398,\n",
              "           0.98498,     0.98599,     0.98699,     0.98799,     0.98899,     0.98999,     0.99099,     0.99199,     0.99299,     0.99399,     0.99499,       0.996,       0.997,       0.998,       0.999,           1]), array([[          1,           1,           1, ...,           0,           0,           0],\n",
              "       [          0,           0,           0, ...,           0,           0,           0],\n",
              "       [          1,           1,           1, ...,           0,           0,           0],\n",
              "       ...,\n",
              "       [          1,           1,           1, ...,           0,           0,           0],\n",
              "       [    0.66667,     0.66667,     0.66667, ...,           0,           0,           0],\n",
              "       [          1,           1,           0, ...,           0,           0,           0]]), 'Confidence', 'Recall']]\n",
              "fitness: 0.6766393185666956\n",
              "keys: ['metrics/precision(B)', 'metrics/recall(B)', 'metrics/mAP50(B)', 'metrics/mAP50-95(B)']\n",
              "maps: array([    0.92112,           0,       0.995,     0.78438,      0.6965,     0.75101,     0.57641,     0.66812,     0.68185,     0.88652,     0.83359,     0.84628,     0.58591,      0.7627,       0.995,     0.61695,     0.58365,     0.60275,     0.48011,     0.97614,     0.61403,     0.66812,     0.93931,     0.58726,\n",
              "           0.66812,       0.995,     0.23015,     0.90539,     0.56643,     0.89318,     0.83541,     0.51137,      0.7669,           0,      0.9142,     0.54364,           0,      0.8955,     0.87638,     0.63886,      0.0995])\n",
              "names: {0: 'aferin', 1: 'aljil', 2: 'apodonorm5mg', 3: 'apodorm5mg', 4: 'apranax', 5: 'arveles', 6: 'aspirin', 7: 'betasalic', 8: 'box', 9: 'buprefarm5ug_hour', 10: 'dikloron', 11: 'dolcontin10mg', 12: 'dolcontin5mg', 13: 'dolorex', 14: 'fentanyl50ug_ml', 15: 'hametanKrem', 16: 'hametanMerhem', 17: 'ibucoldC', 18: 'imovane7-5mg', 19: 'levopidon25mg', 20: 'majezik', 21: 'majezikmajezik', 22: 'metadon_hydrochlorid40mg', 23: 'metpamid', 24: 'midazolam5mg_ml', 25: 'morfin10mg', 26: 'nexium', 27: 'nobligan_retard200mg', 28: 'oxycontin10mg', 29: 'oxycontin15mg', 30: 'oxycontin5mg', 31: 'oxynorm10mg', 32: 'parol', 33: 'silverdin', 34: 'sobril25mg', 35: 'terbisil', 36: 'travazol', 37: 'ultiva5mg', 38: 'unisom', 39: 'valium5mg', 40: 'xanor2mg'}\n",
              "plot: True\n",
              "results_dict: {'metrics/precision(B)': 0.8019272374456999, 'metrics/recall(B)': 0.7212355199444421, 'metrics/mAP50(B)': 0.7533577136842071, 'metrics/mAP50-95(B)': 0.6681150524425276, 'fitness': 0.6766393185666956}\n",
              "save_dir: PosixPath('runs/detect/train')\n",
              "speed: {'preprocess': 0.39409547770545283, 'inference': 3.0927173184736487, 'loss': 0.0005126624180856353, 'postprocess': 5.164785859868143}\n",
              "task: 'detect'"
            ]
          },
          "metadata": {},
          "execution_count": 4
        }
      ]
    },
    {
      "cell_type": "code",
      "source": [
        "metrics = model.val()\n"
      ],
      "metadata": {
        "colab": {
          "base_uri": "https://localhost:8080/"
        },
        "id": "CPO6swNSC8Br",
        "outputId": "a3885337-6f54-4b96-f786-5be38cb1564a"
      },
      "execution_count": 5,
      "outputs": [
        {
          "output_type": "stream",
          "name": "stdout",
          "text": [
            "Ultralytics 8.3.83 🚀 Python-3.11.11 torch-2.5.1+cu124 CUDA:0 (Tesla T4, 15095MiB)\n",
            "Model summary (fused): 72 layers, 3,013,643 parameters, 0 gradients, 8.1 GFLOPs\n"
          ]
        },
        {
          "output_type": "stream",
          "name": "stderr",
          "text": [
            "\u001b[34m\u001b[1mval: \u001b[0mScanning /content/MedicineBoxes-1/valid/labels.cache... 157 images, 0 backgrounds, 0 corrupt: 100%|██████████| 157/157 [00:00<?, ?it/s]"
          ]
        },
        {
          "output_type": "stream",
          "name": "stdout",
          "text": [
            "WARNING ⚠️ Box and segment counts should be equal, but got len(segments) = 24, len(boxes) = 268. To resolve this only boxes will be used and all segments will be removed. To avoid this please supply either a detect or segment dataset, not a detect-segment mixed dataset.\n"
          ]
        },
        {
          "output_type": "stream",
          "name": "stderr",
          "text": [
            "\n",
            "                 Class     Images  Instances      Box(P          R      mAP50  mAP50-95): 100%|██████████| 10/10 [00:03<00:00,  2.58it/s]\n"
          ]
        },
        {
          "output_type": "stream",
          "name": "stdout",
          "text": [
            "                   all        157        268      0.802      0.721      0.754      0.669\n",
            "                aferin          4          4          1      0.822      0.995      0.921\n",
            "                 aljil          1          1          0          0          0          0\n",
            "          apodonorm5mg          1          1      0.854          1      0.995      0.995\n",
            "            apodorm5mg          5          5      0.943        0.6       0.82      0.784\n",
            "               apranax          1          1       0.87          1      0.995      0.697\n",
            "               arveles          6          6          1      0.937      0.995      0.794\n",
            "               aspirin          4          4      0.933       0.75      0.751      0.576\n",
            "                   box         25        109      0.972      0.982      0.992      0.682\n",
            "     buprefarm5ug_hour          3          3      0.937          1      0.995      0.887\n",
            "              dikloron          6          6      0.978          1      0.995      0.834\n",
            "         dolcontin10mg          6          6      0.713          1      0.876      0.826\n",
            "          dolcontin5mg          2          2      0.847        0.5      0.586      0.586\n",
            "               dolorex          5          5      0.956        0.8      0.802      0.763\n",
            "       fentanyl50ug_ml          2          2      0.886          1      0.995      0.995\n",
            "           hametanKrem          4          5      0.964        0.8      0.801      0.617\n",
            "         hametanMerhem          5          6      0.805      0.833      0.699      0.584\n",
            "              ibucoldC          5          5      0.746        0.6      0.685      0.603\n",
            "          imovane7-5mg          6          6          1      0.353       0.54       0.48\n",
            "         levopidon25mg          5          5      0.985          1      0.995      0.976\n",
            "               majezik          6          6      0.808      0.833      0.785      0.614\n",
            "metadon_hydrochlorid40mg          5          5      0.962          1      0.995      0.939\n",
            "              metpamid          6          6      0.826      0.833       0.73      0.587\n",
            "            morfin10mg          3          3          1      0.841      0.995      0.995\n",
            "                nexium          2          2      0.464        0.5      0.256       0.23\n",
            "  nobligan_retard200mg          4          4      0.915          1      0.995      0.905\n",
            "         oxycontin10mg          5          5      0.743        0.2      0.566      0.566\n",
            "         oxycontin15mg          8          8      0.949       0.75       0.92      0.893\n",
            "          oxycontin5mg         15         15      0.821      0.733       0.88      0.835\n",
            "           oxynorm10mg          4          4      0.354        0.5      0.511      0.511\n",
            "                 parol          8          8      0.999          1      0.995      0.746\n",
            "             silverdin          1          1          0          0          0          0\n",
            "            sobril25mg          3          3          1      0.777      0.995      0.914\n",
            "              terbisil          5          5      0.759        0.8      0.719      0.544\n",
            "              travazol          1          1          0          0          0          0\n",
            "             ultiva5mg          1          1      0.669          1      0.995      0.895\n",
            "                unisom          5          5      0.968          1      0.995      0.876\n",
            "             valium5mg          3          3      0.833      0.667      0.672      0.639\n",
            "              xanor2mg          1          1          1          0      0.124      0.112\n",
            "Speed: 3.5ms preprocess, 5.9ms inference, 0.0ms loss, 2.3ms postprocess per image\n",
            "Results saved to \u001b[1mruns/detect/train2\u001b[0m\n"
          ]
        }
      ]
    },
    {
      "cell_type": "code",
      "source": [
        "# Run YOLOv8 on the uploaded video\n",
        "results = model.predict(source=\"medicine_test.mp4\", conf=0.5, save=True)\n"
      ],
      "metadata": {
        "colab": {
          "base_uri": "https://localhost:8080/"
        },
        "id": "UTQ_WyZPDsG1",
        "outputId": "130640f4-ad47-425a-ed04-40e528dea3c2"
      },
      "execution_count": 6,
      "outputs": [
        {
          "output_type": "stream",
          "name": "stdout",
          "text": [
            "\n",
            "\n",
            "WARNING ⚠️ inference results will accumulate in RAM unless `stream=True` is passed, causing potential out-of-memory\n",
            "errors for large sources or long-running streams and videos. See https://docs.ultralytics.com/modes/predict/ for help.\n",
            "\n",
            "Example:\n",
            "    results = model(source=..., stream=True)  # generator of Results objects\n",
            "    for r in results:\n",
            "        boxes = r.boxes  # Boxes object for bbox outputs\n",
            "        masks = r.masks  # Masks object for segment masks outputs\n",
            "        probs = r.probs  # Class probabilities for classification outputs\n",
            "\n",
            "video 1/1 (frame 1/850) /content/medicine_test.mp4: 384x640 1 oxycontin15mg, 38.1ms\n",
            "video 1/1 (frame 2/850) /content/medicine_test.mp4: 384x640 1 oxycontin15mg, 6.4ms\n",
            "video 1/1 (frame 3/850) /content/medicine_test.mp4: 384x640 1 oxycontin15mg, 6.5ms\n",
            "video 1/1 (frame 4/850) /content/medicine_test.mp4: 384x640 1 oxycontin15mg, 6.4ms\n",
            "video 1/1 (frame 5/850) /content/medicine_test.mp4: 384x640 (no detections), 6.2ms\n",
            "video 1/1 (frame 6/850) /content/medicine_test.mp4: 384x640 1 oxycontin15mg, 6.5ms\n",
            "video 1/1 (frame 7/850) /content/medicine_test.mp4: 384x640 1 oxycontin15mg, 6.6ms\n",
            "video 1/1 (frame 8/850) /content/medicine_test.mp4: 384x640 1 oxycontin15mg, 6.5ms\n",
            "video 1/1 (frame 9/850) /content/medicine_test.mp4: 384x640 1 oxycontin15mg, 6.5ms\n",
            "video 1/1 (frame 10/850) /content/medicine_test.mp4: 384x640 1 oxycontin15mg, 8.4ms\n",
            "video 1/1 (frame 11/850) /content/medicine_test.mp4: 384x640 1 oxycontin15mg, 7.8ms\n",
            "video 1/1 (frame 12/850) /content/medicine_test.mp4: 384x640 1 oxycontin15mg, 6.7ms\n",
            "video 1/1 (frame 13/850) /content/medicine_test.mp4: 384x640 (no detections), 6.4ms\n",
            "video 1/1 (frame 14/850) /content/medicine_test.mp4: 384x640 1 oxycontin15mg, 9.1ms\n",
            "video 1/1 (frame 15/850) /content/medicine_test.mp4: 384x640 1 oxycontin15mg, 6.4ms\n",
            "video 1/1 (frame 16/850) /content/medicine_test.mp4: 384x640 1 oxycontin15mg, 7.6ms\n",
            "video 1/1 (frame 17/850) /content/medicine_test.mp4: 384x640 (no detections), 6.3ms\n",
            "video 1/1 (frame 18/850) /content/medicine_test.mp4: 384x640 1 oxycontin15mg, 6.6ms\n",
            "video 1/1 (frame 19/850) /content/medicine_test.mp4: 384x640 1 oxycontin15mg, 6.5ms\n",
            "video 1/1 (frame 20/850) /content/medicine_test.mp4: 384x640 1 oxycontin15mg, 6.9ms\n",
            "video 1/1 (frame 21/850) /content/medicine_test.mp4: 384x640 1 oxycontin15mg, 6.6ms\n",
            "video 1/1 (frame 22/850) /content/medicine_test.mp4: 384x640 1 oxycontin15mg, 6.3ms\n",
            "video 1/1 (frame 23/850) /content/medicine_test.mp4: 384x640 1 oxycontin15mg, 10.6ms\n",
            "video 1/1 (frame 24/850) /content/medicine_test.mp4: 384x640 1 oxycontin15mg, 6.5ms\n",
            "video 1/1 (frame 25/850) /content/medicine_test.mp4: 384x640 (no detections), 6.4ms\n",
            "video 1/1 (frame 26/850) /content/medicine_test.mp4: 384x640 1 oxycontin15mg, 6.3ms\n",
            "video 1/1 (frame 27/850) /content/medicine_test.mp4: 384x640 1 oxycontin15mg, 6.3ms\n",
            "video 1/1 (frame 28/850) /content/medicine_test.mp4: 384x640 1 oxycontin15mg, 6.6ms\n",
            "video 1/1 (frame 29/850) /content/medicine_test.mp4: 384x640 1 oxycontin15mg, 6.6ms\n",
            "video 1/1 (frame 30/850) /content/medicine_test.mp4: 384x640 1 oxycontin15mg, 6.4ms\n",
            "video 1/1 (frame 31/850) /content/medicine_test.mp4: 384x640 1 oxycontin15mg, 6.4ms\n",
            "video 1/1 (frame 32/850) /content/medicine_test.mp4: 384x640 1 oxycontin15mg, 7.0ms\n",
            "video 1/1 (frame 33/850) /content/medicine_test.mp4: 384x640 (no detections), 6.3ms\n",
            "video 1/1 (frame 34/850) /content/medicine_test.mp4: 384x640 1 oxycontin15mg, 6.5ms\n",
            "video 1/1 (frame 35/850) /content/medicine_test.mp4: 384x640 1 oxycontin15mg, 6.5ms\n",
            "video 1/1 (frame 36/850) /content/medicine_test.mp4: 384x640 1 oxycontin15mg, 6.7ms\n",
            "video 1/1 (frame 37/850) /content/medicine_test.mp4: 384x640 1 oxycontin15mg, 6.3ms\n",
            "video 1/1 (frame 38/850) /content/medicine_test.mp4: 384x640 1 oxycontin15mg, 6.5ms\n",
            "video 1/1 (frame 39/850) /content/medicine_test.mp4: 384x640 1 oxycontin15mg, 6.5ms\n",
            "video 1/1 (frame 40/850) /content/medicine_test.mp4: 384x640 1 oxycontin15mg, 6.9ms\n",
            "video 1/1 (frame 41/850) /content/medicine_test.mp4: 384x640 (no detections), 6.7ms\n",
            "video 1/1 (frame 42/850) /content/medicine_test.mp4: 384x640 1 oxycontin15mg, 6.8ms\n",
            "video 1/1 (frame 43/850) /content/medicine_test.mp4: 384x640 1 oxycontin15mg, 7.1ms\n",
            "video 1/1 (frame 44/850) /content/medicine_test.mp4: 384x640 1 oxycontin15mg, 6.8ms\n",
            "video 1/1 (frame 45/850) /content/medicine_test.mp4: 384x640 1 oxycontin15mg, 6.4ms\n",
            "video 1/1 (frame 46/850) /content/medicine_test.mp4: 384x640 1 oxycontin15mg, 7.8ms\n",
            "video 1/1 (frame 47/850) /content/medicine_test.mp4: 384x640 1 oxycontin15mg, 6.4ms\n",
            "video 1/1 (frame 48/850) /content/medicine_test.mp4: 384x640 1 oxycontin15mg, 6.4ms\n",
            "video 1/1 (frame 49/850) /content/medicine_test.mp4: 384x640 1 oxycontin15mg, 6.8ms\n",
            "video 1/1 (frame 50/850) /content/medicine_test.mp4: 384x640 1 oxycontin15mg, 6.8ms\n",
            "video 1/1 (frame 51/850) /content/medicine_test.mp4: 384x640 1 fentanyl50ug_ml, 10.0ms\n",
            "video 1/1 (frame 52/850) /content/medicine_test.mp4: 384x640 1 fentanyl50ug_ml, 9.2ms\n",
            "video 1/1 (frame 53/850) /content/medicine_test.mp4: 384x640 1 fentanyl50ug_ml, 8.2ms\n",
            "video 1/1 (frame 54/850) /content/medicine_test.mp4: 384x640 1 fentanyl50ug_ml, 6.6ms\n",
            "video 1/1 (frame 55/850) /content/medicine_test.mp4: 384x640 1 fentanyl50ug_ml, 6.5ms\n",
            "video 1/1 (frame 56/850) /content/medicine_test.mp4: 384x640 1 fentanyl50ug_ml, 6.4ms\n",
            "video 1/1 (frame 57/850) /content/medicine_test.mp4: 384x640 1 fentanyl50ug_ml, 6.6ms\n",
            "video 1/1 (frame 58/850) /content/medicine_test.mp4: 384x640 1 fentanyl50ug_ml, 6.3ms\n",
            "video 1/1 (frame 59/850) /content/medicine_test.mp4: 384x640 1 fentanyl50ug_ml, 6.3ms\n",
            "video 1/1 (frame 60/850) /content/medicine_test.mp4: 384x640 1 fentanyl50ug_ml, 6.4ms\n",
            "video 1/1 (frame 61/850) /content/medicine_test.mp4: 384x640 1 fentanyl50ug_ml, 6.2ms\n",
            "video 1/1 (frame 62/850) /content/medicine_test.mp4: 384x640 1 fentanyl50ug_ml, 6.7ms\n",
            "video 1/1 (frame 63/850) /content/medicine_test.mp4: 384x640 1 fentanyl50ug_ml, 6.4ms\n",
            "video 1/1 (frame 64/850) /content/medicine_test.mp4: 384x640 1 fentanyl50ug_ml, 8.6ms\n",
            "video 1/1 (frame 65/850) /content/medicine_test.mp4: 384x640 1 fentanyl50ug_ml, 6.5ms\n",
            "video 1/1 (frame 66/850) /content/medicine_test.mp4: 384x640 1 fentanyl50ug_ml, 6.3ms\n",
            "video 1/1 (frame 67/850) /content/medicine_test.mp4: 384x640 1 fentanyl50ug_ml, 6.5ms\n",
            "video 1/1 (frame 68/850) /content/medicine_test.mp4: 384x640 1 fentanyl50ug_ml, 7.5ms\n",
            "video 1/1 (frame 69/850) /content/medicine_test.mp4: 384x640 1 fentanyl50ug_ml, 6.3ms\n",
            "video 1/1 (frame 70/850) /content/medicine_test.mp4: 384x640 1 fentanyl50ug_ml, 6.3ms\n",
            "video 1/1 (frame 71/850) /content/medicine_test.mp4: 384x640 1 fentanyl50ug_ml, 6.7ms\n",
            "video 1/1 (frame 72/850) /content/medicine_test.mp4: 384x640 1 fentanyl50ug_ml, 6.6ms\n",
            "video 1/1 (frame 73/850) /content/medicine_test.mp4: 384x640 1 fentanyl50ug_ml, 6.3ms\n",
            "video 1/1 (frame 74/850) /content/medicine_test.mp4: 384x640 1 fentanyl50ug_ml, 7.7ms\n",
            "video 1/1 (frame 75/850) /content/medicine_test.mp4: 384x640 1 fentanyl50ug_ml, 6.8ms\n",
            "video 1/1 (frame 76/850) /content/medicine_test.mp4: 384x640 1 fentanyl50ug_ml, 6.8ms\n",
            "video 1/1 (frame 77/850) /content/medicine_test.mp4: 384x640 1 fentanyl50ug_ml, 7.8ms\n",
            "video 1/1 (frame 78/850) /content/medicine_test.mp4: 384x640 1 fentanyl50ug_ml, 6.8ms\n",
            "video 1/1 (frame 79/850) /content/medicine_test.mp4: 384x640 1 fentanyl50ug_ml, 6.4ms\n",
            "video 1/1 (frame 80/850) /content/medicine_test.mp4: 384x640 1 fentanyl50ug_ml, 6.4ms\n",
            "video 1/1 (frame 81/850) /content/medicine_test.mp4: 384x640 1 fentanyl50ug_ml, 6.3ms\n",
            "video 1/1 (frame 82/850) /content/medicine_test.mp4: 384x640 1 fentanyl50ug_ml, 6.4ms\n",
            "video 1/1 (frame 83/850) /content/medicine_test.mp4: 384x640 1 fentanyl50ug_ml, 6.5ms\n",
            "video 1/1 (frame 84/850) /content/medicine_test.mp4: 384x640 1 fentanyl50ug_ml, 6.4ms\n",
            "video 1/1 (frame 85/850) /content/medicine_test.mp4: 384x640 1 fentanyl50ug_ml, 6.7ms\n",
            "video 1/1 (frame 86/850) /content/medicine_test.mp4: 384x640 1 fentanyl50ug_ml, 6.2ms\n",
            "video 1/1 (frame 87/850) /content/medicine_test.mp4: 384x640 1 fentanyl50ug_ml, 6.4ms\n",
            "video 1/1 (frame 88/850) /content/medicine_test.mp4: 384x640 1 fentanyl50ug_ml, 6.7ms\n",
            "video 1/1 (frame 89/850) /content/medicine_test.mp4: 384x640 1 fentanyl50ug_ml, 9.4ms\n",
            "video 1/1 (frame 90/850) /content/medicine_test.mp4: 384x640 1 fentanyl50ug_ml, 9.2ms\n",
            "video 1/1 (frame 91/850) /content/medicine_test.mp4: 384x640 1 fentanyl50ug_ml, 9.6ms\n",
            "video 1/1 (frame 92/850) /content/medicine_test.mp4: 384x640 1 fentanyl50ug_ml, 6.9ms\n",
            "video 1/1 (frame 93/850) /content/medicine_test.mp4: 384x640 1 fentanyl50ug_ml, 6.6ms\n",
            "video 1/1 (frame 94/850) /content/medicine_test.mp4: 384x640 1 fentanyl50ug_ml, 7.0ms\n",
            "video 1/1 (frame 95/850) /content/medicine_test.mp4: 384x640 1 fentanyl50ug_ml, 6.8ms\n",
            "video 1/1 (frame 96/850) /content/medicine_test.mp4: 384x640 1 fentanyl50ug_ml, 6.6ms\n",
            "video 1/1 (frame 97/850) /content/medicine_test.mp4: 384x640 1 fentanyl50ug_ml, 9.6ms\n",
            "video 1/1 (frame 98/850) /content/medicine_test.mp4: 384x640 1 fentanyl50ug_ml, 7.3ms\n",
            "video 1/1 (frame 99/850) /content/medicine_test.mp4: 384x640 1 fentanyl50ug_ml, 7.2ms\n",
            "video 1/1 (frame 100/850) /content/medicine_test.mp4: 384x640 1 fentanyl50ug_ml, 6.5ms\n",
            "video 1/1 (frame 101/850) /content/medicine_test.mp4: 384x640 1 midazolam5mg_ml, 7.1ms\n",
            "video 1/1 (frame 102/850) /content/medicine_test.mp4: 384x640 1 midazolam5mg_ml, 6.9ms\n",
            "video 1/1 (frame 103/850) /content/medicine_test.mp4: 384x640 1 midazolam5mg_ml, 8.9ms\n",
            "video 1/1 (frame 104/850) /content/medicine_test.mp4: 384x640 1 midazolam5mg_ml, 6.9ms\n",
            "video 1/1 (frame 105/850) /content/medicine_test.mp4: 384x640 1 midazolam5mg_ml, 6.5ms\n",
            "video 1/1 (frame 106/850) /content/medicine_test.mp4: 384x640 1 midazolam5mg_ml, 6.4ms\n",
            "video 1/1 (frame 107/850) /content/medicine_test.mp4: 384x640 1 midazolam5mg_ml, 6.8ms\n",
            "video 1/1 (frame 108/850) /content/medicine_test.mp4: 384x640 1 midazolam5mg_ml, 6.4ms\n",
            "video 1/1 (frame 109/850) /content/medicine_test.mp4: 384x640 1 midazolam5mg_ml, 6.4ms\n",
            "video 1/1 (frame 110/850) /content/medicine_test.mp4: 384x640 1 midazolam5mg_ml, 6.6ms\n",
            "video 1/1 (frame 111/850) /content/medicine_test.mp4: 384x640 1 midazolam5mg_ml, 6.3ms\n",
            "video 1/1 (frame 112/850) /content/medicine_test.mp4: 384x640 1 midazolam5mg_ml, 6.3ms\n",
            "video 1/1 (frame 113/850) /content/medicine_test.mp4: 384x640 1 midazolam5mg_ml, 7.7ms\n",
            "video 1/1 (frame 114/850) /content/medicine_test.mp4: 384x640 1 midazolam5mg_ml, 6.6ms\n",
            "video 1/1 (frame 115/850) /content/medicine_test.mp4: 384x640 1 midazolam5mg_ml, 6.3ms\n",
            "video 1/1 (frame 116/850) /content/medicine_test.mp4: 384x640 1 midazolam5mg_ml, 6.3ms\n",
            "video 1/1 (frame 117/850) /content/medicine_test.mp4: 384x640 1 midazolam5mg_ml, 6.4ms\n",
            "video 1/1 (frame 118/850) /content/medicine_test.mp4: 384x640 1 midazolam5mg_ml, 6.8ms\n",
            "video 1/1 (frame 119/850) /content/medicine_test.mp4: 384x640 1 midazolam5mg_ml, 6.6ms\n",
            "video 1/1 (frame 120/850) /content/medicine_test.mp4: 384x640 1 midazolam5mg_ml, 6.4ms\n",
            "video 1/1 (frame 121/850) /content/medicine_test.mp4: 384x640 1 midazolam5mg_ml, 6.8ms\n",
            "video 1/1 (frame 122/850) /content/medicine_test.mp4: 384x640 1 midazolam5mg_ml, 6.4ms\n",
            "video 1/1 (frame 123/850) /content/medicine_test.mp4: 384x640 1 midazolam5mg_ml, 6.5ms\n",
            "video 1/1 (frame 124/850) /content/medicine_test.mp4: 384x640 1 midazolam5mg_ml, 6.4ms\n",
            "video 1/1 (frame 125/850) /content/medicine_test.mp4: 384x640 1 midazolam5mg_ml, 6.4ms\n",
            "video 1/1 (frame 126/850) /content/medicine_test.mp4: 384x640 1 midazolam5mg_ml, 6.4ms\n",
            "video 1/1 (frame 127/850) /content/medicine_test.mp4: 384x640 1 midazolam5mg_ml, 6.3ms\n",
            "video 1/1 (frame 128/850) /content/medicine_test.mp4: 384x640 1 midazolam5mg_ml, 7.0ms\n",
            "video 1/1 (frame 129/850) /content/medicine_test.mp4: 384x640 1 midazolam5mg_ml, 10.0ms\n",
            "video 1/1 (frame 130/850) /content/medicine_test.mp4: 384x640 1 midazolam5mg_ml, 9.3ms\n",
            "video 1/1 (frame 131/850) /content/medicine_test.mp4: 384x640 1 midazolam5mg_ml, 10.1ms\n",
            "video 1/1 (frame 132/850) /content/medicine_test.mp4: 384x640 1 midazolam5mg_ml, 6.7ms\n",
            "video 1/1 (frame 133/850) /content/medicine_test.mp4: 384x640 1 midazolam5mg_ml, 6.6ms\n",
            "video 1/1 (frame 134/850) /content/medicine_test.mp4: 384x640 1 midazolam5mg_ml, 6.7ms\n",
            "video 1/1 (frame 135/850) /content/medicine_test.mp4: 384x640 1 midazolam5mg_ml, 6.6ms\n",
            "video 1/1 (frame 136/850) /content/medicine_test.mp4: 384x640 1 midazolam5mg_ml, 6.5ms\n",
            "video 1/1 (frame 137/850) /content/medicine_test.mp4: 384x640 1 midazolam5mg_ml, 7.2ms\n",
            "video 1/1 (frame 138/850) /content/medicine_test.mp4: 384x640 1 midazolam5mg_ml, 6.5ms\n",
            "video 1/1 (frame 139/850) /content/medicine_test.mp4: 384x640 1 midazolam5mg_ml, 6.8ms\n",
            "video 1/1 (frame 140/850) /content/medicine_test.mp4: 384x640 1 midazolam5mg_ml, 6.5ms\n",
            "video 1/1 (frame 141/850) /content/medicine_test.mp4: 384x640 1 midazolam5mg_ml, 6.5ms\n",
            "video 1/1 (frame 142/850) /content/medicine_test.mp4: 384x640 1 midazolam5mg_ml, 6.6ms\n",
            "video 1/1 (frame 143/850) /content/medicine_test.mp4: 384x640 1 midazolam5mg_ml, 11.6ms\n",
            "video 1/1 (frame 144/850) /content/medicine_test.mp4: 384x640 1 midazolam5mg_ml, 7.7ms\n",
            "video 1/1 (frame 145/850) /content/medicine_test.mp4: 384x640 1 midazolam5mg_ml, 6.5ms\n",
            "video 1/1 (frame 146/850) /content/medicine_test.mp4: 384x640 1 midazolam5mg_ml, 6.6ms\n",
            "video 1/1 (frame 147/850) /content/medicine_test.mp4: 384x640 1 midazolam5mg_ml, 6.8ms\n",
            "video 1/1 (frame 148/850) /content/medicine_test.mp4: 384x640 1 midazolam5mg_ml, 6.6ms\n",
            "video 1/1 (frame 149/850) /content/medicine_test.mp4: 384x640 1 midazolam5mg_ml, 6.7ms\n",
            "video 1/1 (frame 150/850) /content/medicine_test.mp4: 384x640 1 midazolam5mg_ml, 6.4ms\n",
            "video 1/1 (frame 151/850) /content/medicine_test.mp4: 384x640 1 dolcontin5mg, 6.5ms\n",
            "video 1/1 (frame 152/850) /content/medicine_test.mp4: 384x640 1 dolcontin5mg, 6.5ms\n",
            "video 1/1 (frame 153/850) /content/medicine_test.mp4: 384x640 1 dolcontin5mg, 6.4ms\n",
            "video 1/1 (frame 154/850) /content/medicine_test.mp4: 384x640 1 dolcontin5mg, 6.5ms\n",
            "video 1/1 (frame 155/850) /content/medicine_test.mp4: 384x640 1 dolcontin5mg, 7.0ms\n",
            "video 1/1 (frame 156/850) /content/medicine_test.mp4: 384x640 1 dolcontin5mg, 7.1ms\n",
            "video 1/1 (frame 157/850) /content/medicine_test.mp4: 384x640 1 dolcontin5mg, 6.8ms\n",
            "video 1/1 (frame 158/850) /content/medicine_test.mp4: 384x640 1 dolcontin5mg, 6.5ms\n",
            "video 1/1 (frame 159/850) /content/medicine_test.mp4: 384x640 1 dolcontin5mg, 7.7ms\n",
            "video 1/1 (frame 160/850) /content/medicine_test.mp4: 384x640 1 dolcontin5mg, 6.6ms\n",
            "video 1/1 (frame 161/850) /content/medicine_test.mp4: 384x640 1 dolcontin5mg, 6.3ms\n",
            "video 1/1 (frame 162/850) /content/medicine_test.mp4: 384x640 1 dolcontin5mg, 7.6ms\n",
            "video 1/1 (frame 163/850) /content/medicine_test.mp4: 384x640 1 dolcontin5mg, 6.4ms\n",
            "video 1/1 (frame 164/850) /content/medicine_test.mp4: 384x640 1 dolcontin5mg, 6.5ms\n",
            "video 1/1 (frame 165/850) /content/medicine_test.mp4: 384x640 1 dolcontin5mg, 6.4ms\n",
            "video 1/1 (frame 166/850) /content/medicine_test.mp4: 384x640 1 dolcontin5mg, 13.1ms\n",
            "video 1/1 (frame 167/850) /content/medicine_test.mp4: 384x640 1 dolcontin5mg, 12.6ms\n",
            "video 1/1 (frame 168/850) /content/medicine_test.mp4: 384x640 1 dolcontin5mg, 15.8ms\n",
            "video 1/1 (frame 169/850) /content/medicine_test.mp4: 384x640 1 dolcontin5mg, 10.6ms\n",
            "video 1/1 (frame 170/850) /content/medicine_test.mp4: 384x640 1 dolcontin5mg, 11.4ms\n",
            "video 1/1 (frame 171/850) /content/medicine_test.mp4: 384x640 1 dolcontin5mg, 8.6ms\n",
            "video 1/1 (frame 172/850) /content/medicine_test.mp4: 384x640 1 dolcontin5mg, 12.9ms\n",
            "video 1/1 (frame 173/850) /content/medicine_test.mp4: 384x640 1 dolcontin5mg, 8.0ms\n",
            "video 1/1 (frame 174/850) /content/medicine_test.mp4: 384x640 1 dolcontin5mg, 16.3ms\n",
            "video 1/1 (frame 175/850) /content/medicine_test.mp4: 384x640 1 dolcontin5mg, 8.5ms\n",
            "video 1/1 (frame 176/850) /content/medicine_test.mp4: 384x640 1 dolcontin5mg, 8.2ms\n",
            "video 1/1 (frame 177/850) /content/medicine_test.mp4: 384x640 1 dolcontin5mg, 13.2ms\n",
            "video 1/1 (frame 178/850) /content/medicine_test.mp4: 384x640 1 dolcontin5mg, 11.0ms\n",
            "video 1/1 (frame 179/850) /content/medicine_test.mp4: 384x640 1 dolcontin5mg, 8.0ms\n",
            "video 1/1 (frame 180/850) /content/medicine_test.mp4: 384x640 1 dolcontin5mg, 9.1ms\n",
            "video 1/1 (frame 181/850) /content/medicine_test.mp4: 384x640 1 dolcontin5mg, 8.7ms\n",
            "video 1/1 (frame 182/850) /content/medicine_test.mp4: 384x640 1 dolcontin5mg, 12.4ms\n",
            "video 1/1 (frame 183/850) /content/medicine_test.mp4: 384x640 1 dolcontin5mg, 8.4ms\n",
            "video 1/1 (frame 184/850) /content/medicine_test.mp4: 384x640 1 dolcontin5mg, 8.1ms\n",
            "video 1/1 (frame 185/850) /content/medicine_test.mp4: 384x640 1 dolcontin5mg, 9.7ms\n",
            "video 1/1 (frame 186/850) /content/medicine_test.mp4: 384x640 1 dolcontin5mg, 9.7ms\n",
            "video 1/1 (frame 187/850) /content/medicine_test.mp4: 384x640 1 dolcontin5mg, 9.4ms\n",
            "video 1/1 (frame 188/850) /content/medicine_test.mp4: 384x640 1 dolcontin5mg, 10.9ms\n",
            "video 1/1 (frame 189/850) /content/medicine_test.mp4: 384x640 1 dolcontin5mg, 8.2ms\n",
            "video 1/1 (frame 190/850) /content/medicine_test.mp4: 384x640 1 dolcontin5mg, 8.2ms\n",
            "video 1/1 (frame 191/850) /content/medicine_test.mp4: 384x640 1 dolcontin5mg, 14.2ms\n",
            "video 1/1 (frame 192/850) /content/medicine_test.mp4: 384x640 1 dolcontin5mg, 9.8ms\n",
            "video 1/1 (frame 193/850) /content/medicine_test.mp4: 384x640 1 dolcontin5mg, 10.5ms\n",
            "video 1/1 (frame 194/850) /content/medicine_test.mp4: 384x640 1 dolcontin5mg, 9.7ms\n",
            "video 1/1 (frame 195/850) /content/medicine_test.mp4: 384x640 1 dolcontin5mg, 7.9ms\n",
            "video 1/1 (frame 196/850) /content/medicine_test.mp4: 384x640 1 dolcontin5mg, 7.9ms\n",
            "video 1/1 (frame 197/850) /content/medicine_test.mp4: 384x640 1 dolcontin5mg, 8.7ms\n",
            "video 1/1 (frame 198/850) /content/medicine_test.mp4: 384x640 1 dolcontin5mg, 7.7ms\n",
            "video 1/1 (frame 199/850) /content/medicine_test.mp4: 384x640 1 dolcontin5mg, 9.7ms\n",
            "video 1/1 (frame 200/850) /content/medicine_test.mp4: 384x640 1 dolcontin5mg, 9.8ms\n",
            "video 1/1 (frame 201/850) /content/medicine_test.mp4: 384x640 1 oxycontin5mg, 8.0ms\n",
            "video 1/1 (frame 202/850) /content/medicine_test.mp4: 384x640 1 oxycontin5mg, 7.6ms\n",
            "video 1/1 (frame 203/850) /content/medicine_test.mp4: 384x640 1 oxycontin5mg, 7.6ms\n",
            "video 1/1 (frame 204/850) /content/medicine_test.mp4: 384x640 1 oxycontin5mg, 7.6ms\n",
            "video 1/1 (frame 205/850) /content/medicine_test.mp4: 384x640 1 oxycontin5mg, 7.6ms\n",
            "video 1/1 (frame 206/850) /content/medicine_test.mp4: 384x640 1 oxycontin5mg, 14.0ms\n",
            "video 1/1 (frame 207/850) /content/medicine_test.mp4: 384x640 1 oxycontin5mg, 17.9ms\n",
            "video 1/1 (frame 208/850) /content/medicine_test.mp4: 384x640 1 oxycontin5mg, 13.5ms\n",
            "video 1/1 (frame 209/850) /content/medicine_test.mp4: 384x640 1 oxycontin5mg, 12.2ms\n",
            "video 1/1 (frame 210/850) /content/medicine_test.mp4: 384x640 1 oxycontin5mg, 18.3ms\n",
            "video 1/1 (frame 211/850) /content/medicine_test.mp4: 384x640 1 oxycontin5mg, 13.1ms\n",
            "video 1/1 (frame 212/850) /content/medicine_test.mp4: 384x640 1 oxycontin5mg, 11.9ms\n",
            "video 1/1 (frame 213/850) /content/medicine_test.mp4: 384x640 1 oxycontin5mg, 8.5ms\n",
            "video 1/1 (frame 214/850) /content/medicine_test.mp4: 384x640 1 oxycontin5mg, 14.9ms\n",
            "video 1/1 (frame 215/850) /content/medicine_test.mp4: 384x640 1 oxycontin5mg, 8.1ms\n",
            "video 1/1 (frame 216/850) /content/medicine_test.mp4: 384x640 1 oxycontin5mg, 9.4ms\n",
            "video 1/1 (frame 217/850) /content/medicine_test.mp4: 384x640 1 oxycontin5mg, 9.3ms\n",
            "video 1/1 (frame 218/850) /content/medicine_test.mp4: 384x640 1 oxycontin5mg, 11.7ms\n",
            "video 1/1 (frame 219/850) /content/medicine_test.mp4: 384x640 1 oxycontin5mg, 11.0ms\n",
            "video 1/1 (frame 220/850) /content/medicine_test.mp4: 384x640 1 oxycontin5mg, 13.5ms\n",
            "video 1/1 (frame 221/850) /content/medicine_test.mp4: 384x640 1 oxycontin5mg, 12.1ms\n",
            "video 1/1 (frame 222/850) /content/medicine_test.mp4: 384x640 1 oxycontin5mg, 11.6ms\n",
            "video 1/1 (frame 223/850) /content/medicine_test.mp4: 384x640 1 oxycontin5mg, 9.6ms\n",
            "video 1/1 (frame 224/850) /content/medicine_test.mp4: 384x640 1 oxycontin5mg, 10.9ms\n",
            "video 1/1 (frame 225/850) /content/medicine_test.mp4: 384x640 1 oxycontin5mg, 11.6ms\n",
            "video 1/1 (frame 226/850) /content/medicine_test.mp4: 384x640 1 oxycontin5mg, 10.8ms\n",
            "video 1/1 (frame 227/850) /content/medicine_test.mp4: 384x640 1 oxycontin5mg, 11.5ms\n",
            "video 1/1 (frame 228/850) /content/medicine_test.mp4: 384x640 1 oxycontin5mg, 11.3ms\n",
            "video 1/1 (frame 229/850) /content/medicine_test.mp4: 384x640 1 oxycontin5mg, 11.6ms\n",
            "video 1/1 (frame 230/850) /content/medicine_test.mp4: 384x640 1 oxycontin5mg, 13.9ms\n",
            "video 1/1 (frame 231/850) /content/medicine_test.mp4: 384x640 1 oxycontin5mg, 11.7ms\n",
            "video 1/1 (frame 232/850) /content/medicine_test.mp4: 384x640 1 oxycontin5mg, 11.3ms\n",
            "video 1/1 (frame 233/850) /content/medicine_test.mp4: 384x640 1 oxycontin5mg, 6.7ms\n",
            "video 1/1 (frame 234/850) /content/medicine_test.mp4: 384x640 1 oxycontin5mg, 6.4ms\n",
            "video 1/1 (frame 235/850) /content/medicine_test.mp4: 384x640 1 oxycontin5mg, 6.8ms\n",
            "video 1/1 (frame 236/850) /content/medicine_test.mp4: 384x640 1 oxycontin5mg, 6.6ms\n",
            "video 1/1 (frame 237/850) /content/medicine_test.mp4: 384x640 1 oxycontin5mg, 7.5ms\n",
            "video 1/1 (frame 238/850) /content/medicine_test.mp4: 384x640 1 oxycontin5mg, 7.1ms\n",
            "video 1/1 (frame 239/850) /content/medicine_test.mp4: 384x640 1 oxycontin5mg, 6.7ms\n",
            "video 1/1 (frame 240/850) /content/medicine_test.mp4: 384x640 1 oxycontin5mg, 7.8ms\n",
            "video 1/1 (frame 241/850) /content/medicine_test.mp4: 384x640 1 oxycontin5mg, 6.5ms\n",
            "video 1/1 (frame 242/850) /content/medicine_test.mp4: 384x640 1 oxycontin5mg, 6.6ms\n",
            "video 1/1 (frame 243/850) /content/medicine_test.mp4: 384x640 1 oxycontin5mg, 7.2ms\n",
            "video 1/1 (frame 244/850) /content/medicine_test.mp4: 384x640 1 oxycontin5mg, 6.4ms\n",
            "video 1/1 (frame 245/850) /content/medicine_test.mp4: 384x640 1 oxycontin5mg, 6.4ms\n",
            "video 1/1 (frame 246/850) /content/medicine_test.mp4: 384x640 1 oxycontin5mg, 6.5ms\n",
            "video 1/1 (frame 247/850) /content/medicine_test.mp4: 384x640 1 oxycontin5mg, 7.4ms\n",
            "video 1/1 (frame 248/850) /content/medicine_test.mp4: 384x640 1 oxycontin5mg, 6.6ms\n",
            "video 1/1 (frame 249/850) /content/medicine_test.mp4: 384x640 1 oxycontin5mg, 6.6ms\n",
            "video 1/1 (frame 250/850) /content/medicine_test.mp4: 384x640 1 oxycontin5mg, 7.3ms\n",
            "video 1/1 (frame 251/850) /content/medicine_test.mp4: 384x640 1 apodonorm5mg, 8.8ms\n",
            "video 1/1 (frame 252/850) /content/medicine_test.mp4: 384x640 1 apodonorm5mg, 8.5ms\n",
            "video 1/1 (frame 253/850) /content/medicine_test.mp4: 384x640 1 apodonorm5mg, 8.9ms\n",
            "video 1/1 (frame 254/850) /content/medicine_test.mp4: 384x640 1 apodonorm5mg, 6.3ms\n",
            "video 1/1 (frame 255/850) /content/medicine_test.mp4: 384x640 1 apodonorm5mg, 7.2ms\n",
            "video 1/1 (frame 256/850) /content/medicine_test.mp4: 384x640 1 apodonorm5mg, 7.0ms\n",
            "video 1/1 (frame 257/850) /content/medicine_test.mp4: 384x640 1 apodonorm5mg, 6.5ms\n",
            "video 1/1 (frame 258/850) /content/medicine_test.mp4: 384x640 1 apodonorm5mg, 7.5ms\n",
            "video 1/1 (frame 259/850) /content/medicine_test.mp4: 384x640 1 apodonorm5mg, 7.2ms\n",
            "video 1/1 (frame 260/850) /content/medicine_test.mp4: 384x640 1 apodonorm5mg, 6.6ms\n",
            "video 1/1 (frame 261/850) /content/medicine_test.mp4: 384x640 1 apodonorm5mg, 6.7ms\n",
            "video 1/1 (frame 262/850) /content/medicine_test.mp4: 384x640 1 apodonorm5mg, 6.8ms\n",
            "video 1/1 (frame 263/850) /content/medicine_test.mp4: 384x640 1 apodonorm5mg, 8.7ms\n",
            "video 1/1 (frame 264/850) /content/medicine_test.mp4: 384x640 1 apodonorm5mg, 6.8ms\n",
            "video 1/1 (frame 265/850) /content/medicine_test.mp4: 384x640 1 apodonorm5mg, 6.2ms\n",
            "video 1/1 (frame 266/850) /content/medicine_test.mp4: 384x640 1 apodonorm5mg, 6.3ms\n",
            "video 1/1 (frame 267/850) /content/medicine_test.mp4: 384x640 1 apodonorm5mg, 6.3ms\n",
            "video 1/1 (frame 268/850) /content/medicine_test.mp4: 384x640 1 apodonorm5mg, 6.2ms\n",
            "video 1/1 (frame 269/850) /content/medicine_test.mp4: 384x640 1 apodonorm5mg, 7.3ms\n",
            "video 1/1 (frame 270/850) /content/medicine_test.mp4: 384x640 1 apodonorm5mg, 7.1ms\n",
            "video 1/1 (frame 271/850) /content/medicine_test.mp4: 384x640 1 apodonorm5mg, 8.1ms\n",
            "video 1/1 (frame 272/850) /content/medicine_test.mp4: 384x640 1 apodonorm5mg, 7.5ms\n",
            "video 1/1 (frame 273/850) /content/medicine_test.mp4: 384x640 1 apodonorm5mg, 7.1ms\n",
            "video 1/1 (frame 274/850) /content/medicine_test.mp4: 384x640 1 apodonorm5mg, 7.3ms\n",
            "video 1/1 (frame 275/850) /content/medicine_test.mp4: 384x640 1 apodonorm5mg, 6.9ms\n",
            "video 1/1 (frame 276/850) /content/medicine_test.mp4: 384x640 1 apodonorm5mg, 6.7ms\n",
            "video 1/1 (frame 277/850) /content/medicine_test.mp4: 384x640 1 apodonorm5mg, 6.9ms\n",
            "video 1/1 (frame 278/850) /content/medicine_test.mp4: 384x640 1 apodonorm5mg, 6.7ms\n",
            "video 1/1 (frame 279/850) /content/medicine_test.mp4: 384x640 1 apodonorm5mg, 7.1ms\n",
            "video 1/1 (frame 280/850) /content/medicine_test.mp4: 384x640 1 apodonorm5mg, 6.5ms\n",
            "video 1/1 (frame 281/850) /content/medicine_test.mp4: 384x640 1 apodonorm5mg, 6.3ms\n",
            "video 1/1 (frame 282/850) /content/medicine_test.mp4: 384x640 1 apodonorm5mg, 6.9ms\n",
            "video 1/1 (frame 283/850) /content/medicine_test.mp4: 384x640 1 apodonorm5mg, 6.2ms\n",
            "video 1/1 (frame 284/850) /content/medicine_test.mp4: 384x640 1 apodonorm5mg, 6.6ms\n",
            "video 1/1 (frame 285/850) /content/medicine_test.mp4: 384x640 1 apodonorm5mg, 7.9ms\n",
            "video 1/1 (frame 286/850) /content/medicine_test.mp4: 384x640 1 apodonorm5mg, 6.5ms\n",
            "video 1/1 (frame 287/850) /content/medicine_test.mp4: 384x640 1 apodonorm5mg, 7.2ms\n",
            "video 1/1 (frame 288/850) /content/medicine_test.mp4: 384x640 1 apodonorm5mg, 7.4ms\n",
            "video 1/1 (frame 289/850) /content/medicine_test.mp4: 384x640 1 apodonorm5mg, 9.8ms\n",
            "video 1/1 (frame 290/850) /content/medicine_test.mp4: 384x640 1 apodonorm5mg, 8.6ms\n",
            "video 1/1 (frame 291/850) /content/medicine_test.mp4: 384x640 1 apodonorm5mg, 9.0ms\n",
            "video 1/1 (frame 292/850) /content/medicine_test.mp4: 384x640 1 apodonorm5mg, 6.6ms\n",
            "video 1/1 (frame 293/850) /content/medicine_test.mp4: 384x640 1 apodonorm5mg, 6.2ms\n",
            "video 1/1 (frame 294/850) /content/medicine_test.mp4: 384x640 1 apodonorm5mg, 8.1ms\n",
            "video 1/1 (frame 295/850) /content/medicine_test.mp4: 384x640 1 apodonorm5mg, 6.6ms\n",
            "video 1/1 (frame 296/850) /content/medicine_test.mp4: 384x640 1 apodonorm5mg, 6.8ms\n",
            "video 1/1 (frame 297/850) /content/medicine_test.mp4: 384x640 1 apodonorm5mg, 6.3ms\n",
            "video 1/1 (frame 298/850) /content/medicine_test.mp4: 384x640 1 apodonorm5mg, 6.2ms\n",
            "video 1/1 (frame 299/850) /content/medicine_test.mp4: 384x640 1 apodonorm5mg, 6.2ms\n",
            "video 1/1 (frame 300/850) /content/medicine_test.mp4: 384x640 1 apodonorm5mg, 6.8ms\n",
            "video 1/1 (frame 301/850) /content/medicine_test.mp4: 384x640 1 apodonorm5mg, 6.3ms\n",
            "video 1/1 (frame 302/850) /content/medicine_test.mp4: 384x640 1 apodonorm5mg, 6.2ms\n",
            "video 1/1 (frame 303/850) /content/medicine_test.mp4: 384x640 1 apodonorm5mg, 6.4ms\n",
            "video 1/1 (frame 304/850) /content/medicine_test.mp4: 384x640 1 apodonorm5mg, 6.9ms\n",
            "video 1/1 (frame 305/850) /content/medicine_test.mp4: 384x640 1 apodonorm5mg, 7.8ms\n",
            "video 1/1 (frame 306/850) /content/medicine_test.mp4: 384x640 1 apodonorm5mg, 7.2ms\n",
            "video 1/1 (frame 307/850) /content/medicine_test.mp4: 384x640 1 apodonorm5mg, 10.0ms\n",
            "video 1/1 (frame 308/850) /content/medicine_test.mp4: 384x640 1 apodonorm5mg, 6.3ms\n",
            "video 1/1 (frame 309/850) /content/medicine_test.mp4: 384x640 1 apodonorm5mg, 7.4ms\n",
            "video 1/1 (frame 310/850) /content/medicine_test.mp4: 384x640 1 apodonorm5mg, 6.3ms\n",
            "video 1/1 (frame 311/850) /content/medicine_test.mp4: 384x640 1 apodonorm5mg, 6.6ms\n",
            "video 1/1 (frame 312/850) /content/medicine_test.mp4: 384x640 1 apodonorm5mg, 9.5ms\n",
            "video 1/1 (frame 313/850) /content/medicine_test.mp4: 384x640 1 apodonorm5mg, 6.6ms\n",
            "video 1/1 (frame 314/850) /content/medicine_test.mp4: 384x640 1 apodonorm5mg, 7.6ms\n",
            "video 1/1 (frame 315/850) /content/medicine_test.mp4: 384x640 1 apodonorm5mg, 9.2ms\n",
            "video 1/1 (frame 316/850) /content/medicine_test.mp4: 384x640 1 apodonorm5mg, 6.3ms\n",
            "video 1/1 (frame 317/850) /content/medicine_test.mp4: 384x640 1 apodonorm5mg, 7.0ms\n",
            "video 1/1 (frame 318/850) /content/medicine_test.mp4: 384x640 1 apodonorm5mg, 6.6ms\n",
            "video 1/1 (frame 319/850) /content/medicine_test.mp4: 384x640 1 apodonorm5mg, 6.6ms\n",
            "video 1/1 (frame 320/850) /content/medicine_test.mp4: 384x640 1 apodonorm5mg, 6.6ms\n",
            "video 1/1 (frame 321/850) /content/medicine_test.mp4: 384x640 1 apodonorm5mg, 6.4ms\n",
            "video 1/1 (frame 322/850) /content/medicine_test.mp4: 384x640 1 apodonorm5mg, 6.7ms\n",
            "video 1/1 (frame 323/850) /content/medicine_test.mp4: 384x640 1 apodonorm5mg, 6.5ms\n",
            "video 1/1 (frame 324/850) /content/medicine_test.mp4: 384x640 1 apodonorm5mg, 7.0ms\n",
            "video 1/1 (frame 325/850) /content/medicine_test.mp4: 384x640 1 apodonorm5mg, 7.0ms\n",
            "video 1/1 (frame 326/850) /content/medicine_test.mp4: 384x640 1 apodonorm5mg, 7.3ms\n",
            "video 1/1 (frame 327/850) /content/medicine_test.mp4: 384x640 1 apodonorm5mg, 6.4ms\n",
            "video 1/1 (frame 328/850) /content/medicine_test.mp4: 384x640 1 apodonorm5mg, 8.9ms\n",
            "video 1/1 (frame 329/850) /content/medicine_test.mp4: 384x640 1 apodonorm5mg, 8.5ms\n",
            "video 1/1 (frame 330/850) /content/medicine_test.mp4: 384x640 1 apodonorm5mg, 8.5ms\n",
            "video 1/1 (frame 331/850) /content/medicine_test.mp4: 384x640 1 apodonorm5mg, 7.8ms\n",
            "video 1/1 (frame 332/850) /content/medicine_test.mp4: 384x640 1 apodonorm5mg, 6.7ms\n",
            "video 1/1 (frame 333/850) /content/medicine_test.mp4: 384x640 1 apodonorm5mg, 8.5ms\n",
            "video 1/1 (frame 334/850) /content/medicine_test.mp4: 384x640 1 apodonorm5mg, 7.1ms\n",
            "video 1/1 (frame 335/850) /content/medicine_test.mp4: 384x640 1 apodonorm5mg, 6.6ms\n",
            "video 1/1 (frame 336/850) /content/medicine_test.mp4: 384x640 1 apodonorm5mg, 6.2ms\n",
            "video 1/1 (frame 337/850) /content/medicine_test.mp4: 384x640 1 apodonorm5mg, 6.5ms\n",
            "video 1/1 (frame 338/850) /content/medicine_test.mp4: 384x640 1 apodonorm5mg, 7.0ms\n",
            "video 1/1 (frame 339/850) /content/medicine_test.mp4: 384x640 1 apodonorm5mg, 6.3ms\n",
            "video 1/1 (frame 340/850) /content/medicine_test.mp4: 384x640 1 apodonorm5mg, 6.9ms\n",
            "video 1/1 (frame 341/850) /content/medicine_test.mp4: 384x640 1 apodonorm5mg, 6.6ms\n",
            "video 1/1 (frame 342/850) /content/medicine_test.mp4: 384x640 1 apodonorm5mg, 6.2ms\n",
            "video 1/1 (frame 343/850) /content/medicine_test.mp4: 384x640 1 apodonorm5mg, 6.3ms\n",
            "video 1/1 (frame 344/850) /content/medicine_test.mp4: 384x640 1 apodonorm5mg, 6.5ms\n",
            "video 1/1 (frame 345/850) /content/medicine_test.mp4: 384x640 1 apodonorm5mg, 6.7ms\n",
            "video 1/1 (frame 346/850) /content/medicine_test.mp4: 384x640 1 apodonorm5mg, 6.5ms\n",
            "video 1/1 (frame 347/850) /content/medicine_test.mp4: 384x640 1 apodonorm5mg, 6.5ms\n",
            "video 1/1 (frame 348/850) /content/medicine_test.mp4: 384x640 1 apodonorm5mg, 6.3ms\n",
            "video 1/1 (frame 349/850) /content/medicine_test.mp4: 384x640 1 apodonorm5mg, 6.5ms\n",
            "video 1/1 (frame 350/850) /content/medicine_test.mp4: 384x640 1 apodonorm5mg, 6.7ms\n",
            "video 1/1 (frame 351/850) /content/medicine_test.mp4: 384x640 1 ultiva5mg, 6.4ms\n",
            "video 1/1 (frame 352/850) /content/medicine_test.mp4: 384x640 1 ultiva5mg, 11.2ms\n",
            "video 1/1 (frame 353/850) /content/medicine_test.mp4: 384x640 1 ultiva5mg, 6.6ms\n",
            "video 1/1 (frame 354/850) /content/medicine_test.mp4: 384x640 1 ultiva5mg, 8.0ms\n",
            "video 1/1 (frame 355/850) /content/medicine_test.mp4: 384x640 1 ultiva5mg, 6.3ms\n",
            "video 1/1 (frame 356/850) /content/medicine_test.mp4: 384x640 1 ultiva5mg, 7.1ms\n",
            "video 1/1 (frame 357/850) /content/medicine_test.mp4: 384x640 1 ultiva5mg, 6.6ms\n",
            "video 1/1 (frame 358/850) /content/medicine_test.mp4: 384x640 1 ultiva5mg, 6.4ms\n",
            "video 1/1 (frame 359/850) /content/medicine_test.mp4: 384x640 1 ultiva5mg, 6.5ms\n",
            "video 1/1 (frame 360/850) /content/medicine_test.mp4: 384x640 1 ultiva5mg, 7.0ms\n",
            "video 1/1 (frame 361/850) /content/medicine_test.mp4: 384x640 1 ultiva5mg, 6.6ms\n",
            "video 1/1 (frame 362/850) /content/medicine_test.mp4: 384x640 1 ultiva5mg, 6.3ms\n",
            "video 1/1 (frame 363/850) /content/medicine_test.mp4: 384x640 1 ultiva5mg, 6.2ms\n",
            "video 1/1 (frame 364/850) /content/medicine_test.mp4: 384x640 1 ultiva5mg, 6.3ms\n",
            "video 1/1 (frame 365/850) /content/medicine_test.mp4: 384x640 1 ultiva5mg, 6.3ms\n",
            "video 1/1 (frame 366/850) /content/medicine_test.mp4: 384x640 1 ultiva5mg, 6.6ms\n",
            "video 1/1 (frame 367/850) /content/medicine_test.mp4: 384x640 1 ultiva5mg, 9.0ms\n",
            "video 1/1 (frame 368/850) /content/medicine_test.mp4: 384x640 1 ultiva5mg, 9.1ms\n",
            "video 1/1 (frame 369/850) /content/medicine_test.mp4: 384x640 1 ultiva5mg, 9.3ms\n",
            "video 1/1 (frame 370/850) /content/medicine_test.mp4: 384x640 1 ultiva5mg, 6.4ms\n",
            "video 1/1 (frame 371/850) /content/medicine_test.mp4: 384x640 1 ultiva5mg, 6.6ms\n",
            "video 1/1 (frame 372/850) /content/medicine_test.mp4: 384x640 1 ultiva5mg, 6.5ms\n",
            "video 1/1 (frame 373/850) /content/medicine_test.mp4: 384x640 1 ultiva5mg, 6.8ms\n",
            "video 1/1 (frame 374/850) /content/medicine_test.mp4: 384x640 1 ultiva5mg, 7.3ms\n",
            "video 1/1 (frame 375/850) /content/medicine_test.mp4: 384x640 1 ultiva5mg, 6.9ms\n",
            "video 1/1 (frame 376/850) /content/medicine_test.mp4: 384x640 1 ultiva5mg, 7.6ms\n",
            "video 1/1 (frame 377/850) /content/medicine_test.mp4: 384x640 1 ultiva5mg, 6.8ms\n",
            "video 1/1 (frame 378/850) /content/medicine_test.mp4: 384x640 1 ultiva5mg, 7.2ms\n",
            "video 1/1 (frame 379/850) /content/medicine_test.mp4: 384x640 1 ultiva5mg, 7.1ms\n",
            "video 1/1 (frame 380/850) /content/medicine_test.mp4: 384x640 1 ultiva5mg, 6.9ms\n",
            "video 1/1 (frame 381/850) /content/medicine_test.mp4: 384x640 1 ultiva5mg, 6.8ms\n",
            "video 1/1 (frame 382/850) /content/medicine_test.mp4: 384x640 1 ultiva5mg, 7.1ms\n",
            "video 1/1 (frame 383/850) /content/medicine_test.mp4: 384x640 1 ultiva5mg, 7.5ms\n",
            "video 1/1 (frame 384/850) /content/medicine_test.mp4: 384x640 1 ultiva5mg, 6.7ms\n",
            "video 1/1 (frame 385/850) /content/medicine_test.mp4: 384x640 1 ultiva5mg, 6.6ms\n",
            "video 1/1 (frame 386/850) /content/medicine_test.mp4: 384x640 1 ultiva5mg, 6.5ms\n",
            "video 1/1 (frame 387/850) /content/medicine_test.mp4: 384x640 1 ultiva5mg, 6.5ms\n",
            "video 1/1 (frame 388/850) /content/medicine_test.mp4: 384x640 1 ultiva5mg, 6.6ms\n",
            "video 1/1 (frame 389/850) /content/medicine_test.mp4: 384x640 1 ultiva5mg, 6.5ms\n",
            "video 1/1 (frame 390/850) /content/medicine_test.mp4: 384x640 1 ultiva5mg, 6.4ms\n",
            "video 1/1 (frame 391/850) /content/medicine_test.mp4: 384x640 1 ultiva5mg, 11.0ms\n",
            "video 1/1 (frame 392/850) /content/medicine_test.mp4: 384x640 1 ultiva5mg, 6.9ms\n",
            "video 1/1 (frame 393/850) /content/medicine_test.mp4: 384x640 1 ultiva5mg, 7.1ms\n",
            "video 1/1 (frame 394/850) /content/medicine_test.mp4: 384x640 1 ultiva5mg, 6.5ms\n",
            "video 1/1 (frame 395/850) /content/medicine_test.mp4: 384x640 1 ultiva5mg, 6.4ms\n",
            "video 1/1 (frame 396/850) /content/medicine_test.mp4: 384x640 1 ultiva5mg, 6.5ms\n",
            "video 1/1 (frame 397/850) /content/medicine_test.mp4: 384x640 1 ultiva5mg, 7.2ms\n",
            "video 1/1 (frame 398/850) /content/medicine_test.mp4: 384x640 1 ultiva5mg, 6.5ms\n",
            "video 1/1 (frame 399/850) /content/medicine_test.mp4: 384x640 1 ultiva5mg, 6.8ms\n",
            "video 1/1 (frame 400/850) /content/medicine_test.mp4: 384x640 1 ultiva5mg, 6.5ms\n",
            "video 1/1 (frame 401/850) /content/medicine_test.mp4: 384x640 1 morfin10mg, 6.3ms\n",
            "video 1/1 (frame 402/850) /content/medicine_test.mp4: 384x640 1 morfin10mg, 7.1ms\n",
            "video 1/1 (frame 403/850) /content/medicine_test.mp4: 384x640 1 morfin10mg, 6.7ms\n",
            "video 1/1 (frame 404/850) /content/medicine_test.mp4: 384x640 1 morfin10mg, 7.2ms\n",
            "video 1/1 (frame 405/850) /content/medicine_test.mp4: 384x640 1 morfin10mg, 10.4ms\n",
            "video 1/1 (frame 406/850) /content/medicine_test.mp4: 384x640 1 morfin10mg, 10.8ms\n",
            "video 1/1 (frame 407/850) /content/medicine_test.mp4: 384x640 (no detections), 9.9ms\n",
            "video 1/1 (frame 408/850) /content/medicine_test.mp4: 384x640 (no detections), 6.8ms\n",
            "video 1/1 (frame 409/850) /content/medicine_test.mp4: 384x640 (no detections), 6.5ms\n",
            "video 1/1 (frame 410/850) /content/medicine_test.mp4: 384x640 (no detections), 6.4ms\n",
            "video 1/1 (frame 411/850) /content/medicine_test.mp4: 384x640 (no detections), 6.5ms\n",
            "video 1/1 (frame 412/850) /content/medicine_test.mp4: 384x640 (no detections), 6.5ms\n",
            "video 1/1 (frame 413/850) /content/medicine_test.mp4: 384x640 (no detections), 6.3ms\n",
            "video 1/1 (frame 414/850) /content/medicine_test.mp4: 384x640 (no detections), 6.9ms\n",
            "video 1/1 (frame 415/850) /content/medicine_test.mp4: 384x640 (no detections), 6.3ms\n",
            "video 1/1 (frame 416/850) /content/medicine_test.mp4: 384x640 (no detections), 6.3ms\n",
            "video 1/1 (frame 417/850) /content/medicine_test.mp4: 384x640 (no detections), 6.3ms\n",
            "video 1/1 (frame 418/850) /content/medicine_test.mp4: 384x640 (no detections), 6.6ms\n",
            "video 1/1 (frame 419/850) /content/medicine_test.mp4: 384x640 (no detections), 6.2ms\n",
            "video 1/1 (frame 420/850) /content/medicine_test.mp4: 384x640 (no detections), 6.3ms\n",
            "video 1/1 (frame 421/850) /content/medicine_test.mp4: 384x640 (no detections), 6.3ms\n",
            "video 1/1 (frame 422/850) /content/medicine_test.mp4: 384x640 (no detections), 7.6ms\n",
            "video 1/1 (frame 423/850) /content/medicine_test.mp4: 384x640 (no detections), 6.3ms\n",
            "video 1/1 (frame 424/850) /content/medicine_test.mp4: 384x640 (no detections), 6.3ms\n",
            "video 1/1 (frame 425/850) /content/medicine_test.mp4: 384x640 (no detections), 6.7ms\n",
            "video 1/1 (frame 426/850) /content/medicine_test.mp4: 384x640 (no detections), 6.5ms\n",
            "video 1/1 (frame 427/850) /content/medicine_test.mp4: 384x640 (no detections), 7.9ms\n",
            "video 1/1 (frame 428/850) /content/medicine_test.mp4: 384x640 (no detections), 7.4ms\n",
            "video 1/1 (frame 429/850) /content/medicine_test.mp4: 384x640 (no detections), 6.4ms\n",
            "video 1/1 (frame 430/850) /content/medicine_test.mp4: 384x640 (no detections), 6.9ms\n",
            "video 1/1 (frame 431/850) /content/medicine_test.mp4: 384x640 (no detections), 6.4ms\n",
            "video 1/1 (frame 432/850) /content/medicine_test.mp4: 384x640 (no detections), 10.6ms\n",
            "video 1/1 (frame 433/850) /content/medicine_test.mp4: 384x640 (no detections), 6.4ms\n",
            "video 1/1 (frame 434/850) /content/medicine_test.mp4: 384x640 (no detections), 6.5ms\n",
            "video 1/1 (frame 435/850) /content/medicine_test.mp4: 384x640 (no detections), 6.9ms\n",
            "video 1/1 (frame 436/850) /content/medicine_test.mp4: 384x640 (no detections), 6.8ms\n",
            "video 1/1 (frame 437/850) /content/medicine_test.mp4: 384x640 (no detections), 6.3ms\n",
            "video 1/1 (frame 438/850) /content/medicine_test.mp4: 384x640 (no detections), 6.7ms\n",
            "video 1/1 (frame 439/850) /content/medicine_test.mp4: 384x640 (no detections), 6.6ms\n",
            "video 1/1 (frame 440/850) /content/medicine_test.mp4: 384x640 (no detections), 6.6ms\n",
            "video 1/1 (frame 441/850) /content/medicine_test.mp4: 384x640 (no detections), 6.6ms\n",
            "video 1/1 (frame 442/850) /content/medicine_test.mp4: 384x640 (no detections), 6.3ms\n",
            "video 1/1 (frame 443/850) /content/medicine_test.mp4: 384x640 (no detections), 6.6ms\n",
            "video 1/1 (frame 444/850) /content/medicine_test.mp4: 384x640 (no detections), 6.3ms\n",
            "video 1/1 (frame 445/850) /content/medicine_test.mp4: 384x640 1 morfin10mg, 6.7ms\n",
            "video 1/1 (frame 446/850) /content/medicine_test.mp4: 384x640 1 morfin10mg, 9.3ms\n",
            "video 1/1 (frame 447/850) /content/medicine_test.mp4: 384x640 1 morfin10mg, 8.9ms\n",
            "video 1/1 (frame 448/850) /content/medicine_test.mp4: 384x640 1 morfin10mg, 9.7ms\n",
            "video 1/1 (frame 449/850) /content/medicine_test.mp4: 384x640 1 morfin10mg, 6.5ms\n",
            "video 1/1 (frame 450/850) /content/medicine_test.mp4: 384x640 1 morfin10mg, 6.3ms\n",
            "video 1/1 (frame 451/850) /content/medicine_test.mp4: 384x640 1 sobril25mg, 6.4ms\n",
            "video 1/1 (frame 452/850) /content/medicine_test.mp4: 384x640 1 sobril25mg, 6.4ms\n",
            "video 1/1 (frame 453/850) /content/medicine_test.mp4: 384x640 1 sobril25mg, 6.2ms\n",
            "video 1/1 (frame 454/850) /content/medicine_test.mp4: 384x640 1 sobril25mg, 6.5ms\n",
            "video 1/1 (frame 455/850) /content/medicine_test.mp4: 384x640 1 sobril25mg, 6.3ms\n",
            "video 1/1 (frame 456/850) /content/medicine_test.mp4: 384x640 1 sobril25mg, 6.4ms\n",
            "video 1/1 (frame 457/850) /content/medicine_test.mp4: 384x640 1 sobril25mg, 6.7ms\n",
            "video 1/1 (frame 458/850) /content/medicine_test.mp4: 384x640 1 sobril25mg, 6.2ms\n",
            "video 1/1 (frame 459/850) /content/medicine_test.mp4: 384x640 1 sobril25mg, 6.5ms\n",
            "video 1/1 (frame 460/850) /content/medicine_test.mp4: 384x640 1 sobril25mg, 6.3ms\n",
            "video 1/1 (frame 461/850) /content/medicine_test.mp4: 384x640 1 sobril25mg, 6.2ms\n",
            "video 1/1 (frame 462/850) /content/medicine_test.mp4: 384x640 1 sobril25mg, 6.3ms\n",
            "video 1/1 (frame 463/850) /content/medicine_test.mp4: 384x640 1 sobril25mg, 6.4ms\n",
            "video 1/1 (frame 464/850) /content/medicine_test.mp4: 384x640 1 sobril25mg, 6.4ms\n",
            "video 1/1 (frame 465/850) /content/medicine_test.mp4: 384x640 1 sobril25mg, 6.3ms\n",
            "video 1/1 (frame 466/850) /content/medicine_test.mp4: 384x640 1 sobril25mg, 6.3ms\n",
            "video 1/1 (frame 467/850) /content/medicine_test.mp4: 384x640 1 sobril25mg, 7.8ms\n",
            "video 1/1 (frame 468/850) /content/medicine_test.mp4: 384x640 1 sobril25mg, 6.4ms\n",
            "video 1/1 (frame 469/850) /content/medicine_test.mp4: 384x640 1 sobril25mg, 6.3ms\n",
            "video 1/1 (frame 470/850) /content/medicine_test.mp4: 384x640 1 sobril25mg, 8.7ms\n",
            "video 1/1 (frame 471/850) /content/medicine_test.mp4: 384x640 1 sobril25mg, 8.4ms\n",
            "video 1/1 (frame 472/850) /content/medicine_test.mp4: 384x640 1 sobril25mg, 16.0ms\n",
            "video 1/1 (frame 473/850) /content/medicine_test.mp4: 384x640 1 sobril25mg, 14.5ms\n",
            "video 1/1 (frame 474/850) /content/medicine_test.mp4: 384x640 1 sobril25mg, 8.9ms\n",
            "video 1/1 (frame 475/850) /content/medicine_test.mp4: 384x640 1 sobril25mg, 6.6ms\n",
            "video 1/1 (frame 476/850) /content/medicine_test.mp4: 384x640 1 sobril25mg, 6.4ms\n",
            "video 1/1 (frame 477/850) /content/medicine_test.mp4: 384x640 1 sobril25mg, 6.3ms\n",
            "video 1/1 (frame 478/850) /content/medicine_test.mp4: 384x640 1 sobril25mg, 6.3ms\n",
            "video 1/1 (frame 479/850) /content/medicine_test.mp4: 384x640 1 sobril25mg, 6.2ms\n",
            "video 1/1 (frame 480/850) /content/medicine_test.mp4: 384x640 1 sobril25mg, 6.6ms\n",
            "video 1/1 (frame 481/850) /content/medicine_test.mp4: 384x640 1 sobril25mg, 6.3ms\n",
            "video 1/1 (frame 482/850) /content/medicine_test.mp4: 384x640 1 sobril25mg, 6.1ms\n",
            "video 1/1 (frame 483/850) /content/medicine_test.mp4: 384x640 1 sobril25mg, 8.7ms\n",
            "video 1/1 (frame 484/850) /content/medicine_test.mp4: 384x640 1 sobril25mg, 10.0ms\n",
            "video 1/1 (frame 485/850) /content/medicine_test.mp4: 384x640 1 sobril25mg, 9.2ms\n",
            "video 1/1 (frame 486/850) /content/medicine_test.mp4: 384x640 1 sobril25mg, 7.6ms\n",
            "video 1/1 (frame 487/850) /content/medicine_test.mp4: 384x640 1 sobril25mg, 6.3ms\n",
            "video 1/1 (frame 488/850) /content/medicine_test.mp4: 384x640 1 sobril25mg, 6.5ms\n",
            "video 1/1 (frame 489/850) /content/medicine_test.mp4: 384x640 1 sobril25mg, 6.7ms\n",
            "video 1/1 (frame 490/850) /content/medicine_test.mp4: 384x640 1 sobril25mg, 6.3ms\n",
            "video 1/1 (frame 491/850) /content/medicine_test.mp4: 384x640 1 sobril25mg, 6.2ms\n",
            "video 1/1 (frame 492/850) /content/medicine_test.mp4: 384x640 1 sobril25mg, 6.6ms\n",
            "video 1/1 (frame 493/850) /content/medicine_test.mp4: 384x640 1 sobril25mg, 6.3ms\n",
            "video 1/1 (frame 494/850) /content/medicine_test.mp4: 384x640 1 sobril25mg, 10.2ms\n",
            "video 1/1 (frame 495/850) /content/medicine_test.mp4: 384x640 1 sobril25mg, 6.5ms\n",
            "video 1/1 (frame 496/850) /content/medicine_test.mp4: 384x640 1 sobril25mg, 7.0ms\n",
            "video 1/1 (frame 497/850) /content/medicine_test.mp4: 384x640 1 sobril25mg, 7.4ms\n",
            "video 1/1 (frame 498/850) /content/medicine_test.mp4: 384x640 1 sobril25mg, 7.4ms\n",
            "video 1/1 (frame 499/850) /content/medicine_test.mp4: 384x640 1 sobril25mg, 6.3ms\n",
            "video 1/1 (frame 500/850) /content/medicine_test.mp4: 384x640 1 sobril25mg, 6.6ms\n",
            "video 1/1 (frame 501/850) /content/medicine_test.mp4: 384x640 1 apodonorm5mg, 6.6ms\n",
            "video 1/1 (frame 502/850) /content/medicine_test.mp4: 384x640 1 apodonorm5mg, 6.3ms\n",
            "video 1/1 (frame 503/850) /content/medicine_test.mp4: 384x640 1 apodonorm5mg, 7.1ms\n",
            "video 1/1 (frame 504/850) /content/medicine_test.mp4: 384x640 1 apodonorm5mg, 6.6ms\n",
            "video 1/1 (frame 505/850) /content/medicine_test.mp4: 384x640 1 apodonorm5mg, 6.6ms\n",
            "video 1/1 (frame 506/850) /content/medicine_test.mp4: 384x640 1 apodonorm5mg, 8.8ms\n",
            "video 1/1 (frame 507/850) /content/medicine_test.mp4: 384x640 1 apodonorm5mg, 6.7ms\n",
            "video 1/1 (frame 508/850) /content/medicine_test.mp4: 384x640 1 apodonorm5mg, 6.8ms\n",
            "video 1/1 (frame 509/850) /content/medicine_test.mp4: 384x640 1 apodonorm5mg, 6.5ms\n",
            "video 1/1 (frame 510/850) /content/medicine_test.mp4: 384x640 1 apodonorm5mg, 9.0ms\n",
            "video 1/1 (frame 511/850) /content/medicine_test.mp4: 384x640 1 apodonorm5mg, 10.6ms\n",
            "video 1/1 (frame 512/850) /content/medicine_test.mp4: 384x640 1 apodonorm5mg, 6.5ms\n",
            "video 1/1 (frame 513/850) /content/medicine_test.mp4: 384x640 1 apodonorm5mg, 6.5ms\n",
            "video 1/1 (frame 514/850) /content/medicine_test.mp4: 384x640 1 apodonorm5mg, 6.2ms\n",
            "video 1/1 (frame 515/850) /content/medicine_test.mp4: 384x640 1 apodonorm5mg, 6.3ms\n",
            "video 1/1 (frame 516/850) /content/medicine_test.mp4: 384x640 1 apodonorm5mg, 6.4ms\n",
            "video 1/1 (frame 517/850) /content/medicine_test.mp4: 384x640 1 apodonorm5mg, 6.4ms\n",
            "video 1/1 (frame 518/850) /content/medicine_test.mp4: 384x640 1 apodonorm5mg, 6.4ms\n",
            "video 1/1 (frame 519/850) /content/medicine_test.mp4: 384x640 1 apodonorm5mg, 6.6ms\n",
            "video 1/1 (frame 520/850) /content/medicine_test.mp4: 384x640 1 apodonorm5mg, 8.8ms\n",
            "video 1/1 (frame 521/850) /content/medicine_test.mp4: 384x640 1 apodonorm5mg, 9.0ms\n",
            "video 1/1 (frame 522/850) /content/medicine_test.mp4: 384x640 1 apodonorm5mg, 8.8ms\n",
            "video 1/1 (frame 523/850) /content/medicine_test.mp4: 384x640 1 apodonorm5mg, 8.7ms\n",
            "video 1/1 (frame 524/850) /content/medicine_test.mp4: 384x640 1 apodonorm5mg, 6.5ms\n",
            "video 1/1 (frame 525/850) /content/medicine_test.mp4: 384x640 1 apodonorm5mg, 6.5ms\n",
            "video 1/1 (frame 526/850) /content/medicine_test.mp4: 384x640 1 apodonorm5mg, 7.7ms\n",
            "video 1/1 (frame 527/850) /content/medicine_test.mp4: 384x640 1 apodonorm5mg, 6.6ms\n",
            "video 1/1 (frame 528/850) /content/medicine_test.mp4: 384x640 1 apodonorm5mg, 6.8ms\n",
            "video 1/1 (frame 529/850) /content/medicine_test.mp4: 384x640 1 apodonorm5mg, 7.1ms\n",
            "video 1/1 (frame 530/850) /content/medicine_test.mp4: 384x640 1 apodonorm5mg, 6.5ms\n",
            "video 1/1 (frame 531/850) /content/medicine_test.mp4: 384x640 1 apodonorm5mg, 6.8ms\n",
            "video 1/1 (frame 532/850) /content/medicine_test.mp4: 384x640 1 apodonorm5mg, 8.0ms\n",
            "video 1/1 (frame 533/850) /content/medicine_test.mp4: 384x640 1 apodonorm5mg, 6.7ms\n",
            "video 1/1 (frame 534/850) /content/medicine_test.mp4: 384x640 1 apodonorm5mg, 7.8ms\n",
            "video 1/1 (frame 535/850) /content/medicine_test.mp4: 384x640 1 apodonorm5mg, 6.7ms\n",
            "video 1/1 (frame 536/850) /content/medicine_test.mp4: 384x640 1 apodonorm5mg, 6.7ms\n",
            "video 1/1 (frame 537/850) /content/medicine_test.mp4: 384x640 1 apodonorm5mg, 6.3ms\n",
            "video 1/1 (frame 538/850) /content/medicine_test.mp4: 384x640 1 apodonorm5mg, 6.5ms\n",
            "video 1/1 (frame 539/850) /content/medicine_test.mp4: 384x640 1 apodonorm5mg, 6.4ms\n",
            "video 1/1 (frame 540/850) /content/medicine_test.mp4: 384x640 1 apodonorm5mg, 6.6ms\n",
            "video 1/1 (frame 541/850) /content/medicine_test.mp4: 384x640 1 apodonorm5mg, 6.6ms\n",
            "video 1/1 (frame 542/850) /content/medicine_test.mp4: 384x640 1 apodonorm5mg, 6.4ms\n",
            "video 1/1 (frame 543/850) /content/medicine_test.mp4: 384x640 1 apodonorm5mg, 8.0ms\n",
            "video 1/1 (frame 544/850) /content/medicine_test.mp4: 384x640 1 apodonorm5mg, 6.4ms\n",
            "video 1/1 (frame 545/850) /content/medicine_test.mp4: 384x640 1 apodonorm5mg, 6.5ms\n",
            "video 1/1 (frame 546/850) /content/medicine_test.mp4: 384x640 1 apodonorm5mg, 6.3ms\n",
            "video 1/1 (frame 547/850) /content/medicine_test.mp4: 384x640 1 apodonorm5mg, 7.4ms\n",
            "video 1/1 (frame 548/850) /content/medicine_test.mp4: 384x640 1 apodonorm5mg, 6.7ms\n",
            "video 1/1 (frame 549/850) /content/medicine_test.mp4: 384x640 1 apodonorm5mg, 10.8ms\n",
            "video 1/1 (frame 550/850) /content/medicine_test.mp4: 384x640 1 apodonorm5mg, 6.8ms\n",
            "video 1/1 (frame 551/850) /content/medicine_test.mp4: 384x640 1 oxycontin15mg, 6.5ms\n",
            "video 1/1 (frame 552/850) /content/medicine_test.mp4: 384x640 1 oxycontin15mg, 7.9ms\n",
            "video 1/1 (frame 553/850) /content/medicine_test.mp4: 384x640 1 oxycontin15mg, 6.7ms\n",
            "video 1/1 (frame 554/850) /content/medicine_test.mp4: 384x640 1 oxycontin15mg, 6.5ms\n",
            "video 1/1 (frame 555/850) /content/medicine_test.mp4: 384x640 1 oxycontin15mg, 7.7ms\n",
            "video 1/1 (frame 556/850) /content/medicine_test.mp4: 384x640 1 oxycontin15mg, 6.6ms\n",
            "video 1/1 (frame 557/850) /content/medicine_test.mp4: 384x640 1 oxycontin15mg, 6.2ms\n",
            "video 1/1 (frame 558/850) /content/medicine_test.mp4: 384x640 1 oxycontin15mg, 9.5ms\n",
            "video 1/1 (frame 559/850) /content/medicine_test.mp4: 384x640 1 oxycontin15mg, 9.5ms\n",
            "video 1/1 (frame 560/850) /content/medicine_test.mp4: 384x640 1 oxycontin15mg, 18.4ms\n",
            "video 1/1 (frame 561/850) /content/medicine_test.mp4: 384x640 1 oxycontin15mg, 12.1ms\n",
            "video 1/1 (frame 562/850) /content/medicine_test.mp4: 384x640 1 oxycontin15mg, 11.7ms\n",
            "video 1/1 (frame 563/850) /content/medicine_test.mp4: 384x640 1 oxycontin15mg, 10.5ms\n",
            "video 1/1 (frame 564/850) /content/medicine_test.mp4: 384x640 1 oxycontin15mg, 6.6ms\n",
            "video 1/1 (frame 565/850) /content/medicine_test.mp4: 384x640 1 oxycontin15mg, 6.5ms\n",
            "video 1/1 (frame 566/850) /content/medicine_test.mp4: 384x640 1 oxycontin15mg, 6.3ms\n",
            "video 1/1 (frame 567/850) /content/medicine_test.mp4: 384x640 1 oxycontin15mg, 6.5ms\n",
            "video 1/1 (frame 568/850) /content/medicine_test.mp4: 384x640 1 oxycontin15mg, 6.3ms\n",
            "video 1/1 (frame 569/850) /content/medicine_test.mp4: 384x640 1 oxycontin15mg, 8.2ms\n",
            "video 1/1 (frame 570/850) /content/medicine_test.mp4: 384x640 1 oxycontin15mg, 6.5ms\n",
            "video 1/1 (frame 571/850) /content/medicine_test.mp4: 384x640 1 oxycontin15mg, 6.6ms\n",
            "video 1/1 (frame 572/850) /content/medicine_test.mp4: 384x640 1 oxycontin15mg, 6.7ms\n",
            "video 1/1 (frame 573/850) /content/medicine_test.mp4: 384x640 1 oxycontin15mg, 6.8ms\n",
            "video 1/1 (frame 574/850) /content/medicine_test.mp4: 384x640 1 oxycontin15mg, 6.5ms\n",
            "video 1/1 (frame 575/850) /content/medicine_test.mp4: 384x640 1 oxycontin15mg, 6.6ms\n",
            "video 1/1 (frame 576/850) /content/medicine_test.mp4: 384x640 1 oxycontin15mg, 6.5ms\n",
            "video 1/1 (frame 577/850) /content/medicine_test.mp4: 384x640 1 oxycontin15mg, 8.3ms\n",
            "video 1/1 (frame 578/850) /content/medicine_test.mp4: 384x640 1 oxycontin15mg, 6.4ms\n",
            "video 1/1 (frame 579/850) /content/medicine_test.mp4: 384x640 1 oxycontin15mg, 6.4ms\n",
            "video 1/1 (frame 580/850) /content/medicine_test.mp4: 384x640 1 oxycontin15mg, 6.5ms\n",
            "video 1/1 (frame 581/850) /content/medicine_test.mp4: 384x640 1 oxycontin15mg, 6.9ms\n",
            "video 1/1 (frame 582/850) /content/medicine_test.mp4: 384x640 1 oxycontin15mg, 7.1ms\n",
            "video 1/1 (frame 583/850) /content/medicine_test.mp4: 384x640 1 oxycontin15mg, 7.2ms\n",
            "video 1/1 (frame 584/850) /content/medicine_test.mp4: 384x640 1 oxycontin15mg, 7.5ms\n",
            "video 1/1 (frame 585/850) /content/medicine_test.mp4: 384x640 1 oxycontin15mg, 11.6ms\n",
            "video 1/1 (frame 586/850) /content/medicine_test.mp4: 384x640 1 oxycontin15mg, 11.3ms\n",
            "video 1/1 (frame 587/850) /content/medicine_test.mp4: 384x640 1 oxycontin15mg, 6.6ms\n",
            "video 1/1 (frame 588/850) /content/medicine_test.mp4: 384x640 1 oxycontin15mg, 6.7ms\n",
            "video 1/1 (frame 589/850) /content/medicine_test.mp4: 384x640 1 oxycontin15mg, 10.1ms\n",
            "video 1/1 (frame 590/850) /content/medicine_test.mp4: 384x640 1 oxycontin15mg, 7.5ms\n",
            "video 1/1 (frame 591/850) /content/medicine_test.mp4: 384x640 1 oxycontin15mg, 7.7ms\n",
            "video 1/1 (frame 592/850) /content/medicine_test.mp4: 384x640 1 oxycontin15mg, 7.7ms\n",
            "video 1/1 (frame 593/850) /content/medicine_test.mp4: 384x640 1 oxycontin15mg, 8.5ms\n",
            "video 1/1 (frame 594/850) /content/medicine_test.mp4: 384x640 1 oxycontin15mg, 8.2ms\n",
            "video 1/1 (frame 595/850) /content/medicine_test.mp4: 384x640 1 oxycontin15mg, 8.0ms\n",
            "video 1/1 (frame 596/850) /content/medicine_test.mp4: 384x640 1 oxycontin15mg, 9.6ms\n",
            "video 1/1 (frame 597/850) /content/medicine_test.mp4: 384x640 1 oxycontin15mg, 6.6ms\n",
            "video 1/1 (frame 598/850) /content/medicine_test.mp4: 384x640 1 oxycontin15mg, 6.6ms\n",
            "video 1/1 (frame 599/850) /content/medicine_test.mp4: 384x640 1 oxycontin15mg, 6.7ms\n",
            "video 1/1 (frame 600/850) /content/medicine_test.mp4: 384x640 1 oxycontin15mg, 6.4ms\n",
            "video 1/1 (frame 601/850) /content/medicine_test.mp4: 384x640 1 oxynorm10mg, 6.4ms\n",
            "video 1/1 (frame 602/850) /content/medicine_test.mp4: 384x640 1 oxynorm10mg, 6.8ms\n",
            "video 1/1 (frame 603/850) /content/medicine_test.mp4: 384x640 1 oxynorm10mg, 7.2ms\n",
            "video 1/1 (frame 604/850) /content/medicine_test.mp4: 384x640 1 oxynorm10mg, 6.6ms\n",
            "video 1/1 (frame 605/850) /content/medicine_test.mp4: 384x640 1 oxynorm10mg, 6.3ms\n",
            "video 1/1 (frame 606/850) /content/medicine_test.mp4: 384x640 1 oxynorm10mg, 6.2ms\n",
            "video 1/1 (frame 607/850) /content/medicine_test.mp4: 384x640 1 oxynorm10mg, 6.8ms\n",
            "video 1/1 (frame 608/850) /content/medicine_test.mp4: 384x640 1 oxynorm10mg, 6.7ms\n",
            "video 1/1 (frame 609/850) /content/medicine_test.mp4: 384x640 1 oxynorm10mg, 6.7ms\n",
            "video 1/1 (frame 610/850) /content/medicine_test.mp4: 384x640 1 oxynorm10mg, 6.8ms\n",
            "video 1/1 (frame 611/850) /content/medicine_test.mp4: 384x640 1 oxynorm10mg, 7.0ms\n",
            "video 1/1 (frame 612/850) /content/medicine_test.mp4: 384x640 1 oxynorm10mg, 7.0ms\n",
            "video 1/1 (frame 613/850) /content/medicine_test.mp4: 384x640 1 oxynorm10mg, 7.7ms\n",
            "video 1/1 (frame 614/850) /content/medicine_test.mp4: 384x640 1 oxynorm10mg, 14.0ms\n",
            "video 1/1 (frame 615/850) /content/medicine_test.mp4: 384x640 1 oxynorm10mg, 9.4ms\n",
            "video 1/1 (frame 616/850) /content/medicine_test.mp4: 384x640 1 oxynorm10mg, 10.1ms\n",
            "video 1/1 (frame 617/850) /content/medicine_test.mp4: 384x640 1 oxynorm10mg, 10.8ms\n",
            "video 1/1 (frame 618/850) /content/medicine_test.mp4: 384x640 1 oxynorm10mg, 8.9ms\n",
            "video 1/1 (frame 619/850) /content/medicine_test.mp4: 384x640 1 oxynorm10mg, 12.4ms\n",
            "video 1/1 (frame 620/850) /content/medicine_test.mp4: 384x640 1 oxynorm10mg, 8.9ms\n",
            "video 1/1 (frame 621/850) /content/medicine_test.mp4: 384x640 1 oxynorm10mg, 9.2ms\n",
            "video 1/1 (frame 622/850) /content/medicine_test.mp4: 384x640 1 oxynorm10mg, 14.1ms\n",
            "video 1/1 (frame 623/850) /content/medicine_test.mp4: 384x640 1 oxynorm10mg, 8.7ms\n",
            "video 1/1 (frame 624/850) /content/medicine_test.mp4: 384x640 1 oxynorm10mg, 9.1ms\n",
            "video 1/1 (frame 625/850) /content/medicine_test.mp4: 384x640 1 oxynorm10mg, 8.7ms\n",
            "video 1/1 (frame 626/850) /content/medicine_test.mp4: 384x640 1 oxynorm10mg, 11.9ms\n",
            "video 1/1 (frame 627/850) /content/medicine_test.mp4: 384x640 1 oxynorm10mg, 12.3ms\n",
            "video 1/1 (frame 628/850) /content/medicine_test.mp4: 384x640 1 oxynorm10mg, 9.4ms\n",
            "video 1/1 (frame 629/850) /content/medicine_test.mp4: 384x640 1 oxynorm10mg, 8.4ms\n",
            "video 1/1 (frame 630/850) /content/medicine_test.mp4: 384x640 1 oxynorm10mg, 8.2ms\n",
            "video 1/1 (frame 631/850) /content/medicine_test.mp4: 384x640 1 oxynorm10mg, 8.5ms\n",
            "video 1/1 (frame 632/850) /content/medicine_test.mp4: 384x640 1 oxynorm10mg, 8.0ms\n",
            "video 1/1 (frame 633/850) /content/medicine_test.mp4: 384x640 1 oxynorm10mg, 8.2ms\n",
            "video 1/1 (frame 634/850) /content/medicine_test.mp4: 384x640 1 oxynorm10mg, 9.3ms\n",
            "video 1/1 (frame 635/850) /content/medicine_test.mp4: 384x640 1 oxynorm10mg, 8.8ms\n",
            "video 1/1 (frame 636/850) /content/medicine_test.mp4: 384x640 1 oxynorm10mg, 8.1ms\n",
            "video 1/1 (frame 637/850) /content/medicine_test.mp4: 384x640 1 oxynorm10mg, 8.1ms\n",
            "video 1/1 (frame 638/850) /content/medicine_test.mp4: 384x640 1 oxynorm10mg, 8.6ms\n",
            "video 1/1 (frame 639/850) /content/medicine_test.mp4: 384x640 1 oxynorm10mg, 9.6ms\n",
            "video 1/1 (frame 640/850) /content/medicine_test.mp4: 384x640 1 oxynorm10mg, 8.5ms\n",
            "video 1/1 (frame 641/850) /content/medicine_test.mp4: 384x640 1 oxynorm10mg, 10.2ms\n",
            "video 1/1 (frame 642/850) /content/medicine_test.mp4: 384x640 1 oxynorm10mg, 11.5ms\n",
            "video 1/1 (frame 643/850) /content/medicine_test.mp4: 384x640 1 oxynorm10mg, 7.8ms\n",
            "video 1/1 (frame 644/850) /content/medicine_test.mp4: 384x640 1 oxynorm10mg, 8.0ms\n",
            "video 1/1 (frame 645/850) /content/medicine_test.mp4: 384x640 1 oxynorm10mg, 7.7ms\n",
            "video 1/1 (frame 646/850) /content/medicine_test.mp4: 384x640 1 oxynorm10mg, 8.0ms\n",
            "video 1/1 (frame 647/850) /content/medicine_test.mp4: 384x640 1 oxynorm10mg, 9.4ms\n",
            "video 1/1 (frame 648/850) /content/medicine_test.mp4: 384x640 1 oxynorm10mg, 10.0ms\n",
            "video 1/1 (frame 649/850) /content/medicine_test.mp4: 384x640 1 oxynorm10mg, 8.4ms\n",
            "video 1/1 (frame 650/850) /content/medicine_test.mp4: 384x640 1 oxynorm10mg, 12.0ms\n",
            "video 1/1 (frame 651/850) /content/medicine_test.mp4: 384x640 1 oxynorm10mg, 16.3ms\n",
            "video 1/1 (frame 652/850) /content/medicine_test.mp4: 384x640 1 oxynorm10mg, 7.7ms\n",
            "video 1/1 (frame 653/850) /content/medicine_test.mp4: 384x640 1 oxynorm10mg, 10.2ms\n",
            "video 1/1 (frame 654/850) /content/medicine_test.mp4: 384x640 1 oxynorm10mg, 10.9ms\n",
            "video 1/1 (frame 655/850) /content/medicine_test.mp4: 384x640 1 oxynorm10mg, 12.7ms\n",
            "video 1/1 (frame 656/850) /content/medicine_test.mp4: 384x640 1 oxynorm10mg, 18.5ms\n",
            "video 1/1 (frame 657/850) /content/medicine_test.mp4: 384x640 1 oxynorm10mg, 10.8ms\n",
            "video 1/1 (frame 658/850) /content/medicine_test.mp4: 384x640 1 oxynorm10mg, 10.2ms\n",
            "video 1/1 (frame 659/850) /content/medicine_test.mp4: 384x640 1 oxynorm10mg, 9.9ms\n",
            "video 1/1 (frame 660/850) /content/medicine_test.mp4: 384x640 1 oxynorm10mg, 9.7ms\n",
            "video 1/1 (frame 661/850) /content/medicine_test.mp4: 384x640 1 oxynorm10mg, 9.4ms\n",
            "video 1/1 (frame 662/850) /content/medicine_test.mp4: 384x640 1 oxynorm10mg, 10.7ms\n",
            "video 1/1 (frame 663/850) /content/medicine_test.mp4: 384x640 1 oxynorm10mg, 8.3ms\n",
            "video 1/1 (frame 664/850) /content/medicine_test.mp4: 384x640 1 oxynorm10mg, 11.3ms\n",
            "video 1/1 (frame 665/850) /content/medicine_test.mp4: 384x640 1 oxynorm10mg, 8.7ms\n",
            "video 1/1 (frame 666/850) /content/medicine_test.mp4: 384x640 1 oxynorm10mg, 11.0ms\n",
            "video 1/1 (frame 667/850) /content/medicine_test.mp4: 384x640 1 oxynorm10mg, 9.7ms\n",
            "video 1/1 (frame 668/850) /content/medicine_test.mp4: 384x640 1 oxynorm10mg, 15.6ms\n",
            "video 1/1 (frame 669/850) /content/medicine_test.mp4: 384x640 1 oxynorm10mg, 10.6ms\n",
            "video 1/1 (frame 670/850) /content/medicine_test.mp4: 384x640 1 oxynorm10mg, 9.9ms\n",
            "video 1/1 (frame 671/850) /content/medicine_test.mp4: 384x640 1 oxynorm10mg, 10.1ms\n",
            "video 1/1 (frame 672/850) /content/medicine_test.mp4: 384x640 1 oxynorm10mg, 10.8ms\n",
            "video 1/1 (frame 673/850) /content/medicine_test.mp4: 384x640 1 oxynorm10mg, 11.1ms\n",
            "video 1/1 (frame 674/850) /content/medicine_test.mp4: 384x640 1 oxynorm10mg, 11.0ms\n",
            "video 1/1 (frame 675/850) /content/medicine_test.mp4: 384x640 1 oxynorm10mg, 12.0ms\n",
            "video 1/1 (frame 676/850) /content/medicine_test.mp4: 384x640 1 oxynorm10mg, 10.8ms\n",
            "video 1/1 (frame 677/850) /content/medicine_test.mp4: 384x640 1 oxynorm10mg, 11.0ms\n",
            "video 1/1 (frame 678/850) /content/medicine_test.mp4: 384x640 1 oxynorm10mg, 17.7ms\n",
            "video 1/1 (frame 679/850) /content/medicine_test.mp4: 384x640 1 oxynorm10mg, 12.5ms\n",
            "video 1/1 (frame 680/850) /content/medicine_test.mp4: 384x640 1 oxynorm10mg, 14.8ms\n",
            "video 1/1 (frame 681/850) /content/medicine_test.mp4: 384x640 1 oxynorm10mg, 12.2ms\n",
            "video 1/1 (frame 682/850) /content/medicine_test.mp4: 384x640 1 oxynorm10mg, 7.6ms\n",
            "video 1/1 (frame 683/850) /content/medicine_test.mp4: 384x640 1 oxynorm10mg, 7.7ms\n",
            "video 1/1 (frame 684/850) /content/medicine_test.mp4: 384x640 1 oxynorm10mg, 6.2ms\n",
            "video 1/1 (frame 685/850) /content/medicine_test.mp4: 384x640 1 oxynorm10mg, 6.4ms\n",
            "video 1/1 (frame 686/850) /content/medicine_test.mp4: 384x640 1 oxynorm10mg, 7.2ms\n",
            "video 1/1 (frame 687/850) /content/medicine_test.mp4: 384x640 1 oxynorm10mg, 6.5ms\n",
            "video 1/1 (frame 688/850) /content/medicine_test.mp4: 384x640 1 oxynorm10mg, 6.8ms\n",
            "video 1/1 (frame 689/850) /content/medicine_test.mp4: 384x640 1 oxynorm10mg, 6.5ms\n",
            "video 1/1 (frame 690/850) /content/medicine_test.mp4: 384x640 1 oxynorm10mg, 6.5ms\n",
            "video 1/1 (frame 691/850) /content/medicine_test.mp4: 384x640 1 oxynorm10mg, 6.2ms\n",
            "video 1/1 (frame 692/850) /content/medicine_test.mp4: 384x640 1 oxynorm10mg, 6.2ms\n",
            "video 1/1 (frame 693/850) /content/medicine_test.mp4: 384x640 1 oxynorm10mg, 6.2ms\n",
            "video 1/1 (frame 694/850) /content/medicine_test.mp4: 384x640 1 oxynorm10mg, 6.1ms\n",
            "video 1/1 (frame 695/850) /content/medicine_test.mp4: 384x640 1 oxynorm10mg, 6.2ms\n",
            "video 1/1 (frame 696/850) /content/medicine_test.mp4: 384x640 1 oxynorm10mg, 6.3ms\n",
            "video 1/1 (frame 697/850) /content/medicine_test.mp4: 384x640 1 oxynorm10mg, 7.9ms\n",
            "video 1/1 (frame 698/850) /content/medicine_test.mp4: 384x640 1 oxynorm10mg, 6.4ms\n",
            "video 1/1 (frame 699/850) /content/medicine_test.mp4: 384x640 1 oxynorm10mg, 6.7ms\n",
            "video 1/1 (frame 700/850) /content/medicine_test.mp4: 384x640 1 oxynorm10mg, 7.0ms\n",
            "video 1/1 (frame 701/850) /content/medicine_test.mp4: 384x640 1 midazolam5mg_ml, 6.9ms\n",
            "video 1/1 (frame 702/850) /content/medicine_test.mp4: 384x640 1 midazolam5mg_ml, 6.6ms\n",
            "video 1/1 (frame 703/850) /content/medicine_test.mp4: 384x640 1 midazolam5mg_ml, 6.4ms\n",
            "video 1/1 (frame 704/850) /content/medicine_test.mp4: 384x640 1 midazolam5mg_ml, 7.1ms\n",
            "video 1/1 (frame 705/850) /content/medicine_test.mp4: 384x640 1 midazolam5mg_ml, 6.4ms\n",
            "video 1/1 (frame 706/850) /content/medicine_test.mp4: 384x640 1 midazolam5mg_ml, 7.1ms\n",
            "video 1/1 (frame 707/850) /content/medicine_test.mp4: 384x640 1 midazolam5mg_ml, 6.6ms\n",
            "video 1/1 (frame 708/850) /content/medicine_test.mp4: 384x640 1 midazolam5mg_ml, 8.3ms\n",
            "video 1/1 (frame 709/850) /content/medicine_test.mp4: 384x640 1 midazolam5mg_ml, 6.4ms\n",
            "video 1/1 (frame 710/850) /content/medicine_test.mp4: 384x640 1 midazolam5mg_ml, 9.0ms\n",
            "video 1/1 (frame 711/850) /content/medicine_test.mp4: 384x640 1 midazolam5mg_ml, 6.2ms\n",
            "video 1/1 (frame 712/850) /content/medicine_test.mp4: 384x640 1 midazolam5mg_ml, 6.2ms\n",
            "video 1/1 (frame 713/850) /content/medicine_test.mp4: 384x640 1 midazolam5mg_ml, 6.7ms\n",
            "video 1/1 (frame 714/850) /content/medicine_test.mp4: 384x640 1 midazolam5mg_ml, 6.7ms\n",
            "video 1/1 (frame 715/850) /content/medicine_test.mp4: 384x640 1 midazolam5mg_ml, 6.6ms\n",
            "video 1/1 (frame 716/850) /content/medicine_test.mp4: 384x640 1 midazolam5mg_ml, 6.5ms\n",
            "video 1/1 (frame 717/850) /content/medicine_test.mp4: 384x640 1 midazolam5mg_ml, 11.3ms\n",
            "video 1/1 (frame 718/850) /content/medicine_test.mp4: 384x640 1 midazolam5mg_ml, 9.7ms\n",
            "video 1/1 (frame 719/850) /content/medicine_test.mp4: 384x640 1 midazolam5mg_ml, 9.2ms\n",
            "video 1/1 (frame 720/850) /content/medicine_test.mp4: 384x640 1 midazolam5mg_ml, 6.1ms\n",
            "video 1/1 (frame 721/850) /content/medicine_test.mp4: 384x640 1 midazolam5mg_ml, 6.4ms\n",
            "video 1/1 (frame 722/850) /content/medicine_test.mp4: 384x640 1 midazolam5mg_ml, 6.1ms\n",
            "video 1/1 (frame 723/850) /content/medicine_test.mp4: 384x640 1 midazolam5mg_ml, 6.1ms\n",
            "video 1/1 (frame 724/850) /content/medicine_test.mp4: 384x640 1 midazolam5mg_ml, 6.7ms\n",
            "video 1/1 (frame 725/850) /content/medicine_test.mp4: 384x640 1 midazolam5mg_ml, 6.1ms\n",
            "video 1/1 (frame 726/850) /content/medicine_test.mp4: 384x640 1 midazolam5mg_ml, 7.6ms\n",
            "video 1/1 (frame 727/850) /content/medicine_test.mp4: 384x640 1 midazolam5mg_ml, 6.3ms\n",
            "video 1/1 (frame 728/850) /content/medicine_test.mp4: 384x640 1 midazolam5mg_ml, 6.1ms\n",
            "video 1/1 (frame 729/850) /content/medicine_test.mp4: 384x640 1 midazolam5mg_ml, 6.1ms\n",
            "video 1/1 (frame 730/850) /content/medicine_test.mp4: 384x640 1 midazolam5mg_ml, 6.1ms\n",
            "video 1/1 (frame 731/850) /content/medicine_test.mp4: 384x640 1 midazolam5mg_ml, 6.0ms\n",
            "video 1/1 (frame 732/850) /content/medicine_test.mp4: 384x640 1 midazolam5mg_ml, 6.8ms\n",
            "video 1/1 (frame 733/850) /content/medicine_test.mp4: 384x640 1 midazolam5mg_ml, 6.2ms\n",
            "video 1/1 (frame 734/850) /content/medicine_test.mp4: 384x640 1 midazolam5mg_ml, 6.0ms\n",
            "video 1/1 (frame 735/850) /content/medicine_test.mp4: 384x640 1 midazolam5mg_ml, 6.9ms\n",
            "video 1/1 (frame 736/850) /content/medicine_test.mp4: 384x640 1 midazolam5mg_ml, 6.2ms\n",
            "video 1/1 (frame 737/850) /content/medicine_test.mp4: 384x640 1 midazolam5mg_ml, 6.3ms\n",
            "video 1/1 (frame 738/850) /content/medicine_test.mp4: 384x640 1 midazolam5mg_ml, 6.3ms\n",
            "video 1/1 (frame 739/850) /content/medicine_test.mp4: 384x640 1 midazolam5mg_ml, 6.6ms\n",
            "video 1/1 (frame 740/850) /content/medicine_test.mp4: 384x640 1 midazolam5mg_ml, 6.4ms\n",
            "video 1/1 (frame 741/850) /content/medicine_test.mp4: 384x640 1 midazolam5mg_ml, 7.1ms\n",
            "video 1/1 (frame 742/850) /content/medicine_test.mp4: 384x640 1 midazolam5mg_ml, 7.5ms\n",
            "video 1/1 (frame 743/850) /content/medicine_test.mp4: 384x640 1 midazolam5mg_ml, 6.2ms\n",
            "video 1/1 (frame 744/850) /content/medicine_test.mp4: 384x640 1 midazolam5mg_ml, 6.2ms\n",
            "video 1/1 (frame 745/850) /content/medicine_test.mp4: 384x640 1 midazolam5mg_ml, 6.2ms\n",
            "video 1/1 (frame 746/850) /content/medicine_test.mp4: 384x640 1 midazolam5mg_ml, 6.6ms\n",
            "video 1/1 (frame 747/850) /content/medicine_test.mp4: 384x640 1 midazolam5mg_ml, 8.7ms\n",
            "video 1/1 (frame 748/850) /content/medicine_test.mp4: 384x640 1 midazolam5mg_ml, 9.6ms\n",
            "video 1/1 (frame 749/850) /content/medicine_test.mp4: 384x640 1 midazolam5mg_ml, 6.5ms\n",
            "video 1/1 (frame 750/850) /content/medicine_test.mp4: 384x640 1 midazolam5mg_ml, 6.4ms\n",
            "video 1/1 (frame 751/850) /content/medicine_test.mp4: 384x640 1 fentanyl50ug_ml, 6.6ms\n",
            "video 1/1 (frame 752/850) /content/medicine_test.mp4: 384x640 1 fentanyl50ug_ml, 6.2ms\n",
            "video 1/1 (frame 753/850) /content/medicine_test.mp4: 384x640 1 fentanyl50ug_ml, 7.5ms\n",
            "video 1/1 (frame 754/850) /content/medicine_test.mp4: 384x640 1 fentanyl50ug_ml, 8.0ms\n",
            "video 1/1 (frame 755/850) /content/medicine_test.mp4: 384x640 1 fentanyl50ug_ml, 6.4ms\n",
            "video 1/1 (frame 756/850) /content/medicine_test.mp4: 384x640 1 fentanyl50ug_ml, 10.4ms\n",
            "video 1/1 (frame 757/850) /content/medicine_test.mp4: 384x640 1 fentanyl50ug_ml, 9.7ms\n",
            "video 1/1 (frame 758/850) /content/medicine_test.mp4: 384x640 1 fentanyl50ug_ml, 9.1ms\n",
            "video 1/1 (frame 759/850) /content/medicine_test.mp4: 384x640 1 fentanyl50ug_ml, 7.2ms\n",
            "video 1/1 (frame 760/850) /content/medicine_test.mp4: 384x640 1 fentanyl50ug_ml, 6.3ms\n",
            "video 1/1 (frame 761/850) /content/medicine_test.mp4: 384x640 1 fentanyl50ug_ml, 6.3ms\n",
            "video 1/1 (frame 762/850) /content/medicine_test.mp4: 384x640 1 fentanyl50ug_ml, 6.2ms\n",
            "video 1/1 (frame 763/850) /content/medicine_test.mp4: 384x640 1 fentanyl50ug_ml, 6.8ms\n",
            "video 1/1 (frame 764/850) /content/medicine_test.mp4: 384x640 1 fentanyl50ug_ml, 7.2ms\n",
            "video 1/1 (frame 765/850) /content/medicine_test.mp4: 384x640 1 fentanyl50ug_ml, 6.2ms\n",
            "video 1/1 (frame 766/850) /content/medicine_test.mp4: 384x640 1 fentanyl50ug_ml, 6.5ms\n",
            "video 1/1 (frame 767/850) /content/medicine_test.mp4: 384x640 1 fentanyl50ug_ml, 6.8ms\n",
            "video 1/1 (frame 768/850) /content/medicine_test.mp4: 384x640 1 fentanyl50ug_ml, 6.2ms\n",
            "video 1/1 (frame 769/850) /content/medicine_test.mp4: 384x640 1 fentanyl50ug_ml, 6.3ms\n",
            "video 1/1 (frame 770/850) /content/medicine_test.mp4: 384x640 1 fentanyl50ug_ml, 6.1ms\n",
            "video 1/1 (frame 771/850) /content/medicine_test.mp4: 384x640 1 fentanyl50ug_ml, 7.8ms\n",
            "video 1/1 (frame 772/850) /content/medicine_test.mp4: 384x640 1 fentanyl50ug_ml, 6.1ms\n",
            "video 1/1 (frame 773/850) /content/medicine_test.mp4: 384x640 1 fentanyl50ug_ml, 6.9ms\n",
            "video 1/1 (frame 774/850) /content/medicine_test.mp4: 384x640 1 fentanyl50ug_ml, 6.1ms\n",
            "video 1/1 (frame 775/850) /content/medicine_test.mp4: 384x640 1 fentanyl50ug_ml, 7.1ms\n",
            "video 1/1 (frame 776/850) /content/medicine_test.mp4: 384x640 1 fentanyl50ug_ml, 6.2ms\n",
            "video 1/1 (frame 777/850) /content/medicine_test.mp4: 384x640 1 fentanyl50ug_ml, 9.2ms\n",
            "video 1/1 (frame 778/850) /content/medicine_test.mp4: 384x640 1 fentanyl50ug_ml, 6.3ms\n",
            "video 1/1 (frame 779/850) /content/medicine_test.mp4: 384x640 1 fentanyl50ug_ml, 7.4ms\n",
            "video 1/1 (frame 780/850) /content/medicine_test.mp4: 384x640 1 fentanyl50ug_ml, 6.2ms\n",
            "video 1/1 (frame 781/850) /content/medicine_test.mp4: 384x640 1 fentanyl50ug_ml, 7.1ms\n",
            "video 1/1 (frame 782/850) /content/medicine_test.mp4: 384x640 1 fentanyl50ug_ml, 6.1ms\n",
            "video 1/1 (frame 783/850) /content/medicine_test.mp4: 384x640 1 fentanyl50ug_ml, 6.1ms\n",
            "video 1/1 (frame 784/850) /content/medicine_test.mp4: 384x640 1 fentanyl50ug_ml, 6.3ms\n",
            "video 1/1 (frame 785/850) /content/medicine_test.mp4: 384x640 1 fentanyl50ug_ml, 6.6ms\n",
            "video 1/1 (frame 786/850) /content/medicine_test.mp4: 384x640 1 fentanyl50ug_ml, 7.2ms\n",
            "video 1/1 (frame 787/850) /content/medicine_test.mp4: 384x640 1 fentanyl50ug_ml, 7.3ms\n",
            "video 1/1 (frame 788/850) /content/medicine_test.mp4: 384x640 1 fentanyl50ug_ml, 6.3ms\n",
            "video 1/1 (frame 789/850) /content/medicine_test.mp4: 384x640 1 fentanyl50ug_ml, 7.1ms\n",
            "video 1/1 (frame 790/850) /content/medicine_test.mp4: 384x640 1 fentanyl50ug_ml, 6.3ms\n",
            "video 1/1 (frame 791/850) /content/medicine_test.mp4: 384x640 1 fentanyl50ug_ml, 6.5ms\n",
            "video 1/1 (frame 792/850) /content/medicine_test.mp4: 384x640 1 fentanyl50ug_ml, 7.0ms\n",
            "video 1/1 (frame 793/850) /content/medicine_test.mp4: 384x640 1 fentanyl50ug_ml, 6.1ms\n",
            "video 1/1 (frame 794/850) /content/medicine_test.mp4: 384x640 1 fentanyl50ug_ml, 8.6ms\n",
            "video 1/1 (frame 795/850) /content/medicine_test.mp4: 384x640 1 fentanyl50ug_ml, 8.8ms\n",
            "video 1/1 (frame 796/850) /content/medicine_test.mp4: 384x640 1 fentanyl50ug_ml, 9.3ms\n",
            "video 1/1 (frame 797/850) /content/medicine_test.mp4: 384x640 1 fentanyl50ug_ml, 8.6ms\n",
            "video 1/1 (frame 798/850) /content/medicine_test.mp4: 384x640 1 fentanyl50ug_ml, 8.3ms\n",
            "video 1/1 (frame 799/850) /content/medicine_test.mp4: 384x640 1 fentanyl50ug_ml, 7.0ms\n",
            "video 1/1 (frame 800/850) /content/medicine_test.mp4: 384x640 1 fentanyl50ug_ml, 6.2ms\n",
            "video 1/1 (frame 801/850) /content/medicine_test.mp4: 384x640 1 levopidon25mg, 9.0ms\n",
            "video 1/1 (frame 802/850) /content/medicine_test.mp4: 384x640 1 levopidon25mg, 6.1ms\n",
            "video 1/1 (frame 803/850) /content/medicine_test.mp4: 384x640 1 levopidon25mg, 7.3ms\n",
            "video 1/1 (frame 804/850) /content/medicine_test.mp4: 384x640 1 levopidon25mg, 6.8ms\n",
            "video 1/1 (frame 805/850) /content/medicine_test.mp4: 384x640 1 levopidon25mg, 6.9ms\n",
            "video 1/1 (frame 806/850) /content/medicine_test.mp4: 384x640 1 levopidon25mg, 6.4ms\n",
            "video 1/1 (frame 807/850) /content/medicine_test.mp4: 384x640 1 levopidon25mg, 7.7ms\n",
            "video 1/1 (frame 808/850) /content/medicine_test.mp4: 384x640 1 levopidon25mg, 7.1ms\n",
            "video 1/1 (frame 809/850) /content/medicine_test.mp4: 384x640 1 levopidon25mg, 6.8ms\n",
            "video 1/1 (frame 810/850) /content/medicine_test.mp4: 384x640 1 levopidon25mg, 6.1ms\n",
            "video 1/1 (frame 811/850) /content/medicine_test.mp4: 384x640 1 levopidon25mg, 7.0ms\n",
            "video 1/1 (frame 812/850) /content/medicine_test.mp4: 384x640 1 levopidon25mg, 6.0ms\n",
            "video 1/1 (frame 813/850) /content/medicine_test.mp4: 384x640 1 levopidon25mg, 6.2ms\n",
            "video 1/1 (frame 814/850) /content/medicine_test.mp4: 384x640 1 levopidon25mg, 6.1ms\n",
            "video 1/1 (frame 815/850) /content/medicine_test.mp4: 384x640 1 levopidon25mg, 6.2ms\n",
            "video 1/1 (frame 816/850) /content/medicine_test.mp4: 384x640 1 levopidon25mg, 7.9ms\n",
            "video 1/1 (frame 817/850) /content/medicine_test.mp4: 384x640 1 levopidon25mg, 6.5ms\n",
            "video 1/1 (frame 818/850) /content/medicine_test.mp4: 384x640 1 levopidon25mg, 6.1ms\n",
            "video 1/1 (frame 819/850) /content/medicine_test.mp4: 384x640 1 levopidon25mg, 6.2ms\n",
            "video 1/1 (frame 820/850) /content/medicine_test.mp4: 384x640 1 levopidon25mg, 6.5ms\n",
            "video 1/1 (frame 821/850) /content/medicine_test.mp4: 384x640 1 levopidon25mg, 6.2ms\n",
            "video 1/1 (frame 822/850) /content/medicine_test.mp4: 384x640 1 levopidon25mg, 6.5ms\n",
            "video 1/1 (frame 823/850) /content/medicine_test.mp4: 384x640 1 levopidon25mg, 6.3ms\n",
            "video 1/1 (frame 824/850) /content/medicine_test.mp4: 384x640 1 levopidon25mg, 6.4ms\n",
            "video 1/1 (frame 825/850) /content/medicine_test.mp4: 384x640 1 levopidon25mg, 6.9ms\n",
            "video 1/1 (frame 826/850) /content/medicine_test.mp4: 384x640 1 levopidon25mg, 7.2ms\n",
            "video 1/1 (frame 827/850) /content/medicine_test.mp4: 384x640 1 levopidon25mg, 6.7ms\n",
            "video 1/1 (frame 828/850) /content/medicine_test.mp4: 384x640 1 levopidon25mg, 6.7ms\n",
            "video 1/1 (frame 829/850) /content/medicine_test.mp4: 384x640 1 levopidon25mg, 6.1ms\n",
            "video 1/1 (frame 830/850) /content/medicine_test.mp4: 384x640 1 levopidon25mg, 8.4ms\n",
            "video 1/1 (frame 831/850) /content/medicine_test.mp4: 384x640 1 levopidon25mg, 6.5ms\n",
            "video 1/1 (frame 832/850) /content/medicine_test.mp4: 384x640 1 levopidon25mg, 7.0ms\n",
            "video 1/1 (frame 833/850) /content/medicine_test.mp4: 384x640 1 levopidon25mg, 9.6ms\n",
            "video 1/1 (frame 834/850) /content/medicine_test.mp4: 384x640 1 levopidon25mg, 9.3ms\n",
            "video 1/1 (frame 835/850) /content/medicine_test.mp4: 384x640 1 levopidon25mg, 9.6ms\n",
            "video 1/1 (frame 836/850) /content/medicine_test.mp4: 384x640 1 levopidon25mg, 13.5ms\n",
            "video 1/1 (frame 837/850) /content/medicine_test.mp4: 384x640 1 levopidon25mg, 6.4ms\n",
            "video 1/1 (frame 838/850) /content/medicine_test.mp4: 384x640 1 levopidon25mg, 6.2ms\n",
            "video 1/1 (frame 839/850) /content/medicine_test.mp4: 384x640 1 levopidon25mg, 7.5ms\n",
            "video 1/1 (frame 840/850) /content/medicine_test.mp4: 384x640 1 levopidon25mg, 6.5ms\n",
            "video 1/1 (frame 841/850) /content/medicine_test.mp4: 384x640 1 levopidon25mg, 6.2ms\n",
            "video 1/1 (frame 842/850) /content/medicine_test.mp4: 384x640 1 levopidon25mg, 6.3ms\n",
            "video 1/1 (frame 843/850) /content/medicine_test.mp4: 384x640 1 levopidon25mg, 9.5ms\n",
            "video 1/1 (frame 844/850) /content/medicine_test.mp4: 384x640 1 levopidon25mg, 6.3ms\n",
            "video 1/1 (frame 845/850) /content/medicine_test.mp4: 384x640 1 levopidon25mg, 7.0ms\n",
            "video 1/1 (frame 846/850) /content/medicine_test.mp4: 384x640 1 levopidon25mg, 6.3ms\n",
            "video 1/1 (frame 847/850) /content/medicine_test.mp4: 384x640 1 levopidon25mg, 6.4ms\n",
            "video 1/1 (frame 848/850) /content/medicine_test.mp4: 384x640 1 levopidon25mg, 7.8ms\n",
            "video 1/1 (frame 849/850) /content/medicine_test.mp4: 384x640 1 levopidon25mg, 6.5ms\n",
            "video 1/1 (frame 850/850) /content/medicine_test.mp4: 384x640 1 levopidon25mg, 6.6ms\n",
            "Speed: 2.1ms preprocess, 7.7ms inference, 1.3ms postprocess per image at shape (1, 3, 384, 640)\n",
            "Results saved to \u001b[1mruns/detect/train3\u001b[0m\n"
          ]
        }
      ]
    },
    {
      "cell_type": "markdown",
      "source": [
        "storing class labels into excel file\n"
      ],
      "metadata": {
        "id": "6lS3UOnPEdX8"
      }
    },
    {
      "cell_type": "code",
      "source": [
        "import locale\n",
        "def getpreferredencoding(do_setlocale = True):\n",
        "    return \"UTF-8\"\n",
        "locale.getpreferredencoding = getpreferredencoding\n",
        "!pip install pandas openpyxl"
      ],
      "metadata": {
        "colab": {
          "base_uri": "https://localhost:8080/"
        },
        "id": "-jrpmzgBEoGO",
        "outputId": "31848c84-920f-4cfc-bd84-5d30e2419fd8"
      },
      "execution_count": 11,
      "outputs": [
        {
          "output_type": "stream",
          "name": "stdout",
          "text": [
            "Requirement already satisfied: pandas in /usr/local/lib/python3.11/dist-packages (2.2.2)\n",
            "Requirement already satisfied: openpyxl in /usr/local/lib/python3.11/dist-packages (3.1.5)\n",
            "Requirement already satisfied: numpy>=1.23.2 in /usr/local/lib/python3.11/dist-packages (from pandas) (1.26.4)\n",
            "Requirement already satisfied: python-dateutil>=2.8.2 in /usr/local/lib/python3.11/dist-packages (from pandas) (2.8.2)\n",
            "Requirement already satisfied: pytz>=2020.1 in /usr/local/lib/python3.11/dist-packages (from pandas) (2025.1)\n",
            "Requirement already satisfied: tzdata>=2022.7 in /usr/local/lib/python3.11/dist-packages (from pandas) (2025.1)\n",
            "Requirement already satisfied: et-xmlfile in /usr/local/lib/python3.11/dist-packages (from openpyxl) (2.0.0)\n",
            "Requirement already satisfied: six>=1.5 in /usr/local/lib/python3.11/dist-packages (from python-dateutil>=2.8.2->pandas) (1.17.0)\n"
          ]
        }
      ]
    },
    {
      "cell_type": "code",
      "source": [
        "import pandas as pd\n",
        "from ultralytics import YOLO\n",
        "\n",
        "# Load trained YOLO model\n",
        "model = YOLO(\"yolov8n.pt\")  # Replace with your trained model\n",
        "\n",
        "# Run YOLOv8 on a video\n",
        "results = model.predict(source=\"medicine_test.mp4\", conf=0.5, save=True)\n"
      ],
      "metadata": {
        "colab": {
          "base_uri": "https://localhost:8080/"
        },
        "id": "UV6FkXa3Eb8M",
        "outputId": "338233cc-def8-404a-d364-8165a8aa5491"
      },
      "execution_count": 12,
      "outputs": [
        {
          "output_type": "stream",
          "name": "stdout",
          "text": [
            "\n",
            "\n",
            "WARNING ⚠️ inference results will accumulate in RAM unless `stream=True` is passed, causing potential out-of-memory\n",
            "errors for large sources or long-running streams and videos. See https://docs.ultralytics.com/modes/predict/ for help.\n",
            "\n",
            "Example:\n",
            "    results = model(source=..., stream=True)  # generator of Results objects\n",
            "    for r in results:\n",
            "        boxes = r.boxes  # Boxes object for bbox outputs\n",
            "        masks = r.masks  # Masks object for segment masks outputs\n",
            "        probs = r.probs  # Class probabilities for classification outputs\n",
            "\n",
            "video 1/1 (frame 1/850) /content/medicine_test.mp4: 384x640 1 person, 17.0ms\n",
            "video 1/1 (frame 2/850) /content/medicine_test.mp4: 384x640 1 person, 7.5ms\n",
            "video 1/1 (frame 3/850) /content/medicine_test.mp4: 384x640 1 person, 7.1ms\n",
            "video 1/1 (frame 4/850) /content/medicine_test.mp4: 384x640 1 person, 6.7ms\n",
            "video 1/1 (frame 5/850) /content/medicine_test.mp4: 384x640 1 person, 6.9ms\n",
            "video 1/1 (frame 6/850) /content/medicine_test.mp4: 384x640 1 person, 6.8ms\n",
            "video 1/1 (frame 7/850) /content/medicine_test.mp4: 384x640 1 person, 7.0ms\n",
            "video 1/1 (frame 8/850) /content/medicine_test.mp4: 384x640 1 person, 6.7ms\n",
            "video 1/1 (frame 9/850) /content/medicine_test.mp4: 384x640 1 person, 7.0ms\n",
            "video 1/1 (frame 10/850) /content/medicine_test.mp4: 384x640 1 person, 6.9ms\n",
            "video 1/1 (frame 11/850) /content/medicine_test.mp4: 384x640 1 person, 6.9ms\n",
            "video 1/1 (frame 12/850) /content/medicine_test.mp4: 384x640 1 person, 7.3ms\n",
            "video 1/1 (frame 13/850) /content/medicine_test.mp4: 384x640 1 person, 6.8ms\n",
            "video 1/1 (frame 14/850) /content/medicine_test.mp4: 384x640 1 person, 6.6ms\n",
            "video 1/1 (frame 15/850) /content/medicine_test.mp4: 384x640 1 person, 6.8ms\n",
            "video 1/1 (frame 16/850) /content/medicine_test.mp4: 384x640 1 person, 7.2ms\n",
            "video 1/1 (frame 17/850) /content/medicine_test.mp4: 384x640 1 person, 6.9ms\n",
            "video 1/1 (frame 18/850) /content/medicine_test.mp4: 384x640 1 person, 6.7ms\n",
            "video 1/1 (frame 19/850) /content/medicine_test.mp4: 384x640 1 person, 6.8ms\n",
            "video 1/1 (frame 20/850) /content/medicine_test.mp4: 384x640 1 person, 7.0ms\n",
            "video 1/1 (frame 21/850) /content/medicine_test.mp4: 384x640 1 person, 6.8ms\n",
            "video 1/1 (frame 22/850) /content/medicine_test.mp4: 384x640 1 person, 7.0ms\n",
            "video 1/1 (frame 23/850) /content/medicine_test.mp4: 384x640 1 person, 7.0ms\n",
            "video 1/1 (frame 24/850) /content/medicine_test.mp4: 384x640 1 person, 7.4ms\n",
            "video 1/1 (frame 25/850) /content/medicine_test.mp4: 384x640 1 person, 6.9ms\n",
            "video 1/1 (frame 26/850) /content/medicine_test.mp4: 384x640 1 person, 6.9ms\n",
            "video 1/1 (frame 27/850) /content/medicine_test.mp4: 384x640 1 person, 7.0ms\n",
            "video 1/1 (frame 28/850) /content/medicine_test.mp4: 384x640 1 person, 6.8ms\n",
            "video 1/1 (frame 29/850) /content/medicine_test.mp4: 384x640 1 person, 6.9ms\n",
            "video 1/1 (frame 30/850) /content/medicine_test.mp4: 384x640 1 person, 10.6ms\n",
            "video 1/1 (frame 31/850) /content/medicine_test.mp4: 384x640 1 person, 7.3ms\n",
            "video 1/1 (frame 32/850) /content/medicine_test.mp4: 384x640 1 person, 9.4ms\n",
            "video 1/1 (frame 33/850) /content/medicine_test.mp4: 384x640 1 person, 10.8ms\n",
            "video 1/1 (frame 34/850) /content/medicine_test.mp4: 384x640 1 person, 7.1ms\n",
            "video 1/1 (frame 35/850) /content/medicine_test.mp4: 384x640 1 person, 11.1ms\n",
            "video 1/1 (frame 36/850) /content/medicine_test.mp4: 384x640 1 person, 7.3ms\n",
            "video 1/1 (frame 37/850) /content/medicine_test.mp4: 384x640 1 person, 6.7ms\n",
            "video 1/1 (frame 38/850) /content/medicine_test.mp4: 384x640 1 person, 7.1ms\n",
            "video 1/1 (frame 39/850) /content/medicine_test.mp4: 384x640 1 person, 7.1ms\n",
            "video 1/1 (frame 40/850) /content/medicine_test.mp4: 384x640 1 person, 7.3ms\n",
            "video 1/1 (frame 41/850) /content/medicine_test.mp4: 384x640 1 person, 7.0ms\n",
            "video 1/1 (frame 42/850) /content/medicine_test.mp4: 384x640 1 person, 7.8ms\n",
            "video 1/1 (frame 43/850) /content/medicine_test.mp4: 384x640 1 person, 6.9ms\n",
            "video 1/1 (frame 44/850) /content/medicine_test.mp4: 384x640 1 person, 7.1ms\n",
            "video 1/1 (frame 45/850) /content/medicine_test.mp4: 384x640 1 person, 6.9ms\n",
            "video 1/1 (frame 46/850) /content/medicine_test.mp4: 384x640 1 person, 7.0ms\n",
            "video 1/1 (frame 47/850) /content/medicine_test.mp4: 384x640 1 person, 6.6ms\n",
            "video 1/1 (frame 48/850) /content/medicine_test.mp4: 384x640 1 person, 6.8ms\n",
            "video 1/1 (frame 49/850) /content/medicine_test.mp4: 384x640 1 person, 6.9ms\n",
            "video 1/1 (frame 50/850) /content/medicine_test.mp4: 384x640 1 person, 7.0ms\n",
            "video 1/1 (frame 51/850) /content/medicine_test.mp4: 384x640 1 person, 6.8ms\n",
            "video 1/1 (frame 52/850) /content/medicine_test.mp4: 384x640 1 person, 7.0ms\n",
            "video 1/1 (frame 53/850) /content/medicine_test.mp4: 384x640 1 person, 6.8ms\n",
            "video 1/1 (frame 54/850) /content/medicine_test.mp4: 384x640 1 person, 7.0ms\n",
            "video 1/1 (frame 55/850) /content/medicine_test.mp4: 384x640 1 person, 6.8ms\n",
            "video 1/1 (frame 56/850) /content/medicine_test.mp4: 384x640 1 person, 6.9ms\n",
            "video 1/1 (frame 57/850) /content/medicine_test.mp4: 384x640 1 person, 6.9ms\n",
            "video 1/1 (frame 58/850) /content/medicine_test.mp4: 384x640 1 person, 7.0ms\n",
            "video 1/1 (frame 59/850) /content/medicine_test.mp4: 384x640 1 person, 6.7ms\n",
            "video 1/1 (frame 60/850) /content/medicine_test.mp4: 384x640 1 person, 7.1ms\n",
            "video 1/1 (frame 61/850) /content/medicine_test.mp4: 384x640 1 person, 6.9ms\n",
            "video 1/1 (frame 62/850) /content/medicine_test.mp4: 384x640 1 person, 6.6ms\n",
            "video 1/1 (frame 63/850) /content/medicine_test.mp4: 384x640 1 person, 6.9ms\n",
            "video 1/1 (frame 64/850) /content/medicine_test.mp4: 384x640 1 person, 6.6ms\n",
            "video 1/1 (frame 65/850) /content/medicine_test.mp4: 384x640 1 person, 7.4ms\n",
            "video 1/1 (frame 66/850) /content/medicine_test.mp4: 384x640 1 person, 6.8ms\n",
            "video 1/1 (frame 67/850) /content/medicine_test.mp4: 384x640 1 person, 7.0ms\n",
            "video 1/1 (frame 68/850) /content/medicine_test.mp4: 384x640 1 person, 6.7ms\n",
            "video 1/1 (frame 69/850) /content/medicine_test.mp4: 384x640 1 person, 6.7ms\n",
            "video 1/1 (frame 70/850) /content/medicine_test.mp4: 384x640 1 person, 12.8ms\n",
            "video 1/1 (frame 71/850) /content/medicine_test.mp4: 384x640 1 person, 9.0ms\n",
            "video 1/1 (frame 72/850) /content/medicine_test.mp4: 384x640 1 person, 9.0ms\n",
            "video 1/1 (frame 73/850) /content/medicine_test.mp4: 384x640 1 person, 10.0ms\n",
            "video 1/1 (frame 74/850) /content/medicine_test.mp4: 384x640 1 person, 6.9ms\n",
            "video 1/1 (frame 75/850) /content/medicine_test.mp4: 384x640 1 person, 6.8ms\n",
            "video 1/1 (frame 76/850) /content/medicine_test.mp4: 384x640 1 person, 7.0ms\n",
            "video 1/1 (frame 77/850) /content/medicine_test.mp4: 384x640 1 person, 7.0ms\n",
            "video 1/1 (frame 78/850) /content/medicine_test.mp4: 384x640 1 person, 6.8ms\n",
            "video 1/1 (frame 79/850) /content/medicine_test.mp4: 384x640 1 person, 6.8ms\n",
            "video 1/1 (frame 80/850) /content/medicine_test.mp4: 384x640 1 person, 6.7ms\n",
            "video 1/1 (frame 81/850) /content/medicine_test.mp4: 384x640 1 person, 9.9ms\n",
            "video 1/1 (frame 82/850) /content/medicine_test.mp4: 384x640 1 person, 6.6ms\n",
            "video 1/1 (frame 83/850) /content/medicine_test.mp4: 384x640 1 person, 7.8ms\n",
            "video 1/1 (frame 84/850) /content/medicine_test.mp4: 384x640 1 person, 6.7ms\n",
            "video 1/1 (frame 85/850) /content/medicine_test.mp4: 384x640 1 person, 7.3ms\n",
            "video 1/1 (frame 86/850) /content/medicine_test.mp4: 384x640 1 person, 6.8ms\n",
            "video 1/1 (frame 87/850) /content/medicine_test.mp4: 384x640 1 person, 11.5ms\n",
            "video 1/1 (frame 88/850) /content/medicine_test.mp4: 384x640 1 person, 14.8ms\n",
            "video 1/1 (frame 89/850) /content/medicine_test.mp4: 384x640 1 person, 9.9ms\n",
            "video 1/1 (frame 90/850) /content/medicine_test.mp4: 384x640 1 person, 11.6ms\n",
            "video 1/1 (frame 91/850) /content/medicine_test.mp4: 384x640 1 person, 7.3ms\n",
            "video 1/1 (frame 92/850) /content/medicine_test.mp4: 384x640 1 person, 7.0ms\n",
            "video 1/1 (frame 93/850) /content/medicine_test.mp4: 384x640 1 person, 7.4ms\n",
            "video 1/1 (frame 94/850) /content/medicine_test.mp4: 384x640 1 person, 6.7ms\n",
            "video 1/1 (frame 95/850) /content/medicine_test.mp4: 384x640 1 person, 7.5ms\n",
            "video 1/1 (frame 96/850) /content/medicine_test.mp4: 384x640 1 person, 7.2ms\n",
            "video 1/1 (frame 97/850) /content/medicine_test.mp4: 384x640 1 person, 6.7ms\n",
            "video 1/1 (frame 98/850) /content/medicine_test.mp4: 384x640 1 person, 6.9ms\n",
            "video 1/1 (frame 99/850) /content/medicine_test.mp4: 384x640 1 person, 6.9ms\n",
            "video 1/1 (frame 100/850) /content/medicine_test.mp4: 384x640 1 person, 7.1ms\n",
            "video 1/1 (frame 101/850) /content/medicine_test.mp4: 384x640 1 person, 6.8ms\n",
            "video 1/1 (frame 102/850) /content/medicine_test.mp4: 384x640 1 person, 8.6ms\n",
            "video 1/1 (frame 103/850) /content/medicine_test.mp4: 384x640 1 person, 6.9ms\n",
            "video 1/1 (frame 104/850) /content/medicine_test.mp4: 384x640 1 person, 6.8ms\n",
            "video 1/1 (frame 105/850) /content/medicine_test.mp4: 384x640 1 person, 7.1ms\n",
            "video 1/1 (frame 106/850) /content/medicine_test.mp4: 384x640 1 person, 7.6ms\n",
            "video 1/1 (frame 107/850) /content/medicine_test.mp4: 384x640 1 person, 14.9ms\n",
            "video 1/1 (frame 108/850) /content/medicine_test.mp4: 384x640 1 person, 9.3ms\n",
            "video 1/1 (frame 109/850) /content/medicine_test.mp4: 384x640 1 person, 9.4ms\n",
            "video 1/1 (frame 110/850) /content/medicine_test.mp4: 384x640 1 person, 6.6ms\n",
            "video 1/1 (frame 111/850) /content/medicine_test.mp4: 384x640 1 person, 6.9ms\n",
            "video 1/1 (frame 112/850) /content/medicine_test.mp4: 384x640 1 person, 6.9ms\n",
            "video 1/1 (frame 113/850) /content/medicine_test.mp4: 384x640 1 person, 6.8ms\n",
            "video 1/1 (frame 114/850) /content/medicine_test.mp4: 384x640 1 person, 7.6ms\n",
            "video 1/1 (frame 115/850) /content/medicine_test.mp4: 384x640 1 person, 6.7ms\n",
            "video 1/1 (frame 116/850) /content/medicine_test.mp4: 384x640 1 person, 6.8ms\n",
            "video 1/1 (frame 117/850) /content/medicine_test.mp4: 384x640 1 person, 8.5ms\n",
            "video 1/1 (frame 118/850) /content/medicine_test.mp4: 384x640 1 person, 7.0ms\n",
            "video 1/1 (frame 119/850) /content/medicine_test.mp4: 384x640 1 person, 6.7ms\n",
            "video 1/1 (frame 120/850) /content/medicine_test.mp4: 384x640 1 person, 6.7ms\n",
            "video 1/1 (frame 121/850) /content/medicine_test.mp4: 384x640 1 person, 6.7ms\n",
            "video 1/1 (frame 122/850) /content/medicine_test.mp4: 384x640 1 person, 6.7ms\n",
            "video 1/1 (frame 123/850) /content/medicine_test.mp4: 384x640 1 person, 7.0ms\n",
            "video 1/1 (frame 124/850) /content/medicine_test.mp4: 384x640 1 person, 7.6ms\n",
            "video 1/1 (frame 125/850) /content/medicine_test.mp4: 384x640 1 person, 6.6ms\n",
            "video 1/1 (frame 126/850) /content/medicine_test.mp4: 384x640 1 person, 6.7ms\n",
            "video 1/1 (frame 127/850) /content/medicine_test.mp4: 384x640 1 person, 6.7ms\n",
            "video 1/1 (frame 128/850) /content/medicine_test.mp4: 384x640 1 person, 7.5ms\n",
            "video 1/1 (frame 129/850) /content/medicine_test.mp4: 384x640 1 person, 6.7ms\n",
            "video 1/1 (frame 130/850) /content/medicine_test.mp4: 384x640 1 person, 7.1ms\n",
            "video 1/1 (frame 131/850) /content/medicine_test.mp4: 384x640 1 person, 6.8ms\n",
            "video 1/1 (frame 132/850) /content/medicine_test.mp4: 384x640 1 person, 7.0ms\n",
            "video 1/1 (frame 133/850) /content/medicine_test.mp4: 384x640 1 person, 7.0ms\n",
            "video 1/1 (frame 134/850) /content/medicine_test.mp4: 384x640 1 person, 6.8ms\n",
            "video 1/1 (frame 135/850) /content/medicine_test.mp4: 384x640 1 person, 6.8ms\n",
            "video 1/1 (frame 136/850) /content/medicine_test.mp4: 384x640 1 person, 6.8ms\n",
            "video 1/1 (frame 137/850) /content/medicine_test.mp4: 384x640 1 person, 6.8ms\n",
            "video 1/1 (frame 138/850) /content/medicine_test.mp4: 384x640 1 person, 11.4ms\n",
            "video 1/1 (frame 139/850) /content/medicine_test.mp4: 384x640 1 person, 12.0ms\n",
            "video 1/1 (frame 140/850) /content/medicine_test.mp4: 384x640 1 person, 10.2ms\n",
            "video 1/1 (frame 141/850) /content/medicine_test.mp4: 384x640 1 person, 12.0ms\n",
            "video 1/1 (frame 142/850) /content/medicine_test.mp4: 384x640 1 person, 9.8ms\n",
            "video 1/1 (frame 143/850) /content/medicine_test.mp4: 384x640 1 person, 14.6ms\n",
            "video 1/1 (frame 144/850) /content/medicine_test.mp4: 384x640 1 person, 18.0ms\n",
            "video 1/1 (frame 145/850) /content/medicine_test.mp4: 384x640 1 person, 12.3ms\n",
            "video 1/1 (frame 146/850) /content/medicine_test.mp4: 384x640 1 person, 10.5ms\n",
            "video 1/1 (frame 147/850) /content/medicine_test.mp4: 384x640 1 person, 12.1ms\n",
            "video 1/1 (frame 148/850) /content/medicine_test.mp4: 384x640 1 person, 13.9ms\n",
            "video 1/1 (frame 149/850) /content/medicine_test.mp4: 384x640 1 person, 14.2ms\n",
            "video 1/1 (frame 150/850) /content/medicine_test.mp4: 384x640 1 person, 13.8ms\n",
            "video 1/1 (frame 151/850) /content/medicine_test.mp4: 384x640 (no detections), 8.8ms\n",
            "video 1/1 (frame 152/850) /content/medicine_test.mp4: 384x640 (no detections), 9.4ms\n",
            "video 1/1 (frame 153/850) /content/medicine_test.mp4: 384x640 (no detections), 9.9ms\n",
            "video 1/1 (frame 154/850) /content/medicine_test.mp4: 384x640 (no detections), 8.5ms\n",
            "video 1/1 (frame 155/850) /content/medicine_test.mp4: 384x640 (no detections), 11.3ms\n",
            "video 1/1 (frame 156/850) /content/medicine_test.mp4: 384x640 (no detections), 8.7ms\n",
            "video 1/1 (frame 157/850) /content/medicine_test.mp4: 384x640 (no detections), 8.5ms\n",
            "video 1/1 (frame 158/850) /content/medicine_test.mp4: 384x640 (no detections), 8.4ms\n",
            "video 1/1 (frame 159/850) /content/medicine_test.mp4: 384x640 (no detections), 10.6ms\n",
            "video 1/1 (frame 160/850) /content/medicine_test.mp4: 384x640 (no detections), 8.4ms\n",
            "video 1/1 (frame 161/850) /content/medicine_test.mp4: 384x640 (no detections), 8.7ms\n",
            "video 1/1 (frame 162/850) /content/medicine_test.mp4: 384x640 (no detections), 8.4ms\n",
            "video 1/1 (frame 163/850) /content/medicine_test.mp4: 384x640 (no detections), 8.4ms\n",
            "video 1/1 (frame 164/850) /content/medicine_test.mp4: 384x640 (no detections), 8.0ms\n",
            "video 1/1 (frame 165/850) /content/medicine_test.mp4: 384x640 (no detections), 8.2ms\n",
            "video 1/1 (frame 166/850) /content/medicine_test.mp4: 384x640 (no detections), 8.1ms\n",
            "video 1/1 (frame 167/850) /content/medicine_test.mp4: 384x640 (no detections), 8.7ms\n",
            "video 1/1 (frame 168/850) /content/medicine_test.mp4: 384x640 (no detections), 12.5ms\n",
            "video 1/1 (frame 169/850) /content/medicine_test.mp4: 384x640 (no detections), 8.2ms\n",
            "video 1/1 (frame 170/850) /content/medicine_test.mp4: 384x640 (no detections), 8.1ms\n",
            "video 1/1 (frame 171/850) /content/medicine_test.mp4: 384x640 (no detections), 9.9ms\n",
            "video 1/1 (frame 172/850) /content/medicine_test.mp4: 384x640 (no detections), 9.1ms\n",
            "video 1/1 (frame 173/850) /content/medicine_test.mp4: 384x640 (no detections), 9.8ms\n",
            "video 1/1 (frame 174/850) /content/medicine_test.mp4: 384x640 (no detections), 8.9ms\n",
            "video 1/1 (frame 175/850) /content/medicine_test.mp4: 384x640 (no detections), 7.9ms\n",
            "video 1/1 (frame 176/850) /content/medicine_test.mp4: 384x640 (no detections), 8.1ms\n",
            "video 1/1 (frame 177/850) /content/medicine_test.mp4: 384x640 (no detections), 7.8ms\n",
            "video 1/1 (frame 178/850) /content/medicine_test.mp4: 384x640 (no detections), 7.9ms\n",
            "video 1/1 (frame 179/850) /content/medicine_test.mp4: 384x640 (no detections), 7.7ms\n",
            "video 1/1 (frame 180/850) /content/medicine_test.mp4: 384x640 (no detections), 7.9ms\n",
            "video 1/1 (frame 181/850) /content/medicine_test.mp4: 384x640 (no detections), 8.0ms\n",
            "video 1/1 (frame 182/850) /content/medicine_test.mp4: 384x640 (no detections), 7.7ms\n",
            "video 1/1 (frame 183/850) /content/medicine_test.mp4: 384x640 (no detections), 10.3ms\n",
            "video 1/1 (frame 184/850) /content/medicine_test.mp4: 384x640 (no detections), 8.8ms\n",
            "video 1/1 (frame 185/850) /content/medicine_test.mp4: 384x640 (no detections), 11.0ms\n",
            "video 1/1 (frame 186/850) /content/medicine_test.mp4: 384x640 (no detections), 8.1ms\n",
            "video 1/1 (frame 187/850) /content/medicine_test.mp4: 384x640 (no detections), 10.9ms\n",
            "video 1/1 (frame 188/850) /content/medicine_test.mp4: 384x640 (no detections), 8.4ms\n",
            "video 1/1 (frame 189/850) /content/medicine_test.mp4: 384x640 (no detections), 8.6ms\n",
            "video 1/1 (frame 190/850) /content/medicine_test.mp4: 384x640 (no detections), 8.8ms\n",
            "video 1/1 (frame 191/850) /content/medicine_test.mp4: 384x640 (no detections), 8.0ms\n",
            "video 1/1 (frame 192/850) /content/medicine_test.mp4: 384x640 (no detections), 8.5ms\n",
            "video 1/1 (frame 193/850) /content/medicine_test.mp4: 384x640 (no detections), 11.9ms\n",
            "video 1/1 (frame 194/850) /content/medicine_test.mp4: 384x640 (no detections), 12.3ms\n",
            "video 1/1 (frame 195/850) /content/medicine_test.mp4: 384x640 (no detections), 11.6ms\n",
            "video 1/1 (frame 196/850) /content/medicine_test.mp4: 384x640 (no detections), 12.5ms\n",
            "video 1/1 (frame 197/850) /content/medicine_test.mp4: 384x640 (no detections), 9.9ms\n",
            "video 1/1 (frame 198/850) /content/medicine_test.mp4: 384x640 (no detections), 9.0ms\n",
            "video 1/1 (frame 199/850) /content/medicine_test.mp4: 384x640 (no detections), 12.6ms\n",
            "video 1/1 (frame 200/850) /content/medicine_test.mp4: 384x640 (no detections), 14.7ms\n",
            "video 1/1 (frame 201/850) /content/medicine_test.mp4: 384x640 (no detections), 13.1ms\n",
            "video 1/1 (frame 202/850) /content/medicine_test.mp4: 384x640 (no detections), 20.6ms\n",
            "video 1/1 (frame 203/850) /content/medicine_test.mp4: 384x640 (no detections), 15.0ms\n",
            "video 1/1 (frame 204/850) /content/medicine_test.mp4: 384x640 (no detections), 16.7ms\n",
            "video 1/1 (frame 205/850) /content/medicine_test.mp4: 384x640 (no detections), 14.4ms\n",
            "video 1/1 (frame 206/850) /content/medicine_test.mp4: 384x640 (no detections), 11.4ms\n",
            "video 1/1 (frame 207/850) /content/medicine_test.mp4: 384x640 (no detections), 11.1ms\n",
            "video 1/1 (frame 208/850) /content/medicine_test.mp4: 384x640 (no detections), 13.6ms\n",
            "video 1/1 (frame 209/850) /content/medicine_test.mp4: 384x640 (no detections), 7.4ms\n",
            "video 1/1 (frame 210/850) /content/medicine_test.mp4: 384x640 (no detections), 7.4ms\n",
            "video 1/1 (frame 211/850) /content/medicine_test.mp4: 384x640 (no detections), 7.2ms\n",
            "video 1/1 (frame 212/850) /content/medicine_test.mp4: 384x640 (no detections), 6.8ms\n",
            "video 1/1 (frame 213/850) /content/medicine_test.mp4: 384x640 (no detections), 7.2ms\n",
            "video 1/1 (frame 214/850) /content/medicine_test.mp4: 384x640 (no detections), 6.4ms\n",
            "video 1/1 (frame 215/850) /content/medicine_test.mp4: 384x640 (no detections), 6.6ms\n",
            "video 1/1 (frame 216/850) /content/medicine_test.mp4: 384x640 (no detections), 6.6ms\n",
            "video 1/1 (frame 217/850) /content/medicine_test.mp4: 384x640 (no detections), 6.5ms\n",
            "video 1/1 (frame 218/850) /content/medicine_test.mp4: 384x640 (no detections), 6.5ms\n",
            "video 1/1 (frame 219/850) /content/medicine_test.mp4: 384x640 (no detections), 6.5ms\n",
            "video 1/1 (frame 220/850) /content/medicine_test.mp4: 384x640 (no detections), 6.4ms\n",
            "video 1/1 (frame 221/850) /content/medicine_test.mp4: 384x640 (no detections), 6.8ms\n",
            "video 1/1 (frame 222/850) /content/medicine_test.mp4: 384x640 (no detections), 6.5ms\n",
            "video 1/1 (frame 223/850) /content/medicine_test.mp4: 384x640 (no detections), 6.8ms\n",
            "video 1/1 (frame 224/850) /content/medicine_test.mp4: 384x640 (no detections), 6.7ms\n",
            "video 1/1 (frame 225/850) /content/medicine_test.mp4: 384x640 (no detections), 6.7ms\n",
            "video 1/1 (frame 226/850) /content/medicine_test.mp4: 384x640 (no detections), 7.0ms\n",
            "video 1/1 (frame 227/850) /content/medicine_test.mp4: 384x640 (no detections), 7.5ms\n",
            "video 1/1 (frame 228/850) /content/medicine_test.mp4: 384x640 (no detections), 6.4ms\n",
            "video 1/1 (frame 229/850) /content/medicine_test.mp4: 384x640 (no detections), 6.5ms\n",
            "video 1/1 (frame 230/850) /content/medicine_test.mp4: 384x640 (no detections), 6.7ms\n",
            "video 1/1 (frame 231/850) /content/medicine_test.mp4: 384x640 (no detections), 6.5ms\n",
            "video 1/1 (frame 232/850) /content/medicine_test.mp4: 384x640 (no detections), 6.7ms\n",
            "video 1/1 (frame 233/850) /content/medicine_test.mp4: 384x640 (no detections), 6.5ms\n",
            "video 1/1 (frame 234/850) /content/medicine_test.mp4: 384x640 (no detections), 6.5ms\n",
            "video 1/1 (frame 235/850) /content/medicine_test.mp4: 384x640 (no detections), 6.7ms\n",
            "video 1/1 (frame 236/850) /content/medicine_test.mp4: 384x640 (no detections), 6.7ms\n",
            "video 1/1 (frame 237/850) /content/medicine_test.mp4: 384x640 (no detections), 6.6ms\n",
            "video 1/1 (frame 238/850) /content/medicine_test.mp4: 384x640 (no detections), 9.2ms\n",
            "video 1/1 (frame 239/850) /content/medicine_test.mp4: 384x640 (no detections), 9.0ms\n",
            "video 1/1 (frame 240/850) /content/medicine_test.mp4: 384x640 (no detections), 9.2ms\n",
            "video 1/1 (frame 241/850) /content/medicine_test.mp4: 384x640 (no detections), 7.7ms\n",
            "video 1/1 (frame 242/850) /content/medicine_test.mp4: 384x640 (no detections), 6.6ms\n",
            "video 1/1 (frame 243/850) /content/medicine_test.mp4: 384x640 (no detections), 6.6ms\n",
            "video 1/1 (frame 244/850) /content/medicine_test.mp4: 384x640 (no detections), 8.0ms\n",
            "video 1/1 (frame 245/850) /content/medicine_test.mp4: 384x640 (no detections), 13.0ms\n",
            "video 1/1 (frame 246/850) /content/medicine_test.mp4: 384x640 (no detections), 6.7ms\n",
            "video 1/1 (frame 247/850) /content/medicine_test.mp4: 384x640 (no detections), 6.6ms\n",
            "video 1/1 (frame 248/850) /content/medicine_test.mp4: 384x640 (no detections), 6.6ms\n",
            "video 1/1 (frame 249/850) /content/medicine_test.mp4: 384x640 (no detections), 6.6ms\n",
            "video 1/1 (frame 250/850) /content/medicine_test.mp4: 384x640 (no detections), 7.1ms\n",
            "video 1/1 (frame 251/850) /content/medicine_test.mp4: 384x640 (no detections), 7.0ms\n",
            "video 1/1 (frame 252/850) /content/medicine_test.mp4: 384x640 (no detections), 6.8ms\n",
            "video 1/1 (frame 253/850) /content/medicine_test.mp4: 384x640 (no detections), 6.8ms\n",
            "video 1/1 (frame 254/850) /content/medicine_test.mp4: 384x640 (no detections), 6.9ms\n",
            "video 1/1 (frame 255/850) /content/medicine_test.mp4: 384x640 (no detections), 6.9ms\n",
            "video 1/1 (frame 256/850) /content/medicine_test.mp4: 384x640 (no detections), 6.5ms\n",
            "video 1/1 (frame 257/850) /content/medicine_test.mp4: 384x640 (no detections), 6.6ms\n",
            "video 1/1 (frame 258/850) /content/medicine_test.mp4: 384x640 (no detections), 6.5ms\n",
            "video 1/1 (frame 259/850) /content/medicine_test.mp4: 384x640 (no detections), 7.9ms\n",
            "video 1/1 (frame 260/850) /content/medicine_test.mp4: 384x640 (no detections), 6.5ms\n",
            "video 1/1 (frame 261/850) /content/medicine_test.mp4: 384x640 (no detections), 8.3ms\n",
            "video 1/1 (frame 262/850) /content/medicine_test.mp4: 384x640 (no detections), 6.5ms\n",
            "video 1/1 (frame 263/850) /content/medicine_test.mp4: 384x640 (no detections), 6.6ms\n",
            "video 1/1 (frame 264/850) /content/medicine_test.mp4: 384x640 (no detections), 6.6ms\n",
            "video 1/1 (frame 265/850) /content/medicine_test.mp4: 384x640 (no detections), 6.6ms\n",
            "video 1/1 (frame 266/850) /content/medicine_test.mp4: 384x640 (no detections), 6.7ms\n",
            "video 1/1 (frame 267/850) /content/medicine_test.mp4: 384x640 (no detections), 6.5ms\n",
            "video 1/1 (frame 268/850) /content/medicine_test.mp4: 384x640 (no detections), 6.6ms\n",
            "video 1/1 (frame 269/850) /content/medicine_test.mp4: 384x640 (no detections), 6.9ms\n",
            "video 1/1 (frame 270/850) /content/medicine_test.mp4: 384x640 (no detections), 6.9ms\n",
            "video 1/1 (frame 271/850) /content/medicine_test.mp4: 384x640 (no detections), 6.7ms\n",
            "video 1/1 (frame 272/850) /content/medicine_test.mp4: 384x640 (no detections), 7.1ms\n",
            "video 1/1 (frame 273/850) /content/medicine_test.mp4: 384x640 (no detections), 6.6ms\n",
            "video 1/1 (frame 274/850) /content/medicine_test.mp4: 384x640 (no detections), 6.5ms\n",
            "video 1/1 (frame 275/850) /content/medicine_test.mp4: 384x640 (no detections), 7.2ms\n",
            "video 1/1 (frame 276/850) /content/medicine_test.mp4: 384x640 (no detections), 7.4ms\n",
            "video 1/1 (frame 277/850) /content/medicine_test.mp4: 384x640 (no detections), 6.9ms\n",
            "video 1/1 (frame 278/850) /content/medicine_test.mp4: 384x640 (no detections), 6.9ms\n",
            "video 1/1 (frame 279/850) /content/medicine_test.mp4: 384x640 (no detections), 7.1ms\n",
            "video 1/1 (frame 280/850) /content/medicine_test.mp4: 384x640 (no detections), 7.1ms\n",
            "video 1/1 (frame 281/850) /content/medicine_test.mp4: 384x640 (no detections), 9.3ms\n",
            "video 1/1 (frame 282/850) /content/medicine_test.mp4: 384x640 (no detections), 9.6ms\n",
            "video 1/1 (frame 283/850) /content/medicine_test.mp4: 384x640 (no detections), 10.1ms\n",
            "video 1/1 (frame 284/850) /content/medicine_test.mp4: 384x640 (no detections), 9.2ms\n",
            "video 1/1 (frame 285/850) /content/medicine_test.mp4: 384x640 (no detections), 7.0ms\n",
            "video 1/1 (frame 286/850) /content/medicine_test.mp4: 384x640 (no detections), 7.2ms\n",
            "video 1/1 (frame 287/850) /content/medicine_test.mp4: 384x640 (no detections), 7.2ms\n",
            "video 1/1 (frame 288/850) /content/medicine_test.mp4: 384x640 (no detections), 7.1ms\n",
            "video 1/1 (frame 289/850) /content/medicine_test.mp4: 384x640 (no detections), 10.2ms\n",
            "video 1/1 (frame 290/850) /content/medicine_test.mp4: 384x640 (no detections), 7.6ms\n",
            "video 1/1 (frame 291/850) /content/medicine_test.mp4: 384x640 (no detections), 7.7ms\n",
            "video 1/1 (frame 292/850) /content/medicine_test.mp4: 384x640 (no detections), 6.7ms\n",
            "video 1/1 (frame 293/850) /content/medicine_test.mp4: 384x640 (no detections), 6.7ms\n",
            "video 1/1 (frame 294/850) /content/medicine_test.mp4: 384x640 (no detections), 8.8ms\n",
            "video 1/1 (frame 295/850) /content/medicine_test.mp4: 384x640 (no detections), 7.1ms\n",
            "video 1/1 (frame 296/850) /content/medicine_test.mp4: 384x640 (no detections), 8.5ms\n",
            "video 1/1 (frame 297/850) /content/medicine_test.mp4: 384x640 (no detections), 6.9ms\n",
            "video 1/1 (frame 298/850) /content/medicine_test.mp4: 384x640 (no detections), 6.6ms\n",
            "video 1/1 (frame 299/850) /content/medicine_test.mp4: 384x640 (no detections), 6.5ms\n",
            "video 1/1 (frame 300/850) /content/medicine_test.mp4: 384x640 (no detections), 6.8ms\n",
            "video 1/1 (frame 301/850) /content/medicine_test.mp4: 384x640 (no detections), 6.6ms\n",
            "video 1/1 (frame 302/850) /content/medicine_test.mp4: 384x640 (no detections), 6.5ms\n",
            "video 1/1 (frame 303/850) /content/medicine_test.mp4: 384x640 (no detections), 6.5ms\n",
            "video 1/1 (frame 304/850) /content/medicine_test.mp4: 384x640 (no detections), 6.6ms\n",
            "video 1/1 (frame 305/850) /content/medicine_test.mp4: 384x640 (no detections), 6.5ms\n",
            "video 1/1 (frame 306/850) /content/medicine_test.mp4: 384x640 (no detections), 6.7ms\n",
            "video 1/1 (frame 307/850) /content/medicine_test.mp4: 384x640 (no detections), 6.7ms\n",
            "video 1/1 (frame 308/850) /content/medicine_test.mp4: 384x640 (no detections), 6.7ms\n",
            "video 1/1 (frame 309/850) /content/medicine_test.mp4: 384x640 (no detections), 6.7ms\n",
            "video 1/1 (frame 310/850) /content/medicine_test.mp4: 384x640 (no detections), 6.8ms\n",
            "video 1/1 (frame 311/850) /content/medicine_test.mp4: 384x640 (no detections), 6.7ms\n",
            "video 1/1 (frame 312/850) /content/medicine_test.mp4: 384x640 (no detections), 6.5ms\n",
            "video 1/1 (frame 313/850) /content/medicine_test.mp4: 384x640 (no detections), 6.6ms\n",
            "video 1/1 (frame 314/850) /content/medicine_test.mp4: 384x640 (no detections), 6.8ms\n",
            "video 1/1 (frame 315/850) /content/medicine_test.mp4: 384x640 (no detections), 6.6ms\n",
            "video 1/1 (frame 316/850) /content/medicine_test.mp4: 384x640 (no detections), 6.6ms\n",
            "video 1/1 (frame 317/850) /content/medicine_test.mp4: 384x640 (no detections), 6.6ms\n",
            "video 1/1 (frame 318/850) /content/medicine_test.mp4: 384x640 (no detections), 6.5ms\n",
            "video 1/1 (frame 319/850) /content/medicine_test.mp4: 384x640 (no detections), 6.5ms\n",
            "video 1/1 (frame 320/850) /content/medicine_test.mp4: 384x640 (no detections), 6.7ms\n",
            "video 1/1 (frame 321/850) /content/medicine_test.mp4: 384x640 (no detections), 6.9ms\n",
            "video 1/1 (frame 322/850) /content/medicine_test.mp4: 384x640 (no detections), 6.5ms\n",
            "video 1/1 (frame 323/850) /content/medicine_test.mp4: 384x640 (no detections), 6.5ms\n",
            "video 1/1 (frame 324/850) /content/medicine_test.mp4: 384x640 (no detections), 10.6ms\n",
            "video 1/1 (frame 325/850) /content/medicine_test.mp4: 384x640 (no detections), 9.2ms\n",
            "video 1/1 (frame 326/850) /content/medicine_test.mp4: 384x640 (no detections), 9.6ms\n",
            "video 1/1 (frame 327/850) /content/medicine_test.mp4: 384x640 (no detections), 6.8ms\n",
            "video 1/1 (frame 328/850) /content/medicine_test.mp4: 384x640 (no detections), 6.6ms\n",
            "video 1/1 (frame 329/850) /content/medicine_test.mp4: 384x640 (no detections), 6.7ms\n",
            "video 1/1 (frame 330/850) /content/medicine_test.mp4: 384x640 (no detections), 6.8ms\n",
            "video 1/1 (frame 331/850) /content/medicine_test.mp4: 384x640 (no detections), 6.6ms\n",
            "video 1/1 (frame 332/850) /content/medicine_test.mp4: 384x640 (no detections), 12.6ms\n",
            "video 1/1 (frame 333/850) /content/medicine_test.mp4: 384x640 (no detections), 6.7ms\n",
            "video 1/1 (frame 334/850) /content/medicine_test.mp4: 384x640 (no detections), 7.0ms\n",
            "video 1/1 (frame 335/850) /content/medicine_test.mp4: 384x640 (no detections), 7.0ms\n",
            "video 1/1 (frame 336/850) /content/medicine_test.mp4: 384x640 (no detections), 7.4ms\n",
            "video 1/1 (frame 337/850) /content/medicine_test.mp4: 384x640 (no detections), 6.7ms\n",
            "video 1/1 (frame 338/850) /content/medicine_test.mp4: 384x640 (no detections), 6.6ms\n",
            "video 1/1 (frame 339/850) /content/medicine_test.mp4: 384x640 (no detections), 6.7ms\n",
            "video 1/1 (frame 340/850) /content/medicine_test.mp4: 384x640 (no detections), 7.4ms\n",
            "video 1/1 (frame 341/850) /content/medicine_test.mp4: 384x640 (no detections), 6.7ms\n",
            "video 1/1 (frame 342/850) /content/medicine_test.mp4: 384x640 (no detections), 7.5ms\n",
            "video 1/1 (frame 343/850) /content/medicine_test.mp4: 384x640 (no detections), 6.6ms\n",
            "video 1/1 (frame 344/850) /content/medicine_test.mp4: 384x640 (no detections), 6.5ms\n",
            "video 1/1 (frame 345/850) /content/medicine_test.mp4: 384x640 (no detections), 6.9ms\n",
            "video 1/1 (frame 346/850) /content/medicine_test.mp4: 384x640 (no detections), 8.4ms\n",
            "video 1/1 (frame 347/850) /content/medicine_test.mp4: 384x640 (no detections), 6.5ms\n",
            "video 1/1 (frame 348/850) /content/medicine_test.mp4: 384x640 (no detections), 7.2ms\n",
            "video 1/1 (frame 349/850) /content/medicine_test.mp4: 384x640 (no detections), 6.6ms\n",
            "video 1/1 (frame 350/850) /content/medicine_test.mp4: 384x640 (no detections), 6.8ms\n",
            "video 1/1 (frame 351/850) /content/medicine_test.mp4: 384x640 (no detections), 6.5ms\n",
            "video 1/1 (frame 352/850) /content/medicine_test.mp4: 384x640 (no detections), 6.5ms\n",
            "video 1/1 (frame 353/850) /content/medicine_test.mp4: 384x640 (no detections), 6.7ms\n",
            "video 1/1 (frame 354/850) /content/medicine_test.mp4: 384x640 (no detections), 8.7ms\n",
            "video 1/1 (frame 355/850) /content/medicine_test.mp4: 384x640 (no detections), 7.8ms\n",
            "video 1/1 (frame 356/850) /content/medicine_test.mp4: 384x640 (no detections), 7.0ms\n",
            "video 1/1 (frame 357/850) /content/medicine_test.mp4: 384x640 (no detections), 7.0ms\n",
            "video 1/1 (frame 358/850) /content/medicine_test.mp4: 384x640 (no detections), 6.5ms\n",
            "video 1/1 (frame 359/850) /content/medicine_test.mp4: 384x640 (no detections), 6.6ms\n",
            "video 1/1 (frame 360/850) /content/medicine_test.mp4: 384x640 (no detections), 11.3ms\n",
            "video 1/1 (frame 361/850) /content/medicine_test.mp4: 384x640 (no detections), 7.0ms\n",
            "video 1/1 (frame 362/850) /content/medicine_test.mp4: 384x640 (no detections), 7.2ms\n",
            "video 1/1 (frame 363/850) /content/medicine_test.mp4: 384x640 (no detections), 7.0ms\n",
            "video 1/1 (frame 364/850) /content/medicine_test.mp4: 384x640 (no detections), 6.7ms\n",
            "video 1/1 (frame 365/850) /content/medicine_test.mp4: 384x640 (no detections), 8.4ms\n",
            "video 1/1 (frame 366/850) /content/medicine_test.mp4: 384x640 (no detections), 8.4ms\n",
            "video 1/1 (frame 367/850) /content/medicine_test.mp4: 384x640 (no detections), 8.3ms\n",
            "video 1/1 (frame 368/850) /content/medicine_test.mp4: 384x640 (no detections), 8.4ms\n",
            "video 1/1 (frame 369/850) /content/medicine_test.mp4: 384x640 (no detections), 11.0ms\n",
            "video 1/1 (frame 370/850) /content/medicine_test.mp4: 384x640 (no detections), 9.1ms\n",
            "video 1/1 (frame 371/850) /content/medicine_test.mp4: 384x640 (no detections), 7.5ms\n",
            "video 1/1 (frame 372/850) /content/medicine_test.mp4: 384x640 (no detections), 6.6ms\n",
            "video 1/1 (frame 373/850) /content/medicine_test.mp4: 384x640 (no detections), 6.4ms\n",
            "video 1/1 (frame 374/850) /content/medicine_test.mp4: 384x640 (no detections), 12.5ms\n",
            "video 1/1 (frame 375/850) /content/medicine_test.mp4: 384x640 (no detections), 6.7ms\n",
            "video 1/1 (frame 376/850) /content/medicine_test.mp4: 384x640 (no detections), 6.6ms\n",
            "video 1/1 (frame 377/850) /content/medicine_test.mp4: 384x640 (no detections), 7.7ms\n",
            "video 1/1 (frame 378/850) /content/medicine_test.mp4: 384x640 (no detections), 6.5ms\n",
            "video 1/1 (frame 379/850) /content/medicine_test.mp4: 384x640 (no detections), 6.5ms\n",
            "video 1/1 (frame 380/850) /content/medicine_test.mp4: 384x640 (no detections), 6.4ms\n",
            "video 1/1 (frame 381/850) /content/medicine_test.mp4: 384x640 (no detections), 7.8ms\n",
            "video 1/1 (frame 382/850) /content/medicine_test.mp4: 384x640 (no detections), 7.0ms\n",
            "video 1/1 (frame 383/850) /content/medicine_test.mp4: 384x640 (no detections), 7.0ms\n",
            "video 1/1 (frame 384/850) /content/medicine_test.mp4: 384x640 (no detections), 7.1ms\n",
            "video 1/1 (frame 385/850) /content/medicine_test.mp4: 384x640 (no detections), 6.6ms\n",
            "video 1/1 (frame 386/850) /content/medicine_test.mp4: 384x640 (no detections), 6.5ms\n",
            "video 1/1 (frame 387/850) /content/medicine_test.mp4: 384x640 (no detections), 6.5ms\n",
            "video 1/1 (frame 388/850) /content/medicine_test.mp4: 384x640 (no detections), 6.5ms\n",
            "video 1/1 (frame 389/850) /content/medicine_test.mp4: 384x640 (no detections), 6.5ms\n",
            "video 1/1 (frame 390/850) /content/medicine_test.mp4: 384x640 (no detections), 6.4ms\n",
            "video 1/1 (frame 391/850) /content/medicine_test.mp4: 384x640 (no detections), 7.1ms\n",
            "video 1/1 (frame 392/850) /content/medicine_test.mp4: 384x640 (no detections), 6.5ms\n",
            "video 1/1 (frame 393/850) /content/medicine_test.mp4: 384x640 (no detections), 7.2ms\n",
            "video 1/1 (frame 394/850) /content/medicine_test.mp4: 384x640 (no detections), 6.9ms\n",
            "video 1/1 (frame 395/850) /content/medicine_test.mp4: 384x640 (no detections), 6.8ms\n",
            "video 1/1 (frame 396/850) /content/medicine_test.mp4: 384x640 (no detections), 7.4ms\n",
            "video 1/1 (frame 397/850) /content/medicine_test.mp4: 384x640 (no detections), 6.5ms\n",
            "video 1/1 (frame 398/850) /content/medicine_test.mp4: 384x640 (no detections), 6.8ms\n",
            "video 1/1 (frame 399/850) /content/medicine_test.mp4: 384x640 (no detections), 6.6ms\n",
            "video 1/1 (frame 400/850) /content/medicine_test.mp4: 384x640 (no detections), 7.1ms\n",
            "video 1/1 (frame 401/850) /content/medicine_test.mp4: 384x640 1 person, 6.5ms\n",
            "video 1/1 (frame 402/850) /content/medicine_test.mp4: 384x640 1 person, 6.7ms\n",
            "video 1/1 (frame 403/850) /content/medicine_test.mp4: 384x640 1 person, 6.6ms\n",
            "video 1/1 (frame 404/850) /content/medicine_test.mp4: 384x640 1 person, 6.6ms\n",
            "video 1/1 (frame 405/850) /content/medicine_test.mp4: 384x640 1 person, 6.6ms\n",
            "video 1/1 (frame 406/850) /content/medicine_test.mp4: 384x640 1 person, 8.8ms\n",
            "video 1/1 (frame 407/850) /content/medicine_test.mp4: 384x640 1 person, 8.5ms\n",
            "video 1/1 (frame 408/850) /content/medicine_test.mp4: 384x640 1 person, 8.7ms\n",
            "video 1/1 (frame 409/850) /content/medicine_test.mp4: 384x640 1 person, 6.7ms\n",
            "video 1/1 (frame 410/850) /content/medicine_test.mp4: 384x640 1 person, 6.8ms\n",
            "video 1/1 (frame 411/850) /content/medicine_test.mp4: 384x640 1 person, 6.8ms\n",
            "video 1/1 (frame 412/850) /content/medicine_test.mp4: 384x640 1 person, 6.5ms\n",
            "video 1/1 (frame 413/850) /content/medicine_test.mp4: 384x640 1 person, 6.7ms\n",
            "video 1/1 (frame 414/850) /content/medicine_test.mp4: 384x640 1 person, 6.4ms\n",
            "video 1/1 (frame 415/850) /content/medicine_test.mp4: 384x640 1 person, 6.5ms\n",
            "video 1/1 (frame 416/850) /content/medicine_test.mp4: 384x640 1 person, 10.5ms\n",
            "video 1/1 (frame 417/850) /content/medicine_test.mp4: 384x640 1 person, 6.8ms\n",
            "video 1/1 (frame 418/850) /content/medicine_test.mp4: 384x640 1 person, 10.6ms\n",
            "video 1/1 (frame 419/850) /content/medicine_test.mp4: 384x640 1 person, 6.7ms\n",
            "video 1/1 (frame 420/850) /content/medicine_test.mp4: 384x640 1 person, 7.0ms\n",
            "video 1/1 (frame 421/850) /content/medicine_test.mp4: 384x640 1 person, 6.7ms\n",
            "video 1/1 (frame 422/850) /content/medicine_test.mp4: 384x640 1 person, 6.8ms\n",
            "video 1/1 (frame 423/850) /content/medicine_test.mp4: 384x640 1 person, 7.6ms\n",
            "video 1/1 (frame 424/850) /content/medicine_test.mp4: 384x640 1 person, 6.6ms\n",
            "video 1/1 (frame 425/850) /content/medicine_test.mp4: 384x640 1 person, 6.5ms\n",
            "video 1/1 (frame 426/850) /content/medicine_test.mp4: 384x640 1 person, 6.7ms\n",
            "video 1/1 (frame 427/850) /content/medicine_test.mp4: 384x640 1 person, 6.6ms\n",
            "video 1/1 (frame 428/850) /content/medicine_test.mp4: 384x640 1 person, 6.6ms\n",
            "video 1/1 (frame 429/850) /content/medicine_test.mp4: 384x640 1 person, 6.6ms\n",
            "video 1/1 (frame 430/850) /content/medicine_test.mp4: 384x640 1 person, 6.9ms\n",
            "video 1/1 (frame 431/850) /content/medicine_test.mp4: 384x640 1 person, 6.7ms\n",
            "video 1/1 (frame 432/850) /content/medicine_test.mp4: 384x640 1 person, 6.7ms\n",
            "video 1/1 (frame 433/850) /content/medicine_test.mp4: 384x640 1 person, 6.6ms\n",
            "video 1/1 (frame 434/850) /content/medicine_test.mp4: 384x640 1 person, 6.7ms\n",
            "video 1/1 (frame 435/850) /content/medicine_test.mp4: 384x640 1 person, 6.9ms\n",
            "video 1/1 (frame 436/850) /content/medicine_test.mp4: 384x640 1 person, 6.8ms\n",
            "video 1/1 (frame 437/850) /content/medicine_test.mp4: 384x640 1 person, 6.5ms\n",
            "video 1/1 (frame 438/850) /content/medicine_test.mp4: 384x640 1 person, 6.5ms\n",
            "video 1/1 (frame 439/850) /content/medicine_test.mp4: 384x640 1 person, 6.9ms\n",
            "video 1/1 (frame 440/850) /content/medicine_test.mp4: 384x640 1 person, 6.6ms\n",
            "video 1/1 (frame 441/850) /content/medicine_test.mp4: 384x640 1 person, 8.1ms\n",
            "video 1/1 (frame 442/850) /content/medicine_test.mp4: 384x640 1 person, 6.6ms\n",
            "video 1/1 (frame 443/850) /content/medicine_test.mp4: 384x640 1 person, 7.1ms\n",
            "video 1/1 (frame 444/850) /content/medicine_test.mp4: 384x640 1 person, 6.5ms\n",
            "video 1/1 (frame 445/850) /content/medicine_test.mp4: 384x640 1 person, 8.4ms\n",
            "video 1/1 (frame 446/850) /content/medicine_test.mp4: 384x640 1 person, 9.7ms\n",
            "video 1/1 (frame 447/850) /content/medicine_test.mp4: 384x640 1 person, 9.0ms\n",
            "video 1/1 (frame 448/850) /content/medicine_test.mp4: 384x640 1 person, 7.0ms\n",
            "video 1/1 (frame 449/850) /content/medicine_test.mp4: 384x640 1 person, 6.8ms\n",
            "video 1/1 (frame 450/850) /content/medicine_test.mp4: 384x640 1 person, 7.0ms\n",
            "video 1/1 (frame 451/850) /content/medicine_test.mp4: 384x640 (no detections), 6.4ms\n",
            "video 1/1 (frame 452/850) /content/medicine_test.mp4: 384x640 (no detections), 7.0ms\n",
            "video 1/1 (frame 453/850) /content/medicine_test.mp4: 384x640 (no detections), 6.4ms\n",
            "video 1/1 (frame 454/850) /content/medicine_test.mp4: 384x640 (no detections), 8.6ms\n",
            "video 1/1 (frame 455/850) /content/medicine_test.mp4: 384x640 (no detections), 6.4ms\n",
            "video 1/1 (frame 456/850) /content/medicine_test.mp4: 384x640 (no detections), 7.8ms\n",
            "video 1/1 (frame 457/850) /content/medicine_test.mp4: 384x640 (no detections), 10.8ms\n",
            "video 1/1 (frame 458/850) /content/medicine_test.mp4: 384x640 (no detections), 7.2ms\n",
            "video 1/1 (frame 459/850) /content/medicine_test.mp4: 384x640 (no detections), 6.7ms\n",
            "video 1/1 (frame 460/850) /content/medicine_test.mp4: 384x640 (no detections), 6.6ms\n",
            "video 1/1 (frame 461/850) /content/medicine_test.mp4: 384x640 (no detections), 6.5ms\n",
            "video 1/1 (frame 462/850) /content/medicine_test.mp4: 384x640 (no detections), 9.8ms\n",
            "video 1/1 (frame 463/850) /content/medicine_test.mp4: 384x640 (no detections), 7.8ms\n",
            "video 1/1 (frame 464/850) /content/medicine_test.mp4: 384x640 (no detections), 6.8ms\n",
            "video 1/1 (frame 465/850) /content/medicine_test.mp4: 384x640 (no detections), 6.6ms\n",
            "video 1/1 (frame 466/850) /content/medicine_test.mp4: 384x640 (no detections), 7.2ms\n",
            "video 1/1 (frame 467/850) /content/medicine_test.mp4: 384x640 (no detections), 9.9ms\n",
            "video 1/1 (frame 468/850) /content/medicine_test.mp4: 384x640 (no detections), 7.9ms\n",
            "video 1/1 (frame 469/850) /content/medicine_test.mp4: 384x640 (no detections), 7.2ms\n",
            "video 1/1 (frame 470/850) /content/medicine_test.mp4: 384x640 (no detections), 7.4ms\n",
            "video 1/1 (frame 471/850) /content/medicine_test.mp4: 384x640 (no detections), 7.0ms\n",
            "video 1/1 (frame 472/850) /content/medicine_test.mp4: 384x640 (no detections), 7.5ms\n",
            "video 1/1 (frame 473/850) /content/medicine_test.mp4: 384x640 (no detections), 6.8ms\n",
            "video 1/1 (frame 474/850) /content/medicine_test.mp4: 384x640 (no detections), 6.9ms\n",
            "video 1/1 (frame 475/850) /content/medicine_test.mp4: 384x640 (no detections), 6.7ms\n",
            "video 1/1 (frame 476/850) /content/medicine_test.mp4: 384x640 (no detections), 6.8ms\n",
            "video 1/1 (frame 477/850) /content/medicine_test.mp4: 384x640 (no detections), 6.5ms\n",
            "video 1/1 (frame 478/850) /content/medicine_test.mp4: 384x640 (no detections), 7.0ms\n",
            "video 1/1 (frame 479/850) /content/medicine_test.mp4: 384x640 (no detections), 7.5ms\n",
            "video 1/1 (frame 480/850) /content/medicine_test.mp4: 384x640 (no detections), 7.9ms\n",
            "video 1/1 (frame 481/850) /content/medicine_test.mp4: 384x640 (no detections), 6.7ms\n",
            "video 1/1 (frame 482/850) /content/medicine_test.mp4: 384x640 (no detections), 7.0ms\n",
            "video 1/1 (frame 483/850) /content/medicine_test.mp4: 384x640 (no detections), 6.8ms\n",
            "video 1/1 (frame 484/850) /content/medicine_test.mp4: 384x640 (no detections), 6.9ms\n",
            "video 1/1 (frame 485/850) /content/medicine_test.mp4: 384x640 (no detections), 6.6ms\n",
            "video 1/1 (frame 486/850) /content/medicine_test.mp4: 384x640 (no detections), 7.7ms\n",
            "video 1/1 (frame 487/850) /content/medicine_test.mp4: 384x640 (no detections), 11.0ms\n",
            "video 1/1 (frame 488/850) /content/medicine_test.mp4: 384x640 (no detections), 11.8ms\n",
            "video 1/1 (frame 489/850) /content/medicine_test.mp4: 384x640 (no detections), 9.2ms\n",
            "video 1/1 (frame 490/850) /content/medicine_test.mp4: 384x640 (no detections), 8.5ms\n",
            "video 1/1 (frame 491/850) /content/medicine_test.mp4: 384x640 (no detections), 7.2ms\n",
            "video 1/1 (frame 492/850) /content/medicine_test.mp4: 384x640 (no detections), 7.1ms\n",
            "video 1/1 (frame 493/850) /content/medicine_test.mp4: 384x640 (no detections), 8.3ms\n",
            "video 1/1 (frame 494/850) /content/medicine_test.mp4: 384x640 (no detections), 6.5ms\n",
            "video 1/1 (frame 495/850) /content/medicine_test.mp4: 384x640 (no detections), 6.9ms\n",
            "video 1/1 (frame 496/850) /content/medicine_test.mp4: 384x640 (no detections), 6.5ms\n",
            "video 1/1 (frame 497/850) /content/medicine_test.mp4: 384x640 (no detections), 6.6ms\n",
            "video 1/1 (frame 498/850) /content/medicine_test.mp4: 384x640 (no detections), 7.2ms\n",
            "video 1/1 (frame 499/850) /content/medicine_test.mp4: 384x640 (no detections), 11.5ms\n",
            "video 1/1 (frame 500/850) /content/medicine_test.mp4: 384x640 (no detections), 6.8ms\n",
            "video 1/1 (frame 501/850) /content/medicine_test.mp4: 384x640 (no detections), 7.5ms\n",
            "video 1/1 (frame 502/850) /content/medicine_test.mp4: 384x640 (no detections), 6.7ms\n",
            "video 1/1 (frame 503/850) /content/medicine_test.mp4: 384x640 (no detections), 6.7ms\n",
            "video 1/1 (frame 504/850) /content/medicine_test.mp4: 384x640 (no detections), 6.5ms\n",
            "video 1/1 (frame 505/850) /content/medicine_test.mp4: 384x640 (no detections), 7.6ms\n",
            "video 1/1 (frame 506/850) /content/medicine_test.mp4: 384x640 (no detections), 6.6ms\n",
            "video 1/1 (frame 507/850) /content/medicine_test.mp4: 384x640 (no detections), 6.6ms\n",
            "video 1/1 (frame 508/850) /content/medicine_test.mp4: 384x640 (no detections), 9.2ms\n",
            "video 1/1 (frame 509/850) /content/medicine_test.mp4: 384x640 (no detections), 7.1ms\n",
            "video 1/1 (frame 510/850) /content/medicine_test.mp4: 384x640 (no detections), 6.5ms\n",
            "video 1/1 (frame 511/850) /content/medicine_test.mp4: 384x640 (no detections), 6.6ms\n",
            "video 1/1 (frame 512/850) /content/medicine_test.mp4: 384x640 (no detections), 7.5ms\n",
            "video 1/1 (frame 513/850) /content/medicine_test.mp4: 384x640 (no detections), 6.7ms\n",
            "video 1/1 (frame 514/850) /content/medicine_test.mp4: 384x640 (no detections), 6.5ms\n",
            "video 1/1 (frame 515/850) /content/medicine_test.mp4: 384x640 (no detections), 7.1ms\n",
            "video 1/1 (frame 516/850) /content/medicine_test.mp4: 384x640 (no detections), 6.9ms\n",
            "video 1/1 (frame 517/850) /content/medicine_test.mp4: 384x640 (no detections), 7.1ms\n",
            "video 1/1 (frame 518/850) /content/medicine_test.mp4: 384x640 (no detections), 7.5ms\n",
            "video 1/1 (frame 519/850) /content/medicine_test.mp4: 384x640 (no detections), 7.3ms\n",
            "video 1/1 (frame 520/850) /content/medicine_test.mp4: 384x640 (no detections), 7.3ms\n",
            "video 1/1 (frame 521/850) /content/medicine_test.mp4: 384x640 (no detections), 7.4ms\n",
            "video 1/1 (frame 522/850) /content/medicine_test.mp4: 384x640 (no detections), 7.1ms\n",
            "video 1/1 (frame 523/850) /content/medicine_test.mp4: 384x640 (no detections), 6.5ms\n",
            "video 1/1 (frame 524/850) /content/medicine_test.mp4: 384x640 (no detections), 6.7ms\n",
            "video 1/1 (frame 525/850) /content/medicine_test.mp4: 384x640 (no detections), 7.1ms\n",
            "video 1/1 (frame 526/850) /content/medicine_test.mp4: 384x640 (no detections), 6.5ms\n",
            "video 1/1 (frame 527/850) /content/medicine_test.mp4: 384x640 (no detections), 9.0ms\n",
            "video 1/1 (frame 528/850) /content/medicine_test.mp4: 384x640 (no detections), 10.1ms\n",
            "video 1/1 (frame 529/850) /content/medicine_test.mp4: 384x640 (no detections), 10.1ms\n",
            "video 1/1 (frame 530/850) /content/medicine_test.mp4: 384x640 (no detections), 9.2ms\n",
            "video 1/1 (frame 531/850) /content/medicine_test.mp4: 384x640 (no detections), 6.5ms\n",
            "video 1/1 (frame 532/850) /content/medicine_test.mp4: 384x640 (no detections), 7.7ms\n",
            "video 1/1 (frame 533/850) /content/medicine_test.mp4: 384x640 (no detections), 6.8ms\n",
            "video 1/1 (frame 534/850) /content/medicine_test.mp4: 384x640 (no detections), 6.7ms\n",
            "video 1/1 (frame 535/850) /content/medicine_test.mp4: 384x640 (no detections), 7.1ms\n",
            "video 1/1 (frame 536/850) /content/medicine_test.mp4: 384x640 (no detections), 6.7ms\n",
            "video 1/1 (frame 537/850) /content/medicine_test.mp4: 384x640 (no detections), 7.2ms\n",
            "video 1/1 (frame 538/850) /content/medicine_test.mp4: 384x640 (no detections), 7.0ms\n",
            "video 1/1 (frame 539/850) /content/medicine_test.mp4: 384x640 (no detections), 6.8ms\n",
            "video 1/1 (frame 540/850) /content/medicine_test.mp4: 384x640 (no detections), 6.7ms\n",
            "video 1/1 (frame 541/850) /content/medicine_test.mp4: 384x640 (no detections), 7.0ms\n",
            "video 1/1 (frame 542/850) /content/medicine_test.mp4: 384x640 (no detections), 13.5ms\n",
            "video 1/1 (frame 543/850) /content/medicine_test.mp4: 384x640 (no detections), 7.5ms\n",
            "video 1/1 (frame 544/850) /content/medicine_test.mp4: 384x640 (no detections), 6.6ms\n",
            "video 1/1 (frame 545/850) /content/medicine_test.mp4: 384x640 (no detections), 7.0ms\n",
            "video 1/1 (frame 546/850) /content/medicine_test.mp4: 384x640 (no detections), 7.2ms\n",
            "video 1/1 (frame 547/850) /content/medicine_test.mp4: 384x640 (no detections), 6.5ms\n",
            "video 1/1 (frame 548/850) /content/medicine_test.mp4: 384x640 (no detections), 6.7ms\n",
            "video 1/1 (frame 549/850) /content/medicine_test.mp4: 384x640 (no detections), 8.8ms\n",
            "video 1/1 (frame 550/850) /content/medicine_test.mp4: 384x640 (no detections), 6.7ms\n",
            "video 1/1 (frame 551/850) /content/medicine_test.mp4: 384x640 1 person, 6.4ms\n",
            "video 1/1 (frame 552/850) /content/medicine_test.mp4: 384x640 1 person, 6.4ms\n",
            "video 1/1 (frame 553/850) /content/medicine_test.mp4: 384x640 1 person, 8.1ms\n",
            "video 1/1 (frame 554/850) /content/medicine_test.mp4: 384x640 1 person, 6.8ms\n",
            "video 1/1 (frame 555/850) /content/medicine_test.mp4: 384x640 1 person, 6.5ms\n",
            "video 1/1 (frame 556/850) /content/medicine_test.mp4: 384x640 1 person, 6.6ms\n",
            "video 1/1 (frame 557/850) /content/medicine_test.mp4: 384x640 1 person, 8.1ms\n",
            "video 1/1 (frame 558/850) /content/medicine_test.mp4: 384x640 1 person, 6.9ms\n",
            "video 1/1 (frame 559/850) /content/medicine_test.mp4: 384x640 1 person, 7.0ms\n",
            "video 1/1 (frame 560/850) /content/medicine_test.mp4: 384x640 1 person, 6.7ms\n",
            "video 1/1 (frame 561/850) /content/medicine_test.mp4: 384x640 1 person, 6.5ms\n",
            "video 1/1 (frame 562/850) /content/medicine_test.mp4: 384x640 1 person, 6.7ms\n",
            "video 1/1 (frame 563/850) /content/medicine_test.mp4: 384x640 1 person, 6.7ms\n",
            "video 1/1 (frame 564/850) /content/medicine_test.mp4: 384x640 1 person, 7.0ms\n",
            "video 1/1 (frame 565/850) /content/medicine_test.mp4: 384x640 1 person, 6.8ms\n",
            "video 1/1 (frame 566/850) /content/medicine_test.mp4: 384x640 1 person, 7.8ms\n",
            "video 1/1 (frame 567/850) /content/medicine_test.mp4: 384x640 1 person, 6.8ms\n",
            "video 1/1 (frame 568/850) /content/medicine_test.mp4: 384x640 1 person, 9.5ms\n",
            "video 1/1 (frame 569/850) /content/medicine_test.mp4: 384x640 1 person, 9.8ms\n",
            "video 1/1 (frame 570/850) /content/medicine_test.mp4: 384x640 1 person, 11.3ms\n",
            "video 1/1 (frame 571/850) /content/medicine_test.mp4: 384x640 1 person, 6.7ms\n",
            "video 1/1 (frame 572/850) /content/medicine_test.mp4: 384x640 1 person, 7.4ms\n",
            "video 1/1 (frame 573/850) /content/medicine_test.mp4: 384x640 1 person, 7.1ms\n",
            "video 1/1 (frame 574/850) /content/medicine_test.mp4: 384x640 1 person, 6.9ms\n",
            "video 1/1 (frame 575/850) /content/medicine_test.mp4: 384x640 1 person, 7.8ms\n",
            "video 1/1 (frame 576/850) /content/medicine_test.mp4: 384x640 1 person, 6.5ms\n",
            "video 1/1 (frame 577/850) /content/medicine_test.mp4: 384x640 1 person, 7.5ms\n",
            "video 1/1 (frame 578/850) /content/medicine_test.mp4: 384x640 1 person, 6.6ms\n",
            "video 1/1 (frame 579/850) /content/medicine_test.mp4: 384x640 1 person, 7.0ms\n",
            "video 1/1 (frame 580/850) /content/medicine_test.mp4: 384x640 1 person, 7.7ms\n",
            "video 1/1 (frame 581/850) /content/medicine_test.mp4: 384x640 1 person, 7.1ms\n",
            "video 1/1 (frame 582/850) /content/medicine_test.mp4: 384x640 1 person, 9.9ms\n",
            "video 1/1 (frame 583/850) /content/medicine_test.mp4: 384x640 1 person, 8.2ms\n",
            "video 1/1 (frame 584/850) /content/medicine_test.mp4: 384x640 1 person, 7.4ms\n",
            "video 1/1 (frame 585/850) /content/medicine_test.mp4: 384x640 1 person, 8.0ms\n",
            "video 1/1 (frame 586/850) /content/medicine_test.mp4: 384x640 1 person, 6.6ms\n",
            "video 1/1 (frame 587/850) /content/medicine_test.mp4: 384x640 1 person, 7.1ms\n",
            "video 1/1 (frame 588/850) /content/medicine_test.mp4: 384x640 1 person, 6.6ms\n",
            "video 1/1 (frame 589/850) /content/medicine_test.mp4: 384x640 1 person, 8.8ms\n",
            "video 1/1 (frame 590/850) /content/medicine_test.mp4: 384x640 1 person, 6.9ms\n",
            "video 1/1 (frame 591/850) /content/medicine_test.mp4: 384x640 1 person, 6.6ms\n",
            "video 1/1 (frame 592/850) /content/medicine_test.mp4: 384x640 1 person, 6.5ms\n",
            "video 1/1 (frame 593/850) /content/medicine_test.mp4: 384x640 1 person, 6.4ms\n",
            "video 1/1 (frame 594/850) /content/medicine_test.mp4: 384x640 1 person, 6.5ms\n",
            "video 1/1 (frame 595/850) /content/medicine_test.mp4: 384x640 1 person, 7.1ms\n",
            "video 1/1 (frame 596/850) /content/medicine_test.mp4: 384x640 1 person, 7.0ms\n",
            "video 1/1 (frame 597/850) /content/medicine_test.mp4: 384x640 1 person, 6.8ms\n",
            "video 1/1 (frame 598/850) /content/medicine_test.mp4: 384x640 1 person, 6.9ms\n",
            "video 1/1 (frame 599/850) /content/medicine_test.mp4: 384x640 1 person, 6.6ms\n",
            "video 1/1 (frame 600/850) /content/medicine_test.mp4: 384x640 1 person, 7.0ms\n",
            "video 1/1 (frame 601/850) /content/medicine_test.mp4: 384x640 (no detections), 6.9ms\n",
            "video 1/1 (frame 602/850) /content/medicine_test.mp4: 384x640 (no detections), 6.6ms\n",
            "video 1/1 (frame 603/850) /content/medicine_test.mp4: 384x640 (no detections), 8.4ms\n",
            "video 1/1 (frame 604/850) /content/medicine_test.mp4: 384x640 (no detections), 6.6ms\n",
            "video 1/1 (frame 605/850) /content/medicine_test.mp4: 384x640 (no detections), 6.6ms\n",
            "video 1/1 (frame 606/850) /content/medicine_test.mp4: 384x640 (no detections), 8.5ms\n",
            "video 1/1 (frame 607/850) /content/medicine_test.mp4: 384x640 (no detections), 9.6ms\n",
            "video 1/1 (frame 608/850) /content/medicine_test.mp4: 384x640 (no detections), 9.0ms\n",
            "video 1/1 (frame 609/850) /content/medicine_test.mp4: 384x640 (no detections), 8.8ms\n",
            "video 1/1 (frame 610/850) /content/medicine_test.mp4: 384x640 (no detections), 7.4ms\n",
            "video 1/1 (frame 611/850) /content/medicine_test.mp4: 384x640 (no detections), 8.3ms\n",
            "video 1/1 (frame 612/850) /content/medicine_test.mp4: 384x640 (no detections), 6.8ms\n",
            "video 1/1 (frame 613/850) /content/medicine_test.mp4: 384x640 (no detections), 7.2ms\n",
            "video 1/1 (frame 614/850) /content/medicine_test.mp4: 384x640 (no detections), 6.6ms\n",
            "video 1/1 (frame 615/850) /content/medicine_test.mp4: 384x640 (no detections), 7.5ms\n",
            "video 1/1 (frame 616/850) /content/medicine_test.mp4: 384x640 (no detections), 6.6ms\n",
            "video 1/1 (frame 617/850) /content/medicine_test.mp4: 384x640 (no detections), 9.1ms\n",
            "video 1/1 (frame 618/850) /content/medicine_test.mp4: 384x640 (no detections), 7.3ms\n",
            "video 1/1 (frame 619/850) /content/medicine_test.mp4: 384x640 (no detections), 6.8ms\n",
            "video 1/1 (frame 620/850) /content/medicine_test.mp4: 384x640 (no detections), 12.7ms\n",
            "video 1/1 (frame 621/850) /content/medicine_test.mp4: 384x640 (no detections), 9.7ms\n",
            "video 1/1 (frame 622/850) /content/medicine_test.mp4: 384x640 (no detections), 15.9ms\n",
            "video 1/1 (frame 623/850) /content/medicine_test.mp4: 384x640 (no detections), 10.3ms\n",
            "video 1/1 (frame 624/850) /content/medicine_test.mp4: 384x640 (no detections), 11.1ms\n",
            "video 1/1 (frame 625/850) /content/medicine_test.mp4: 384x640 (no detections), 17.3ms\n",
            "video 1/1 (frame 626/850) /content/medicine_test.mp4: 384x640 (no detections), 9.3ms\n",
            "video 1/1 (frame 627/850) /content/medicine_test.mp4: 384x640 (no detections), 11.0ms\n",
            "video 1/1 (frame 628/850) /content/medicine_test.mp4: 384x640 (no detections), 10.0ms\n",
            "video 1/1 (frame 629/850) /content/medicine_test.mp4: 384x640 (no detections), 7.8ms\n",
            "video 1/1 (frame 630/850) /content/medicine_test.mp4: 384x640 (no detections), 8.1ms\n",
            "video 1/1 (frame 631/850) /content/medicine_test.mp4: 384x640 (no detections), 12.4ms\n",
            "video 1/1 (frame 632/850) /content/medicine_test.mp4: 384x640 (no detections), 11.1ms\n",
            "video 1/1 (frame 633/850) /content/medicine_test.mp4: 384x640 (no detections), 16.5ms\n",
            "video 1/1 (frame 634/850) /content/medicine_test.mp4: 384x640 (no detections), 11.0ms\n",
            "video 1/1 (frame 635/850) /content/medicine_test.mp4: 384x640 (no detections), 8.3ms\n",
            "video 1/1 (frame 636/850) /content/medicine_test.mp4: 384x640 (no detections), 8.7ms\n",
            "video 1/1 (frame 637/850) /content/medicine_test.mp4: 384x640 (no detections), 9.2ms\n",
            "video 1/1 (frame 638/850) /content/medicine_test.mp4: 384x640 (no detections), 10.2ms\n",
            "video 1/1 (frame 639/850) /content/medicine_test.mp4: 384x640 (no detections), 11.3ms\n",
            "video 1/1 (frame 640/850) /content/medicine_test.mp4: 384x640 (no detections), 11.2ms\n",
            "video 1/1 (frame 641/850) /content/medicine_test.mp4: 384x640 (no detections), 8.2ms\n",
            "video 1/1 (frame 642/850) /content/medicine_test.mp4: 384x640 (no detections), 8.3ms\n",
            "video 1/1 (frame 643/850) /content/medicine_test.mp4: 384x640 (no detections), 8.2ms\n",
            "video 1/1 (frame 644/850) /content/medicine_test.mp4: 384x640 (no detections), 9.8ms\n",
            "video 1/1 (frame 645/850) /content/medicine_test.mp4: 384x640 (no detections), 8.3ms\n",
            "video 1/1 (frame 646/850) /content/medicine_test.mp4: 384x640 (no detections), 8.9ms\n",
            "video 1/1 (frame 647/850) /content/medicine_test.mp4: 384x640 (no detections), 13.2ms\n",
            "video 1/1 (frame 648/850) /content/medicine_test.mp4: 384x640 (no detections), 8.4ms\n",
            "video 1/1 (frame 649/850) /content/medicine_test.mp4: 384x640 (no detections), 8.1ms\n",
            "video 1/1 (frame 650/850) /content/medicine_test.mp4: 384x640 (no detections), 8.2ms\n",
            "video 1/1 (frame 651/850) /content/medicine_test.mp4: 384x640 1 person, 8.2ms\n",
            "video 1/1 (frame 652/850) /content/medicine_test.mp4: 384x640 1 person, 11.0ms\n",
            "video 1/1 (frame 653/850) /content/medicine_test.mp4: 384x640 1 person, 13.8ms\n",
            "video 1/1 (frame 654/850) /content/medicine_test.mp4: 384x640 1 person, 8.3ms\n",
            "video 1/1 (frame 655/850) /content/medicine_test.mp4: 384x640 1 person, 9.9ms\n",
            "video 1/1 (frame 656/850) /content/medicine_test.mp4: 384x640 1 person, 7.7ms\n",
            "video 1/1 (frame 657/850) /content/medicine_test.mp4: 384x640 1 person, 8.1ms\n",
            "video 1/1 (frame 658/850) /content/medicine_test.mp4: 384x640 1 person, 7.8ms\n",
            "video 1/1 (frame 659/850) /content/medicine_test.mp4: 384x640 1 person, 8.2ms\n",
            "video 1/1 (frame 660/850) /content/medicine_test.mp4: 384x640 1 person, 7.8ms\n",
            "video 1/1 (frame 661/850) /content/medicine_test.mp4: 384x640 1 person, 7.8ms\n",
            "video 1/1 (frame 662/850) /content/medicine_test.mp4: 384x640 1 person, 8.3ms\n",
            "video 1/1 (frame 663/850) /content/medicine_test.mp4: 384x640 1 person, 7.9ms\n",
            "video 1/1 (frame 664/850) /content/medicine_test.mp4: 384x640 1 person, 9.5ms\n",
            "video 1/1 (frame 665/850) /content/medicine_test.mp4: 384x640 1 person, 8.0ms\n",
            "video 1/1 (frame 666/850) /content/medicine_test.mp4: 384x640 1 person, 13.5ms\n",
            "video 1/1 (frame 667/850) /content/medicine_test.mp4: 384x640 1 person, 10.8ms\n",
            "video 1/1 (frame 668/850) /content/medicine_test.mp4: 384x640 1 person, 12.7ms\n",
            "video 1/1 (frame 669/850) /content/medicine_test.mp4: 384x640 1 person, 10.0ms\n",
            "video 1/1 (frame 670/850) /content/medicine_test.mp4: 384x640 1 person, 8.4ms\n",
            "video 1/1 (frame 671/850) /content/medicine_test.mp4: 384x640 1 person, 11.0ms\n",
            "video 1/1 (frame 672/850) /content/medicine_test.mp4: 384x640 1 person, 10.0ms\n",
            "video 1/1 (frame 673/850) /content/medicine_test.mp4: 384x640 1 person, 10.2ms\n",
            "video 1/1 (frame 674/850) /content/medicine_test.mp4: 384x640 1 person, 12.3ms\n",
            "video 1/1 (frame 675/850) /content/medicine_test.mp4: 384x640 1 person, 8.2ms\n",
            "video 1/1 (frame 676/850) /content/medicine_test.mp4: 384x640 1 person, 11.3ms\n",
            "video 1/1 (frame 677/850) /content/medicine_test.mp4: 384x640 1 person, 13.7ms\n",
            "video 1/1 (frame 678/850) /content/medicine_test.mp4: 384x640 1 person, 16.3ms\n",
            "video 1/1 (frame 679/850) /content/medicine_test.mp4: 384x640 1 person, 9.4ms\n",
            "video 1/1 (frame 680/850) /content/medicine_test.mp4: 384x640 1 person, 16.8ms\n",
            "video 1/1 (frame 681/850) /content/medicine_test.mp4: 384x640 1 person, 10.9ms\n",
            "video 1/1 (frame 682/850) /content/medicine_test.mp4: 384x640 1 person, 10.6ms\n",
            "video 1/1 (frame 683/850) /content/medicine_test.mp4: 384x640 1 person, 11.8ms\n",
            "video 1/1 (frame 684/850) /content/medicine_test.mp4: 384x640 1 person, 12.4ms\n",
            "video 1/1 (frame 685/850) /content/medicine_test.mp4: 384x640 1 person, 10.8ms\n",
            "video 1/1 (frame 686/850) /content/medicine_test.mp4: 384x640 1 person, 10.7ms\n",
            "video 1/1 (frame 687/850) /content/medicine_test.mp4: 384x640 1 person, 11.2ms\n",
            "video 1/1 (frame 688/850) /content/medicine_test.mp4: 384x640 1 person, 10.6ms\n",
            "video 1/1 (frame 689/850) /content/medicine_test.mp4: 384x640 1 person, 10.7ms\n",
            "video 1/1 (frame 690/850) /content/medicine_test.mp4: 384x640 1 person, 11.5ms\n",
            "video 1/1 (frame 691/850) /content/medicine_test.mp4: 384x640 1 person, 8.3ms\n",
            "video 1/1 (frame 692/850) /content/medicine_test.mp4: 384x640 1 person, 6.7ms\n",
            "video 1/1 (frame 693/850) /content/medicine_test.mp4: 384x640 1 person, 8.7ms\n",
            "video 1/1 (frame 694/850) /content/medicine_test.mp4: 384x640 1 person, 9.3ms\n",
            "video 1/1 (frame 695/850) /content/medicine_test.mp4: 384x640 1 person, 9.8ms\n",
            "video 1/1 (frame 696/850) /content/medicine_test.mp4: 384x640 1 person, 7.3ms\n",
            "video 1/1 (frame 697/850) /content/medicine_test.mp4: 384x640 1 person, 6.6ms\n",
            "video 1/1 (frame 698/850) /content/medicine_test.mp4: 384x640 1 person, 6.9ms\n",
            "video 1/1 (frame 699/850) /content/medicine_test.mp4: 384x640 1 person, 6.5ms\n",
            "video 1/1 (frame 700/850) /content/medicine_test.mp4: 384x640 1 person, 6.5ms\n",
            "video 1/1 (frame 701/850) /content/medicine_test.mp4: 384x640 1 person, 6.4ms\n",
            "video 1/1 (frame 702/850) /content/medicine_test.mp4: 384x640 1 person, 6.4ms\n",
            "video 1/1 (frame 703/850) /content/medicine_test.mp4: 384x640 1 person, 6.4ms\n",
            "video 1/1 (frame 704/850) /content/medicine_test.mp4: 384x640 1 person, 6.3ms\n",
            "video 1/1 (frame 705/850) /content/medicine_test.mp4: 384x640 1 person, 6.7ms\n",
            "video 1/1 (frame 706/850) /content/medicine_test.mp4: 384x640 1 person, 6.7ms\n",
            "video 1/1 (frame 707/850) /content/medicine_test.mp4: 384x640 1 person, 6.6ms\n",
            "video 1/1 (frame 708/850) /content/medicine_test.mp4: 384x640 1 person, 6.4ms\n",
            "video 1/1 (frame 709/850) /content/medicine_test.mp4: 384x640 1 person, 7.9ms\n",
            "video 1/1 (frame 710/850) /content/medicine_test.mp4: 384x640 1 person, 6.6ms\n",
            "video 1/1 (frame 711/850) /content/medicine_test.mp4: 384x640 1 person, 7.3ms\n",
            "video 1/1 (frame 712/850) /content/medicine_test.mp4: 384x640 1 person, 7.2ms\n",
            "video 1/1 (frame 713/850) /content/medicine_test.mp4: 384x640 1 person, 7.2ms\n",
            "video 1/1 (frame 714/850) /content/medicine_test.mp4: 384x640 1 person, 10.6ms\n",
            "video 1/1 (frame 715/850) /content/medicine_test.mp4: 384x640 1 person, 7.5ms\n",
            "video 1/1 (frame 716/850) /content/medicine_test.mp4: 384x640 1 person, 6.6ms\n",
            "video 1/1 (frame 717/850) /content/medicine_test.mp4: 384x640 1 person, 8.4ms\n",
            "video 1/1 (frame 718/850) /content/medicine_test.mp4: 384x640 1 person, 6.8ms\n",
            "video 1/1 (frame 719/850) /content/medicine_test.mp4: 384x640 1 person, 7.8ms\n",
            "video 1/1 (frame 720/850) /content/medicine_test.mp4: 384x640 1 person, 6.7ms\n",
            "video 1/1 (frame 721/850) /content/medicine_test.mp4: 384x640 1 person, 6.6ms\n",
            "video 1/1 (frame 722/850) /content/medicine_test.mp4: 384x640 1 person, 6.9ms\n",
            "video 1/1 (frame 723/850) /content/medicine_test.mp4: 384x640 1 person, 6.5ms\n",
            "video 1/1 (frame 724/850) /content/medicine_test.mp4: 384x640 1 person, 6.8ms\n",
            "video 1/1 (frame 725/850) /content/medicine_test.mp4: 384x640 1 person, 7.1ms\n",
            "video 1/1 (frame 726/850) /content/medicine_test.mp4: 384x640 1 person, 6.5ms\n",
            "video 1/1 (frame 727/850) /content/medicine_test.mp4: 384x640 1 person, 7.5ms\n",
            "video 1/1 (frame 728/850) /content/medicine_test.mp4: 384x640 1 person, 7.3ms\n",
            "video 1/1 (frame 729/850) /content/medicine_test.mp4: 384x640 1 person, 6.9ms\n",
            "video 1/1 (frame 730/850) /content/medicine_test.mp4: 384x640 1 person, 11.2ms\n",
            "video 1/1 (frame 731/850) /content/medicine_test.mp4: 384x640 1 person, 6.7ms\n",
            "video 1/1 (frame 732/850) /content/medicine_test.mp4: 384x640 1 person, 18.6ms\n",
            "video 1/1 (frame 733/850) /content/medicine_test.mp4: 384x640 1 person, 8.9ms\n",
            "video 1/1 (frame 734/850) /content/medicine_test.mp4: 384x640 1 person, 10.6ms\n",
            "video 1/1 (frame 735/850) /content/medicine_test.mp4: 384x640 1 person, 9.0ms\n",
            "video 1/1 (frame 736/850) /content/medicine_test.mp4: 384x640 1 person, 9.1ms\n",
            "video 1/1 (frame 737/850) /content/medicine_test.mp4: 384x640 1 person, 7.0ms\n",
            "video 1/1 (frame 738/850) /content/medicine_test.mp4: 384x640 1 person, 6.6ms\n",
            "video 1/1 (frame 739/850) /content/medicine_test.mp4: 384x640 1 person, 6.5ms\n",
            "video 1/1 (frame 740/850) /content/medicine_test.mp4: 384x640 1 person, 6.7ms\n",
            "video 1/1 (frame 741/850) /content/medicine_test.mp4: 384x640 1 person, 8.1ms\n",
            "video 1/1 (frame 742/850) /content/medicine_test.mp4: 384x640 1 person, 7.4ms\n",
            "video 1/1 (frame 743/850) /content/medicine_test.mp4: 384x640 1 person, 8.6ms\n",
            "video 1/1 (frame 744/850) /content/medicine_test.mp4: 384x640 1 person, 6.6ms\n",
            "video 1/1 (frame 745/850) /content/medicine_test.mp4: 384x640 1 person, 6.6ms\n",
            "video 1/1 (frame 746/850) /content/medicine_test.mp4: 384x640 1 person, 6.4ms\n",
            "video 1/1 (frame 747/850) /content/medicine_test.mp4: 384x640 1 person, 8.9ms\n",
            "video 1/1 (frame 748/850) /content/medicine_test.mp4: 384x640 1 person, 6.5ms\n",
            "video 1/1 (frame 749/850) /content/medicine_test.mp4: 384x640 1 person, 7.9ms\n",
            "video 1/1 (frame 750/850) /content/medicine_test.mp4: 384x640 1 person, 6.8ms\n",
            "video 1/1 (frame 751/850) /content/medicine_test.mp4: 384x640 (no detections), 13.7ms\n",
            "video 1/1 (frame 752/850) /content/medicine_test.mp4: 384x640 (no detections), 7.4ms\n",
            "video 1/1 (frame 753/850) /content/medicine_test.mp4: 384x640 (no detections), 9.7ms\n",
            "video 1/1 (frame 754/850) /content/medicine_test.mp4: 384x640 (no detections), 6.7ms\n",
            "video 1/1 (frame 755/850) /content/medicine_test.mp4: 384x640 (no detections), 6.6ms\n",
            "video 1/1 (frame 756/850) /content/medicine_test.mp4: 384x640 (no detections), 7.1ms\n",
            "video 1/1 (frame 757/850) /content/medicine_test.mp4: 384x640 (no detections), 6.5ms\n",
            "video 1/1 (frame 758/850) /content/medicine_test.mp4: 384x640 (no detections), 7.5ms\n",
            "video 1/1 (frame 759/850) /content/medicine_test.mp4: 384x640 (no detections), 7.9ms\n",
            "video 1/1 (frame 760/850) /content/medicine_test.mp4: 384x640 (no detections), 7.2ms\n",
            "video 1/1 (frame 761/850) /content/medicine_test.mp4: 384x640 (no detections), 6.5ms\n",
            "video 1/1 (frame 762/850) /content/medicine_test.mp4: 384x640 (no detections), 7.2ms\n",
            "video 1/1 (frame 763/850) /content/medicine_test.mp4: 384x640 (no detections), 6.7ms\n",
            "video 1/1 (frame 764/850) /content/medicine_test.mp4: 384x640 (no detections), 7.7ms\n",
            "video 1/1 (frame 765/850) /content/medicine_test.mp4: 384x640 (no detections), 7.4ms\n",
            "video 1/1 (frame 766/850) /content/medicine_test.mp4: 384x640 (no detections), 6.5ms\n",
            "video 1/1 (frame 767/850) /content/medicine_test.mp4: 384x640 (no detections), 7.4ms\n",
            "video 1/1 (frame 768/850) /content/medicine_test.mp4: 384x640 (no detections), 8.4ms\n",
            "video 1/1 (frame 769/850) /content/medicine_test.mp4: 384x640 (no detections), 6.9ms\n",
            "video 1/1 (frame 770/850) /content/medicine_test.mp4: 384x640 (no detections), 7.0ms\n",
            "video 1/1 (frame 771/850) /content/medicine_test.mp4: 384x640 (no detections), 9.4ms\n",
            "video 1/1 (frame 772/850) /content/medicine_test.mp4: 384x640 (no detections), 9.1ms\n",
            "video 1/1 (frame 773/850) /content/medicine_test.mp4: 384x640 (no detections), 8.8ms\n",
            "video 1/1 (frame 774/850) /content/medicine_test.mp4: 384x640 (no detections), 8.9ms\n",
            "video 1/1 (frame 775/850) /content/medicine_test.mp4: 384x640 (no detections), 6.5ms\n",
            "video 1/1 (frame 776/850) /content/medicine_test.mp4: 384x640 (no detections), 6.8ms\n",
            "video 1/1 (frame 777/850) /content/medicine_test.mp4: 384x640 (no detections), 6.7ms\n",
            "video 1/1 (frame 778/850) /content/medicine_test.mp4: 384x640 (no detections), 6.7ms\n",
            "video 1/1 (frame 779/850) /content/medicine_test.mp4: 384x640 (no detections), 7.9ms\n",
            "video 1/1 (frame 780/850) /content/medicine_test.mp4: 384x640 (no detections), 6.7ms\n",
            "video 1/1 (frame 781/850) /content/medicine_test.mp4: 384x640 (no detections), 6.9ms\n",
            "video 1/1 (frame 782/850) /content/medicine_test.mp4: 384x640 (no detections), 6.6ms\n",
            "video 1/1 (frame 783/850) /content/medicine_test.mp4: 384x640 (no detections), 6.8ms\n",
            "video 1/1 (frame 784/850) /content/medicine_test.mp4: 384x640 (no detections), 9.1ms\n",
            "video 1/1 (frame 785/850) /content/medicine_test.mp4: 384x640 (no detections), 6.6ms\n",
            "video 1/1 (frame 786/850) /content/medicine_test.mp4: 384x640 (no detections), 11.6ms\n",
            "video 1/1 (frame 787/850) /content/medicine_test.mp4: 384x640 (no detections), 10.0ms\n",
            "video 1/1 (frame 788/850) /content/medicine_test.mp4: 384x640 (no detections), 11.3ms\n",
            "video 1/1 (frame 789/850) /content/medicine_test.mp4: 384x640 (no detections), 6.9ms\n",
            "video 1/1 (frame 790/850) /content/medicine_test.mp4: 384x640 (no detections), 6.8ms\n",
            "video 1/1 (frame 791/850) /content/medicine_test.mp4: 384x640 (no detections), 7.8ms\n",
            "video 1/1 (frame 792/850) /content/medicine_test.mp4: 384x640 (no detections), 8.6ms\n",
            "video 1/1 (frame 793/850) /content/medicine_test.mp4: 384x640 (no detections), 6.7ms\n",
            "video 1/1 (frame 794/850) /content/medicine_test.mp4: 384x640 (no detections), 11.0ms\n",
            "video 1/1 (frame 795/850) /content/medicine_test.mp4: 384x640 (no detections), 9.9ms\n",
            "video 1/1 (frame 796/850) /content/medicine_test.mp4: 384x640 (no detections), 6.9ms\n",
            "video 1/1 (frame 797/850) /content/medicine_test.mp4: 384x640 (no detections), 6.7ms\n",
            "video 1/1 (frame 798/850) /content/medicine_test.mp4: 384x640 (no detections), 6.9ms\n",
            "video 1/1 (frame 799/850) /content/medicine_test.mp4: 384x640 (no detections), 6.9ms\n",
            "video 1/1 (frame 800/850) /content/medicine_test.mp4: 384x640 (no detections), 7.2ms\n",
            "video 1/1 (frame 801/850) /content/medicine_test.mp4: 384x640 1 person, 1 book, 6.8ms\n",
            "video 1/1 (frame 802/850) /content/medicine_test.mp4: 384x640 1 person, 1 book, 6.6ms\n",
            "video 1/1 (frame 803/850) /content/medicine_test.mp4: 384x640 1 person, 1 book, 6.5ms\n",
            "video 1/1 (frame 804/850) /content/medicine_test.mp4: 384x640 1 person, 1 book, 7.4ms\n",
            "video 1/1 (frame 805/850) /content/medicine_test.mp4: 384x640 1 person, 1 book, 8.1ms\n",
            "video 1/1 (frame 806/850) /content/medicine_test.mp4: 384x640 1 person, 1 book, 6.8ms\n",
            "video 1/1 (frame 807/850) /content/medicine_test.mp4: 384x640 1 person, 1 book, 7.3ms\n",
            "video 1/1 (frame 808/850) /content/medicine_test.mp4: 384x640 1 person, 1 book, 8.2ms\n",
            "video 1/1 (frame 809/850) /content/medicine_test.mp4: 384x640 1 person, 1 book, 9.7ms\n",
            "video 1/1 (frame 810/850) /content/medicine_test.mp4: 384x640 1 person, 1 book, 11.3ms\n",
            "video 1/1 (frame 811/850) /content/medicine_test.mp4: 384x640 1 person, 1 book, 9.8ms\n",
            "video 1/1 (frame 812/850) /content/medicine_test.mp4: 384x640 1 person, 1 book, 7.3ms\n",
            "video 1/1 (frame 813/850) /content/medicine_test.mp4: 384x640 1 person, 1 book, 7.3ms\n",
            "video 1/1 (frame 814/850) /content/medicine_test.mp4: 384x640 1 person, 1 book, 6.9ms\n",
            "video 1/1 (frame 815/850) /content/medicine_test.mp4: 384x640 1 person, 1 book, 6.8ms\n",
            "video 1/1 (frame 816/850) /content/medicine_test.mp4: 384x640 1 person, 1 book, 7.7ms\n",
            "video 1/1 (frame 817/850) /content/medicine_test.mp4: 384x640 1 person, 1 book, 6.7ms\n",
            "video 1/1 (frame 818/850) /content/medicine_test.mp4: 384x640 1 person, 1 book, 7.4ms\n",
            "video 1/1 (frame 819/850) /content/medicine_test.mp4: 384x640 1 person, 1 book, 7.4ms\n",
            "video 1/1 (frame 820/850) /content/medicine_test.mp4: 384x640 1 person, 1 book, 6.6ms\n",
            "video 1/1 (frame 821/850) /content/medicine_test.mp4: 384x640 1 person, 1 book, 6.7ms\n",
            "video 1/1 (frame 822/850) /content/medicine_test.mp4: 384x640 1 person, 1 book, 6.6ms\n",
            "video 1/1 (frame 823/850) /content/medicine_test.mp4: 384x640 1 person, 1 book, 7.0ms\n",
            "video 1/1 (frame 824/850) /content/medicine_test.mp4: 384x640 1 person, 1 book, 8.2ms\n",
            "video 1/1 (frame 825/850) /content/medicine_test.mp4: 384x640 1 person, 1 book, 6.6ms\n",
            "video 1/1 (frame 826/850) /content/medicine_test.mp4: 384x640 1 person, 1 book, 7.0ms\n",
            "video 1/1 (frame 827/850) /content/medicine_test.mp4: 384x640 1 person, 1 book, 7.4ms\n",
            "video 1/1 (frame 828/850) /content/medicine_test.mp4: 384x640 1 person, 1 book, 7.7ms\n",
            "video 1/1 (frame 829/850) /content/medicine_test.mp4: 384x640 1 person, 1 book, 8.8ms\n",
            "video 1/1 (frame 830/850) /content/medicine_test.mp4: 384x640 1 person, 1 book, 6.7ms\n",
            "video 1/1 (frame 831/850) /content/medicine_test.mp4: 384x640 1 person, 1 book, 7.3ms\n",
            "video 1/1 (frame 832/850) /content/medicine_test.mp4: 384x640 1 person, 1 book, 11.1ms\n",
            "video 1/1 (frame 833/850) /content/medicine_test.mp4: 384x640 1 person, 1 book, 7.2ms\n",
            "video 1/1 (frame 834/850) /content/medicine_test.mp4: 384x640 1 person, 1 book, 7.6ms\n",
            "video 1/1 (frame 835/850) /content/medicine_test.mp4: 384x640 1 person, 1 book, 6.6ms\n",
            "video 1/1 (frame 836/850) /content/medicine_test.mp4: 384x640 1 person, 1 book, 7.0ms\n",
            "video 1/1 (frame 837/850) /content/medicine_test.mp4: 384x640 1 person, 1 book, 6.9ms\n",
            "video 1/1 (frame 838/850) /content/medicine_test.mp4: 384x640 1 person, 1 book, 6.9ms\n",
            "video 1/1 (frame 839/850) /content/medicine_test.mp4: 384x640 1 person, 1 book, 7.0ms\n",
            "video 1/1 (frame 840/850) /content/medicine_test.mp4: 384x640 1 person, 1 book, 9.0ms\n",
            "video 1/1 (frame 841/850) /content/medicine_test.mp4: 384x640 1 person, 1 book, 6.7ms\n",
            "video 1/1 (frame 842/850) /content/medicine_test.mp4: 384x640 1 person, 1 book, 7.2ms\n",
            "video 1/1 (frame 843/850) /content/medicine_test.mp4: 384x640 1 person, 1 book, 13.8ms\n",
            "video 1/1 (frame 844/850) /content/medicine_test.mp4: 384x640 1 person, 1 book, 6.9ms\n",
            "video 1/1 (frame 845/850) /content/medicine_test.mp4: 384x640 1 person, 1 book, 11.4ms\n",
            "video 1/1 (frame 846/850) /content/medicine_test.mp4: 384x640 1 person, 1 book, 8.4ms\n",
            "video 1/1 (frame 847/850) /content/medicine_test.mp4: 384x640 1 person, 1 book, 9.8ms\n",
            "video 1/1 (frame 848/850) /content/medicine_test.mp4: 384x640 1 person, 1 book, 6.8ms\n",
            "video 1/1 (frame 849/850) /content/medicine_test.mp4: 384x640 1 person, 1 book, 7.5ms\n",
            "video 1/1 (frame 850/850) /content/medicine_test.mp4: 384x640 1 person, 1 book, 6.6ms\n",
            "Speed: 2.0ms preprocess, 7.9ms inference, 0.9ms postprocess per image at shape (1, 3, 384, 640)\n",
            "Results saved to \u001b[1mruns/detect/predict\u001b[0m\n"
          ]
        }
      ]
    },
    {
      "cell_type": "code",
      "source": [
        "# Initialize list to store results\n",
        "data = []\n",
        "\n",
        "# Loop through each frame's detections\n",
        "for result in results:\n",
        "    for box in result.boxes:\n",
        "        x1, y1, x2, y2 = box.xyxy[0].tolist()  # Bounding box coordinates\n",
        "        conf = box.conf[0].item()  # Confidence score\n",
        "        class_id = int(box.cls[0].item())  # Class ID\n",
        "\n",
        "        # Append detection details to the list\n",
        "        data.append([x1, y1, x2, y2, conf, class_id])\n",
        "\n",
        "# Convert the data to a DataFrame\n",
        "df = pd.DataFrame(data, columns=[\"X1\", \"Y1\", \"X2\", \"Y2\", \"Confidence\", \"Class_ID\"])\n",
        "\n",
        "# Save to Excel\n",
        "df.to_excel(\"detection_results.xlsx\", index=False)\n",
        "\n",
        "print(\"Detection results saved to detection_results.xlsx\")\n"
      ],
      "metadata": {
        "colab": {
          "base_uri": "https://localhost:8080/"
        },
        "id": "zzDPYW4PFpXE",
        "outputId": "f21f4c1a-de49-4c11-ca57-ebd14bb5476d"
      },
      "execution_count": 13,
      "outputs": [
        {
          "output_type": "stream",
          "name": "stdout",
          "text": [
            "Detection results saved to detection_results.xlsx\n"
          ]
        }
      ]
    },
    {
      "cell_type": "markdown",
      "source": [
        "SAving medicine name detected to excel file\n"
      ],
      "metadata": {
        "id": "yFJTkCaLGZwO"
      }
    },
    {
      "cell_type": "code",
      "source": [
        "# Define class names (Replace with your own medicine labels)\n",
        "class_names = {\n",
        "\n",
        "0: \"aferin\",\n",
        "1: \"aljil\",\n",
        "2: \"apodonorm5mg\",\n",
        "3: \"apodorm5mg\",\n",
        "4: \"apranax\",\n",
        "5: \"arveles\",\n",
        "6:\"aspirin\",\n",
        "7: \"betasalic\",\n",
        "8: \"box\",\n",
        "9 :\"buprefarm5ug_hour\",\n",
        "10: \"dikloron\",\n",
        "11: \"dolcontin10mg\",\n",
        "12: \"dolcontin5mg\",\n",
        "13: \"dolorex\",\n",
        "14: \"fentanyl50ug_ml\",\n",
        "15: \"hametanKrem\",\n",
        "16: \"hametanMerhem\",\n",
        "17:\"ibucoldC\",\n",
        "18: \"imovane7-5mg\",\n",
        "19: \"levopidon25mg\",\n",
        "20: \"majezik\",\n",
        "21: \"majezikmajezik\",\n",
        "22: \"metadon_hydrochlorid40mg\",\n",
        "23: \"metpamid\",\n",
        "24: \"midazolam5mg_ml\",\n",
        "25: \"morfin10mg\",\n",
        "26: \"nexium\",\n",
        "27: \"nobligan_retard200mg\",\n",
        "28: \"oxycontin10mg\",\n",
        "29: \"oxycontin15mg\",\n",
        "30: \"oxycontin5mg\",\n",
        "31: \"oxynorm10mg\",\n",
        "32: \"parol\",\n",
        "33: \"silverdin\",\n",
        "34: \"sobril25mg\",\n",
        "35: \"terbisil\",\n",
        "36: \"travazol\",\n",
        "37: \"ultiva5mg\",\n",
        "38: \"unisom\",\n",
        "39: \"valium5mg\",\n",
        "40: \"xanor2mg\",\n",
        "}\n"
      ],
      "metadata": {
        "id": "h4tclv-gGdVQ"
      },
      "execution_count": 15,
      "outputs": []
    },
    {
      "cell_type": "code",
      "source": [
        "import pandas as pd\n",
        "from ultralytics import YOLO\n",
        "\n",
        "# Load trained YOLO model\n",
        "model = YOLO(\"yolov8n.pt\")  # Replace with your trained model\n",
        "\n",
        "# Run object detection on video\n",
        "results = model.predict(source=\"medicine_test.mp4\", conf=0.5, save=True)\n"
      ],
      "metadata": {
        "colab": {
          "base_uri": "https://localhost:8080/"
        },
        "id": "j-BI-U9oI7s2",
        "outputId": "28f05903-57ca-4539-e66d-24da8372c5a5"
      },
      "execution_count": 16,
      "outputs": [
        {
          "output_type": "stream",
          "name": "stdout",
          "text": [
            "\n",
            "\n",
            "WARNING ⚠️ inference results will accumulate in RAM unless `stream=True` is passed, causing potential out-of-memory\n",
            "errors for large sources or long-running streams and videos. See https://docs.ultralytics.com/modes/predict/ for help.\n",
            "\n",
            "Example:\n",
            "    results = model(source=..., stream=True)  # generator of Results objects\n",
            "    for r in results:\n",
            "        boxes = r.boxes  # Boxes object for bbox outputs\n",
            "        masks = r.masks  # Masks object for segment masks outputs\n",
            "        probs = r.probs  # Class probabilities for classification outputs\n",
            "\n",
            "video 1/1 (frame 1/850) /content/medicine_test.mp4: 384x640 1 person, 17.7ms\n",
            "video 1/1 (frame 2/850) /content/medicine_test.mp4: 384x640 1 person, 6.7ms\n",
            "video 1/1 (frame 3/850) /content/medicine_test.mp4: 384x640 1 person, 7.0ms\n",
            "video 1/1 (frame 4/850) /content/medicine_test.mp4: 384x640 1 person, 7.7ms\n",
            "video 1/1 (frame 5/850) /content/medicine_test.mp4: 384x640 1 person, 6.7ms\n",
            "video 1/1 (frame 6/850) /content/medicine_test.mp4: 384x640 1 person, 6.5ms\n",
            "video 1/1 (frame 7/850) /content/medicine_test.mp4: 384x640 1 person, 6.9ms\n",
            "video 1/1 (frame 8/850) /content/medicine_test.mp4: 384x640 1 person, 6.5ms\n",
            "video 1/1 (frame 9/850) /content/medicine_test.mp4: 384x640 1 person, 6.5ms\n",
            "video 1/1 (frame 10/850) /content/medicine_test.mp4: 384x640 1 person, 6.5ms\n",
            "video 1/1 (frame 11/850) /content/medicine_test.mp4: 384x640 1 person, 6.8ms\n",
            "video 1/1 (frame 12/850) /content/medicine_test.mp4: 384x640 1 person, 10.9ms\n",
            "video 1/1 (frame 13/850) /content/medicine_test.mp4: 384x640 1 person, 8.8ms\n",
            "video 1/1 (frame 14/850) /content/medicine_test.mp4: 384x640 1 person, 7.7ms\n",
            "video 1/1 (frame 15/850) /content/medicine_test.mp4: 384x640 1 person, 6.9ms\n",
            "video 1/1 (frame 16/850) /content/medicine_test.mp4: 384x640 1 person, 7.2ms\n",
            "video 1/1 (frame 17/850) /content/medicine_test.mp4: 384x640 1 person, 7.6ms\n",
            "video 1/1 (frame 18/850) /content/medicine_test.mp4: 384x640 1 person, 7.3ms\n",
            "video 1/1 (frame 19/850) /content/medicine_test.mp4: 384x640 1 person, 6.8ms\n",
            "video 1/1 (frame 20/850) /content/medicine_test.mp4: 384x640 1 person, 7.0ms\n",
            "video 1/1 (frame 21/850) /content/medicine_test.mp4: 384x640 1 person, 6.9ms\n",
            "video 1/1 (frame 22/850) /content/medicine_test.mp4: 384x640 1 person, 7.0ms\n",
            "video 1/1 (frame 23/850) /content/medicine_test.mp4: 384x640 1 person, 6.6ms\n",
            "video 1/1 (frame 24/850) /content/medicine_test.mp4: 384x640 1 person, 8.2ms\n",
            "video 1/1 (frame 25/850) /content/medicine_test.mp4: 384x640 1 person, 8.5ms\n",
            "video 1/1 (frame 26/850) /content/medicine_test.mp4: 384x640 1 person, 8.7ms\n",
            "video 1/1 (frame 27/850) /content/medicine_test.mp4: 384x640 1 person, 6.8ms\n",
            "video 1/1 (frame 28/850) /content/medicine_test.mp4: 384x640 1 person, 7.2ms\n",
            "video 1/1 (frame 29/850) /content/medicine_test.mp4: 384x640 1 person, 7.7ms\n",
            "video 1/1 (frame 30/850) /content/medicine_test.mp4: 384x640 1 person, 6.6ms\n",
            "video 1/1 (frame 31/850) /content/medicine_test.mp4: 384x640 1 person, 6.8ms\n",
            "video 1/1 (frame 32/850) /content/medicine_test.mp4: 384x640 1 person, 6.8ms\n",
            "video 1/1 (frame 33/850) /content/medicine_test.mp4: 384x640 1 person, 6.5ms\n",
            "video 1/1 (frame 34/850) /content/medicine_test.mp4: 384x640 1 person, 11.0ms\n",
            "video 1/1 (frame 35/850) /content/medicine_test.mp4: 384x640 1 person, 6.5ms\n",
            "video 1/1 (frame 36/850) /content/medicine_test.mp4: 384x640 1 person, 7.0ms\n",
            "video 1/1 (frame 37/850) /content/medicine_test.mp4: 384x640 1 person, 6.6ms\n",
            "video 1/1 (frame 38/850) /content/medicine_test.mp4: 384x640 1 person, 6.5ms\n",
            "video 1/1 (frame 39/850) /content/medicine_test.mp4: 384x640 1 person, 6.8ms\n",
            "video 1/1 (frame 40/850) /content/medicine_test.mp4: 384x640 1 person, 6.6ms\n",
            "video 1/1 (frame 41/850) /content/medicine_test.mp4: 384x640 1 person, 6.7ms\n",
            "video 1/1 (frame 42/850) /content/medicine_test.mp4: 384x640 1 person, 6.7ms\n",
            "video 1/1 (frame 43/850) /content/medicine_test.mp4: 384x640 1 person, 6.9ms\n",
            "video 1/1 (frame 44/850) /content/medicine_test.mp4: 384x640 1 person, 6.6ms\n",
            "video 1/1 (frame 45/850) /content/medicine_test.mp4: 384x640 1 person, 6.6ms\n",
            "video 1/1 (frame 46/850) /content/medicine_test.mp4: 384x640 1 person, 6.5ms\n",
            "video 1/1 (frame 47/850) /content/medicine_test.mp4: 384x640 1 person, 6.9ms\n",
            "video 1/1 (frame 48/850) /content/medicine_test.mp4: 384x640 1 person, 6.6ms\n",
            "video 1/1 (frame 49/850) /content/medicine_test.mp4: 384x640 1 person, 6.5ms\n",
            "video 1/1 (frame 50/850) /content/medicine_test.mp4: 384x640 1 person, 6.6ms\n",
            "video 1/1 (frame 51/850) /content/medicine_test.mp4: 384x640 1 person, 6.5ms\n",
            "video 1/1 (frame 52/850) /content/medicine_test.mp4: 384x640 1 person, 6.5ms\n",
            "video 1/1 (frame 53/850) /content/medicine_test.mp4: 384x640 1 person, 6.9ms\n",
            "video 1/1 (frame 54/850) /content/medicine_test.mp4: 384x640 1 person, 6.9ms\n",
            "video 1/1 (frame 55/850) /content/medicine_test.mp4: 384x640 1 person, 6.7ms\n",
            "video 1/1 (frame 56/850) /content/medicine_test.mp4: 384x640 1 person, 9.5ms\n",
            "video 1/1 (frame 57/850) /content/medicine_test.mp4: 384x640 1 person, 6.9ms\n",
            "video 1/1 (frame 58/850) /content/medicine_test.mp4: 384x640 1 person, 6.9ms\n",
            "video 1/1 (frame 59/850) /content/medicine_test.mp4: 384x640 1 person, 7.0ms\n",
            "video 1/1 (frame 60/850) /content/medicine_test.mp4: 384x640 1 person, 6.7ms\n",
            "video 1/1 (frame 61/850) /content/medicine_test.mp4: 384x640 1 person, 6.7ms\n",
            "video 1/1 (frame 62/850) /content/medicine_test.mp4: 384x640 1 person, 6.7ms\n",
            "video 1/1 (frame 63/850) /content/medicine_test.mp4: 384x640 1 person, 6.7ms\n",
            "video 1/1 (frame 64/850) /content/medicine_test.mp4: 384x640 1 person, 6.5ms\n",
            "video 1/1 (frame 65/850) /content/medicine_test.mp4: 384x640 1 person, 6.9ms\n",
            "video 1/1 (frame 66/850) /content/medicine_test.mp4: 384x640 1 person, 6.7ms\n",
            "video 1/1 (frame 67/850) /content/medicine_test.mp4: 384x640 1 person, 10.4ms\n",
            "video 1/1 (frame 68/850) /content/medicine_test.mp4: 384x640 1 person, 9.7ms\n",
            "video 1/1 (frame 69/850) /content/medicine_test.mp4: 384x640 1 person, 9.0ms\n",
            "video 1/1 (frame 70/850) /content/medicine_test.mp4: 384x640 1 person, 9.0ms\n",
            "video 1/1 (frame 71/850) /content/medicine_test.mp4: 384x640 1 person, 6.7ms\n",
            "video 1/1 (frame 72/850) /content/medicine_test.mp4: 384x640 1 person, 6.6ms\n",
            "video 1/1 (frame 73/850) /content/medicine_test.mp4: 384x640 1 person, 6.7ms\n",
            "video 1/1 (frame 74/850) /content/medicine_test.mp4: 384x640 1 person, 6.9ms\n",
            "video 1/1 (frame 75/850) /content/medicine_test.mp4: 384x640 1 person, 6.7ms\n",
            "video 1/1 (frame 76/850) /content/medicine_test.mp4: 384x640 1 person, 6.7ms\n",
            "video 1/1 (frame 77/850) /content/medicine_test.mp4: 384x640 1 person, 6.5ms\n",
            "video 1/1 (frame 78/850) /content/medicine_test.mp4: 384x640 1 person, 6.5ms\n",
            "video 1/1 (frame 79/850) /content/medicine_test.mp4: 384x640 1 person, 6.7ms\n",
            "video 1/1 (frame 80/850) /content/medicine_test.mp4: 384x640 1 person, 6.6ms\n",
            "video 1/1 (frame 81/850) /content/medicine_test.mp4: 384x640 1 person, 6.8ms\n",
            "video 1/1 (frame 82/850) /content/medicine_test.mp4: 384x640 1 person, 6.6ms\n",
            "video 1/1 (frame 83/850) /content/medicine_test.mp4: 384x640 1 person, 6.6ms\n",
            "video 1/1 (frame 84/850) /content/medicine_test.mp4: 384x640 1 person, 9.5ms\n",
            "video 1/1 (frame 85/850) /content/medicine_test.mp4: 384x640 1 person, 7.7ms\n",
            "video 1/1 (frame 86/850) /content/medicine_test.mp4: 384x640 1 person, 7.2ms\n",
            "video 1/1 (frame 87/850) /content/medicine_test.mp4: 384x640 1 person, 8.7ms\n",
            "video 1/1 (frame 88/850) /content/medicine_test.mp4: 384x640 1 person, 6.6ms\n",
            "video 1/1 (frame 89/850) /content/medicine_test.mp4: 384x640 1 person, 6.7ms\n",
            "video 1/1 (frame 90/850) /content/medicine_test.mp4: 384x640 1 person, 6.4ms\n",
            "video 1/1 (frame 91/850) /content/medicine_test.mp4: 384x640 1 person, 6.6ms\n",
            "video 1/1 (frame 92/850) /content/medicine_test.mp4: 384x640 1 person, 6.6ms\n",
            "video 1/1 (frame 93/850) /content/medicine_test.mp4: 384x640 1 person, 6.6ms\n",
            "video 1/1 (frame 94/850) /content/medicine_test.mp4: 384x640 1 person, 6.5ms\n",
            "video 1/1 (frame 95/850) /content/medicine_test.mp4: 384x640 1 person, 6.6ms\n",
            "video 1/1 (frame 96/850) /content/medicine_test.mp4: 384x640 1 person, 7.2ms\n",
            "video 1/1 (frame 97/850) /content/medicine_test.mp4: 384x640 1 person, 6.9ms\n",
            "video 1/1 (frame 98/850) /content/medicine_test.mp4: 384x640 1 person, 11.8ms\n",
            "video 1/1 (frame 99/850) /content/medicine_test.mp4: 384x640 1 person, 6.9ms\n",
            "video 1/1 (frame 100/850) /content/medicine_test.mp4: 384x640 1 person, 6.6ms\n",
            "video 1/1 (frame 101/850) /content/medicine_test.mp4: 384x640 1 person, 6.8ms\n",
            "video 1/1 (frame 102/850) /content/medicine_test.mp4: 384x640 1 person, 7.9ms\n",
            "video 1/1 (frame 103/850) /content/medicine_test.mp4: 384x640 1 person, 6.9ms\n",
            "video 1/1 (frame 104/850) /content/medicine_test.mp4: 384x640 1 person, 6.8ms\n",
            "video 1/1 (frame 105/850) /content/medicine_test.mp4: 384x640 1 person, 7.2ms\n",
            "video 1/1 (frame 106/850) /content/medicine_test.mp4: 384x640 1 person, 7.5ms\n",
            "video 1/1 (frame 107/850) /content/medicine_test.mp4: 384x640 1 person, 9.2ms\n",
            "video 1/1 (frame 108/850) /content/medicine_test.mp4: 384x640 1 person, 9.2ms\n",
            "video 1/1 (frame 109/850) /content/medicine_test.mp4: 384x640 1 person, 9.1ms\n",
            "video 1/1 (frame 110/850) /content/medicine_test.mp4: 384x640 1 person, 9.4ms\n",
            "video 1/1 (frame 111/850) /content/medicine_test.mp4: 384x640 1 person, 7.0ms\n",
            "video 1/1 (frame 112/850) /content/medicine_test.mp4: 384x640 1 person, 6.7ms\n",
            "video 1/1 (frame 113/850) /content/medicine_test.mp4: 384x640 1 person, 6.6ms\n",
            "video 1/1 (frame 114/850) /content/medicine_test.mp4: 384x640 1 person, 6.7ms\n",
            "video 1/1 (frame 115/850) /content/medicine_test.mp4: 384x640 1 person, 6.7ms\n",
            "video 1/1 (frame 116/850) /content/medicine_test.mp4: 384x640 1 person, 7.1ms\n",
            "video 1/1 (frame 117/850) /content/medicine_test.mp4: 384x640 1 person, 7.3ms\n",
            "video 1/1 (frame 118/850) /content/medicine_test.mp4: 384x640 1 person, 7.1ms\n",
            "video 1/1 (frame 119/850) /content/medicine_test.mp4: 384x640 1 person, 7.6ms\n",
            "video 1/1 (frame 120/850) /content/medicine_test.mp4: 384x640 1 person, 7.0ms\n",
            "video 1/1 (frame 121/850) /content/medicine_test.mp4: 384x640 1 person, 9.0ms\n",
            "video 1/1 (frame 122/850) /content/medicine_test.mp4: 384x640 1 person, 7.1ms\n",
            "video 1/1 (frame 123/850) /content/medicine_test.mp4: 384x640 1 person, 6.6ms\n",
            "video 1/1 (frame 124/850) /content/medicine_test.mp4: 384x640 1 person, 6.6ms\n",
            "video 1/1 (frame 125/850) /content/medicine_test.mp4: 384x640 1 person, 6.9ms\n",
            "video 1/1 (frame 126/850) /content/medicine_test.mp4: 384x640 1 person, 7.3ms\n",
            "video 1/1 (frame 127/850) /content/medicine_test.mp4: 384x640 1 person, 6.7ms\n",
            "video 1/1 (frame 128/850) /content/medicine_test.mp4: 384x640 1 person, 6.7ms\n",
            "video 1/1 (frame 129/850) /content/medicine_test.mp4: 384x640 1 person, 6.9ms\n",
            "video 1/1 (frame 130/850) /content/medicine_test.mp4: 384x640 1 person, 6.7ms\n",
            "video 1/1 (frame 131/850) /content/medicine_test.mp4: 384x640 1 person, 6.7ms\n",
            "video 1/1 (frame 132/850) /content/medicine_test.mp4: 384x640 1 person, 6.6ms\n",
            "video 1/1 (frame 133/850) /content/medicine_test.mp4: 384x640 1 person, 6.8ms\n",
            "video 1/1 (frame 134/850) /content/medicine_test.mp4: 384x640 1 person, 6.9ms\n",
            "video 1/1 (frame 135/850) /content/medicine_test.mp4: 384x640 1 person, 6.6ms\n",
            "video 1/1 (frame 136/850) /content/medicine_test.mp4: 384x640 1 person, 6.6ms\n",
            "video 1/1 (frame 137/850) /content/medicine_test.mp4: 384x640 1 person, 7.6ms\n",
            "video 1/1 (frame 138/850) /content/medicine_test.mp4: 384x640 1 person, 7.1ms\n",
            "video 1/1 (frame 139/850) /content/medicine_test.mp4: 384x640 1 person, 8.6ms\n",
            "video 1/1 (frame 140/850) /content/medicine_test.mp4: 384x640 1 person, 6.6ms\n",
            "video 1/1 (frame 141/850) /content/medicine_test.mp4: 384x640 1 person, 12.8ms\n",
            "video 1/1 (frame 142/850) /content/medicine_test.mp4: 384x640 1 person, 6.9ms\n",
            "video 1/1 (frame 143/850) /content/medicine_test.mp4: 384x640 1 person, 6.7ms\n",
            "video 1/1 (frame 144/850) /content/medicine_test.mp4: 384x640 1 person, 6.6ms\n",
            "video 1/1 (frame 145/850) /content/medicine_test.mp4: 384x640 1 person, 11.7ms\n",
            "video 1/1 (frame 146/850) /content/medicine_test.mp4: 384x640 1 person, 10.3ms\n",
            "video 1/1 (frame 147/850) /content/medicine_test.mp4: 384x640 1 person, 10.9ms\n",
            "video 1/1 (frame 148/850) /content/medicine_test.mp4: 384x640 1 person, 9.6ms\n",
            "video 1/1 (frame 149/850) /content/medicine_test.mp4: 384x640 1 person, 10.7ms\n",
            "video 1/1 (frame 150/850) /content/medicine_test.mp4: 384x640 1 person, 10.7ms\n",
            "video 1/1 (frame 151/850) /content/medicine_test.mp4: 384x640 (no detections), 7.7ms\n",
            "video 1/1 (frame 152/850) /content/medicine_test.mp4: 384x640 (no detections), 6.7ms\n",
            "video 1/1 (frame 153/850) /content/medicine_test.mp4: 384x640 (no detections), 7.1ms\n",
            "video 1/1 (frame 154/850) /content/medicine_test.mp4: 384x640 (no detections), 6.9ms\n",
            "video 1/1 (frame 155/850) /content/medicine_test.mp4: 384x640 (no detections), 7.7ms\n",
            "video 1/1 (frame 156/850) /content/medicine_test.mp4: 384x640 (no detections), 6.9ms\n",
            "video 1/1 (frame 157/850) /content/medicine_test.mp4: 384x640 (no detections), 7.1ms\n",
            "video 1/1 (frame 158/850) /content/medicine_test.mp4: 384x640 (no detections), 6.8ms\n",
            "video 1/1 (frame 159/850) /content/medicine_test.mp4: 384x640 (no detections), 7.1ms\n",
            "video 1/1 (frame 160/850) /content/medicine_test.mp4: 384x640 (no detections), 7.1ms\n",
            "video 1/1 (frame 161/850) /content/medicine_test.mp4: 384x640 (no detections), 6.6ms\n",
            "video 1/1 (frame 162/850) /content/medicine_test.mp4: 384x640 (no detections), 6.8ms\n",
            "video 1/1 (frame 163/850) /content/medicine_test.mp4: 384x640 (no detections), 6.8ms\n",
            "video 1/1 (frame 164/850) /content/medicine_test.mp4: 384x640 (no detections), 6.9ms\n",
            "video 1/1 (frame 165/850) /content/medicine_test.mp4: 384x640 (no detections), 6.7ms\n",
            "video 1/1 (frame 166/850) /content/medicine_test.mp4: 384x640 (no detections), 7.8ms\n",
            "video 1/1 (frame 167/850) /content/medicine_test.mp4: 384x640 (no detections), 6.9ms\n",
            "video 1/1 (frame 168/850) /content/medicine_test.mp4: 384x640 (no detections), 7.4ms\n",
            "video 1/1 (frame 169/850) /content/medicine_test.mp4: 384x640 (no detections), 7.2ms\n",
            "video 1/1 (frame 170/850) /content/medicine_test.mp4: 384x640 (no detections), 8.3ms\n",
            "video 1/1 (frame 171/850) /content/medicine_test.mp4: 384x640 (no detections), 7.8ms\n",
            "video 1/1 (frame 172/850) /content/medicine_test.mp4: 384x640 (no detections), 8.6ms\n",
            "video 1/1 (frame 173/850) /content/medicine_test.mp4: 384x640 (no detections), 7.3ms\n",
            "video 1/1 (frame 174/850) /content/medicine_test.mp4: 384x640 (no detections), 7.6ms\n",
            "video 1/1 (frame 175/850) /content/medicine_test.mp4: 384x640 (no detections), 13.0ms\n",
            "video 1/1 (frame 176/850) /content/medicine_test.mp4: 384x640 (no detections), 12.2ms\n",
            "video 1/1 (frame 177/850) /content/medicine_test.mp4: 384x640 (no detections), 16.6ms\n",
            "video 1/1 (frame 178/850) /content/medicine_test.mp4: 384x640 (no detections), 12.7ms\n",
            "video 1/1 (frame 179/850) /content/medicine_test.mp4: 384x640 (no detections), 17.5ms\n",
            "video 1/1 (frame 180/850) /content/medicine_test.mp4: 384x640 (no detections), 14.1ms\n",
            "video 1/1 (frame 181/850) /content/medicine_test.mp4: 384x640 (no detections), 10.8ms\n",
            "video 1/1 (frame 182/850) /content/medicine_test.mp4: 384x640 (no detections), 12.0ms\n",
            "video 1/1 (frame 183/850) /content/medicine_test.mp4: 384x640 (no detections), 18.5ms\n",
            "video 1/1 (frame 184/850) /content/medicine_test.mp4: 384x640 (no detections), 13.1ms\n",
            "video 1/1 (frame 185/850) /content/medicine_test.mp4: 384x640 (no detections), 14.7ms\n",
            "video 1/1 (frame 186/850) /content/medicine_test.mp4: 384x640 (no detections), 9.3ms\n",
            "video 1/1 (frame 187/850) /content/medicine_test.mp4: 384x640 (no detections), 8.3ms\n",
            "video 1/1 (frame 188/850) /content/medicine_test.mp4: 384x640 (no detections), 11.0ms\n",
            "video 1/1 (frame 189/850) /content/medicine_test.mp4: 384x640 (no detections), 9.1ms\n",
            "video 1/1 (frame 190/850) /content/medicine_test.mp4: 384x640 (no detections), 7.5ms\n",
            "video 1/1 (frame 191/850) /content/medicine_test.mp4: 384x640 (no detections), 11.4ms\n",
            "video 1/1 (frame 192/850) /content/medicine_test.mp4: 384x640 (no detections), 9.1ms\n",
            "video 1/1 (frame 193/850) /content/medicine_test.mp4: 384x640 (no detections), 8.6ms\n",
            "video 1/1 (frame 194/850) /content/medicine_test.mp4: 384x640 (no detections), 8.4ms\n",
            "video 1/1 (frame 195/850) /content/medicine_test.mp4: 384x640 (no detections), 9.2ms\n",
            "video 1/1 (frame 196/850) /content/medicine_test.mp4: 384x640 (no detections), 9.4ms\n",
            "video 1/1 (frame 197/850) /content/medicine_test.mp4: 384x640 (no detections), 16.4ms\n",
            "video 1/1 (frame 198/850) /content/medicine_test.mp4: 384x640 (no detections), 8.4ms\n",
            "video 1/1 (frame 199/850) /content/medicine_test.mp4: 384x640 (no detections), 9.0ms\n",
            "video 1/1 (frame 200/850) /content/medicine_test.mp4: 384x640 (no detections), 8.8ms\n",
            "video 1/1 (frame 201/850) /content/medicine_test.mp4: 384x640 (no detections), 8.2ms\n",
            "video 1/1 (frame 202/850) /content/medicine_test.mp4: 384x640 (no detections), 8.9ms\n",
            "video 1/1 (frame 203/850) /content/medicine_test.mp4: 384x640 (no detections), 8.9ms\n",
            "video 1/1 (frame 204/850) /content/medicine_test.mp4: 384x640 (no detections), 10.0ms\n",
            "video 1/1 (frame 205/850) /content/medicine_test.mp4: 384x640 (no detections), 8.1ms\n",
            "video 1/1 (frame 206/850) /content/medicine_test.mp4: 384x640 (no detections), 9.5ms\n",
            "video 1/1 (frame 207/850) /content/medicine_test.mp4: 384x640 (no detections), 9.4ms\n",
            "video 1/1 (frame 208/850) /content/medicine_test.mp4: 384x640 (no detections), 9.1ms\n",
            "video 1/1 (frame 209/850) /content/medicine_test.mp4: 384x640 (no detections), 8.0ms\n",
            "video 1/1 (frame 210/850) /content/medicine_test.mp4: 384x640 (no detections), 8.6ms\n",
            "video 1/1 (frame 211/850) /content/medicine_test.mp4: 384x640 (no detections), 8.5ms\n",
            "video 1/1 (frame 212/850) /content/medicine_test.mp4: 384x640 (no detections), 8.6ms\n",
            "video 1/1 (frame 213/850) /content/medicine_test.mp4: 384x640 (no detections), 11.3ms\n",
            "video 1/1 (frame 214/850) /content/medicine_test.mp4: 384x640 (no detections), 8.9ms\n",
            "video 1/1 (frame 215/850) /content/medicine_test.mp4: 384x640 (no detections), 12.5ms\n",
            "video 1/1 (frame 216/850) /content/medicine_test.mp4: 384x640 (no detections), 11.4ms\n",
            "video 1/1 (frame 217/850) /content/medicine_test.mp4: 384x640 (no detections), 7.9ms\n",
            "video 1/1 (frame 218/850) /content/medicine_test.mp4: 384x640 (no detections), 8.0ms\n",
            "video 1/1 (frame 219/850) /content/medicine_test.mp4: 384x640 (no detections), 9.7ms\n",
            "video 1/1 (frame 220/850) /content/medicine_test.mp4: 384x640 (no detections), 8.8ms\n",
            "video 1/1 (frame 221/850) /content/medicine_test.mp4: 384x640 (no detections), 7.8ms\n",
            "video 1/1 (frame 222/850) /content/medicine_test.mp4: 384x640 (no detections), 8.0ms\n",
            "video 1/1 (frame 223/850) /content/medicine_test.mp4: 384x640 (no detections), 9.5ms\n",
            "video 1/1 (frame 224/850) /content/medicine_test.mp4: 384x640 (no detections), 9.5ms\n",
            "video 1/1 (frame 225/850) /content/medicine_test.mp4: 384x640 (no detections), 10.8ms\n",
            "video 1/1 (frame 226/850) /content/medicine_test.mp4: 384x640 (no detections), 10.3ms\n",
            "video 1/1 (frame 227/850) /content/medicine_test.mp4: 384x640 (no detections), 9.0ms\n",
            "video 1/1 (frame 228/850) /content/medicine_test.mp4: 384x640 (no detections), 13.1ms\n",
            "video 1/1 (frame 229/850) /content/medicine_test.mp4: 384x640 (no detections), 9.9ms\n",
            "video 1/1 (frame 230/850) /content/medicine_test.mp4: 384x640 (no detections), 10.9ms\n",
            "video 1/1 (frame 231/850) /content/medicine_test.mp4: 384x640 (no detections), 10.7ms\n",
            "video 1/1 (frame 232/850) /content/medicine_test.mp4: 384x640 (no detections), 8.2ms\n",
            "video 1/1 (frame 233/850) /content/medicine_test.mp4: 384x640 (no detections), 8.0ms\n",
            "video 1/1 (frame 234/850) /content/medicine_test.mp4: 384x640 (no detections), 7.7ms\n",
            "video 1/1 (frame 235/850) /content/medicine_test.mp4: 384x640 (no detections), 10.5ms\n",
            "video 1/1 (frame 236/850) /content/medicine_test.mp4: 384x640 (no detections), 11.6ms\n",
            "video 1/1 (frame 237/850) /content/medicine_test.mp4: 384x640 (no detections), 11.1ms\n",
            "video 1/1 (frame 238/850) /content/medicine_test.mp4: 384x640 (no detections), 11.3ms\n",
            "video 1/1 (frame 239/850) /content/medicine_test.mp4: 384x640 (no detections), 12.3ms\n",
            "video 1/1 (frame 240/850) /content/medicine_test.mp4: 384x640 (no detections), 13.4ms\n",
            "video 1/1 (frame 241/850) /content/medicine_test.mp4: 384x640 (no detections), 10.1ms\n",
            "video 1/1 (frame 242/850) /content/medicine_test.mp4: 384x640 (no detections), 12.9ms\n",
            "video 1/1 (frame 243/850) /content/medicine_test.mp4: 384x640 (no detections), 11.3ms\n",
            "video 1/1 (frame 244/850) /content/medicine_test.mp4: 384x640 (no detections), 11.7ms\n",
            "video 1/1 (frame 245/850) /content/medicine_test.mp4: 384x640 (no detections), 18.6ms\n",
            "video 1/1 (frame 246/850) /content/medicine_test.mp4: 384x640 (no detections), 15.0ms\n",
            "video 1/1 (frame 247/850) /content/medicine_test.mp4: 384x640 (no detections), 17.2ms\n",
            "video 1/1 (frame 248/850) /content/medicine_test.mp4: 384x640 (no detections), 13.1ms\n",
            "video 1/1 (frame 249/850) /content/medicine_test.mp4: 384x640 (no detections), 6.9ms\n",
            "video 1/1 (frame 250/850) /content/medicine_test.mp4: 384x640 (no detections), 6.7ms\n",
            "video 1/1 (frame 251/850) /content/medicine_test.mp4: 384x640 (no detections), 6.8ms\n",
            "video 1/1 (frame 252/850) /content/medicine_test.mp4: 384x640 (no detections), 7.0ms\n",
            "video 1/1 (frame 253/850) /content/medicine_test.mp4: 384x640 (no detections), 6.8ms\n",
            "video 1/1 (frame 254/850) /content/medicine_test.mp4: 384x640 (no detections), 6.8ms\n",
            "video 1/1 (frame 255/850) /content/medicine_test.mp4: 384x640 (no detections), 6.6ms\n",
            "video 1/1 (frame 256/850) /content/medicine_test.mp4: 384x640 (no detections), 6.6ms\n",
            "video 1/1 (frame 257/850) /content/medicine_test.mp4: 384x640 (no detections), 6.8ms\n",
            "video 1/1 (frame 258/850) /content/medicine_test.mp4: 384x640 (no detections), 6.9ms\n",
            "video 1/1 (frame 259/850) /content/medicine_test.mp4: 384x640 (no detections), 7.0ms\n",
            "video 1/1 (frame 260/850) /content/medicine_test.mp4: 384x640 (no detections), 7.0ms\n",
            "video 1/1 (frame 261/850) /content/medicine_test.mp4: 384x640 (no detections), 7.0ms\n",
            "video 1/1 (frame 262/850) /content/medicine_test.mp4: 384x640 (no detections), 6.8ms\n",
            "video 1/1 (frame 263/850) /content/medicine_test.mp4: 384x640 (no detections), 7.9ms\n",
            "video 1/1 (frame 264/850) /content/medicine_test.mp4: 384x640 (no detections), 7.1ms\n",
            "video 1/1 (frame 265/850) /content/medicine_test.mp4: 384x640 (no detections), 6.8ms\n",
            "video 1/1 (frame 266/850) /content/medicine_test.mp4: 384x640 (no detections), 6.9ms\n",
            "video 1/1 (frame 267/850) /content/medicine_test.mp4: 384x640 (no detections), 8.8ms\n",
            "video 1/1 (frame 268/850) /content/medicine_test.mp4: 384x640 (no detections), 6.6ms\n",
            "video 1/1 (frame 269/850) /content/medicine_test.mp4: 384x640 (no detections), 6.7ms\n",
            "video 1/1 (frame 270/850) /content/medicine_test.mp4: 384x640 (no detections), 6.7ms\n",
            "video 1/1 (frame 271/850) /content/medicine_test.mp4: 384x640 (no detections), 6.8ms\n",
            "video 1/1 (frame 272/850) /content/medicine_test.mp4: 384x640 (no detections), 6.7ms\n",
            "video 1/1 (frame 273/850) /content/medicine_test.mp4: 384x640 (no detections), 6.9ms\n",
            "video 1/1 (frame 274/850) /content/medicine_test.mp4: 384x640 (no detections), 6.8ms\n",
            "video 1/1 (frame 275/850) /content/medicine_test.mp4: 384x640 (no detections), 6.5ms\n",
            "video 1/1 (frame 276/850) /content/medicine_test.mp4: 384x640 (no detections), 6.9ms\n",
            "video 1/1 (frame 277/850) /content/medicine_test.mp4: 384x640 (no detections), 6.9ms\n",
            "video 1/1 (frame 278/850) /content/medicine_test.mp4: 384x640 (no detections), 6.4ms\n",
            "video 1/1 (frame 279/850) /content/medicine_test.mp4: 384x640 (no detections), 7.0ms\n",
            "video 1/1 (frame 280/850) /content/medicine_test.mp4: 384x640 (no detections), 6.8ms\n",
            "video 1/1 (frame 281/850) /content/medicine_test.mp4: 384x640 (no detections), 6.6ms\n",
            "video 1/1 (frame 282/850) /content/medicine_test.mp4: 384x640 (no detections), 6.6ms\n",
            "video 1/1 (frame 283/850) /content/medicine_test.mp4: 384x640 (no detections), 6.6ms\n",
            "video 1/1 (frame 284/850) /content/medicine_test.mp4: 384x640 (no detections), 7.0ms\n",
            "video 1/1 (frame 285/850) /content/medicine_test.mp4: 384x640 (no detections), 7.7ms\n",
            "video 1/1 (frame 286/850) /content/medicine_test.mp4: 384x640 (no detections), 6.8ms\n",
            "video 1/1 (frame 287/850) /content/medicine_test.mp4: 384x640 (no detections), 6.6ms\n",
            "video 1/1 (frame 288/850) /content/medicine_test.mp4: 384x640 (no detections), 11.5ms\n",
            "video 1/1 (frame 289/850) /content/medicine_test.mp4: 384x640 (no detections), 14.2ms\n",
            "video 1/1 (frame 290/850) /content/medicine_test.mp4: 384x640 (no detections), 9.1ms\n",
            "video 1/1 (frame 291/850) /content/medicine_test.mp4: 384x640 (no detections), 9.4ms\n",
            "video 1/1 (frame 292/850) /content/medicine_test.mp4: 384x640 (no detections), 10.0ms\n",
            "video 1/1 (frame 293/850) /content/medicine_test.mp4: 384x640 (no detections), 6.6ms\n",
            "video 1/1 (frame 294/850) /content/medicine_test.mp4: 384x640 (no detections), 6.7ms\n",
            "video 1/1 (frame 295/850) /content/medicine_test.mp4: 384x640 (no detections), 7.8ms\n",
            "video 1/1 (frame 296/850) /content/medicine_test.mp4: 384x640 (no detections), 6.6ms\n",
            "video 1/1 (frame 297/850) /content/medicine_test.mp4: 384x640 (no detections), 6.8ms\n",
            "video 1/1 (frame 298/850) /content/medicine_test.mp4: 384x640 (no detections), 7.0ms\n",
            "video 1/1 (frame 299/850) /content/medicine_test.mp4: 384x640 (no detections), 6.7ms\n",
            "video 1/1 (frame 300/850) /content/medicine_test.mp4: 384x640 (no detections), 7.3ms\n",
            "video 1/1 (frame 301/850) /content/medicine_test.mp4: 384x640 (no detections), 6.6ms\n",
            "video 1/1 (frame 302/850) /content/medicine_test.mp4: 384x640 (no detections), 6.7ms\n",
            "video 1/1 (frame 303/850) /content/medicine_test.mp4: 384x640 (no detections), 6.8ms\n",
            "video 1/1 (frame 304/850) /content/medicine_test.mp4: 384x640 (no detections), 6.7ms\n",
            "video 1/1 (frame 305/850) /content/medicine_test.mp4: 384x640 (no detections), 6.7ms\n",
            "video 1/1 (frame 306/850) /content/medicine_test.mp4: 384x640 (no detections), 8.1ms\n",
            "video 1/1 (frame 307/850) /content/medicine_test.mp4: 384x640 (no detections), 7.5ms\n",
            "video 1/1 (frame 308/850) /content/medicine_test.mp4: 384x640 (no detections), 7.3ms\n",
            "video 1/1 (frame 309/850) /content/medicine_test.mp4: 384x640 (no detections), 7.4ms\n",
            "video 1/1 (frame 310/850) /content/medicine_test.mp4: 384x640 (no detections), 7.4ms\n",
            "video 1/1 (frame 311/850) /content/medicine_test.mp4: 384x640 (no detections), 7.7ms\n",
            "video 1/1 (frame 312/850) /content/medicine_test.mp4: 384x640 (no detections), 8.4ms\n",
            "video 1/1 (frame 313/850) /content/medicine_test.mp4: 384x640 (no detections), 7.1ms\n",
            "video 1/1 (frame 314/850) /content/medicine_test.mp4: 384x640 (no detections), 7.2ms\n",
            "video 1/1 (frame 315/850) /content/medicine_test.mp4: 384x640 (no detections), 7.2ms\n",
            "video 1/1 (frame 316/850) /content/medicine_test.mp4: 384x640 (no detections), 8.6ms\n",
            "video 1/1 (frame 317/850) /content/medicine_test.mp4: 384x640 (no detections), 7.0ms\n",
            "video 1/1 (frame 318/850) /content/medicine_test.mp4: 384x640 (no detections), 8.2ms\n",
            "video 1/1 (frame 319/850) /content/medicine_test.mp4: 384x640 (no detections), 8.5ms\n",
            "video 1/1 (frame 320/850) /content/medicine_test.mp4: 384x640 (no detections), 9.4ms\n",
            "video 1/1 (frame 321/850) /content/medicine_test.mp4: 384x640 (no detections), 7.5ms\n",
            "video 1/1 (frame 322/850) /content/medicine_test.mp4: 384x640 (no detections), 10.0ms\n",
            "video 1/1 (frame 323/850) /content/medicine_test.mp4: 384x640 (no detections), 8.9ms\n",
            "video 1/1 (frame 324/850) /content/medicine_test.mp4: 384x640 (no detections), 7.8ms\n",
            "video 1/1 (frame 325/850) /content/medicine_test.mp4: 384x640 (no detections), 6.7ms\n",
            "video 1/1 (frame 326/850) /content/medicine_test.mp4: 384x640 (no detections), 6.7ms\n",
            "video 1/1 (frame 327/850) /content/medicine_test.mp4: 384x640 (no detections), 6.6ms\n",
            "video 1/1 (frame 328/850) /content/medicine_test.mp4: 384x640 (no detections), 7.1ms\n",
            "video 1/1 (frame 329/850) /content/medicine_test.mp4: 384x640 (no detections), 6.7ms\n",
            "video 1/1 (frame 330/850) /content/medicine_test.mp4: 384x640 (no detections), 6.9ms\n",
            "video 1/1 (frame 331/850) /content/medicine_test.mp4: 384x640 (no detections), 9.4ms\n",
            "video 1/1 (frame 332/850) /content/medicine_test.mp4: 384x640 (no detections), 10.1ms\n",
            "video 1/1 (frame 333/850) /content/medicine_test.mp4: 384x640 (no detections), 16.7ms\n",
            "video 1/1 (frame 334/850) /content/medicine_test.mp4: 384x640 (no detections), 9.1ms\n",
            "video 1/1 (frame 335/850) /content/medicine_test.mp4: 384x640 (no detections), 6.8ms\n",
            "video 1/1 (frame 336/850) /content/medicine_test.mp4: 384x640 (no detections), 7.5ms\n",
            "video 1/1 (frame 337/850) /content/medicine_test.mp4: 384x640 (no detections), 6.7ms\n",
            "video 1/1 (frame 338/850) /content/medicine_test.mp4: 384x640 (no detections), 6.5ms\n",
            "video 1/1 (frame 339/850) /content/medicine_test.mp4: 384x640 (no detections), 7.2ms\n",
            "video 1/1 (frame 340/850) /content/medicine_test.mp4: 384x640 (no detections), 6.6ms\n",
            "video 1/1 (frame 341/850) /content/medicine_test.mp4: 384x640 (no detections), 6.8ms\n",
            "video 1/1 (frame 342/850) /content/medicine_test.mp4: 384x640 (no detections), 6.5ms\n",
            "video 1/1 (frame 343/850) /content/medicine_test.mp4: 384x640 (no detections), 7.0ms\n",
            "video 1/1 (frame 344/850) /content/medicine_test.mp4: 384x640 (no detections), 6.9ms\n",
            "video 1/1 (frame 345/850) /content/medicine_test.mp4: 384x640 (no detections), 6.6ms\n",
            "video 1/1 (frame 346/850) /content/medicine_test.mp4: 384x640 (no detections), 7.0ms\n",
            "video 1/1 (frame 347/850) /content/medicine_test.mp4: 384x640 (no detections), 7.5ms\n",
            "video 1/1 (frame 348/850) /content/medicine_test.mp4: 384x640 (no detections), 6.4ms\n",
            "video 1/1 (frame 349/850) /content/medicine_test.mp4: 384x640 (no detections), 6.9ms\n",
            "video 1/1 (frame 350/850) /content/medicine_test.mp4: 384x640 (no detections), 6.6ms\n",
            "video 1/1 (frame 351/850) /content/medicine_test.mp4: 384x640 (no detections), 7.0ms\n",
            "video 1/1 (frame 352/850) /content/medicine_test.mp4: 384x640 (no detections), 6.6ms\n",
            "video 1/1 (frame 353/850) /content/medicine_test.mp4: 384x640 (no detections), 6.6ms\n",
            "video 1/1 (frame 354/850) /content/medicine_test.mp4: 384x640 (no detections), 8.2ms\n",
            "video 1/1 (frame 355/850) /content/medicine_test.mp4: 384x640 (no detections), 6.7ms\n",
            "video 1/1 (frame 356/850) /content/medicine_test.mp4: 384x640 (no detections), 6.9ms\n",
            "video 1/1 (frame 357/850) /content/medicine_test.mp4: 384x640 (no detections), 7.4ms\n",
            "video 1/1 (frame 358/850) /content/medicine_test.mp4: 384x640 (no detections), 6.8ms\n",
            "video 1/1 (frame 359/850) /content/medicine_test.mp4: 384x640 (no detections), 6.6ms\n",
            "video 1/1 (frame 360/850) /content/medicine_test.mp4: 384x640 (no detections), 6.7ms\n",
            "video 1/1 (frame 361/850) /content/medicine_test.mp4: 384x640 (no detections), 6.7ms\n",
            "video 1/1 (frame 362/850) /content/medicine_test.mp4: 384x640 (no detections), 6.9ms\n",
            "video 1/1 (frame 363/850) /content/medicine_test.mp4: 384x640 (no detections), 7.4ms\n",
            "video 1/1 (frame 364/850) /content/medicine_test.mp4: 384x640 (no detections), 7.9ms\n",
            "video 1/1 (frame 365/850) /content/medicine_test.mp4: 384x640 (no detections), 7.2ms\n",
            "video 1/1 (frame 366/850) /content/medicine_test.mp4: 384x640 (no detections), 7.2ms\n",
            "video 1/1 (frame 367/850) /content/medicine_test.mp4: 384x640 (no detections), 7.8ms\n",
            "video 1/1 (frame 368/850) /content/medicine_test.mp4: 384x640 (no detections), 7.8ms\n",
            "video 1/1 (frame 369/850) /content/medicine_test.mp4: 384x640 (no detections), 8.5ms\n",
            "video 1/1 (frame 370/850) /content/medicine_test.mp4: 384x640 (no detections), 8.7ms\n",
            "video 1/1 (frame 371/850) /content/medicine_test.mp4: 384x640 (no detections), 7.3ms\n",
            "video 1/1 (frame 372/850) /content/medicine_test.mp4: 384x640 (no detections), 8.4ms\n",
            "video 1/1 (frame 373/850) /content/medicine_test.mp4: 384x640 (no detections), 7.6ms\n",
            "video 1/1 (frame 374/850) /content/medicine_test.mp4: 384x640 (no detections), 10.9ms\n",
            "video 1/1 (frame 375/850) /content/medicine_test.mp4: 384x640 (no detections), 11.1ms\n",
            "video 1/1 (frame 376/850) /content/medicine_test.mp4: 384x640 (no detections), 10.0ms\n",
            "video 1/1 (frame 377/850) /content/medicine_test.mp4: 384x640 (no detections), 10.7ms\n",
            "video 1/1 (frame 378/850) /content/medicine_test.mp4: 384x640 (no detections), 10.4ms\n",
            "video 1/1 (frame 379/850) /content/medicine_test.mp4: 384x640 (no detections), 7.1ms\n",
            "video 1/1 (frame 380/850) /content/medicine_test.mp4: 384x640 (no detections), 7.1ms\n",
            "video 1/1 (frame 381/850) /content/medicine_test.mp4: 384x640 (no detections), 6.8ms\n",
            "video 1/1 (frame 382/850) /content/medicine_test.mp4: 384x640 (no detections), 6.9ms\n",
            "video 1/1 (frame 383/850) /content/medicine_test.mp4: 384x640 (no detections), 6.9ms\n",
            "video 1/1 (frame 384/850) /content/medicine_test.mp4: 384x640 (no detections), 7.2ms\n",
            "video 1/1 (frame 385/850) /content/medicine_test.mp4: 384x640 (no detections), 7.0ms\n",
            "video 1/1 (frame 386/850) /content/medicine_test.mp4: 384x640 (no detections), 6.5ms\n",
            "video 1/1 (frame 387/850) /content/medicine_test.mp4: 384x640 (no detections), 6.7ms\n",
            "video 1/1 (frame 388/850) /content/medicine_test.mp4: 384x640 (no detections), 7.1ms\n",
            "video 1/1 (frame 389/850) /content/medicine_test.mp4: 384x640 (no detections), 6.6ms\n",
            "video 1/1 (frame 390/850) /content/medicine_test.mp4: 384x640 (no detections), 6.7ms\n",
            "video 1/1 (frame 391/850) /content/medicine_test.mp4: 384x640 (no detections), 6.4ms\n",
            "video 1/1 (frame 392/850) /content/medicine_test.mp4: 384x640 (no detections), 6.5ms\n",
            "video 1/1 (frame 393/850) /content/medicine_test.mp4: 384x640 (no detections), 8.8ms\n",
            "video 1/1 (frame 394/850) /content/medicine_test.mp4: 384x640 (no detections), 6.8ms\n",
            "video 1/1 (frame 395/850) /content/medicine_test.mp4: 384x640 (no detections), 6.9ms\n",
            "video 1/1 (frame 396/850) /content/medicine_test.mp4: 384x640 (no detections), 6.9ms\n",
            "video 1/1 (frame 397/850) /content/medicine_test.mp4: 384x640 (no detections), 6.7ms\n",
            "video 1/1 (frame 398/850) /content/medicine_test.mp4: 384x640 (no detections), 7.1ms\n",
            "video 1/1 (frame 399/850) /content/medicine_test.mp4: 384x640 (no detections), 6.9ms\n",
            "video 1/1 (frame 400/850) /content/medicine_test.mp4: 384x640 (no detections), 7.1ms\n",
            "video 1/1 (frame 401/850) /content/medicine_test.mp4: 384x640 1 person, 7.1ms\n",
            "video 1/1 (frame 402/850) /content/medicine_test.mp4: 384x640 1 person, 6.8ms\n",
            "video 1/1 (frame 403/850) /content/medicine_test.mp4: 384x640 1 person, 6.9ms\n",
            "video 1/1 (frame 404/850) /content/medicine_test.mp4: 384x640 1 person, 7.4ms\n",
            "video 1/1 (frame 405/850) /content/medicine_test.mp4: 384x640 1 person, 6.6ms\n",
            "video 1/1 (frame 406/850) /content/medicine_test.mp4: 384x640 1 person, 7.5ms\n",
            "video 1/1 (frame 407/850) /content/medicine_test.mp4: 384x640 1 person, 7.0ms\n",
            "video 1/1 (frame 408/850) /content/medicine_test.mp4: 384x640 1 person, 8.8ms\n",
            "video 1/1 (frame 409/850) /content/medicine_test.mp4: 384x640 1 person, 7.6ms\n",
            "video 1/1 (frame 410/850) /content/medicine_test.mp4: 384x640 1 person, 6.8ms\n",
            "video 1/1 (frame 411/850) /content/medicine_test.mp4: 384x640 1 person, 6.8ms\n",
            "video 1/1 (frame 412/850) /content/medicine_test.mp4: 384x640 1 person, 8.8ms\n",
            "video 1/1 (frame 413/850) /content/medicine_test.mp4: 384x640 1 person, 7.0ms\n",
            "video 1/1 (frame 414/850) /content/medicine_test.mp4: 384x640 1 person, 8.3ms\n",
            "video 1/1 (frame 415/850) /content/medicine_test.mp4: 384x640 1 person, 7.1ms\n",
            "video 1/1 (frame 416/850) /content/medicine_test.mp4: 384x640 1 person, 11.8ms\n",
            "video 1/1 (frame 417/850) /content/medicine_test.mp4: 384x640 1 person, 10.1ms\n",
            "video 1/1 (frame 418/850) /content/medicine_test.mp4: 384x640 1 person, 8.6ms\n",
            "video 1/1 (frame 419/850) /content/medicine_test.mp4: 384x640 1 person, 10.2ms\n",
            "video 1/1 (frame 420/850) /content/medicine_test.mp4: 384x640 1 person, 10.2ms\n",
            "video 1/1 (frame 421/850) /content/medicine_test.mp4: 384x640 1 person, 8.4ms\n",
            "video 1/1 (frame 422/850) /content/medicine_test.mp4: 384x640 1 person, 6.7ms\n",
            "video 1/1 (frame 423/850) /content/medicine_test.mp4: 384x640 1 person, 6.7ms\n",
            "video 1/1 (frame 424/850) /content/medicine_test.mp4: 384x640 1 person, 6.7ms\n",
            "video 1/1 (frame 425/850) /content/medicine_test.mp4: 384x640 1 person, 6.7ms\n",
            "video 1/1 (frame 426/850) /content/medicine_test.mp4: 384x640 1 person, 6.6ms\n",
            "video 1/1 (frame 427/850) /content/medicine_test.mp4: 384x640 1 person, 6.6ms\n",
            "video 1/1 (frame 428/850) /content/medicine_test.mp4: 384x640 1 person, 6.8ms\n",
            "video 1/1 (frame 429/850) /content/medicine_test.mp4: 384x640 1 person, 7.0ms\n",
            "video 1/1 (frame 430/850) /content/medicine_test.mp4: 384x640 1 person, 6.8ms\n",
            "video 1/1 (frame 431/850) /content/medicine_test.mp4: 384x640 1 person, 6.6ms\n",
            "video 1/1 (frame 432/850) /content/medicine_test.mp4: 384x640 1 person, 6.6ms\n",
            "video 1/1 (frame 433/850) /content/medicine_test.mp4: 384x640 1 person, 8.5ms\n",
            "video 1/1 (frame 434/850) /content/medicine_test.mp4: 384x640 1 person, 7.7ms\n",
            "video 1/1 (frame 435/850) /content/medicine_test.mp4: 384x640 1 person, 7.1ms\n",
            "video 1/1 (frame 436/850) /content/medicine_test.mp4: 384x640 1 person, 6.8ms\n",
            "video 1/1 (frame 437/850) /content/medicine_test.mp4: 384x640 1 person, 6.9ms\n",
            "video 1/1 (frame 438/850) /content/medicine_test.mp4: 384x640 1 person, 7.1ms\n",
            "video 1/1 (frame 439/850) /content/medicine_test.mp4: 384x640 1 person, 7.0ms\n",
            "video 1/1 (frame 440/850) /content/medicine_test.mp4: 384x640 1 person, 6.6ms\n",
            "video 1/1 (frame 441/850) /content/medicine_test.mp4: 384x640 1 person, 6.7ms\n",
            "video 1/1 (frame 442/850) /content/medicine_test.mp4: 384x640 1 person, 7.3ms\n",
            "video 1/1 (frame 443/850) /content/medicine_test.mp4: 384x640 1 person, 6.9ms\n",
            "video 1/1 (frame 444/850) /content/medicine_test.mp4: 384x640 1 person, 8.3ms\n",
            "video 1/1 (frame 445/850) /content/medicine_test.mp4: 384x640 1 person, 7.1ms\n",
            "video 1/1 (frame 446/850) /content/medicine_test.mp4: 384x640 1 person, 7.0ms\n",
            "video 1/1 (frame 447/850) /content/medicine_test.mp4: 384x640 1 person, 6.8ms\n",
            "video 1/1 (frame 448/850) /content/medicine_test.mp4: 384x640 1 person, 8.0ms\n",
            "video 1/1 (frame 449/850) /content/medicine_test.mp4: 384x640 1 person, 6.8ms\n",
            "video 1/1 (frame 450/850) /content/medicine_test.mp4: 384x640 1 person, 7.1ms\n",
            "video 1/1 (frame 451/850) /content/medicine_test.mp4: 384x640 (no detections), 7.0ms\n",
            "video 1/1 (frame 452/850) /content/medicine_test.mp4: 384x640 (no detections), 7.0ms\n",
            "video 1/1 (frame 453/850) /content/medicine_test.mp4: 384x640 (no detections), 6.7ms\n",
            "video 1/1 (frame 454/850) /content/medicine_test.mp4: 384x640 (no detections), 6.7ms\n",
            "video 1/1 (frame 455/850) /content/medicine_test.mp4: 384x640 (no detections), 7.8ms\n",
            "video 1/1 (frame 456/850) /content/medicine_test.mp4: 384x640 (no detections), 7.0ms\n",
            "video 1/1 (frame 457/850) /content/medicine_test.mp4: 384x640 (no detections), 9.3ms\n",
            "video 1/1 (frame 458/850) /content/medicine_test.mp4: 384x640 (no detections), 10.2ms\n",
            "video 1/1 (frame 459/850) /content/medicine_test.mp4: 384x640 (no detections), 11.3ms\n",
            "video 1/1 (frame 460/850) /content/medicine_test.mp4: 384x640 (no detections), 8.9ms\n",
            "video 1/1 (frame 461/850) /content/medicine_test.mp4: 384x640 (no detections), 7.0ms\n",
            "video 1/1 (frame 462/850) /content/medicine_test.mp4: 384x640 (no detections), 7.4ms\n",
            "video 1/1 (frame 463/850) /content/medicine_test.mp4: 384x640 (no detections), 11.4ms\n",
            "video 1/1 (frame 464/850) /content/medicine_test.mp4: 384x640 (no detections), 7.6ms\n",
            "video 1/1 (frame 465/850) /content/medicine_test.mp4: 384x640 (no detections), 6.7ms\n",
            "video 1/1 (frame 466/850) /content/medicine_test.mp4: 384x640 (no detections), 6.7ms\n",
            "video 1/1 (frame 467/850) /content/medicine_test.mp4: 384x640 (no detections), 7.3ms\n",
            "video 1/1 (frame 468/850) /content/medicine_test.mp4: 384x640 (no detections), 6.7ms\n",
            "video 1/1 (frame 469/850) /content/medicine_test.mp4: 384x640 (no detections), 7.9ms\n",
            "video 1/1 (frame 470/850) /content/medicine_test.mp4: 384x640 (no detections), 6.9ms\n",
            "video 1/1 (frame 471/850) /content/medicine_test.mp4: 384x640 (no detections), 7.6ms\n",
            "video 1/1 (frame 472/850) /content/medicine_test.mp4: 384x640 (no detections), 7.7ms\n",
            "video 1/1 (frame 473/850) /content/medicine_test.mp4: 384x640 (no detections), 6.7ms\n",
            "video 1/1 (frame 474/850) /content/medicine_test.mp4: 384x640 (no detections), 6.7ms\n",
            "video 1/1 (frame 475/850) /content/medicine_test.mp4: 384x640 (no detections), 7.2ms\n",
            "video 1/1 (frame 476/850) /content/medicine_test.mp4: 384x640 (no detections), 7.6ms\n",
            "video 1/1 (frame 477/850) /content/medicine_test.mp4: 384x640 (no detections), 7.4ms\n",
            "video 1/1 (frame 478/850) /content/medicine_test.mp4: 384x640 (no detections), 7.3ms\n",
            "video 1/1 (frame 479/850) /content/medicine_test.mp4: 384x640 (no detections), 6.4ms\n",
            "video 1/1 (frame 480/850) /content/medicine_test.mp4: 384x640 (no detections), 10.0ms\n",
            "video 1/1 (frame 481/850) /content/medicine_test.mp4: 384x640 (no detections), 6.5ms\n",
            "video 1/1 (frame 482/850) /content/medicine_test.mp4: 384x640 (no detections), 6.9ms\n",
            "video 1/1 (frame 483/850) /content/medicine_test.mp4: 384x640 (no detections), 8.8ms\n",
            "video 1/1 (frame 484/850) /content/medicine_test.mp4: 384x640 (no detections), 12.1ms\n",
            "video 1/1 (frame 485/850) /content/medicine_test.mp4: 384x640 (no detections), 7.2ms\n",
            "video 1/1 (frame 486/850) /content/medicine_test.mp4: 384x640 (no detections), 6.6ms\n",
            "video 1/1 (frame 487/850) /content/medicine_test.mp4: 384x640 (no detections), 6.6ms\n",
            "video 1/1 (frame 488/850) /content/medicine_test.mp4: 384x640 (no detections), 6.8ms\n",
            "video 1/1 (frame 489/850) /content/medicine_test.mp4: 384x640 (no detections), 6.8ms\n",
            "video 1/1 (frame 490/850) /content/medicine_test.mp4: 384x640 (no detections), 8.2ms\n",
            "video 1/1 (frame 491/850) /content/medicine_test.mp4: 384x640 (no detections), 7.8ms\n",
            "video 1/1 (frame 492/850) /content/medicine_test.mp4: 384x640 (no detections), 8.9ms\n",
            "video 1/1 (frame 493/850) /content/medicine_test.mp4: 384x640 (no detections), 8.0ms\n",
            "video 1/1 (frame 494/850) /content/medicine_test.mp4: 384x640 (no detections), 7.5ms\n",
            "video 1/1 (frame 495/850) /content/medicine_test.mp4: 384x640 (no detections), 8.5ms\n",
            "video 1/1 (frame 496/850) /content/medicine_test.mp4: 384x640 (no detections), 7.2ms\n",
            "video 1/1 (frame 497/850) /content/medicine_test.mp4: 384x640 (no detections), 7.6ms\n",
            "video 1/1 (frame 498/850) /content/medicine_test.mp4: 384x640 (no detections), 7.8ms\n",
            "video 1/1 (frame 499/850) /content/medicine_test.mp4: 384x640 (no detections), 10.2ms\n",
            "video 1/1 (frame 500/850) /content/medicine_test.mp4: 384x640 (no detections), 13.7ms\n",
            "video 1/1 (frame 501/850) /content/medicine_test.mp4: 384x640 (no detections), 8.7ms\n",
            "video 1/1 (frame 502/850) /content/medicine_test.mp4: 384x640 (no detections), 10.2ms\n",
            "video 1/1 (frame 503/850) /content/medicine_test.mp4: 384x640 (no detections), 6.9ms\n",
            "video 1/1 (frame 504/850) /content/medicine_test.mp4: 384x640 (no detections), 6.7ms\n",
            "video 1/1 (frame 505/850) /content/medicine_test.mp4: 384x640 (no detections), 7.0ms\n",
            "video 1/1 (frame 506/850) /content/medicine_test.mp4: 384x640 (no detections), 14.3ms\n",
            "video 1/1 (frame 507/850) /content/medicine_test.mp4: 384x640 (no detections), 7.1ms\n",
            "video 1/1 (frame 508/850) /content/medicine_test.mp4: 384x640 (no detections), 7.1ms\n",
            "video 1/1 (frame 509/850) /content/medicine_test.mp4: 384x640 (no detections), 9.1ms\n",
            "video 1/1 (frame 510/850) /content/medicine_test.mp4: 384x640 (no detections), 6.7ms\n",
            "video 1/1 (frame 511/850) /content/medicine_test.mp4: 384x640 (no detections), 8.4ms\n",
            "video 1/1 (frame 512/850) /content/medicine_test.mp4: 384x640 (no detections), 7.1ms\n",
            "video 1/1 (frame 513/850) /content/medicine_test.mp4: 384x640 (no detections), 6.9ms\n",
            "video 1/1 (frame 514/850) /content/medicine_test.mp4: 384x640 (no detections), 6.6ms\n",
            "video 1/1 (frame 515/850) /content/medicine_test.mp4: 384x640 (no detections), 6.6ms\n",
            "video 1/1 (frame 516/850) /content/medicine_test.mp4: 384x640 (no detections), 6.7ms\n",
            "video 1/1 (frame 517/850) /content/medicine_test.mp4: 384x640 (no detections), 7.8ms\n",
            "video 1/1 (frame 518/850) /content/medicine_test.mp4: 384x640 (no detections), 6.7ms\n",
            "video 1/1 (frame 519/850) /content/medicine_test.mp4: 384x640 (no detections), 6.7ms\n",
            "video 1/1 (frame 520/850) /content/medicine_test.mp4: 384x640 (no detections), 6.6ms\n",
            "video 1/1 (frame 521/850) /content/medicine_test.mp4: 384x640 (no detections), 6.8ms\n",
            "video 1/1 (frame 522/850) /content/medicine_test.mp4: 384x640 (no detections), 9.3ms\n",
            "video 1/1 (frame 523/850) /content/medicine_test.mp4: 384x640 (no detections), 6.7ms\n",
            "video 1/1 (frame 524/850) /content/medicine_test.mp4: 384x640 (no detections), 6.8ms\n",
            "video 1/1 (frame 525/850) /content/medicine_test.mp4: 384x640 (no detections), 6.8ms\n",
            "video 1/1 (frame 526/850) /content/medicine_test.mp4: 384x640 (no detections), 6.7ms\n",
            "video 1/1 (frame 527/850) /content/medicine_test.mp4: 384x640 (no detections), 6.6ms\n",
            "video 1/1 (frame 528/850) /content/medicine_test.mp4: 384x640 (no detections), 6.6ms\n",
            "video 1/1 (frame 529/850) /content/medicine_test.mp4: 384x640 (no detections), 7.0ms\n",
            "video 1/1 (frame 530/850) /content/medicine_test.mp4: 384x640 (no detections), 6.8ms\n",
            "video 1/1 (frame 531/850) /content/medicine_test.mp4: 384x640 (no detections), 6.9ms\n",
            "video 1/1 (frame 532/850) /content/medicine_test.mp4: 384x640 (no detections), 8.5ms\n",
            "video 1/1 (frame 533/850) /content/medicine_test.mp4: 384x640 (no detections), 6.9ms\n",
            "video 1/1 (frame 534/850) /content/medicine_test.mp4: 384x640 (no detections), 6.8ms\n",
            "video 1/1 (frame 535/850) /content/medicine_test.mp4: 384x640 (no detections), 7.5ms\n",
            "video 1/1 (frame 536/850) /content/medicine_test.mp4: 384x640 (no detections), 6.8ms\n",
            "video 1/1 (frame 537/850) /content/medicine_test.mp4: 384x640 (no detections), 6.9ms\n",
            "video 1/1 (frame 538/850) /content/medicine_test.mp4: 384x640 (no detections), 7.2ms\n",
            "video 1/1 (frame 539/850) /content/medicine_test.mp4: 384x640 (no detections), 6.6ms\n",
            "video 1/1 (frame 540/850) /content/medicine_test.mp4: 384x640 (no detections), 6.7ms\n",
            "video 1/1 (frame 541/850) /content/medicine_test.mp4: 384x640 (no detections), 6.8ms\n",
            "video 1/1 (frame 542/850) /content/medicine_test.mp4: 384x640 (no detections), 7.8ms\n",
            "video 1/1 (frame 543/850) /content/medicine_test.mp4: 384x640 (no detections), 10.4ms\n",
            "video 1/1 (frame 544/850) /content/medicine_test.mp4: 384x640 (no detections), 10.5ms\n",
            "video 1/1 (frame 545/850) /content/medicine_test.mp4: 384x640 (no detections), 9.1ms\n",
            "video 1/1 (frame 546/850) /content/medicine_test.mp4: 384x640 (no detections), 9.6ms\n",
            "video 1/1 (frame 547/850) /content/medicine_test.mp4: 384x640 (no detections), 7.6ms\n",
            "video 1/1 (frame 548/850) /content/medicine_test.mp4: 384x640 (no detections), 6.7ms\n",
            "video 1/1 (frame 549/850) /content/medicine_test.mp4: 384x640 (no detections), 8.7ms\n",
            "video 1/1 (frame 550/850) /content/medicine_test.mp4: 384x640 (no detections), 7.1ms\n",
            "video 1/1 (frame 551/850) /content/medicine_test.mp4: 384x640 1 person, 14.9ms\n",
            "video 1/1 (frame 552/850) /content/medicine_test.mp4: 384x640 1 person, 7.1ms\n",
            "video 1/1 (frame 553/850) /content/medicine_test.mp4: 384x640 1 person, 8.5ms\n",
            "video 1/1 (frame 554/850) /content/medicine_test.mp4: 384x640 1 person, 7.2ms\n",
            "video 1/1 (frame 555/850) /content/medicine_test.mp4: 384x640 1 person, 6.7ms\n",
            "video 1/1 (frame 556/850) /content/medicine_test.mp4: 384x640 1 person, 7.0ms\n",
            "video 1/1 (frame 557/850) /content/medicine_test.mp4: 384x640 1 person, 6.7ms\n",
            "video 1/1 (frame 558/850) /content/medicine_test.mp4: 384x640 1 person, 6.6ms\n",
            "video 1/1 (frame 559/850) /content/medicine_test.mp4: 384x640 1 person, 6.6ms\n",
            "video 1/1 (frame 560/850) /content/medicine_test.mp4: 384x640 1 person, 6.8ms\n",
            "video 1/1 (frame 561/850) /content/medicine_test.mp4: 384x640 1 person, 6.8ms\n",
            "video 1/1 (frame 562/850) /content/medicine_test.mp4: 384x640 1 person, 6.6ms\n",
            "video 1/1 (frame 563/850) /content/medicine_test.mp4: 384x640 1 person, 6.9ms\n",
            "video 1/1 (frame 564/850) /content/medicine_test.mp4: 384x640 1 person, 6.7ms\n",
            "video 1/1 (frame 565/850) /content/medicine_test.mp4: 384x640 1 person, 7.8ms\n",
            "video 1/1 (frame 566/850) /content/medicine_test.mp4: 384x640 1 person, 7.8ms\n",
            "video 1/1 (frame 567/850) /content/medicine_test.mp4: 384x640 1 person, 9.4ms\n",
            "video 1/1 (frame 568/850) /content/medicine_test.mp4: 384x640 1 person, 9.4ms\n",
            "video 1/1 (frame 569/850) /content/medicine_test.mp4: 384x640 1 person, 7.0ms\n",
            "video 1/1 (frame 570/850) /content/medicine_test.mp4: 384x640 1 person, 6.7ms\n",
            "video 1/1 (frame 571/850) /content/medicine_test.mp4: 384x640 1 person, 6.6ms\n",
            "video 1/1 (frame 572/850) /content/medicine_test.mp4: 384x640 1 person, 6.8ms\n",
            "video 1/1 (frame 573/850) /content/medicine_test.mp4: 384x640 1 person, 6.8ms\n",
            "video 1/1 (frame 574/850) /content/medicine_test.mp4: 384x640 1 person, 6.9ms\n",
            "video 1/1 (frame 575/850) /content/medicine_test.mp4: 384x640 1 person, 6.6ms\n",
            "video 1/1 (frame 576/850) /content/medicine_test.mp4: 384x640 1 person, 8.6ms\n",
            "video 1/1 (frame 577/850) /content/medicine_test.mp4: 384x640 1 person, 6.8ms\n",
            "video 1/1 (frame 578/850) /content/medicine_test.mp4: 384x640 1 person, 6.7ms\n",
            "video 1/1 (frame 579/850) /content/medicine_test.mp4: 384x640 1 person, 6.7ms\n",
            "video 1/1 (frame 580/850) /content/medicine_test.mp4: 384x640 1 person, 6.8ms\n",
            "video 1/1 (frame 581/850) /content/medicine_test.mp4: 384x640 1 person, 8.9ms\n",
            "video 1/1 (frame 582/850) /content/medicine_test.mp4: 384x640 1 person, 7.1ms\n",
            "video 1/1 (frame 583/850) /content/medicine_test.mp4: 384x640 1 person, 9.3ms\n",
            "video 1/1 (frame 584/850) /content/medicine_test.mp4: 384x640 1 person, 9.7ms\n",
            "video 1/1 (frame 585/850) /content/medicine_test.mp4: 384x640 1 person, 10.2ms\n",
            "video 1/1 (frame 586/850) /content/medicine_test.mp4: 384x640 1 person, 8.2ms\n",
            "video 1/1 (frame 587/850) /content/medicine_test.mp4: 384x640 1 person, 6.6ms\n",
            "video 1/1 (frame 588/850) /content/medicine_test.mp4: 384x640 1 person, 7.0ms\n",
            "video 1/1 (frame 589/850) /content/medicine_test.mp4: 384x640 1 person, 6.6ms\n",
            "video 1/1 (frame 590/850) /content/medicine_test.mp4: 384x640 1 person, 7.1ms\n",
            "video 1/1 (frame 591/850) /content/medicine_test.mp4: 384x640 1 person, 7.0ms\n",
            "video 1/1 (frame 592/850) /content/medicine_test.mp4: 384x640 1 person, 12.0ms\n",
            "video 1/1 (frame 593/850) /content/medicine_test.mp4: 384x640 1 person, 8.3ms\n",
            "video 1/1 (frame 594/850) /content/medicine_test.mp4: 384x640 1 person, 7.2ms\n",
            "video 1/1 (frame 595/850) /content/medicine_test.mp4: 384x640 1 person, 7.9ms\n",
            "video 1/1 (frame 596/850) /content/medicine_test.mp4: 384x640 1 person, 6.8ms\n",
            "video 1/1 (frame 597/850) /content/medicine_test.mp4: 384x640 1 person, 6.6ms\n",
            "video 1/1 (frame 598/850) /content/medicine_test.mp4: 384x640 1 person, 6.7ms\n",
            "video 1/1 (frame 599/850) /content/medicine_test.mp4: 384x640 1 person, 6.8ms\n",
            "video 1/1 (frame 600/850) /content/medicine_test.mp4: 384x640 1 person, 8.2ms\n",
            "video 1/1 (frame 601/850) /content/medicine_test.mp4: 384x640 (no detections), 10.1ms\n",
            "video 1/1 (frame 602/850) /content/medicine_test.mp4: 384x640 (no detections), 7.4ms\n",
            "video 1/1 (frame 603/850) /content/medicine_test.mp4: 384x640 (no detections), 6.9ms\n",
            "video 1/1 (frame 604/850) /content/medicine_test.mp4: 384x640 (no detections), 6.7ms\n",
            "video 1/1 (frame 605/850) /content/medicine_test.mp4: 384x640 (no detections), 8.9ms\n",
            "video 1/1 (frame 606/850) /content/medicine_test.mp4: 384x640 (no detections), 6.7ms\n",
            "video 1/1 (frame 607/850) /content/medicine_test.mp4: 384x640 (no detections), 6.7ms\n",
            "video 1/1 (frame 608/850) /content/medicine_test.mp4: 384x640 (no detections), 8.5ms\n",
            "video 1/1 (frame 609/850) /content/medicine_test.mp4: 384x640 (no detections), 6.7ms\n",
            "video 1/1 (frame 610/850) /content/medicine_test.mp4: 384x640 (no detections), 12.1ms\n",
            "video 1/1 (frame 611/850) /content/medicine_test.mp4: 384x640 (no detections), 11.0ms\n",
            "video 1/1 (frame 612/850) /content/medicine_test.mp4: 384x640 (no detections), 11.0ms\n",
            "video 1/1 (frame 613/850) /content/medicine_test.mp4: 384x640 (no detections), 9.6ms\n",
            "video 1/1 (frame 614/850) /content/medicine_test.mp4: 384x640 (no detections), 13.9ms\n",
            "video 1/1 (frame 615/850) /content/medicine_test.mp4: 384x640 (no detections), 10.5ms\n",
            "video 1/1 (frame 616/850) /content/medicine_test.mp4: 384x640 (no detections), 12.3ms\n",
            "video 1/1 (frame 617/850) /content/medicine_test.mp4: 384x640 (no detections), 12.1ms\n",
            "video 1/1 (frame 618/850) /content/medicine_test.mp4: 384x640 (no detections), 13.5ms\n",
            "video 1/1 (frame 619/850) /content/medicine_test.mp4: 384x640 (no detections), 17.0ms\n",
            "video 1/1 (frame 620/850) /content/medicine_test.mp4: 384x640 (no detections), 16.1ms\n",
            "video 1/1 (frame 621/850) /content/medicine_test.mp4: 384x640 (no detections), 14.3ms\n",
            "video 1/1 (frame 622/850) /content/medicine_test.mp4: 384x640 (no detections), 8.3ms\n",
            "video 1/1 (frame 623/850) /content/medicine_test.mp4: 384x640 (no detections), 14.1ms\n",
            "video 1/1 (frame 624/850) /content/medicine_test.mp4: 384x640 (no detections), 8.3ms\n",
            "video 1/1 (frame 625/850) /content/medicine_test.mp4: 384x640 (no detections), 9.8ms\n",
            "video 1/1 (frame 626/850) /content/medicine_test.mp4: 384x640 (no detections), 8.9ms\n",
            "video 1/1 (frame 627/850) /content/medicine_test.mp4: 384x640 (no detections), 12.5ms\n",
            "video 1/1 (frame 628/850) /content/medicine_test.mp4: 384x640 (no detections), 10.1ms\n",
            "video 1/1 (frame 629/850) /content/medicine_test.mp4: 384x640 (no detections), 9.5ms\n",
            "video 1/1 (frame 630/850) /content/medicine_test.mp4: 384x640 (no detections), 8.2ms\n",
            "video 1/1 (frame 631/850) /content/medicine_test.mp4: 384x640 (no detections), 11.3ms\n",
            "video 1/1 (frame 632/850) /content/medicine_test.mp4: 384x640 (no detections), 10.3ms\n",
            "video 1/1 (frame 633/850) /content/medicine_test.mp4: 384x640 (no detections), 9.3ms\n",
            "video 1/1 (frame 634/850) /content/medicine_test.mp4: 384x640 (no detections), 9.1ms\n",
            "video 1/1 (frame 635/850) /content/medicine_test.mp4: 384x640 (no detections), 10.9ms\n",
            "video 1/1 (frame 636/850) /content/medicine_test.mp4: 384x640 (no detections), 9.2ms\n",
            "video 1/1 (frame 637/850) /content/medicine_test.mp4: 384x640 (no detections), 8.3ms\n",
            "video 1/1 (frame 638/850) /content/medicine_test.mp4: 384x640 (no detections), 8.5ms\n",
            "video 1/1 (frame 639/850) /content/medicine_test.mp4: 384x640 (no detections), 8.1ms\n",
            "video 1/1 (frame 640/850) /content/medicine_test.mp4: 384x640 (no detections), 9.1ms\n",
            "video 1/1 (frame 641/850) /content/medicine_test.mp4: 384x640 (no detections), 9.8ms\n",
            "video 1/1 (frame 642/850) /content/medicine_test.mp4: 384x640 (no detections), 10.9ms\n",
            "video 1/1 (frame 643/850) /content/medicine_test.mp4: 384x640 (no detections), 7.9ms\n",
            "video 1/1 (frame 644/850) /content/medicine_test.mp4: 384x640 (no detections), 10.2ms\n",
            "video 1/1 (frame 645/850) /content/medicine_test.mp4: 384x640 (no detections), 9.4ms\n",
            "video 1/1 (frame 646/850) /content/medicine_test.mp4: 384x640 (no detections), 10.5ms\n",
            "video 1/1 (frame 647/850) /content/medicine_test.mp4: 384x640 (no detections), 8.9ms\n",
            "video 1/1 (frame 648/850) /content/medicine_test.mp4: 384x640 (no detections), 9.2ms\n",
            "video 1/1 (frame 649/850) /content/medicine_test.mp4: 384x640 (no detections), 8.6ms\n",
            "video 1/1 (frame 650/850) /content/medicine_test.mp4: 384x640 (no detections), 11.0ms\n",
            "video 1/1 (frame 651/850) /content/medicine_test.mp4: 384x640 1 person, 13.9ms\n",
            "video 1/1 (frame 652/850) /content/medicine_test.mp4: 384x640 1 person, 11.0ms\n",
            "video 1/1 (frame 653/850) /content/medicine_test.mp4: 384x640 1 person, 8.1ms\n",
            "video 1/1 (frame 654/850) /content/medicine_test.mp4: 384x640 1 person, 14.8ms\n",
            "video 1/1 (frame 655/850) /content/medicine_test.mp4: 384x640 1 person, 10.3ms\n",
            "video 1/1 (frame 656/850) /content/medicine_test.mp4: 384x640 1 person, 9.4ms\n",
            "video 1/1 (frame 657/850) /content/medicine_test.mp4: 384x640 1 person, 11.8ms\n",
            "video 1/1 (frame 658/850) /content/medicine_test.mp4: 384x640 1 person, 10.1ms\n",
            "video 1/1 (frame 659/850) /content/medicine_test.mp4: 384x640 1 person, 13.2ms\n",
            "video 1/1 (frame 660/850) /content/medicine_test.mp4: 384x640 1 person, 10.2ms\n",
            "video 1/1 (frame 661/850) /content/medicine_test.mp4: 384x640 1 person, 13.6ms\n",
            "video 1/1 (frame 662/850) /content/medicine_test.mp4: 384x640 1 person, 15.0ms\n",
            "video 1/1 (frame 663/850) /content/medicine_test.mp4: 384x640 1 person, 13.0ms\n",
            "video 1/1 (frame 664/850) /content/medicine_test.mp4: 384x640 1 person, 10.5ms\n",
            "video 1/1 (frame 665/850) /content/medicine_test.mp4: 384x640 1 person, 12.9ms\n",
            "video 1/1 (frame 666/850) /content/medicine_test.mp4: 384x640 1 person, 17.8ms\n",
            "video 1/1 (frame 667/850) /content/medicine_test.mp4: 384x640 1 person, 10.6ms\n",
            "video 1/1 (frame 668/850) /content/medicine_test.mp4: 384x640 1 person, 16.1ms\n",
            "video 1/1 (frame 669/850) /content/medicine_test.mp4: 384x640 1 person, 13.5ms\n",
            "video 1/1 (frame 670/850) /content/medicine_test.mp4: 384x640 1 person, 15.3ms\n",
            "video 1/1 (frame 671/850) /content/medicine_test.mp4: 384x640 1 person, 15.1ms\n",
            "video 1/1 (frame 672/850) /content/medicine_test.mp4: 384x640 1 person, 13.0ms\n",
            "video 1/1 (frame 673/850) /content/medicine_test.mp4: 384x640 1 person, 11.3ms\n",
            "video 1/1 (frame 674/850) /content/medicine_test.mp4: 384x640 1 person, 12.6ms\n",
            "video 1/1 (frame 675/850) /content/medicine_test.mp4: 384x640 1 person, 17.5ms\n",
            "video 1/1 (frame 676/850) /content/medicine_test.mp4: 384x640 1 person, 22.5ms\n",
            "video 1/1 (frame 677/850) /content/medicine_test.mp4: 384x640 1 person, 15.3ms\n",
            "video 1/1 (frame 678/850) /content/medicine_test.mp4: 384x640 1 person, 14.3ms\n",
            "video 1/1 (frame 679/850) /content/medicine_test.mp4: 384x640 1 person, 10.3ms\n",
            "video 1/1 (frame 680/850) /content/medicine_test.mp4: 384x640 1 person, 11.3ms\n",
            "video 1/1 (frame 681/850) /content/medicine_test.mp4: 384x640 1 person, 13.1ms\n",
            "video 1/1 (frame 682/850) /content/medicine_test.mp4: 384x640 1 person, 13.0ms\n",
            "video 1/1 (frame 683/850) /content/medicine_test.mp4: 384x640 1 person, 13.9ms\n",
            "video 1/1 (frame 684/850) /content/medicine_test.mp4: 384x640 1 person, 13.9ms\n",
            "video 1/1 (frame 685/850) /content/medicine_test.mp4: 384x640 1 person, 19.0ms\n",
            "video 1/1 (frame 686/850) /content/medicine_test.mp4: 384x640 1 person, 9.6ms\n",
            "video 1/1 (frame 687/850) /content/medicine_test.mp4: 384x640 1 person, 10.1ms\n",
            "video 1/1 (frame 688/850) /content/medicine_test.mp4: 384x640 1 person, 11.0ms\n",
            "video 1/1 (frame 689/850) /content/medicine_test.mp4: 384x640 1 person, 8.3ms\n",
            "video 1/1 (frame 690/850) /content/medicine_test.mp4: 384x640 1 person, 12.3ms\n",
            "video 1/1 (frame 691/850) /content/medicine_test.mp4: 384x640 1 person, 10.4ms\n",
            "video 1/1 (frame 692/850) /content/medicine_test.mp4: 384x640 1 person, 10.6ms\n",
            "video 1/1 (frame 693/850) /content/medicine_test.mp4: 384x640 1 person, 10.8ms\n",
            "video 1/1 (frame 694/850) /content/medicine_test.mp4: 384x640 1 person, 11.3ms\n",
            "video 1/1 (frame 695/850) /content/medicine_test.mp4: 384x640 1 person, 10.9ms\n",
            "video 1/1 (frame 696/850) /content/medicine_test.mp4: 384x640 1 person, 10.0ms\n",
            "video 1/1 (frame 697/850) /content/medicine_test.mp4: 384x640 1 person, 17.2ms\n",
            "video 1/1 (frame 698/850) /content/medicine_test.mp4: 384x640 1 person, 12.9ms\n",
            "video 1/1 (frame 699/850) /content/medicine_test.mp4: 384x640 1 person, 12.6ms\n",
            "video 1/1 (frame 700/850) /content/medicine_test.mp4: 384x640 1 person, 12.0ms\n",
            "video 1/1 (frame 701/850) /content/medicine_test.mp4: 384x640 1 person, 10.2ms\n",
            "video 1/1 (frame 702/850) /content/medicine_test.mp4: 384x640 1 person, 8.9ms\n",
            "video 1/1 (frame 703/850) /content/medicine_test.mp4: 384x640 1 person, 7.8ms\n",
            "video 1/1 (frame 704/850) /content/medicine_test.mp4: 384x640 1 person, 8.9ms\n",
            "video 1/1 (frame 705/850) /content/medicine_test.mp4: 384x640 1 person, 8.0ms\n",
            "video 1/1 (frame 706/850) /content/medicine_test.mp4: 384x640 1 person, 8.7ms\n",
            "video 1/1 (frame 707/850) /content/medicine_test.mp4: 384x640 1 person, 7.7ms\n",
            "video 1/1 (frame 708/850) /content/medicine_test.mp4: 384x640 1 person, 8.6ms\n",
            "video 1/1 (frame 709/850) /content/medicine_test.mp4: 384x640 1 person, 7.6ms\n",
            "video 1/1 (frame 710/850) /content/medicine_test.mp4: 384x640 1 person, 8.4ms\n",
            "video 1/1 (frame 711/850) /content/medicine_test.mp4: 384x640 1 person, 7.7ms\n",
            "video 1/1 (frame 712/850) /content/medicine_test.mp4: 384x640 1 person, 9.5ms\n",
            "video 1/1 (frame 713/850) /content/medicine_test.mp4: 384x640 1 person, 7.6ms\n",
            "video 1/1 (frame 714/850) /content/medicine_test.mp4: 384x640 1 person, 11.3ms\n",
            "video 1/1 (frame 715/850) /content/medicine_test.mp4: 384x640 1 person, 9.3ms\n",
            "video 1/1 (frame 716/850) /content/medicine_test.mp4: 384x640 1 person, 10.7ms\n",
            "video 1/1 (frame 717/850) /content/medicine_test.mp4: 384x640 1 person, 11.0ms\n",
            "video 1/1 (frame 718/850) /content/medicine_test.mp4: 384x640 1 person, 12.2ms\n",
            "video 1/1 (frame 719/850) /content/medicine_test.mp4: 384x640 1 person, 9.3ms\n",
            "video 1/1 (frame 720/850) /content/medicine_test.mp4: 384x640 1 person, 11.5ms\n",
            "video 1/1 (frame 721/850) /content/medicine_test.mp4: 384x640 1 person, 9.2ms\n",
            "video 1/1 (frame 722/850) /content/medicine_test.mp4: 384x640 1 person, 13.2ms\n",
            "video 1/1 (frame 723/850) /content/medicine_test.mp4: 384x640 1 person, 9.6ms\n",
            "video 1/1 (frame 724/850) /content/medicine_test.mp4: 384x640 1 person, 8.4ms\n",
            "video 1/1 (frame 725/850) /content/medicine_test.mp4: 384x640 1 person, 11.8ms\n",
            "video 1/1 (frame 726/850) /content/medicine_test.mp4: 384x640 1 person, 9.7ms\n",
            "video 1/1 (frame 727/850) /content/medicine_test.mp4: 384x640 1 person, 10.5ms\n",
            "video 1/1 (frame 728/850) /content/medicine_test.mp4: 384x640 1 person, 13.8ms\n",
            "video 1/1 (frame 729/850) /content/medicine_test.mp4: 384x640 1 person, 12.8ms\n",
            "video 1/1 (frame 730/850) /content/medicine_test.mp4: 384x640 1 person, 13.2ms\n",
            "video 1/1 (frame 731/850) /content/medicine_test.mp4: 384x640 1 person, 12.6ms\n",
            "video 1/1 (frame 732/850) /content/medicine_test.mp4: 384x640 1 person, 10.9ms\n",
            "video 1/1 (frame 733/850) /content/medicine_test.mp4: 384x640 1 person, 9.0ms\n",
            "video 1/1 (frame 734/850) /content/medicine_test.mp4: 384x640 1 person, 13.4ms\n",
            "video 1/1 (frame 735/850) /content/medicine_test.mp4: 384x640 1 person, 10.5ms\n",
            "video 1/1 (frame 736/850) /content/medicine_test.mp4: 384x640 1 person, 11.5ms\n",
            "video 1/1 (frame 737/850) /content/medicine_test.mp4: 384x640 1 person, 11.4ms\n",
            "video 1/1 (frame 738/850) /content/medicine_test.mp4: 384x640 1 person, 10.8ms\n",
            "video 1/1 (frame 739/850) /content/medicine_test.mp4: 384x640 1 person, 10.9ms\n",
            "video 1/1 (frame 740/850) /content/medicine_test.mp4: 384x640 1 person, 11.3ms\n",
            "video 1/1 (frame 741/850) /content/medicine_test.mp4: 384x640 1 person, 11.5ms\n",
            "video 1/1 (frame 742/850) /content/medicine_test.mp4: 384x640 1 person, 7.6ms\n",
            "video 1/1 (frame 743/850) /content/medicine_test.mp4: 384x640 1 person, 6.9ms\n",
            "video 1/1 (frame 744/850) /content/medicine_test.mp4: 384x640 1 person, 6.7ms\n",
            "video 1/1 (frame 745/850) /content/medicine_test.mp4: 384x640 1 person, 6.7ms\n",
            "video 1/1 (frame 746/850) /content/medicine_test.mp4: 384x640 1 person, 10.8ms\n",
            "video 1/1 (frame 747/850) /content/medicine_test.mp4: 384x640 1 person, 6.9ms\n",
            "video 1/1 (frame 748/850) /content/medicine_test.mp4: 384x640 1 person, 7.1ms\n",
            "video 1/1 (frame 749/850) /content/medicine_test.mp4: 384x640 1 person, 7.1ms\n",
            "video 1/1 (frame 750/850) /content/medicine_test.mp4: 384x640 1 person, 6.6ms\n",
            "video 1/1 (frame 751/850) /content/medicine_test.mp4: 384x640 (no detections), 6.8ms\n",
            "video 1/1 (frame 752/850) /content/medicine_test.mp4: 384x640 (no detections), 6.7ms\n",
            "video 1/1 (frame 753/850) /content/medicine_test.mp4: 384x640 (no detections), 6.6ms\n",
            "video 1/1 (frame 754/850) /content/medicine_test.mp4: 384x640 (no detections), 6.7ms\n",
            "video 1/1 (frame 755/850) /content/medicine_test.mp4: 384x640 (no detections), 6.6ms\n",
            "video 1/1 (frame 756/850) /content/medicine_test.mp4: 384x640 (no detections), 6.6ms\n",
            "video 1/1 (frame 757/850) /content/medicine_test.mp4: 384x640 (no detections), 7.2ms\n",
            "video 1/1 (frame 758/850) /content/medicine_test.mp4: 384x640 (no detections), 6.7ms\n",
            "video 1/1 (frame 759/850) /content/medicine_test.mp4: 384x640 (no detections), 6.7ms\n",
            "video 1/1 (frame 760/850) /content/medicine_test.mp4: 384x640 (no detections), 6.7ms\n",
            "video 1/1 (frame 761/850) /content/medicine_test.mp4: 384x640 (no detections), 6.7ms\n",
            "video 1/1 (frame 762/850) /content/medicine_test.mp4: 384x640 (no detections), 6.7ms\n",
            "video 1/1 (frame 763/850) /content/medicine_test.mp4: 384x640 (no detections), 9.7ms\n",
            "video 1/1 (frame 764/850) /content/medicine_test.mp4: 384x640 (no detections), 9.2ms\n",
            "video 1/1 (frame 765/850) /content/medicine_test.mp4: 384x640 (no detections), 9.1ms\n",
            "video 1/1 (frame 766/850) /content/medicine_test.mp4: 384x640 (no detections), 9.9ms\n",
            "video 1/1 (frame 767/850) /content/medicine_test.mp4: 384x640 (no detections), 7.4ms\n",
            "video 1/1 (frame 768/850) /content/medicine_test.mp4: 384x640 (no detections), 7.0ms\n",
            "video 1/1 (frame 769/850) /content/medicine_test.mp4: 384x640 (no detections), 6.5ms\n",
            "video 1/1 (frame 770/850) /content/medicine_test.mp4: 384x640 (no detections), 8.5ms\n",
            "video 1/1 (frame 771/850) /content/medicine_test.mp4: 384x640 (no detections), 7.6ms\n",
            "video 1/1 (frame 772/850) /content/medicine_test.mp4: 384x640 (no detections), 6.8ms\n",
            "video 1/1 (frame 773/850) /content/medicine_test.mp4: 384x640 (no detections), 6.7ms\n",
            "video 1/1 (frame 774/850) /content/medicine_test.mp4: 384x640 (no detections), 6.5ms\n",
            "video 1/1 (frame 775/850) /content/medicine_test.mp4: 384x640 (no detections), 7.1ms\n",
            "video 1/1 (frame 776/850) /content/medicine_test.mp4: 384x640 (no detections), 6.7ms\n",
            "video 1/1 (frame 777/850) /content/medicine_test.mp4: 384x640 (no detections), 7.0ms\n",
            "video 1/1 (frame 778/850) /content/medicine_test.mp4: 384x640 (no detections), 7.1ms\n",
            "video 1/1 (frame 779/850) /content/medicine_test.mp4: 384x640 (no detections), 6.5ms\n",
            "video 1/1 (frame 780/850) /content/medicine_test.mp4: 384x640 (no detections), 10.4ms\n",
            "video 1/1 (frame 781/850) /content/medicine_test.mp4: 384x640 (no detections), 6.5ms\n",
            "video 1/1 (frame 782/850) /content/medicine_test.mp4: 384x640 (no detections), 6.7ms\n",
            "video 1/1 (frame 783/850) /content/medicine_test.mp4: 384x640 (no detections), 6.6ms\n",
            "video 1/1 (frame 784/850) /content/medicine_test.mp4: 384x640 (no detections), 7.1ms\n",
            "video 1/1 (frame 785/850) /content/medicine_test.mp4: 384x640 (no detections), 7.4ms\n",
            "video 1/1 (frame 786/850) /content/medicine_test.mp4: 384x640 (no detections), 7.0ms\n",
            "video 1/1 (frame 787/850) /content/medicine_test.mp4: 384x640 (no detections), 7.0ms\n",
            "video 1/1 (frame 788/850) /content/medicine_test.mp4: 384x640 (no detections), 6.6ms\n",
            "video 1/1 (frame 789/850) /content/medicine_test.mp4: 384x640 (no detections), 6.7ms\n",
            "video 1/1 (frame 790/850) /content/medicine_test.mp4: 384x640 (no detections), 6.7ms\n",
            "video 1/1 (frame 791/850) /content/medicine_test.mp4: 384x640 (no detections), 11.0ms\n",
            "video 1/1 (frame 792/850) /content/medicine_test.mp4: 384x640 (no detections), 7.0ms\n",
            "video 1/1 (frame 793/850) /content/medicine_test.mp4: 384x640 (no detections), 6.8ms\n",
            "video 1/1 (frame 794/850) /content/medicine_test.mp4: 384x640 (no detections), 6.8ms\n",
            "video 1/1 (frame 795/850) /content/medicine_test.mp4: 384x640 (no detections), 6.9ms\n",
            "video 1/1 (frame 796/850) /content/medicine_test.mp4: 384x640 (no detections), 6.6ms\n",
            "video 1/1 (frame 797/850) /content/medicine_test.mp4: 384x640 (no detections), 6.6ms\n",
            "video 1/1 (frame 798/850) /content/medicine_test.mp4: 384x640 (no detections), 6.7ms\n",
            "video 1/1 (frame 799/850) /content/medicine_test.mp4: 384x640 (no detections), 6.6ms\n",
            "video 1/1 (frame 800/850) /content/medicine_test.mp4: 384x640 (no detections), 7.4ms\n",
            "video 1/1 (frame 801/850) /content/medicine_test.mp4: 384x640 1 person, 1 book, 6.5ms\n",
            "video 1/1 (frame 802/850) /content/medicine_test.mp4: 384x640 1 person, 1 book, 7.2ms\n",
            "video 1/1 (frame 803/850) /content/medicine_test.mp4: 384x640 1 person, 1 book, 6.5ms\n",
            "video 1/1 (frame 804/850) /content/medicine_test.mp4: 384x640 1 person, 1 book, 6.5ms\n",
            "video 1/1 (frame 805/850) /content/medicine_test.mp4: 384x640 1 person, 1 book, 6.8ms\n",
            "video 1/1 (frame 806/850) /content/medicine_test.mp4: 384x640 1 person, 1 book, 8.6ms\n",
            "video 1/1 (frame 807/850) /content/medicine_test.mp4: 384x640 1 person, 1 book, 8.7ms\n",
            "video 1/1 (frame 808/850) /content/medicine_test.mp4: 384x640 1 person, 1 book, 8.4ms\n",
            "video 1/1 (frame 809/850) /content/medicine_test.mp4: 384x640 1 person, 1 book, 9.4ms\n",
            "video 1/1 (frame 810/850) /content/medicine_test.mp4: 384x640 1 person, 1 book, 8.2ms\n",
            "video 1/1 (frame 811/850) /content/medicine_test.mp4: 384x640 1 person, 1 book, 7.3ms\n",
            "video 1/1 (frame 812/850) /content/medicine_test.mp4: 384x640 1 person, 1 book, 7.9ms\n",
            "video 1/1 (frame 813/850) /content/medicine_test.mp4: 384x640 1 person, 1 book, 7.1ms\n",
            "video 1/1 (frame 814/850) /content/medicine_test.mp4: 384x640 1 person, 1 book, 7.2ms\n",
            "video 1/1 (frame 815/850) /content/medicine_test.mp4: 384x640 1 person, 1 book, 8.4ms\n",
            "video 1/1 (frame 816/850) /content/medicine_test.mp4: 384x640 1 person, 1 book, 7.8ms\n",
            "video 1/1 (frame 817/850) /content/medicine_test.mp4: 384x640 1 person, 1 book, 7.1ms\n",
            "video 1/1 (frame 818/850) /content/medicine_test.mp4: 384x640 1 person, 1 book, 6.8ms\n",
            "video 1/1 (frame 819/850) /content/medicine_test.mp4: 384x640 1 person, 1 book, 7.3ms\n",
            "video 1/1 (frame 820/850) /content/medicine_test.mp4: 384x640 1 person, 1 book, 6.7ms\n",
            "video 1/1 (frame 821/850) /content/medicine_test.mp4: 384x640 1 person, 1 book, 6.6ms\n",
            "video 1/1 (frame 822/850) /content/medicine_test.mp4: 384x640 1 person, 1 book, 6.7ms\n",
            "video 1/1 (frame 823/850) /content/medicine_test.mp4: 384x640 1 person, 1 book, 7.6ms\n",
            "video 1/1 (frame 824/850) /content/medicine_test.mp4: 384x640 1 person, 1 book, 6.8ms\n",
            "video 1/1 (frame 825/850) /content/medicine_test.mp4: 384x640 1 person, 1 book, 6.7ms\n",
            "video 1/1 (frame 826/850) /content/medicine_test.mp4: 384x640 1 person, 1 book, 6.6ms\n",
            "video 1/1 (frame 827/850) /content/medicine_test.mp4: 384x640 1 person, 1 book, 7.8ms\n",
            "video 1/1 (frame 828/850) /content/medicine_test.mp4: 384x640 1 person, 1 book, 6.5ms\n",
            "video 1/1 (frame 829/850) /content/medicine_test.mp4: 384x640 1 person, 1 book, 6.7ms\n",
            "video 1/1 (frame 830/850) /content/medicine_test.mp4: 384x640 1 person, 1 book, 6.9ms\n",
            "video 1/1 (frame 831/850) /content/medicine_test.mp4: 384x640 1 person, 1 book, 6.6ms\n",
            "video 1/1 (frame 832/850) /content/medicine_test.mp4: 384x640 1 person, 1 book, 7.6ms\n",
            "video 1/1 (frame 833/850) /content/medicine_test.mp4: 384x640 1 person, 1 book, 11.4ms\n",
            "video 1/1 (frame 834/850) /content/medicine_test.mp4: 384x640 1 person, 1 book, 7.8ms\n",
            "video 1/1 (frame 835/850) /content/medicine_test.mp4: 384x640 1 person, 1 book, 7.7ms\n",
            "video 1/1 (frame 836/850) /content/medicine_test.mp4: 384x640 1 person, 1 book, 7.9ms\n",
            "video 1/1 (frame 837/850) /content/medicine_test.mp4: 384x640 1 person, 1 book, 6.7ms\n",
            "video 1/1 (frame 838/850) /content/medicine_test.mp4: 384x640 1 person, 1 book, 6.7ms\n",
            "video 1/1 (frame 839/850) /content/medicine_test.mp4: 384x640 1 person, 1 book, 7.0ms\n",
            "video 1/1 (frame 840/850) /content/medicine_test.mp4: 384x640 1 person, 1 book, 9.1ms\n",
            "video 1/1 (frame 841/850) /content/medicine_test.mp4: 384x640 1 person, 1 book, 12.1ms\n",
            "video 1/1 (frame 842/850) /content/medicine_test.mp4: 384x640 1 person, 1 book, 6.7ms\n",
            "video 1/1 (frame 843/850) /content/medicine_test.mp4: 384x640 1 person, 1 book, 7.3ms\n",
            "video 1/1 (frame 844/850) /content/medicine_test.mp4: 384x640 1 person, 1 book, 8.5ms\n",
            "video 1/1 (frame 845/850) /content/medicine_test.mp4: 384x640 1 person, 1 book, 9.4ms\n",
            "video 1/1 (frame 846/850) /content/medicine_test.mp4: 384x640 1 person, 1 book, 9.2ms\n",
            "video 1/1 (frame 847/850) /content/medicine_test.mp4: 384x640 1 person, 1 book, 11.3ms\n",
            "video 1/1 (frame 848/850) /content/medicine_test.mp4: 384x640 1 person, 1 book, 7.2ms\n",
            "video 1/1 (frame 849/850) /content/medicine_test.mp4: 384x640 1 person, 1 book, 7.0ms\n",
            "video 1/1 (frame 850/850) /content/medicine_test.mp4: 384x640 1 person, 1 book, 6.9ms\n",
            "Speed: 2.1ms preprocess, 8.4ms inference, 1.0ms postprocess per image at shape (1, 3, 384, 640)\n",
            "Results saved to \u001b[1mruns/detect/predict2\u001b[0m\n"
          ]
        }
      ]
    },
    {
      "cell_type": "code",
      "source": [
        "# Initialize list to store detected medicines\n",
        "data = []\n",
        "\n",
        "# Loop through each frame's detections\n",
        "for result in results:\n",
        "    for box in result.boxes:\n",
        "        conf = box.conf[0].item()  # Confidence score\n",
        "        class_id = int(box.cls[0].item())  # Class ID\n",
        "\n",
        "        # Get medicine name from class_id\n",
        "        medicine_name = class_names.get(class_id, \"Unknown\")\n",
        "\n",
        "        # Append to the list\n",
        "        data.append([medicine_name, conf])\n",
        "\n",
        "# Convert data to DataFrame\n",
        "df = pd.DataFrame(data, columns=[\"Medicine Name\", \"Confidence\"])\n",
        "\n",
        "# Save to Excel\n",
        "df.to_excel(\"medicine_detection.xlsx\", index=False)\n",
        "\n",
        "print(\"Medicine detection saved to medicine_detection.xlsx\")\n"
      ],
      "metadata": {
        "colab": {
          "base_uri": "https://localhost:8080/"
        },
        "id": "frwKPJsuJV5n",
        "outputId": "679f155c-f55f-4d80-b1c9-a93de5fcb0c3"
      },
      "execution_count": 17,
      "outputs": [
        {
          "output_type": "stream",
          "name": "stdout",
          "text": [
            "Medicine detection saved to medicine_detection.xlsx\n"
          ]
        }
      ]
    },
    {
      "cell_type": "code",
      "source": [
        "data = []\n",
        "\n",
        "# Process each frame in the video\n",
        "for frame_idx, result in enumerate(results):  # Loop over frames\n",
        "    for box in result.boxes:\n",
        "        x1, y1, x2, y2 = box.xyxy[0].tolist()  # Bounding box coordinates\n",
        "        conf = box.conf[0].item()  # Confidence score\n",
        "        class_id = int(box.cls[0].item())  # Class ID\n",
        "\n",
        "        # Get medicine name from class_id\n",
        "        medicine_name = class_names.get(class_id, \"Unknown\")\n",
        "\n",
        "        # Append to the list (including frame index for reference)\n",
        "        data.append([frame_idx, medicine_name, conf, x1, y1, x2, y2])\n",
        "\n",
        "# Convert data to a DataFrame\n",
        "df = pd.DataFrame(data, columns=[\"Frame\", \"Medicine Name\", \"Confidence\", \"X1\", \"Y1\", \"X2\", \"Y2\"])\n",
        "\n",
        "# Save to Excel\n",
        "df.to_excel(\"medicine_detection.xlsx\", index=False)\n",
        "\n",
        "print(\"✅ Medicine detection saved to medicine_detection.xlsx\")"
      ],
      "metadata": {
        "colab": {
          "base_uri": "https://localhost:8080/"
        },
        "id": "QsIQCm6vKVBy",
        "outputId": "0e426a23-f543-4f14-f038-3f14530a1d1d"
      },
      "execution_count": 18,
      "outputs": [
        {
          "output_type": "stream",
          "name": "stdout",
          "text": [
            "✅ Medicine detection saved to medicine_detection.xlsx\n"
          ]
        }
      ]
    },
    {
      "cell_type": "code",
      "source": [
        "from google.colab import files\n",
        "files.download(\"medicine_detection.xlsx\")\n"
      ],
      "metadata": {
        "colab": {
          "base_uri": "https://localhost:8080/",
          "height": 17
        },
        "id": "qFSTfKI7Kayr",
        "outputId": "018b5480-c946-4fdd-ca9b-dbf7cf4d7ad2"
      },
      "execution_count": 19,
      "outputs": [
        {
          "output_type": "display_data",
          "data": {
            "text/plain": [
              "<IPython.core.display.Javascript object>"
            ],
            "application/javascript": [
              "\n",
              "    async function download(id, filename, size) {\n",
              "      if (!google.colab.kernel.accessAllowed) {\n",
              "        return;\n",
              "      }\n",
              "      const div = document.createElement('div');\n",
              "      const label = document.createElement('label');\n",
              "      label.textContent = `Downloading \"${filename}\": `;\n",
              "      div.appendChild(label);\n",
              "      const progress = document.createElement('progress');\n",
              "      progress.max = size;\n",
              "      div.appendChild(progress);\n",
              "      document.body.appendChild(div);\n",
              "\n",
              "      const buffers = [];\n",
              "      let downloaded = 0;\n",
              "\n",
              "      const channel = await google.colab.kernel.comms.open(id);\n",
              "      // Send a message to notify the kernel that we're ready.\n",
              "      channel.send({})\n",
              "\n",
              "      for await (const message of channel.messages) {\n",
              "        // Send a message to notify the kernel that we're ready.\n",
              "        channel.send({})\n",
              "        if (message.buffers) {\n",
              "          for (const buffer of message.buffers) {\n",
              "            buffers.push(buffer);\n",
              "            downloaded += buffer.byteLength;\n",
              "            progress.value = downloaded;\n",
              "          }\n",
              "        }\n",
              "      }\n",
              "      const blob = new Blob(buffers, {type: 'application/binary'});\n",
              "      const a = document.createElement('a');\n",
              "      a.href = window.URL.createObjectURL(blob);\n",
              "      a.download = filename;\n",
              "      div.appendChild(a);\n",
              "      a.click();\n",
              "      div.remove();\n",
              "    }\n",
              "  "
            ]
          },
          "metadata": {}
        },
        {
          "output_type": "display_data",
          "data": {
            "text/plain": [
              "<IPython.core.display.Javascript object>"
            ],
            "application/javascript": [
              "download(\"download_587741fe-d2b0-46bd-8751-cf859e7f33ed\", \"medicine_detection.xlsx\", 27504)"
            ]
          },
          "metadata": {}
        }
      ]
    },
    {
      "cell_type": "code",
      "source": [
        "data = []\n",
        "\n",
        "# Process each frame in the video\n",
        "for frame_idx, result in enumerate(results):  # Loop over all frames\n",
        "    boxes = result.boxes  # Get all detected boxes in the frame\n",
        "    if boxes is not None:\n",
        "        for box in boxes:\n",
        "            x1, y1, x2, y2 = box.xyxy[0].tolist()  # Bounding box coordinates\n",
        "            conf = box.conf[0].item()  # Confidence score\n",
        "            class_id = int(box.cls[0].item())  # Class ID\n",
        "\n",
        "            # Get medicine name from class_id\n",
        "            medicine_name = class_names.get(class_id, \"Unknown\")\n",
        "\n",
        "            # Append to the list (including frame index for reference)\n",
        "            data.append([frame_idx, medicine_name, conf, x1, y1, x2, y2])\n",
        "\n",
        "# Convert data to a DataFrame\n",
        "df = pd.DataFrame(data, columns=[\"Frame\", \"Medicine Name\", \"Confidence\", \"X1\", \"Y1\", \"X2\", \"Y2\"])\n",
        "\n",
        "# Save to Excel\n",
        "df.to_excel(\"medicine_detection_final.xlsx\", index=False)\n",
        "\n",
        "print(\"✅ Medicine detection saved to medicine_detection.xlsx\")"
      ],
      "metadata": {
        "colab": {
          "base_uri": "https://localhost:8080/"
        },
        "id": "hMwO_S-bKzmk",
        "outputId": "fe112706-9248-4e7d-9436-c5f60996456f"
      },
      "execution_count": 20,
      "outputs": [
        {
          "output_type": "stream",
          "name": "stdout",
          "text": [
            "✅ Medicine detection saved to medicine_detection.xlsx\n"
          ]
        }
      ]
    },
    {
      "cell_type": "code",
      "source": [
        "from google.colab import files\n",
        "files.download(\"medicine_detection_final.xlsx\")\n"
      ],
      "metadata": {
        "colab": {
          "base_uri": "https://localhost:8080/",
          "height": 17
        },
        "id": "7suSbUaoK4p9",
        "outputId": "7bdabc6a-0a73-41ae-b881-6d98ee0b7384"
      },
      "execution_count": 22,
      "outputs": [
        {
          "output_type": "display_data",
          "data": {
            "text/plain": [
              "<IPython.core.display.Javascript object>"
            ],
            "application/javascript": [
              "\n",
              "    async function download(id, filename, size) {\n",
              "      if (!google.colab.kernel.accessAllowed) {\n",
              "        return;\n",
              "      }\n",
              "      const div = document.createElement('div');\n",
              "      const label = document.createElement('label');\n",
              "      label.textContent = `Downloading \"${filename}\": `;\n",
              "      div.appendChild(label);\n",
              "      const progress = document.createElement('progress');\n",
              "      progress.max = size;\n",
              "      div.appendChild(progress);\n",
              "      document.body.appendChild(div);\n",
              "\n",
              "      const buffers = [];\n",
              "      let downloaded = 0;\n",
              "\n",
              "      const channel = await google.colab.kernel.comms.open(id);\n",
              "      // Send a message to notify the kernel that we're ready.\n",
              "      channel.send({})\n",
              "\n",
              "      for await (const message of channel.messages) {\n",
              "        // Send a message to notify the kernel that we're ready.\n",
              "        channel.send({})\n",
              "        if (message.buffers) {\n",
              "          for (const buffer of message.buffers) {\n",
              "            buffers.push(buffer);\n",
              "            downloaded += buffer.byteLength;\n",
              "            progress.value = downloaded;\n",
              "          }\n",
              "        }\n",
              "      }\n",
              "      const blob = new Blob(buffers, {type: 'application/binary'});\n",
              "      const a = document.createElement('a');\n",
              "      a.href = window.URL.createObjectURL(blob);\n",
              "      a.download = filename;\n",
              "      div.appendChild(a);\n",
              "      a.click();\n",
              "      div.remove();\n",
              "    }\n",
              "  "
            ]
          },
          "metadata": {}
        },
        {
          "output_type": "display_data",
          "data": {
            "text/plain": [
              "<IPython.core.display.Javascript object>"
            ],
            "application/javascript": [
              "download(\"download_2101ef41-6a3d-408a-949a-011db4c1083e\", \"medicine_detection_final.xlsx\", 27500)"
            ]
          },
          "metadata": {}
        }
      ]
    },
    {
      "cell_type": "markdown",
      "source": [
        "Installing git in colab to push the code"
      ],
      "metadata": {
        "id": "8fEirBYBMBxl"
      }
    },
    {
      "cell_type": "code",
      "source": [
        "!apt-get install git\n"
      ],
      "metadata": {
        "colab": {
          "base_uri": "https://localhost:8080/"
        },
        "id": "3rYe-fHiME36",
        "outputId": "3923a16b-2e60-4a9a-8353-5129fc892d42"
      },
      "execution_count": 23,
      "outputs": [
        {
          "output_type": "stream",
          "name": "stdout",
          "text": [
            "Reading package lists... Done\n",
            "Building dependency tree... Done\n",
            "Reading state information... Done\n",
            "git is already the newest version (1:2.34.1-1ubuntu1.12).\n",
            "0 upgraded, 0 newly installed, 0 to remove and 29 not upgraded.\n"
          ]
        }
      ]
    },
    {
      "cell_type": "code",
      "source": [
        "!git clone https://github.com/camcus/Medicine-detection-\n",
        "\n"
      ],
      "metadata": {
        "colab": {
          "base_uri": "https://localhost:8080/"
        },
        "id": "l_3EU-LZMfcR",
        "outputId": "5bafffc6-eb52-4b4e-ed3e-5157b247291c"
      },
      "execution_count": 24,
      "outputs": [
        {
          "output_type": "stream",
          "name": "stdout",
          "text": [
            "Cloning into 'Medicine-detection-'...\n",
            "remote: Enumerating objects: 3, done.\u001b[K\n",
            "remote: Counting objects: 100% (3/3), done.\u001b[K\n",
            "remote: Total 3 (delta 0), reused 0 (delta 0), pack-reused 0 (from 0)\u001b[K\n",
            "Receiving objects: 100% (3/3), done.\n"
          ]
        }
      ]
    },
    {
      "cell_type": "code",
      "source": [
        "!mv detection_results.xlsx Medicine-detection-/\n",
        "!mv yolov8n.pt Medicine-detection-/\n",
        "!mv medicine_test.mp4 Medicine-detection-/\n",
        "!mv medicine_detection.xlsx Medicine-detection-/\n"
      ],
      "metadata": {
        "id": "nd_292ixMtN1"
      },
      "execution_count": 25,
      "outputs": []
    }
  ]
}